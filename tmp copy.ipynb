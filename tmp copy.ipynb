{
    "cells": [
        {
            "cell_type": "code",
            "execution_count": 1,
            "metadata": {},
            "outputs": [
                {
                    "name": "stderr",
                    "output_type": "stream",
                    "text": [
                        "2023-02-17 13:09:25.002 | DEBUG    | src.database.session:<module>:19 - base: lebesgue-dev.cgviinyjedbs.eu-central-1.rds.amazonaws.com\n"
                    ]
                },
                {
                    "name": "stdout",
                    "output_type": "stream",
                    "text": [
                        "base I am using: lebesgue-dev.cgviinyjedbs.eu-central-1.rds.amazonaws.com\n"
                    ]
                }
            ],
            "source": [
                "import pandas as pd\n",
                "import numpy as np\n",
                "import bcrypt\n",
                "from sqlalchemy import delete\n",
                "from tqdm import tqdm\n",
                "\n",
                "from src.pingers import *\n",
                "from src.database.session import db\n",
                "from src.s3 import read_csv_from_s3\n",
                "from src.models import *\n",
                "from src.schemas import *\n",
                "from src.crud import *\n",
                "from src.utils.database import row_to_dict\n",
                "from src.utils.hash_password import hash_password\n",
                "from src.scripts.saving_s3_files.save_global_descriptive_statistics_to_s3 import save_global_descriptive_statistics_to_s3"
            ]
        },
        {
            "cell_type": "code",
            "execution_count": 2,
            "metadata": {},
            "outputs": [],
            "source": [
                "df = read_csv_from_s3(path='data/global/global_descriptive_statistics_2023-02-17.csv')"
            ]
        },
        {
            "cell_type": "code",
            "execution_count": 3,
            "metadata": {},
            "outputs": [
                {
                    "data": {
                        "text/html": [
                            "<div>\n",
                            "<style scoped>\n",
                            "    .dataframe tbody tr th:only-of-type {\n",
                            "        vertical-align: middle;\n",
                            "    }\n",
                            "\n",
                            "    .dataframe tbody tr th {\n",
                            "        vertical-align: top;\n",
                            "    }\n",
                            "\n",
                            "    .dataframe thead th {\n",
                            "        text-align: right;\n",
                            "    }\n",
                            "</style>\n",
                            "<table border=\"1\" class=\"dataframe\">\n",
                            "  <thead>\n",
                            "    <tr style=\"text-align: right;\">\n",
                            "      <th></th>\n",
                            "      <th>year_month</th>\n",
                            "      <th>feature</th>\n",
                            "      <th>feature_value</th>\n",
                            "      <th>count_ads</th>\n",
                            "      <th>spend_USD</th>\n",
                            "      <th>impr</th>\n",
                            "      <th>link_clicks</th>\n",
                            "      <th>purch</th>\n",
                            "      <th>count_ads_by_shop</th>\n",
                            "      <th>spend_USD_by_shop</th>\n",
                            "      <th>impr_by_shop</th>\n",
                            "      <th>link_clicks_by_shop</th>\n",
                            "      <th>purch_by_shop</th>\n",
                            "      <th>count_shops</th>\n",
                            "    </tr>\n",
                            "  </thead>\n",
                            "  <tbody>\n",
                            "    <tr>\n",
                            "      <th>0</th>\n",
                            "      <td>2018-09</td>\n",
                            "      <td>creative_type</td>\n",
                            "      <td>carousel</td>\n",
                            "      <td>1.0</td>\n",
                            "      <td>0.00</td>\n",
                            "      <td>0.0</td>\n",
                            "      <td>0.0</td>\n",
                            "      <td>0.0</td>\n",
                            "      <td>1.0</td>\n",
                            "      <td>NaN</td>\n",
                            "      <td>NaN</td>\n",
                            "      <td>NaN</td>\n",
                            "      <td>NaN</td>\n",
                            "      <td>1.0</td>\n",
                            "    </tr>\n",
                            "    <tr>\n",
                            "      <th>1</th>\n",
                            "      <td>2018-09</td>\n",
                            "      <td>cta_any</td>\n",
                            "      <td>False</td>\n",
                            "      <td>1.0</td>\n",
                            "      <td>0.00</td>\n",
                            "      <td>0.0</td>\n",
                            "      <td>0.0</td>\n",
                            "      <td>0.0</td>\n",
                            "      <td>1.0</td>\n",
                            "      <td>NaN</td>\n",
                            "      <td>NaN</td>\n",
                            "      <td>NaN</td>\n",
                            "      <td>NaN</td>\n",
                            "      <td>1.0</td>\n",
                            "    </tr>\n",
                            "    <tr>\n",
                            "      <th>2</th>\n",
                            "      <td>2018-09</td>\n",
                            "      <td>discounts_any</td>\n",
                            "      <td>False</td>\n",
                            "      <td>1.0</td>\n",
                            "      <td>0.00</td>\n",
                            "      <td>0.0</td>\n",
                            "      <td>0.0</td>\n",
                            "      <td>0.0</td>\n",
                            "      <td>1.0</td>\n",
                            "      <td>NaN</td>\n",
                            "      <td>NaN</td>\n",
                            "      <td>NaN</td>\n",
                            "      <td>NaN</td>\n",
                            "      <td>1.0</td>\n",
                            "    </tr>\n",
                            "    <tr>\n",
                            "      <th>3</th>\n",
                            "      <td>2018-09</td>\n",
                            "      <td>emojis_any</td>\n",
                            "      <td>False</td>\n",
                            "      <td>1.0</td>\n",
                            "      <td>0.00</td>\n",
                            "      <td>0.0</td>\n",
                            "      <td>0.0</td>\n",
                            "      <td>0.0</td>\n",
                            "      <td>1.0</td>\n",
                            "      <td>NaN</td>\n",
                            "      <td>NaN</td>\n",
                            "      <td>NaN</td>\n",
                            "      <td>NaN</td>\n",
                            "      <td>1.0</td>\n",
                            "    </tr>\n",
                            "    <tr>\n",
                            "      <th>4</th>\n",
                            "      <td>2018-09</td>\n",
                            "      <td>fact_words_any</td>\n",
                            "      <td>False</td>\n",
                            "      <td>1.0</td>\n",
                            "      <td>0.00</td>\n",
                            "      <td>0.0</td>\n",
                            "      <td>0.0</td>\n",
                            "      <td>0.0</td>\n",
                            "      <td>1.0</td>\n",
                            "      <td>NaN</td>\n",
                            "      <td>NaN</td>\n",
                            "      <td>NaN</td>\n",
                            "      <td>NaN</td>\n",
                            "      <td>1.0</td>\n",
                            "    </tr>\n",
                            "    <tr>\n",
                            "      <th>...</th>\n",
                            "      <td>...</td>\n",
                            "      <td>...</td>\n",
                            "      <td>...</td>\n",
                            "      <td>...</td>\n",
                            "      <td>...</td>\n",
                            "      <td>...</td>\n",
                            "      <td>...</td>\n",
                            "      <td>...</td>\n",
                            "      <td>...</td>\n",
                            "      <td>...</td>\n",
                            "      <td>...</td>\n",
                            "      <td>...</td>\n",
                            "      <td>...</td>\n",
                            "      <td>...</td>\n",
                            "    </tr>\n",
                            "    <tr>\n",
                            "      <th>1347</th>\n",
                            "      <td>2023-02</td>\n",
                            "      <td>prices_any</td>\n",
                            "      <td>False</td>\n",
                            "      <td>1.0</td>\n",
                            "      <td>3065.46</td>\n",
                            "      <td>270876.0</td>\n",
                            "      <td>3766.0</td>\n",
                            "      <td>120.0</td>\n",
                            "      <td>1.0</td>\n",
                            "      <td>1.0</td>\n",
                            "      <td>1.0</td>\n",
                            "      <td>1.0</td>\n",
                            "      <td>1.0</td>\n",
                            "      <td>1.0</td>\n",
                            "    </tr>\n",
                            "    <tr>\n",
                            "      <th>1348</th>\n",
                            "      <td>2023-02</td>\n",
                            "      <td>starts_with_question_any</td>\n",
                            "      <td>False</td>\n",
                            "      <td>1.0</td>\n",
                            "      <td>3065.46</td>\n",
                            "      <td>270876.0</td>\n",
                            "      <td>3766.0</td>\n",
                            "      <td>120.0</td>\n",
                            "      <td>1.0</td>\n",
                            "      <td>1.0</td>\n",
                            "      <td>1.0</td>\n",
                            "      <td>1.0</td>\n",
                            "      <td>1.0</td>\n",
                            "      <td>1.0</td>\n",
                            "    </tr>\n",
                            "    <tr>\n",
                            "      <th>1349</th>\n",
                            "      <td>2023-02</td>\n",
                            "      <td>target</td>\n",
                            "      <td>acquisition</td>\n",
                            "      <td>1.0</td>\n",
                            "      <td>3065.46</td>\n",
                            "      <td>270876.0</td>\n",
                            "      <td>3766.0</td>\n",
                            "      <td>120.0</td>\n",
                            "      <td>1.0</td>\n",
                            "      <td>1.0</td>\n",
                            "      <td>1.0</td>\n",
                            "      <td>1.0</td>\n",
                            "      <td>1.0</td>\n",
                            "      <td>1.0</td>\n",
                            "    </tr>\n",
                            "    <tr>\n",
                            "      <th>1350</th>\n",
                            "      <td>2023-02</td>\n",
                            "      <td>urgency_any</td>\n",
                            "      <td>False</td>\n",
                            "      <td>1.0</td>\n",
                            "      <td>3065.46</td>\n",
                            "      <td>270876.0</td>\n",
                            "      <td>3766.0</td>\n",
                            "      <td>120.0</td>\n",
                            "      <td>1.0</td>\n",
                            "      <td>1.0</td>\n",
                            "      <td>1.0</td>\n",
                            "      <td>1.0</td>\n",
                            "      <td>1.0</td>\n",
                            "      <td>1.0</td>\n",
                            "    </tr>\n",
                            "    <tr>\n",
                            "      <th>1351</th>\n",
                            "      <td>2023-02</td>\n",
                            "      <td>user_addressing_any</td>\n",
                            "      <td>False</td>\n",
                            "      <td>1.0</td>\n",
                            "      <td>3065.46</td>\n",
                            "      <td>270876.0</td>\n",
                            "      <td>3766.0</td>\n",
                            "      <td>120.0</td>\n",
                            "      <td>1.0</td>\n",
                            "      <td>1.0</td>\n",
                            "      <td>1.0</td>\n",
                            "      <td>1.0</td>\n",
                            "      <td>1.0</td>\n",
                            "      <td>1.0</td>\n",
                            "    </tr>\n",
                            "  </tbody>\n",
                            "</table>\n",
                            "<p>1352 rows × 14 columns</p>\n",
                            "</div>"
                        ],
                        "text/plain": [
                            "     year_month                   feature feature_value  count_ads  spend_USD  \\\n",
                            "0       2018-09             creative_type      carousel        1.0       0.00   \n",
                            "1       2018-09                   cta_any         False        1.0       0.00   \n",
                            "2       2018-09             discounts_any         False        1.0       0.00   \n",
                            "3       2018-09                emojis_any         False        1.0       0.00   \n",
                            "4       2018-09            fact_words_any         False        1.0       0.00   \n",
                            "...         ...                       ...           ...        ...        ...   \n",
                            "1347    2023-02                prices_any         False        1.0    3065.46   \n",
                            "1348    2023-02  starts_with_question_any         False        1.0    3065.46   \n",
                            "1349    2023-02                    target   acquisition        1.0    3065.46   \n",
                            "1350    2023-02               urgency_any         False        1.0    3065.46   \n",
                            "1351    2023-02       user_addressing_any         False        1.0    3065.46   \n",
                            "\n",
                            "          impr  link_clicks  purch  count_ads_by_shop  spend_USD_by_shop  \\\n",
                            "0          0.0          0.0    0.0                1.0                NaN   \n",
                            "1          0.0          0.0    0.0                1.0                NaN   \n",
                            "2          0.0          0.0    0.0                1.0                NaN   \n",
                            "3          0.0          0.0    0.0                1.0                NaN   \n",
                            "4          0.0          0.0    0.0                1.0                NaN   \n",
                            "...        ...          ...    ...                ...                ...   \n",
                            "1347  270876.0       3766.0  120.0                1.0                1.0   \n",
                            "1348  270876.0       3766.0  120.0                1.0                1.0   \n",
                            "1349  270876.0       3766.0  120.0                1.0                1.0   \n",
                            "1350  270876.0       3766.0  120.0                1.0                1.0   \n",
                            "1351  270876.0       3766.0  120.0                1.0                1.0   \n",
                            "\n",
                            "      impr_by_shop  link_clicks_by_shop  purch_by_shop  count_shops  \n",
                            "0              NaN                  NaN            NaN          1.0  \n",
                            "1              NaN                  NaN            NaN          1.0  \n",
                            "2              NaN                  NaN            NaN          1.0  \n",
                            "3              NaN                  NaN            NaN          1.0  \n",
                            "4              NaN                  NaN            NaN          1.0  \n",
                            "...            ...                  ...            ...          ...  \n",
                            "1347           1.0                  1.0            1.0          1.0  \n",
                            "1348           1.0                  1.0            1.0          1.0  \n",
                            "1349           1.0                  1.0            1.0          1.0  \n",
                            "1350           1.0                  1.0            1.0          1.0  \n",
                            "1351           1.0                  1.0            1.0          1.0  \n",
                            "\n",
                            "[1352 rows x 14 columns]"
                        ]
                    },
                    "execution_count": 3,
                    "metadata": {},
                    "output_type": "execute_result"
                }
            ],
            "source": [
                "df"
            ]
        },
        {
            "cell_type": "code",
            "execution_count": 9,
            "metadata": {},
            "outputs": [
                {
                    "data": {
                        "text/html": [
                            "<div>\n",
                            "<style scoped>\n",
                            "    .dataframe tbody tr th:only-of-type {\n",
                            "        vertical-align: middle;\n",
                            "    }\n",
                            "\n",
                            "    .dataframe tbody tr th {\n",
                            "        vertical-align: top;\n",
                            "    }\n",
                            "\n",
                            "    .dataframe thead th {\n",
                            "        text-align: right;\n",
                            "    }\n",
                            "</style>\n",
                            "<table border=\"1\" class=\"dataframe\">\n",
                            "  <thead>\n",
                            "    <tr style=\"text-align: right;\">\n",
                            "      <th></th>\n",
                            "      <th>aov</th>\n",
                            "      <th>impr</th>\n",
                            "      <th>link_clicks</th>\n",
                            "      <th>purch</th>\n",
                            "      <th>spend</th>\n",
                            "      <th>purch_value</th>\n",
                            "      <th>ctr</th>\n",
                            "      <th>cr</th>\n",
                            "      <th>roas</th>\n",
                            "      <th>spend_USD</th>\n",
                            "      <th>aov_relative</th>\n",
                            "      <th>impr_relative</th>\n",
                            "      <th>link_clicks_relative</th>\n",
                            "      <th>purch_relative</th>\n",
                            "      <th>spend_relative</th>\n",
                            "      <th>purch_value_relative</th>\n",
                            "      <th>ctr_relative</th>\n",
                            "      <th>cr_relative</th>\n",
                            "      <th>roas_relative</th>\n",
                            "      <th>spend_USD_relative</th>\n",
                            "    </tr>\n",
                            "    <tr>\n",
                            "      <th>target</th>\n",
                            "      <th></th>\n",
                            "      <th></th>\n",
                            "      <th></th>\n",
                            "      <th></th>\n",
                            "      <th></th>\n",
                            "      <th></th>\n",
                            "      <th></th>\n",
                            "      <th></th>\n",
                            "      <th></th>\n",
                            "      <th></th>\n",
                            "      <th></th>\n",
                            "      <th></th>\n",
                            "      <th></th>\n",
                            "      <th></th>\n",
                            "      <th></th>\n",
                            "      <th></th>\n",
                            "      <th></th>\n",
                            "      <th></th>\n",
                            "      <th></th>\n",
                            "      <th></th>\n",
                            "    </tr>\n",
                            "  </thead>\n",
                            "  <tbody>\n",
                            "    <tr>\n",
                            "      <th>acquisition</th>\n",
                            "      <td>157968.537193</td>\n",
                            "      <td>327135236</td>\n",
                            "      <td>942700</td>\n",
                            "      <td>84774</td>\n",
                            "      <td>4398598.60</td>\n",
                            "      <td>3192025.72</td>\n",
                            "      <td>7.084292</td>\n",
                            "      <td>346.386141</td>\n",
                            "      <td>2033.626039</td>\n",
                            "      <td>4398598.60</td>\n",
                            "      <td>0.812858</td>\n",
                            "      <td>0.842493</td>\n",
                            "      <td>0.87571</td>\n",
                            "      <td>0.684766</td>\n",
                            "      <td>0.777878</td>\n",
                            "      <td>0.669828</td>\n",
                            "      <td>0.791023</td>\n",
                            "      <td>0.580538</td>\n",
                            "      <td>0.560813</td>\n",
                            "      <td>0.777878</td>\n",
                            "    </tr>\n",
                            "    <tr>\n",
                            "      <th>remarketing</th>\n",
                            "      <td>36368.761746</td>\n",
                            "      <td>61158886</td>\n",
                            "      <td>133798</td>\n",
                            "      <td>39026</td>\n",
                            "      <td>1256012.32</td>\n",
                            "      <td>1573414.74</td>\n",
                            "      <td>1.871566</td>\n",
                            "      <td>250.277541</td>\n",
                            "      <td>1592.581827</td>\n",
                            "      <td>1256012.32</td>\n",
                            "      <td>0.187142</td>\n",
                            "      <td>0.157507</td>\n",
                            "      <td>0.12429</td>\n",
                            "      <td>0.315234</td>\n",
                            "      <td>0.222122</td>\n",
                            "      <td>0.330172</td>\n",
                            "      <td>0.208977</td>\n",
                            "      <td>0.419462</td>\n",
                            "      <td>0.439187</td>\n",
                            "      <td>0.222122</td>\n",
                            "    </tr>\n",
                            "  </tbody>\n",
                            "</table>\n",
                            "</div>"
                        ],
                        "text/plain": [
                            "                       aov       impr  link_clicks  purch       spend  \\\n",
                            "target                                                                  \n",
                            "acquisition  157968.537193  327135236       942700  84774  4398598.60   \n",
                            "remarketing   36368.761746   61158886       133798  39026  1256012.32   \n",
                            "\n",
                            "             purch_value       ctr          cr         roas   spend_USD  \\\n",
                            "target                                                                    \n",
                            "acquisition   3192025.72  7.084292  346.386141  2033.626039  4398598.60   \n",
                            "remarketing   1573414.74  1.871566  250.277541  1592.581827  1256012.32   \n",
                            "\n",
                            "             aov_relative  impr_relative  link_clicks_relative  \\\n",
                            "target                                                           \n",
                            "acquisition      0.812858       0.842493               0.87571   \n",
                            "remarketing      0.187142       0.157507               0.12429   \n",
                            "\n",
                            "             purch_relative  spend_relative  purch_value_relative  \\\n",
                            "target                                                              \n",
                            "acquisition        0.684766        0.777878              0.669828   \n",
                            "remarketing        0.315234        0.222122              0.330172   \n",
                            "\n",
                            "             ctr_relative  cr_relative  roas_relative  spend_USD_relative  \n",
                            "target                                                                     \n",
                            "acquisition      0.791023     0.580538       0.560813            0.777878  \n",
                            "remarketing      0.208977     0.419462       0.439187            0.222122  "
                        ]
                    },
                    "execution_count": 9,
                    "metadata": {},
                    "output_type": "execute_result"
                }
            ],
            "source": [
                "a = df.groupby('target').sum()\n",
                "a.join((a / a.sum(axis=0)).rename(columns=lambda x: x+'_relative'))"
            ]
        },
        {
            "cell_type": "code",
            "execution_count": 2,
            "metadata": {},
            "outputs": [
                {
                    "name": "stdout",
                    "output_type": "stream",
                    "text": [
                        "data/global/global_descriptive_statistics_2023-02-17.csv\n",
                        "['development/data/global/global_descriptive_statistics_2023-02-17.csv']\n"
                    ]
                },
                {
                    "name": "stderr",
                    "output_type": "stream",
                    "text": [
                        "  0%|          | 0/1050 [00:00<?, ?it/s]"
                    ]
                },
                {
                    "name": "stdout",
                    "output_type": "stream",
                    "text": [
                        "shop_id: 2\n"
                    ]
                },
                {
                    "name": "stderr",
                    "output_type": "stream",
                    "text": [
                        "  0%|          | 1/1050 [00:06<1:55:13,  6.59s/it]"
                    ]
                },
                {
                    "name": "stdout",
                    "output_type": "stream",
                    "text": [
                        "shop_id: 96\n"
                    ]
                },
                {
                    "name": "stderr",
                    "output_type": "stream",
                    "text": [
                        "  0%|          | 2/1050 [00:11<1:34:53,  5.43s/it]"
                    ]
                },
                {
                    "name": "stdout",
                    "output_type": "stream",
                    "text": [
                        "shop_id: 15873\n"
                    ]
                },
                {
                    "name": "stderr",
                    "output_type": "stream",
                    "text": [
                        "  0%|          | 3/1050 [00:16<1:36:09,  5.51s/it]"
                    ]
                },
                {
                    "name": "stdout",
                    "output_type": "stream",
                    "text": [
                        "shop_id: 15887\n"
                    ]
                },
                {
                    "name": "stderr",
                    "output_type": "stream",
                    "text": [
                        "2023-02-17 12:13:10.838 | DEBUG    | src.scripts.saving_s3_files.save_global_descriptive_statistics_to_s3:save_global_descriptive_statistics_to_s3:112 - Skipam jer nemam ['target']\n",
                        "  0%|          | 4/1050 [00:18<1:06:46,  3.83s/it]"
                    ]
                },
                {
                    "name": "stdout",
                    "output_type": "stream",
                    "text": [
                        "shop_id: 15892\n"
                    ]
                },
                {
                    "name": "stderr",
                    "output_type": "stream",
                    "text": [
                        "2023-02-17 12:13:12.386 | DEBUG    | src.scripts.saving_s3_files.save_global_descriptive_statistics_to_s3:save_global_descriptive_statistics_to_s3:112 - Skipam jer nemam ['target']\n",
                        "  0%|          | 5/1050 [00:19<52:22,  3.01s/it]  "
                    ]
                },
                {
                    "name": "stdout",
                    "output_type": "stream",
                    "text": [
                        "shop_id: 15977\n"
                    ]
                },
                {
                    "name": "stderr",
                    "output_type": "stream",
                    "text": [
                        "2023-02-17 12:13:17.528 | DEBUG    | src.scripts.saving_s3_files.save_global_descriptive_statistics_to_s3:save_global_descriptive_statistics_to_s3:112 - Skipam jer nemam ['target']\n",
                        "  1%|          | 6/1050 [00:24<1:04:57,  3.73s/it]"
                    ]
                },
                {
                    "name": "stdout",
                    "output_type": "stream",
                    "text": [
                        "shop_id: 16006\n"
                    ]
                },
                {
                    "name": "stderr",
                    "output_type": "stream",
                    "text": [
                        "2023-02-17 12:13:18.908 | DEBUG    | src.scripts.saving_s3_files.save_global_descriptive_statistics_to_s3:save_global_descriptive_statistics_to_s3:112 - Skipam jer nemam ['target']\n",
                        "  1%|          | 7/1050 [00:26<51:31,  2.96s/it]  "
                    ]
                },
                {
                    "name": "stdout",
                    "output_type": "stream",
                    "text": [
                        "shop_id: 16038\n"
                    ]
                }
            ],
            "source": [
                "table = save_global_descriptive_statistics_to_s3(db=db, force_from_scratch=True)"
            ]
        },
        {
            "cell_type": "code",
            "execution_count": 3,
            "metadata": {},
            "outputs": [
                {
                    "data": {
                        "text/html": [
                            "<div>\n",
                            "<style scoped>\n",
                            "    .dataframe tbody tr th:only-of-type {\n",
                            "        vertical-align: middle;\n",
                            "    }\n",
                            "\n",
                            "    .dataframe tbody tr th {\n",
                            "        vertical-align: top;\n",
                            "    }\n",
                            "\n",
                            "    .dataframe thead th {\n",
                            "        text-align: right;\n",
                            "    }\n",
                            "</style>\n",
                            "<table border=\"1\" class=\"dataframe\">\n",
                            "  <thead>\n",
                            "    <tr style=\"text-align: right;\">\n",
                            "      <th></th>\n",
                            "      <th></th>\n",
                            "      <th></th>\n",
                            "      <th>count_ads</th>\n",
                            "      <th>spend_USD</th>\n",
                            "      <th>impr</th>\n",
                            "      <th>link_clicks</th>\n",
                            "      <th>purch</th>\n",
                            "      <th>count_ads_by_shop</th>\n",
                            "      <th>spend_USD_by_shop</th>\n",
                            "      <th>impr_by_shop</th>\n",
                            "      <th>link_clicks_by_shop</th>\n",
                            "      <th>purch_by_shop</th>\n",
                            "      <th>count_shops</th>\n",
                            "    </tr>\n",
                            "    <tr>\n",
                            "      <th>year_month</th>\n",
                            "      <th>feature</th>\n",
                            "      <th>feature_value</th>\n",
                            "      <th></th>\n",
                            "      <th></th>\n",
                            "      <th></th>\n",
                            "      <th></th>\n",
                            "      <th></th>\n",
                            "      <th></th>\n",
                            "      <th></th>\n",
                            "      <th></th>\n",
                            "      <th></th>\n",
                            "      <th></th>\n",
                            "      <th></th>\n",
                            "    </tr>\n",
                            "  </thead>\n",
                            "  <tbody>\n",
                            "    <tr>\n",
                            "      <th rowspan=\"2\" valign=\"top\">2017-01</th>\n",
                            "      <th rowspan=\"2\" valign=\"top\">emojis_any</th>\n",
                            "      <th>False</th>\n",
                            "      <td>3</td>\n",
                            "      <td>200.55</td>\n",
                            "      <td>26589</td>\n",
                            "      <td>363</td>\n",
                            "      <td>0</td>\n",
                            "      <td>0.166667</td>\n",
                            "      <td>0.036246</td>\n",
                            "      <td>0.038133</td>\n",
                            "      <td>0.028759</td>\n",
                            "      <td>0.000000</td>\n",
                            "      <td>1</td>\n",
                            "    </tr>\n",
                            "    <tr>\n",
                            "      <th>True</th>\n",
                            "      <td>15</td>\n",
                            "      <td>5332.47</td>\n",
                            "      <td>670686</td>\n",
                            "      <td>12259</td>\n",
                            "      <td>27</td>\n",
                            "      <td>0.833333</td>\n",
                            "      <td>0.963754</td>\n",
                            "      <td>0.961867</td>\n",
                            "      <td>0.971241</td>\n",
                            "      <td>1.000000</td>\n",
                            "      <td>1</td>\n",
                            "    </tr>\n",
                            "    <tr>\n",
                            "      <th rowspan=\"2\" valign=\"top\">2017-02</th>\n",
                            "      <th rowspan=\"2\" valign=\"top\">emojis_any</th>\n",
                            "      <th>False</th>\n",
                            "      <td>4</td>\n",
                            "      <td>250.25</td>\n",
                            "      <td>59971</td>\n",
                            "      <td>297</td>\n",
                            "      <td>2</td>\n",
                            "      <td>0.190476</td>\n",
                            "      <td>0.020436</td>\n",
                            "      <td>0.067158</td>\n",
                            "      <td>0.014585</td>\n",
                            "      <td>0.133333</td>\n",
                            "      <td>1</td>\n",
                            "    </tr>\n",
                            "    <tr>\n",
                            "      <th>True</th>\n",
                            "      <td>17</td>\n",
                            "      <td>11995.32</td>\n",
                            "      <td>833008</td>\n",
                            "      <td>20067</td>\n",
                            "      <td>13</td>\n",
                            "      <td>0.809524</td>\n",
                            "      <td>0.979564</td>\n",
                            "      <td>0.932842</td>\n",
                            "      <td>0.985415</td>\n",
                            "      <td>0.866667</td>\n",
                            "      <td>1</td>\n",
                            "    </tr>\n",
                            "    <tr>\n",
                            "      <th>2017-03</th>\n",
                            "      <th>emojis_any</th>\n",
                            "      <th>False</th>\n",
                            "      <td>4</td>\n",
                            "      <td>335.29</td>\n",
                            "      <td>161007</td>\n",
                            "      <td>130</td>\n",
                            "      <td>1</td>\n",
                            "      <td>0.500000</td>\n",
                            "      <td>0.017617</td>\n",
                            "      <td>0.115786</td>\n",
                            "      <td>0.015323</td>\n",
                            "      <td>0.043478</td>\n",
                            "      <td>1</td>\n",
                            "    </tr>\n",
                            "    <tr>\n",
                            "      <th>...</th>\n",
                            "      <th>...</th>\n",
                            "      <th>...</th>\n",
                            "      <td>...</td>\n",
                            "      <td>...</td>\n",
                            "      <td>...</td>\n",
                            "      <td>...</td>\n",
                            "      <td>...</td>\n",
                            "      <td>...</td>\n",
                            "      <td>...</td>\n",
                            "      <td>...</td>\n",
                            "      <td>...</td>\n",
                            "      <td>...</td>\n",
                            "      <td>...</td>\n",
                            "    </tr>\n",
                            "    <tr>\n",
                            "      <th>2021-07</th>\n",
                            "      <th>emojis_any</th>\n",
                            "      <th>True</th>\n",
                            "      <td>74</td>\n",
                            "      <td>119440.18</td>\n",
                            "      <td>7905390</td>\n",
                            "      <td>24598</td>\n",
                            "      <td>1352</td>\n",
                            "      <td>0.230530</td>\n",
                            "      <td>0.316732</td>\n",
                            "      <td>0.327773</td>\n",
                            "      <td>0.357166</td>\n",
                            "      <td>0.262219</td>\n",
                            "      <td>1</td>\n",
                            "    </tr>\n",
                            "    <tr>\n",
                            "      <th rowspan=\"2\" valign=\"top\">2021-08</th>\n",
                            "      <th rowspan=\"2\" valign=\"top\">emojis_any</th>\n",
                            "      <th>False</th>\n",
                            "      <td>126</td>\n",
                            "      <td>137307.52</td>\n",
                            "      <td>10877670</td>\n",
                            "      <td>24336</td>\n",
                            "      <td>2152</td>\n",
                            "      <td>0.605769</td>\n",
                            "      <td>0.517570</td>\n",
                            "      <td>0.584194</td>\n",
                            "      <td>0.477889</td>\n",
                            "      <td>0.542886</td>\n",
                            "      <td>1</td>\n",
                            "    </tr>\n",
                            "    <tr>\n",
                            "      <th>True</th>\n",
                            "      <td>82</td>\n",
                            "      <td>127985.20</td>\n",
                            "      <td>7742280</td>\n",
                            "      <td>26588</td>\n",
                            "      <td>1812</td>\n",
                            "      <td>0.394231</td>\n",
                            "      <td>0.482430</td>\n",
                            "      <td>0.415806</td>\n",
                            "      <td>0.522111</td>\n",
                            "      <td>0.457114</td>\n",
                            "      <td>1</td>\n",
                            "    </tr>\n",
                            "    <tr>\n",
                            "      <th>2022-06</th>\n",
                            "      <th>emojis_any</th>\n",
                            "      <th>True</th>\n",
                            "      <td>8</td>\n",
                            "      <td>23813.46</td>\n",
                            "      <td>1056248</td>\n",
                            "      <td>10678</td>\n",
                            "      <td>0</td>\n",
                            "      <td>1.000000</td>\n",
                            "      <td>1.000000</td>\n",
                            "      <td>1.000000</td>\n",
                            "      <td>1.000000</td>\n",
                            "      <td>NaN</td>\n",
                            "      <td>1</td>\n",
                            "    </tr>\n",
                            "    <tr>\n",
                            "      <th>2022-07</th>\n",
                            "      <th>emojis_any</th>\n",
                            "      <th>True</th>\n",
                            "      <td>5</td>\n",
                            "      <td>44944.12</td>\n",
                            "      <td>3892834</td>\n",
                            "      <td>9538</td>\n",
                            "      <td>0</td>\n",
                            "      <td>1.000000</td>\n",
                            "      <td>1.000000</td>\n",
                            "      <td>1.000000</td>\n",
                            "      <td>1.000000</td>\n",
                            "      <td>NaN</td>\n",
                            "      <td>1</td>\n",
                            "    </tr>\n",
                            "  </tbody>\n",
                            "</table>\n",
                            "<p>114 rows × 11 columns</p>\n",
                            "</div>"
                        ],
                        "text/plain": [
                            "                                     count_ads  spend_USD      impr  \\\n",
                            "year_month feature    feature_value                                   \n",
                            "2017-01    emojis_any False                  3     200.55     26589   \n",
                            "                      True                  15    5332.47    670686   \n",
                            "2017-02    emojis_any False                  4     250.25     59971   \n",
                            "                      True                  17   11995.32    833008   \n",
                            "2017-03    emojis_any False                  4     335.29    161007   \n",
                            "...                                        ...        ...       ...   \n",
                            "2021-07    emojis_any True                  74  119440.18   7905390   \n",
                            "2021-08    emojis_any False                126  137307.52  10877670   \n",
                            "                      True                  82  127985.20   7742280   \n",
                            "2022-06    emojis_any True                   8   23813.46   1056248   \n",
                            "2022-07    emojis_any True                   5   44944.12   3892834   \n",
                            "\n",
                            "                                     link_clicks  purch  count_ads_by_shop  \\\n",
                            "year_month feature    feature_value                                          \n",
                            "2017-01    emojis_any False                  363      0           0.166667   \n",
                            "                      True                 12259     27           0.833333   \n",
                            "2017-02    emojis_any False                  297      2           0.190476   \n",
                            "                      True                 20067     13           0.809524   \n",
                            "2017-03    emojis_any False                  130      1           0.500000   \n",
                            "...                                          ...    ...                ...   \n",
                            "2021-07    emojis_any True                 24598   1352           0.230530   \n",
                            "2021-08    emojis_any False                24336   2152           0.605769   \n",
                            "                      True                 26588   1812           0.394231   \n",
                            "2022-06    emojis_any True                 10678      0           1.000000   \n",
                            "2022-07    emojis_any True                  9538      0           1.000000   \n",
                            "\n",
                            "                                     spend_USD_by_shop  impr_by_shop  \\\n",
                            "year_month feature    feature_value                                    \n",
                            "2017-01    emojis_any False                   0.036246      0.038133   \n",
                            "                      True                    0.963754      0.961867   \n",
                            "2017-02    emojis_any False                   0.020436      0.067158   \n",
                            "                      True                    0.979564      0.932842   \n",
                            "2017-03    emojis_any False                   0.017617      0.115786   \n",
                            "...                                                ...           ...   \n",
                            "2021-07    emojis_any True                    0.316732      0.327773   \n",
                            "2021-08    emojis_any False                   0.517570      0.584194   \n",
                            "                      True                    0.482430      0.415806   \n",
                            "2022-06    emojis_any True                    1.000000      1.000000   \n",
                            "2022-07    emojis_any True                    1.000000      1.000000   \n",
                            "\n",
                            "                                     link_clicks_by_shop  purch_by_shop  \\\n",
                            "year_month feature    feature_value                                       \n",
                            "2017-01    emojis_any False                     0.028759       0.000000   \n",
                            "                      True                      0.971241       1.000000   \n",
                            "2017-02    emojis_any False                     0.014585       0.133333   \n",
                            "                      True                      0.985415       0.866667   \n",
                            "2017-03    emojis_any False                     0.015323       0.043478   \n",
                            "...                                                  ...            ...   \n",
                            "2021-07    emojis_any True                      0.357166       0.262219   \n",
                            "2021-08    emojis_any False                     0.477889       0.542886   \n",
                            "                      True                      0.522111       0.457114   \n",
                            "2022-06    emojis_any True                      1.000000            NaN   \n",
                            "2022-07    emojis_any True                      1.000000            NaN   \n",
                            "\n",
                            "                                     count_shops  \n",
                            "year_month feature    feature_value               \n",
                            "2017-01    emojis_any False                    1  \n",
                            "                      True                     1  \n",
                            "2017-02    emojis_any False                    1  \n",
                            "                      True                     1  \n",
                            "2017-03    emojis_any False                    1  \n",
                            "...                                          ...  \n",
                            "2021-07    emojis_any True                     1  \n",
                            "2021-08    emojis_any False                    1  \n",
                            "                      True                     1  \n",
                            "2022-06    emojis_any True                     1  \n",
                            "2022-07    emojis_any True                     1  \n",
                            "\n",
                            "[114 rows x 11 columns]"
                        ]
                    },
                    "execution_count": 3,
                    "metadata": {},
                    "output_type": "execute_result"
                }
            ],
            "source": [
                "table"
            ]
        },
        {
            "cell_type": "code",
            "execution_count": 2,
            "metadata": {},
            "outputs": [
                {
                    "name": "stderr",
                    "output_type": "stream",
                    "text": [
                        "  1%|          | 3/338 [01:48<2:42:14, 29.06s/it]"
                    ]
                }
            ],
            "source": [
                "shop_ids_query = db.query(FacebookAdsetInsights.shop_id).distinct()\n",
                "shop_ids = pd.read_sql(shop_ids_query.statement, db.bind)[\"shop_id\"].tolist()\n",
                "chunk_size = 3\n",
                "\n",
                "for i, start_idx in tqdm(enumerate(range(0, len(shop_ids) + 1, chunk_size)), total = len(shop_ids) // chunk_size):\n",
                "    chunk = shop_ids[start_idx : start_idx + chunk_size]\n",
                "    q = crud.fb_adset_insights.query_budget_split_by_target(db=db, shop_id=chunk)\n",
                "    new_df = pd.read_sql(q.statement, db.bind)\n",
                "    if i == 0:\n",
                "        df = new_df\n",
                "    else:\n",
                "        df = pd.concat([df, new_df], axis=0).reset_index(drop=True)\n",
                "    df.to_csv('data/budget_split_by_target.csv')"
            ]
        },
        {
            "cell_type": "code",
            "execution_count": 3,
            "metadata": {},
            "outputs": [
                {
                    "data": {
                        "text/html": [
                            "<div>\n",
                            "<style scoped>\n",
                            "    .dataframe tbody tr th:only-of-type {\n",
                            "        vertical-align: middle;\n",
                            "    }\n",
                            "\n",
                            "    .dataframe tbody tr th {\n",
                            "        vertical-align: top;\n",
                            "    }\n",
                            "\n",
                            "    .dataframe thead th {\n",
                            "        text-align: right;\n",
                            "    }\n",
                            "</style>\n",
                            "<table border=\"1\" class=\"dataframe\">\n",
                            "  <thead>\n",
                            "    <tr style=\"text-align: right;\">\n",
                            "      <th></th>\n",
                            "      <th>shop_id</th>\n",
                            "      <th>spend_USD</th>\n",
                            "    </tr>\n",
                            "  </thead>\n",
                            "  <tbody>\n",
                            "    <tr>\n",
                            "      <th>0</th>\n",
                            "      <td>16038</td>\n",
                            "      <td>2202022.77</td>\n",
                            "    </tr>\n",
                            "    <tr>\n",
                            "      <th>1</th>\n",
                            "      <td>16038</td>\n",
                            "      <td>211804.45</td>\n",
                            "    </tr>\n",
                            "  </tbody>\n",
                            "</table>\n",
                            "</div>"
                        ],
                        "text/plain": [
                            "   shop_id   spend_USD\n",
                            "0    16038  2202022.77\n",
                            "1    16038   211804.45"
                        ]
                    },
                    "execution_count": 3,
                    "metadata": {},
                    "output_type": "execute_result"
                }
            ],
            "source": [
                "df"
            ]
        },
        {
            "cell_type": "code",
            "execution_count": 3,
            "metadata": {},
            "outputs": [
                {
                    "name": "stdout",
                    "output_type": "stream",
                    "text": [
                        "SELECT anon_1.shop_id, sum(anon_1.spend / anon_2.rate_from_usd) AS \"spend_USD\" \n",
                        "FROM (SELECT facebook_adset_insights.shop_id AS shop_id, facebook_adset_insights.account_id AS account_id, facebook_adset_insights.adset_id AS adset_id, facebook_adset.target AS target, sum(facebook_adset_insights.spend) AS spend \n",
                        "FROM facebook_adset_insights JOIN facebook_adset ON facebook_adset_insights.shop_id = facebook_adset.shop_id AND facebook_adset_insights.account_id = facebook_adset.account_id AND facebook_adset_insights.adset_id = facebook_adset.adset_id \n",
                        "WHERE facebook_adset_insights.shop_id IN (__[POSTCOMPILE_shop_id_1]) GROUP BY facebook_adset_insights.shop_id, facebook_adset_insights.account_id, facebook_adset_insights.adset_id, facebook_adset.target) AS anon_1 JOIN facebook_ad_account ON anon_1.account_id = facebook_ad_account.facebook_id AND anon_1.shop_id = facebook_ad_account.shop_id JOIN (SELECT DISTINCT ON (currency_exchange_rate.code) currency_exchange_rate.code AS code, currency_exchange_rate.rate_from_usd AS rate_from_usd \n",
                        "FROM currency_exchange_rate ORDER BY currency_exchange_rate.code, currency_exchange_rate.date DESC) AS anon_2 ON facebook_ad_account.currency = anon_2.code GROUP BY anon_1.shop_id, anon_1.target\n"
                    ]
                }
            ],
            "source": [
                "from sqlalchemy.dialects import postgresql\n",
                "print(q.statement.compile(dialect=postgresql.dialect()))"
            ]
        },
        {
            "cell_type": "code",
            "execution_count": 5,
            "metadata": {},
            "outputs": [
                {
                    "data": {
                        "text/plain": [
                            "<sqlalchemy.engine.cursor.LegacyCursorResult at 0x1060e34f0>"
                        ]
                    },
                    "execution_count": 5,
                    "metadata": {},
                    "output_type": "execute_result"
                }
            ],
            "source": [
                "stmt = (\n",
                "    delete(FacebookAdsetInsights).\n",
                "    where(FacebookAdsetInsights.shop_id == 5)\n",
                ")\n",
                "\n",
                "db.execute(stmt)"
            ]
        },
        {
            "cell_type": "code",
            "execution_count": 7,
            "metadata": {},
            "outputs": [
                {
                    "data": {
                        "text/plain": [
                            "'DELETE FROM facebook_adset_insights WHERE facebook_adset_insights.shop_id = :shop_id_1'"
                        ]
                    },
                    "execution_count": 7,
                    "metadata": {},
                    "output_type": "execute_result"
                }
            ],
            "source": [
                "str(stmt)"
            ]
        },
        {
            "cell_type": "code",
            "execution_count": 2,
            "metadata": {},
            "outputs": [
                {
                    "name": "stderr",
                    "output_type": "stream",
                    "text": [
                        "2023-02-17 10:17:33.237 | DEBUG    | src.crud.facebook.facebook_adset_insights:rebuild_table:25 - facebook_adset_insights\n"
                    ]
                },
                {
                    "ename": "OperationalError",
                    "evalue": "(psycopg2.OperationalError) could not translate host name \"lebesgue-dev.cgviinyjedbs.eu-central-1.rds.amazonaws.com\" to address: nodename nor servname provided, or not known\n\n(Background on this error at: https://sqlalche.me/e/14/e3q8)",
                    "output_type": "error",
                    "traceback": [
                        "\u001b[0;31m---------------------------------------------------------------------------\u001b[0m",
                        "\u001b[0;31mOperationalError\u001b[0m                          Traceback (most recent call last)",
                        "File \u001b[0;32m~/developer/premium_dashboard/venv/lib/python3.10/site-packages/sqlalchemy/engine/base.py:3280\u001b[0m, in \u001b[0;36mEngine._wrap_pool_connect\u001b[0;34m(self, fn, connection)\u001b[0m\n\u001b[1;32m   3279\u001b[0m \u001b[39mtry\u001b[39;00m:\n\u001b[0;32m-> 3280\u001b[0m     \u001b[39mreturn\u001b[39;00m fn()\n\u001b[1;32m   3281\u001b[0m \u001b[39mexcept\u001b[39;00m dialect\u001b[39m.\u001b[39mdbapi\u001b[39m.\u001b[39mError \u001b[39mas\u001b[39;00m e:\n",
                        "File \u001b[0;32m~/developer/premium_dashboard/venv/lib/python3.10/site-packages/sqlalchemy/pool/base.py:310\u001b[0m, in \u001b[0;36mPool.connect\u001b[0;34m(self)\u001b[0m\n\u001b[1;32m    303\u001b[0m \u001b[39m\u001b[39m\u001b[39m\"\"\"Return a DBAPI connection from the pool.\u001b[39;00m\n\u001b[1;32m    304\u001b[0m \n\u001b[1;32m    305\u001b[0m \u001b[39mThe connection is instrumented such that when its\u001b[39;00m\n\u001b[0;32m   (...)\u001b[0m\n\u001b[1;32m    308\u001b[0m \n\u001b[1;32m    309\u001b[0m \u001b[39m\"\"\"\u001b[39;00m\n\u001b[0;32m--> 310\u001b[0m \u001b[39mreturn\u001b[39;00m _ConnectionFairy\u001b[39m.\u001b[39;49m_checkout(\u001b[39mself\u001b[39;49m)\n",
                        "File \u001b[0;32m~/developer/premium_dashboard/venv/lib/python3.10/site-packages/sqlalchemy/pool/base.py:868\u001b[0m, in \u001b[0;36m_ConnectionFairy._checkout\u001b[0;34m(cls, pool, threadconns, fairy)\u001b[0m\n\u001b[1;32m    867\u001b[0m \u001b[39mif\u001b[39;00m \u001b[39mnot\u001b[39;00m fairy:\n\u001b[0;32m--> 868\u001b[0m     fairy \u001b[39m=\u001b[39m _ConnectionRecord\u001b[39m.\u001b[39;49mcheckout(pool)\n\u001b[1;32m    870\u001b[0m     fairy\u001b[39m.\u001b[39m_pool \u001b[39m=\u001b[39m pool\n",
                        "File \u001b[0;32m~/developer/premium_dashboard/venv/lib/python3.10/site-packages/sqlalchemy/pool/base.py:476\u001b[0m, in \u001b[0;36m_ConnectionRecord.checkout\u001b[0;34m(cls, pool)\u001b[0m\n\u001b[1;32m    474\u001b[0m \u001b[39m@classmethod\u001b[39m\n\u001b[1;32m    475\u001b[0m \u001b[39mdef\u001b[39;00m \u001b[39mcheckout\u001b[39m(\u001b[39mcls\u001b[39m, pool):\n\u001b[0;32m--> 476\u001b[0m     rec \u001b[39m=\u001b[39m pool\u001b[39m.\u001b[39;49m_do_get()\n\u001b[1;32m    477\u001b[0m     \u001b[39mtry\u001b[39;00m:\n",
                        "File \u001b[0;32m~/developer/premium_dashboard/venv/lib/python3.10/site-packages/sqlalchemy/pool/impl.py:145\u001b[0m, in \u001b[0;36mQueuePool._do_get\u001b[0;34m(self)\u001b[0m\n\u001b[1;32m    144\u001b[0m \u001b[39mexcept\u001b[39;00m:\n\u001b[0;32m--> 145\u001b[0m     \u001b[39mwith\u001b[39;00m util\u001b[39m.\u001b[39msafe_reraise():\n\u001b[1;32m    146\u001b[0m         \u001b[39mself\u001b[39m\u001b[39m.\u001b[39m_dec_overflow()\n",
                        "File \u001b[0;32m~/developer/premium_dashboard/venv/lib/python3.10/site-packages/sqlalchemy/util/langhelpers.py:70\u001b[0m, in \u001b[0;36msafe_reraise.__exit__\u001b[0;34m(self, type_, value, traceback)\u001b[0m\n\u001b[1;32m     69\u001b[0m     \u001b[39mif\u001b[39;00m \u001b[39mnot\u001b[39;00m \u001b[39mself\u001b[39m\u001b[39m.\u001b[39mwarn_only:\n\u001b[0;32m---> 70\u001b[0m         compat\u001b[39m.\u001b[39;49mraise_(\n\u001b[1;32m     71\u001b[0m             exc_value,\n\u001b[1;32m     72\u001b[0m             with_traceback\u001b[39m=\u001b[39;49mexc_tb,\n\u001b[1;32m     73\u001b[0m         )\n\u001b[1;32m     74\u001b[0m \u001b[39melse\u001b[39;00m:\n",
                        "File \u001b[0;32m~/developer/premium_dashboard/venv/lib/python3.10/site-packages/sqlalchemy/util/compat.py:207\u001b[0m, in \u001b[0;36mraise_\u001b[0;34m(***failed resolving arguments***)\u001b[0m\n\u001b[1;32m    206\u001b[0m \u001b[39mtry\u001b[39;00m:\n\u001b[0;32m--> 207\u001b[0m     \u001b[39mraise\u001b[39;00m exception\n\u001b[1;32m    208\u001b[0m \u001b[39mfinally\u001b[39;00m:\n\u001b[1;32m    209\u001b[0m     \u001b[39m# credit to\u001b[39;00m\n\u001b[1;32m    210\u001b[0m     \u001b[39m# https://cosmicpercolator.com/2016/01/13/exception-leaks-in-python-2-and-3/\u001b[39;00m\n\u001b[1;32m    211\u001b[0m     \u001b[39m# as the __traceback__ object creates a cycle\u001b[39;00m\n",
                        "File \u001b[0;32m~/developer/premium_dashboard/venv/lib/python3.10/site-packages/sqlalchemy/pool/impl.py:143\u001b[0m, in \u001b[0;36mQueuePool._do_get\u001b[0;34m(self)\u001b[0m\n\u001b[1;32m    142\u001b[0m \u001b[39mtry\u001b[39;00m:\n\u001b[0;32m--> 143\u001b[0m     \u001b[39mreturn\u001b[39;00m \u001b[39mself\u001b[39;49m\u001b[39m.\u001b[39;49m_create_connection()\n\u001b[1;32m    144\u001b[0m \u001b[39mexcept\u001b[39;00m:\n",
                        "File \u001b[0;32m~/developer/premium_dashboard/venv/lib/python3.10/site-packages/sqlalchemy/pool/base.py:256\u001b[0m, in \u001b[0;36mPool._create_connection\u001b[0;34m(self)\u001b[0m\n\u001b[1;32m    254\u001b[0m \u001b[39m\u001b[39m\u001b[39m\"\"\"Called by subclasses to create a new ConnectionRecord.\"\"\"\u001b[39;00m\n\u001b[0;32m--> 256\u001b[0m \u001b[39mreturn\u001b[39;00m _ConnectionRecord(\u001b[39mself\u001b[39;49m)\n",
                        "File \u001b[0;32m~/developer/premium_dashboard/venv/lib/python3.10/site-packages/sqlalchemy/pool/base.py:371\u001b[0m, in \u001b[0;36m_ConnectionRecord.__init__\u001b[0;34m(self, pool, connect)\u001b[0m\n\u001b[1;32m    370\u001b[0m \u001b[39mif\u001b[39;00m connect:\n\u001b[0;32m--> 371\u001b[0m     \u001b[39mself\u001b[39;49m\u001b[39m.\u001b[39;49m__connect()\n\u001b[1;32m    372\u001b[0m \u001b[39mself\u001b[39m\u001b[39m.\u001b[39mfinalize_callback \u001b[39m=\u001b[39m deque()\n",
                        "File \u001b[0;32m~/developer/premium_dashboard/venv/lib/python3.10/site-packages/sqlalchemy/pool/base.py:665\u001b[0m, in \u001b[0;36m_ConnectionRecord.__connect\u001b[0;34m(self)\u001b[0m\n\u001b[1;32m    664\u001b[0m \u001b[39mexcept\u001b[39;00m \u001b[39mException\u001b[39;00m \u001b[39mas\u001b[39;00m e:\n\u001b[0;32m--> 665\u001b[0m     \u001b[39mwith\u001b[39;00m util\u001b[39m.\u001b[39msafe_reraise():\n\u001b[1;32m    666\u001b[0m         pool\u001b[39m.\u001b[39mlogger\u001b[39m.\u001b[39mdebug(\u001b[39m\"\u001b[39m\u001b[39mError on connect(): \u001b[39m\u001b[39m%s\u001b[39;00m\u001b[39m\"\u001b[39m, e)\n",
                        "File \u001b[0;32m~/developer/premium_dashboard/venv/lib/python3.10/site-packages/sqlalchemy/util/langhelpers.py:70\u001b[0m, in \u001b[0;36msafe_reraise.__exit__\u001b[0;34m(self, type_, value, traceback)\u001b[0m\n\u001b[1;32m     69\u001b[0m     \u001b[39mif\u001b[39;00m \u001b[39mnot\u001b[39;00m \u001b[39mself\u001b[39m\u001b[39m.\u001b[39mwarn_only:\n\u001b[0;32m---> 70\u001b[0m         compat\u001b[39m.\u001b[39;49mraise_(\n\u001b[1;32m     71\u001b[0m             exc_value,\n\u001b[1;32m     72\u001b[0m             with_traceback\u001b[39m=\u001b[39;49mexc_tb,\n\u001b[1;32m     73\u001b[0m         )\n\u001b[1;32m     74\u001b[0m \u001b[39melse\u001b[39;00m:\n",
                        "File \u001b[0;32m~/developer/premium_dashboard/venv/lib/python3.10/site-packages/sqlalchemy/util/compat.py:207\u001b[0m, in \u001b[0;36mraise_\u001b[0;34m(***failed resolving arguments***)\u001b[0m\n\u001b[1;32m    206\u001b[0m \u001b[39mtry\u001b[39;00m:\n\u001b[0;32m--> 207\u001b[0m     \u001b[39mraise\u001b[39;00m exception\n\u001b[1;32m    208\u001b[0m \u001b[39mfinally\u001b[39;00m:\n\u001b[1;32m    209\u001b[0m     \u001b[39m# credit to\u001b[39;00m\n\u001b[1;32m    210\u001b[0m     \u001b[39m# https://cosmicpercolator.com/2016/01/13/exception-leaks-in-python-2-and-3/\u001b[39;00m\n\u001b[1;32m    211\u001b[0m     \u001b[39m# as the __traceback__ object creates a cycle\u001b[39;00m\n",
                        "File \u001b[0;32m~/developer/premium_dashboard/venv/lib/python3.10/site-packages/sqlalchemy/pool/base.py:661\u001b[0m, in \u001b[0;36m_ConnectionRecord.__connect\u001b[0;34m(self)\u001b[0m\n\u001b[1;32m    660\u001b[0m \u001b[39mself\u001b[39m\u001b[39m.\u001b[39mstarttime \u001b[39m=\u001b[39m time\u001b[39m.\u001b[39mtime()\n\u001b[0;32m--> 661\u001b[0m \u001b[39mself\u001b[39m\u001b[39m.\u001b[39mdbapi_connection \u001b[39m=\u001b[39m connection \u001b[39m=\u001b[39m pool\u001b[39m.\u001b[39;49m_invoke_creator(\u001b[39mself\u001b[39;49m)\n\u001b[1;32m    662\u001b[0m pool\u001b[39m.\u001b[39mlogger\u001b[39m.\u001b[39mdebug(\u001b[39m\"\u001b[39m\u001b[39mCreated new connection \u001b[39m\u001b[39m%r\u001b[39;00m\u001b[39m\"\u001b[39m, connection)\n",
                        "File \u001b[0;32m~/developer/premium_dashboard/venv/lib/python3.10/site-packages/sqlalchemy/engine/create.py:590\u001b[0m, in \u001b[0;36mcreate_engine.<locals>.connect\u001b[0;34m(connection_record)\u001b[0m\n\u001b[1;32m    589\u001b[0m             \u001b[39mreturn\u001b[39;00m connection\n\u001b[0;32m--> 590\u001b[0m \u001b[39mreturn\u001b[39;00m dialect\u001b[39m.\u001b[39;49mconnect(\u001b[39m*\u001b[39;49mcargs, \u001b[39m*\u001b[39;49m\u001b[39m*\u001b[39;49mcparams)\n",
                        "File \u001b[0;32m~/developer/premium_dashboard/venv/lib/python3.10/site-packages/sqlalchemy/engine/default.py:597\u001b[0m, in \u001b[0;36mDefaultDialect.connect\u001b[0;34m(self, *cargs, **cparams)\u001b[0m\n\u001b[1;32m    595\u001b[0m \u001b[39mdef\u001b[39;00m \u001b[39mconnect\u001b[39m(\u001b[39mself\u001b[39m, \u001b[39m*\u001b[39mcargs, \u001b[39m*\u001b[39m\u001b[39m*\u001b[39mcparams):\n\u001b[1;32m    596\u001b[0m     \u001b[39m# inherits the docstring from interfaces.Dialect.connect\u001b[39;00m\n\u001b[0;32m--> 597\u001b[0m     \u001b[39mreturn\u001b[39;00m \u001b[39mself\u001b[39;49m\u001b[39m.\u001b[39;49mdbapi\u001b[39m.\u001b[39;49mconnect(\u001b[39m*\u001b[39;49mcargs, \u001b[39m*\u001b[39;49m\u001b[39m*\u001b[39;49mcparams)\n",
                        "File \u001b[0;32m~/developer/premium_dashboard/venv/lib/python3.10/site-packages/psycopg2/__init__.py:122\u001b[0m, in \u001b[0;36mconnect\u001b[0;34m(dsn, connection_factory, cursor_factory, **kwargs)\u001b[0m\n\u001b[1;32m    121\u001b[0m dsn \u001b[39m=\u001b[39m _ext\u001b[39m.\u001b[39mmake_dsn(dsn, \u001b[39m*\u001b[39m\u001b[39m*\u001b[39mkwargs)\n\u001b[0;32m--> 122\u001b[0m conn \u001b[39m=\u001b[39m _connect(dsn, connection_factory\u001b[39m=\u001b[39;49mconnection_factory, \u001b[39m*\u001b[39;49m\u001b[39m*\u001b[39;49mkwasync)\n\u001b[1;32m    123\u001b[0m \u001b[39mif\u001b[39;00m cursor_factory \u001b[39mis\u001b[39;00m \u001b[39mnot\u001b[39;00m \u001b[39mNone\u001b[39;00m:\n",
                        "\u001b[0;31mOperationalError\u001b[0m: could not translate host name \"lebesgue-dev.cgviinyjedbs.eu-central-1.rds.amazonaws.com\" to address: nodename nor servname provided, or not known\n",
                        "\nThe above exception was the direct cause of the following exception:\n",
                        "\u001b[0;31mOperationalError\u001b[0m                          Traceback (most recent call last)",
                        "Cell \u001b[0;32mIn[2], line 1\u001b[0m\n\u001b[0;32m----> 1\u001b[0m crud.fb_adset_insights\u001b[39m.\u001b[39;49mrebuild_table(db\u001b[39m=\u001b[39;49mdb)\n",
                        "File \u001b[0;32m~/developer/premium_dashboard/src/crud/facebook/facebook_adset_insights.py:27\u001b[0m, in \u001b[0;36mCRUDFacebookAdsetInsights.rebuild_table\u001b[0;34m(self, db, chunk_size)\u001b[0m\n\u001b[1;32m     25\u001b[0m logger\u001b[39m.\u001b[39mdebug(\u001b[39mself\u001b[39m\u001b[39m.\u001b[39mmodel\u001b[39m.\u001b[39m__table__\u001b[39m.\u001b[39mname)\n\u001b[1;32m     26\u001b[0m truncate_query \u001b[39m=\u001b[39m \u001b[39mf\u001b[39m\u001b[39m\"\u001b[39m\u001b[39mtruncate table \u001b[39m\u001b[39m{\u001b[39;00m\u001b[39mself\u001b[39m\u001b[39m.\u001b[39mmodel\u001b[39m.\u001b[39m__table__\u001b[39m.\u001b[39mname\u001b[39m}\u001b[39;00m\u001b[39m\"\u001b[39m\n\u001b[0;32m---> 27\u001b[0m db\u001b[39m.\u001b[39;49mexecute(truncate_query)\n\u001b[1;32m     29\u001b[0m fdp \u001b[39m=\u001b[39m FacebookDailyPerformance\n\u001b[1;32m     30\u001b[0m fas \u001b[39m=\u001b[39m FacebookAdset\n",
                        "File \u001b[0;32m~/developer/premium_dashboard/venv/lib/python3.10/site-packages/sqlalchemy/orm/session.py:1686\u001b[0m, in \u001b[0;36mSession.execute\u001b[0;34m(self, statement, params, execution_options, bind_arguments, _parent_execute_state, _add_event, **kw)\u001b[0m\n\u001b[1;32m   1680\u001b[0m bind \u001b[39m=\u001b[39m \u001b[39mself\u001b[39m\u001b[39m.\u001b[39mget_bind(\u001b[39m*\u001b[39m\u001b[39m*\u001b[39mbind_arguments)\n\u001b[1;32m   1682\u001b[0m \u001b[39mif\u001b[39;00m \u001b[39mself\u001b[39m\u001b[39m.\u001b[39mautocommit:\n\u001b[1;32m   1683\u001b[0m     \u001b[39m# legacy stuff, we can't use future_result w/ autocommit because\u001b[39;00m\n\u001b[1;32m   1684\u001b[0m     \u001b[39m# we rely upon close_with_result, also legacy.  it's all\u001b[39;00m\n\u001b[1;32m   1685\u001b[0m     \u001b[39m# interrelated\u001b[39;00m\n\u001b[0;32m-> 1686\u001b[0m     conn \u001b[39m=\u001b[39m \u001b[39mself\u001b[39;49m\u001b[39m.\u001b[39;49m_connection_for_bind(bind, close_with_result\u001b[39m=\u001b[39;49m\u001b[39mTrue\u001b[39;49;00m)\n\u001b[1;32m   1687\u001b[0m     execution_options \u001b[39m=\u001b[39m execution_options\u001b[39m.\u001b[39munion(\n\u001b[1;32m   1688\u001b[0m         \u001b[39mdict\u001b[39m(future_result\u001b[39m=\u001b[39m\u001b[39mFalse\u001b[39;00m)\n\u001b[1;32m   1689\u001b[0m     )\n\u001b[1;32m   1690\u001b[0m \u001b[39melse\u001b[39;00m:\n",
                        "File \u001b[0;32m~/developer/premium_dashboard/venv/lib/python3.10/site-packages/sqlalchemy/orm/session.py:1538\u001b[0m, in \u001b[0;36mSession._connection_for_bind\u001b[0;34m(self, engine, execution_options, **kw)\u001b[0m\n\u001b[1;32m   1536\u001b[0m \u001b[39massert\u001b[39;00m \u001b[39mself\u001b[39m\u001b[39m.\u001b[39m_transaction \u001b[39mis\u001b[39;00m \u001b[39mNone\u001b[39;00m\n\u001b[1;32m   1537\u001b[0m \u001b[39massert\u001b[39;00m \u001b[39mself\u001b[39m\u001b[39m.\u001b[39mautocommit\n\u001b[0;32m-> 1538\u001b[0m conn \u001b[39m=\u001b[39m engine\u001b[39m.\u001b[39;49mconnect(\u001b[39m*\u001b[39;49m\u001b[39m*\u001b[39;49mkw)\n\u001b[1;32m   1539\u001b[0m \u001b[39mif\u001b[39;00m execution_options:\n\u001b[1;32m   1540\u001b[0m     conn \u001b[39m=\u001b[39m conn\u001b[39m.\u001b[39mexecution_options(\u001b[39m*\u001b[39m\u001b[39m*\u001b[39mexecution_options)\n",
                        "File \u001b[0;32m~/developer/premium_dashboard/venv/lib/python3.10/site-packages/sqlalchemy/engine/base.py:3234\u001b[0m, in \u001b[0;36mEngine.connect\u001b[0;34m(self, close_with_result)\u001b[0m\n\u001b[1;32m   3219\u001b[0m \u001b[39mdef\u001b[39;00m \u001b[39mconnect\u001b[39m(\u001b[39mself\u001b[39m, close_with_result\u001b[39m=\u001b[39m\u001b[39mFalse\u001b[39;00m):\n\u001b[1;32m   3220\u001b[0m \u001b[39m    \u001b[39m\u001b[39m\"\"\"Return a new :class:`_engine.Connection` object.\u001b[39;00m\n\u001b[1;32m   3221\u001b[0m \n\u001b[1;32m   3222\u001b[0m \u001b[39m    The :class:`_engine.Connection` object is a facade that uses a DBAPI\u001b[39;00m\n\u001b[0;32m   (...)\u001b[0m\n\u001b[1;32m   3231\u001b[0m \n\u001b[1;32m   3232\u001b[0m \u001b[39m    \"\"\"\u001b[39;00m\n\u001b[0;32m-> 3234\u001b[0m     \u001b[39mreturn\u001b[39;00m \u001b[39mself\u001b[39;49m\u001b[39m.\u001b[39;49m_connection_cls(\u001b[39mself\u001b[39;49m, close_with_result\u001b[39m=\u001b[39;49mclose_with_result)\n",
                        "File \u001b[0;32m~/developer/premium_dashboard/venv/lib/python3.10/site-packages/sqlalchemy/engine/base.py:96\u001b[0m, in \u001b[0;36mConnection.__init__\u001b[0;34m(self, engine, connection, close_with_result, _branch_from, _execution_options, _dispatch, _has_events, _allow_revalidate)\u001b[0m\n\u001b[1;32m     91\u001b[0m     \u001b[39mself\u001b[39m\u001b[39m.\u001b[39m_has_events \u001b[39m=\u001b[39m _branch_from\u001b[39m.\u001b[39m_has_events\n\u001b[1;32m     92\u001b[0m \u001b[39melse\u001b[39;00m:\n\u001b[1;32m     93\u001b[0m     \u001b[39mself\u001b[39m\u001b[39m.\u001b[39m_dbapi_connection \u001b[39m=\u001b[39m (\n\u001b[1;32m     94\u001b[0m         connection\n\u001b[1;32m     95\u001b[0m         \u001b[39mif\u001b[39;00m connection \u001b[39mis\u001b[39;00m \u001b[39mnot\u001b[39;00m \u001b[39mNone\u001b[39;00m\n\u001b[0;32m---> 96\u001b[0m         \u001b[39melse\u001b[39;00m engine\u001b[39m.\u001b[39;49mraw_connection()\n\u001b[1;32m     97\u001b[0m     )\n\u001b[1;32m     99\u001b[0m     \u001b[39mself\u001b[39m\u001b[39m.\u001b[39m_transaction \u001b[39m=\u001b[39m \u001b[39mself\u001b[39m\u001b[39m.\u001b[39m_nested_transaction \u001b[39m=\u001b[39m \u001b[39mNone\u001b[39;00m\n\u001b[1;32m    100\u001b[0m     \u001b[39mself\u001b[39m\u001b[39m.\u001b[39m__savepoint_seq \u001b[39m=\u001b[39m \u001b[39m0\u001b[39m\n",
                        "File \u001b[0;32m~/developer/premium_dashboard/venv/lib/python3.10/site-packages/sqlalchemy/engine/base.py:3313\u001b[0m, in \u001b[0;36mEngine.raw_connection\u001b[0;34m(self, _connection)\u001b[0m\n\u001b[1;32m   3291\u001b[0m \u001b[39mdef\u001b[39;00m \u001b[39mraw_connection\u001b[39m(\u001b[39mself\u001b[39m, _connection\u001b[39m=\u001b[39m\u001b[39mNone\u001b[39;00m):\n\u001b[1;32m   3292\u001b[0m \u001b[39m    \u001b[39m\u001b[39m\"\"\"Return a \"raw\" DBAPI connection from the connection pool.\u001b[39;00m\n\u001b[1;32m   3293\u001b[0m \n\u001b[1;32m   3294\u001b[0m \u001b[39m    The returned object is a proxied version of the DBAPI\u001b[39;00m\n\u001b[0;32m   (...)\u001b[0m\n\u001b[1;32m   3311\u001b[0m \n\u001b[1;32m   3312\u001b[0m \u001b[39m    \"\"\"\u001b[39;00m\n\u001b[0;32m-> 3313\u001b[0m     \u001b[39mreturn\u001b[39;00m \u001b[39mself\u001b[39;49m\u001b[39m.\u001b[39;49m_wrap_pool_connect(\u001b[39mself\u001b[39;49m\u001b[39m.\u001b[39;49mpool\u001b[39m.\u001b[39;49mconnect, _connection)\n",
                        "File \u001b[0;32m~/developer/premium_dashboard/venv/lib/python3.10/site-packages/sqlalchemy/engine/base.py:3283\u001b[0m, in \u001b[0;36mEngine._wrap_pool_connect\u001b[0;34m(self, fn, connection)\u001b[0m\n\u001b[1;32m   3281\u001b[0m \u001b[39mexcept\u001b[39;00m dialect\u001b[39m.\u001b[39mdbapi\u001b[39m.\u001b[39mError \u001b[39mas\u001b[39;00m e:\n\u001b[1;32m   3282\u001b[0m     \u001b[39mif\u001b[39;00m connection \u001b[39mis\u001b[39;00m \u001b[39mNone\u001b[39;00m:\n\u001b[0;32m-> 3283\u001b[0m         Connection\u001b[39m.\u001b[39;49m_handle_dbapi_exception_noconnection(\n\u001b[1;32m   3284\u001b[0m             e, dialect, \u001b[39mself\u001b[39;49m\n\u001b[1;32m   3285\u001b[0m         )\n\u001b[1;32m   3286\u001b[0m     \u001b[39melse\u001b[39;00m:\n\u001b[1;32m   3287\u001b[0m         util\u001b[39m.\u001b[39mraise_(\n\u001b[1;32m   3288\u001b[0m             sys\u001b[39m.\u001b[39mexc_info()[\u001b[39m1\u001b[39m], with_traceback\u001b[39m=\u001b[39msys\u001b[39m.\u001b[39mexc_info()[\u001b[39m2\u001b[39m]\n\u001b[1;32m   3289\u001b[0m         )\n",
                        "File \u001b[0;32m~/developer/premium_dashboard/venv/lib/python3.10/site-packages/sqlalchemy/engine/base.py:2117\u001b[0m, in \u001b[0;36mConnection._handle_dbapi_exception_noconnection\u001b[0;34m(cls, e, dialect, engine)\u001b[0m\n\u001b[1;32m   2115\u001b[0m     util\u001b[39m.\u001b[39mraise_(newraise, with_traceback\u001b[39m=\u001b[39mexc_info[\u001b[39m2\u001b[39m], from_\u001b[39m=\u001b[39me)\n\u001b[1;32m   2116\u001b[0m \u001b[39melif\u001b[39;00m should_wrap:\n\u001b[0;32m-> 2117\u001b[0m     util\u001b[39m.\u001b[39;49mraise_(\n\u001b[1;32m   2118\u001b[0m         sqlalchemy_exception, with_traceback\u001b[39m=\u001b[39;49mexc_info[\u001b[39m2\u001b[39;49m], from_\u001b[39m=\u001b[39;49me\n\u001b[1;32m   2119\u001b[0m     )\n\u001b[1;32m   2120\u001b[0m \u001b[39melse\u001b[39;00m:\n\u001b[1;32m   2121\u001b[0m     util\u001b[39m.\u001b[39mraise_(exc_info[\u001b[39m1\u001b[39m], with_traceback\u001b[39m=\u001b[39mexc_info[\u001b[39m2\u001b[39m])\n",
                        "File \u001b[0;32m~/developer/premium_dashboard/venv/lib/python3.10/site-packages/sqlalchemy/util/compat.py:207\u001b[0m, in \u001b[0;36mraise_\u001b[0;34m(***failed resolving arguments***)\u001b[0m\n\u001b[1;32m    204\u001b[0m     exception\u001b[39m.\u001b[39m__cause__ \u001b[39m=\u001b[39m replace_context\n\u001b[1;32m    206\u001b[0m \u001b[39mtry\u001b[39;00m:\n\u001b[0;32m--> 207\u001b[0m     \u001b[39mraise\u001b[39;00m exception\n\u001b[1;32m    208\u001b[0m \u001b[39mfinally\u001b[39;00m:\n\u001b[1;32m    209\u001b[0m     \u001b[39m# credit to\u001b[39;00m\n\u001b[1;32m    210\u001b[0m     \u001b[39m# https://cosmicpercolator.com/2016/01/13/exception-leaks-in-python-2-and-3/\u001b[39;00m\n\u001b[1;32m    211\u001b[0m     \u001b[39m# as the __traceback__ object creates a cycle\u001b[39;00m\n\u001b[1;32m    212\u001b[0m     \u001b[39mdel\u001b[39;00m exception, replace_context, from_, with_traceback\n",
                        "File \u001b[0;32m~/developer/premium_dashboard/venv/lib/python3.10/site-packages/sqlalchemy/engine/base.py:3280\u001b[0m, in \u001b[0;36mEngine._wrap_pool_connect\u001b[0;34m(self, fn, connection)\u001b[0m\n\u001b[1;32m   3278\u001b[0m dialect \u001b[39m=\u001b[39m \u001b[39mself\u001b[39m\u001b[39m.\u001b[39mdialect\n\u001b[1;32m   3279\u001b[0m \u001b[39mtry\u001b[39;00m:\n\u001b[0;32m-> 3280\u001b[0m     \u001b[39mreturn\u001b[39;00m fn()\n\u001b[1;32m   3281\u001b[0m \u001b[39mexcept\u001b[39;00m dialect\u001b[39m.\u001b[39mdbapi\u001b[39m.\u001b[39mError \u001b[39mas\u001b[39;00m e:\n\u001b[1;32m   3282\u001b[0m     \u001b[39mif\u001b[39;00m connection \u001b[39mis\u001b[39;00m \u001b[39mNone\u001b[39;00m:\n",
                        "File \u001b[0;32m~/developer/premium_dashboard/venv/lib/python3.10/site-packages/sqlalchemy/pool/base.py:310\u001b[0m, in \u001b[0;36mPool.connect\u001b[0;34m(self)\u001b[0m\n\u001b[1;32m    302\u001b[0m \u001b[39mdef\u001b[39;00m \u001b[39mconnect\u001b[39m(\u001b[39mself\u001b[39m):\n\u001b[1;32m    303\u001b[0m \u001b[39m    \u001b[39m\u001b[39m\"\"\"Return a DBAPI connection from the pool.\u001b[39;00m\n\u001b[1;32m    304\u001b[0m \n\u001b[1;32m    305\u001b[0m \u001b[39m    The connection is instrumented such that when its\u001b[39;00m\n\u001b[0;32m   (...)\u001b[0m\n\u001b[1;32m    308\u001b[0m \n\u001b[1;32m    309\u001b[0m \u001b[39m    \"\"\"\u001b[39;00m\n\u001b[0;32m--> 310\u001b[0m     \u001b[39mreturn\u001b[39;00m _ConnectionFairy\u001b[39m.\u001b[39;49m_checkout(\u001b[39mself\u001b[39;49m)\n",
                        "File \u001b[0;32m~/developer/premium_dashboard/venv/lib/python3.10/site-packages/sqlalchemy/pool/base.py:868\u001b[0m, in \u001b[0;36m_ConnectionFairy._checkout\u001b[0;34m(cls, pool, threadconns, fairy)\u001b[0m\n\u001b[1;32m    865\u001b[0m \u001b[39m@classmethod\u001b[39m\n\u001b[1;32m    866\u001b[0m \u001b[39mdef\u001b[39;00m \u001b[39m_checkout\u001b[39m(\u001b[39mcls\u001b[39m, pool, threadconns\u001b[39m=\u001b[39m\u001b[39mNone\u001b[39;00m, fairy\u001b[39m=\u001b[39m\u001b[39mNone\u001b[39;00m):\n\u001b[1;32m    867\u001b[0m     \u001b[39mif\u001b[39;00m \u001b[39mnot\u001b[39;00m fairy:\n\u001b[0;32m--> 868\u001b[0m         fairy \u001b[39m=\u001b[39m _ConnectionRecord\u001b[39m.\u001b[39;49mcheckout(pool)\n\u001b[1;32m    870\u001b[0m         fairy\u001b[39m.\u001b[39m_pool \u001b[39m=\u001b[39m pool\n\u001b[1;32m    871\u001b[0m         fairy\u001b[39m.\u001b[39m_counter \u001b[39m=\u001b[39m \u001b[39m0\u001b[39m\n",
                        "File \u001b[0;32m~/developer/premium_dashboard/venv/lib/python3.10/site-packages/sqlalchemy/pool/base.py:476\u001b[0m, in \u001b[0;36m_ConnectionRecord.checkout\u001b[0;34m(cls, pool)\u001b[0m\n\u001b[1;32m    474\u001b[0m \u001b[39m@classmethod\u001b[39m\n\u001b[1;32m    475\u001b[0m \u001b[39mdef\u001b[39;00m \u001b[39mcheckout\u001b[39m(\u001b[39mcls\u001b[39m, pool):\n\u001b[0;32m--> 476\u001b[0m     rec \u001b[39m=\u001b[39m pool\u001b[39m.\u001b[39;49m_do_get()\n\u001b[1;32m    477\u001b[0m     \u001b[39mtry\u001b[39;00m:\n\u001b[1;32m    478\u001b[0m         dbapi_connection \u001b[39m=\u001b[39m rec\u001b[39m.\u001b[39mget_connection()\n",
                        "File \u001b[0;32m~/developer/premium_dashboard/venv/lib/python3.10/site-packages/sqlalchemy/pool/impl.py:145\u001b[0m, in \u001b[0;36mQueuePool._do_get\u001b[0;34m(self)\u001b[0m\n\u001b[1;32m    143\u001b[0m         \u001b[39mreturn\u001b[39;00m \u001b[39mself\u001b[39m\u001b[39m.\u001b[39m_create_connection()\n\u001b[1;32m    144\u001b[0m     \u001b[39mexcept\u001b[39;00m:\n\u001b[0;32m--> 145\u001b[0m         \u001b[39mwith\u001b[39;00m util\u001b[39m.\u001b[39msafe_reraise():\n\u001b[1;32m    146\u001b[0m             \u001b[39mself\u001b[39m\u001b[39m.\u001b[39m_dec_overflow()\n\u001b[1;32m    147\u001b[0m \u001b[39melse\u001b[39;00m:\n",
                        "File \u001b[0;32m~/developer/premium_dashboard/venv/lib/python3.10/site-packages/sqlalchemy/util/langhelpers.py:70\u001b[0m, in \u001b[0;36msafe_reraise.__exit__\u001b[0;34m(self, type_, value, traceback)\u001b[0m\n\u001b[1;32m     68\u001b[0m     \u001b[39mself\u001b[39m\u001b[39m.\u001b[39m_exc_info \u001b[39m=\u001b[39m \u001b[39mNone\u001b[39;00m  \u001b[39m# remove potential circular references\u001b[39;00m\n\u001b[1;32m     69\u001b[0m     \u001b[39mif\u001b[39;00m \u001b[39mnot\u001b[39;00m \u001b[39mself\u001b[39m\u001b[39m.\u001b[39mwarn_only:\n\u001b[0;32m---> 70\u001b[0m         compat\u001b[39m.\u001b[39;49mraise_(\n\u001b[1;32m     71\u001b[0m             exc_value,\n\u001b[1;32m     72\u001b[0m             with_traceback\u001b[39m=\u001b[39;49mexc_tb,\n\u001b[1;32m     73\u001b[0m         )\n\u001b[1;32m     74\u001b[0m \u001b[39melse\u001b[39;00m:\n\u001b[1;32m     75\u001b[0m     \u001b[39mif\u001b[39;00m \u001b[39mnot\u001b[39;00m compat\u001b[39m.\u001b[39mpy3k \u001b[39mand\u001b[39;00m \u001b[39mself\u001b[39m\u001b[39m.\u001b[39m_exc_info \u001b[39mand\u001b[39;00m \u001b[39mself\u001b[39m\u001b[39m.\u001b[39m_exc_info[\u001b[39m1\u001b[39m]:\n\u001b[1;32m     76\u001b[0m         \u001b[39m# emulate Py3K's behavior of telling us when an exception\u001b[39;00m\n\u001b[1;32m     77\u001b[0m         \u001b[39m# occurs in an exception handler.\u001b[39;00m\n",
                        "File \u001b[0;32m~/developer/premium_dashboard/venv/lib/python3.10/site-packages/sqlalchemy/util/compat.py:207\u001b[0m, in \u001b[0;36mraise_\u001b[0;34m(***failed resolving arguments***)\u001b[0m\n\u001b[1;32m    204\u001b[0m     exception\u001b[39m.\u001b[39m__cause__ \u001b[39m=\u001b[39m replace_context\n\u001b[1;32m    206\u001b[0m \u001b[39mtry\u001b[39;00m:\n\u001b[0;32m--> 207\u001b[0m     \u001b[39mraise\u001b[39;00m exception\n\u001b[1;32m    208\u001b[0m \u001b[39mfinally\u001b[39;00m:\n\u001b[1;32m    209\u001b[0m     \u001b[39m# credit to\u001b[39;00m\n\u001b[1;32m    210\u001b[0m     \u001b[39m# https://cosmicpercolator.com/2016/01/13/exception-leaks-in-python-2-and-3/\u001b[39;00m\n\u001b[1;32m    211\u001b[0m     \u001b[39m# as the __traceback__ object creates a cycle\u001b[39;00m\n\u001b[1;32m    212\u001b[0m     \u001b[39mdel\u001b[39;00m exception, replace_context, from_, with_traceback\n",
                        "File \u001b[0;32m~/developer/premium_dashboard/venv/lib/python3.10/site-packages/sqlalchemy/pool/impl.py:143\u001b[0m, in \u001b[0;36mQueuePool._do_get\u001b[0;34m(self)\u001b[0m\n\u001b[1;32m    141\u001b[0m \u001b[39mif\u001b[39;00m \u001b[39mself\u001b[39m\u001b[39m.\u001b[39m_inc_overflow():\n\u001b[1;32m    142\u001b[0m     \u001b[39mtry\u001b[39;00m:\n\u001b[0;32m--> 143\u001b[0m         \u001b[39mreturn\u001b[39;00m \u001b[39mself\u001b[39;49m\u001b[39m.\u001b[39;49m_create_connection()\n\u001b[1;32m    144\u001b[0m     \u001b[39mexcept\u001b[39;00m:\n\u001b[1;32m    145\u001b[0m         \u001b[39mwith\u001b[39;00m util\u001b[39m.\u001b[39msafe_reraise():\n",
                        "File \u001b[0;32m~/developer/premium_dashboard/venv/lib/python3.10/site-packages/sqlalchemy/pool/base.py:256\u001b[0m, in \u001b[0;36mPool._create_connection\u001b[0;34m(self)\u001b[0m\n\u001b[1;32m    253\u001b[0m \u001b[39mdef\u001b[39;00m \u001b[39m_create_connection\u001b[39m(\u001b[39mself\u001b[39m):\n\u001b[1;32m    254\u001b[0m \u001b[39m    \u001b[39m\u001b[39m\"\"\"Called by subclasses to create a new ConnectionRecord.\"\"\"\u001b[39;00m\n\u001b[0;32m--> 256\u001b[0m     \u001b[39mreturn\u001b[39;00m _ConnectionRecord(\u001b[39mself\u001b[39;49m)\n",
                        "File \u001b[0;32m~/developer/premium_dashboard/venv/lib/python3.10/site-packages/sqlalchemy/pool/base.py:371\u001b[0m, in \u001b[0;36m_ConnectionRecord.__init__\u001b[0;34m(self, pool, connect)\u001b[0m\n\u001b[1;32m    369\u001b[0m \u001b[39mself\u001b[39m\u001b[39m.\u001b[39m__pool \u001b[39m=\u001b[39m pool\n\u001b[1;32m    370\u001b[0m \u001b[39mif\u001b[39;00m connect:\n\u001b[0;32m--> 371\u001b[0m     \u001b[39mself\u001b[39;49m\u001b[39m.\u001b[39;49m__connect()\n\u001b[1;32m    372\u001b[0m \u001b[39mself\u001b[39m\u001b[39m.\u001b[39mfinalize_callback \u001b[39m=\u001b[39m deque()\n",
                        "File \u001b[0;32m~/developer/premium_dashboard/venv/lib/python3.10/site-packages/sqlalchemy/pool/base.py:665\u001b[0m, in \u001b[0;36m_ConnectionRecord.__connect\u001b[0;34m(self)\u001b[0m\n\u001b[1;32m    663\u001b[0m     \u001b[39mself\u001b[39m\u001b[39m.\u001b[39mfresh \u001b[39m=\u001b[39m \u001b[39mTrue\u001b[39;00m\n\u001b[1;32m    664\u001b[0m \u001b[39mexcept\u001b[39;00m \u001b[39mException\u001b[39;00m \u001b[39mas\u001b[39;00m e:\n\u001b[0;32m--> 665\u001b[0m     \u001b[39mwith\u001b[39;00m util\u001b[39m.\u001b[39msafe_reraise():\n\u001b[1;32m    666\u001b[0m         pool\u001b[39m.\u001b[39mlogger\u001b[39m.\u001b[39mdebug(\u001b[39m\"\u001b[39m\u001b[39mError on connect(): \u001b[39m\u001b[39m%s\u001b[39;00m\u001b[39m\"\u001b[39m, e)\n\u001b[1;32m    667\u001b[0m \u001b[39melse\u001b[39;00m:\n\u001b[1;32m    668\u001b[0m     \u001b[39m# in SQLAlchemy 1.4 the first_connect event is not used by\u001b[39;00m\n\u001b[1;32m    669\u001b[0m     \u001b[39m# the engine, so this will usually not be set\u001b[39;00m\n",
                        "File \u001b[0;32m~/developer/premium_dashboard/venv/lib/python3.10/site-packages/sqlalchemy/util/langhelpers.py:70\u001b[0m, in \u001b[0;36msafe_reraise.__exit__\u001b[0;34m(self, type_, value, traceback)\u001b[0m\n\u001b[1;32m     68\u001b[0m     \u001b[39mself\u001b[39m\u001b[39m.\u001b[39m_exc_info \u001b[39m=\u001b[39m \u001b[39mNone\u001b[39;00m  \u001b[39m# remove potential circular references\u001b[39;00m\n\u001b[1;32m     69\u001b[0m     \u001b[39mif\u001b[39;00m \u001b[39mnot\u001b[39;00m \u001b[39mself\u001b[39m\u001b[39m.\u001b[39mwarn_only:\n\u001b[0;32m---> 70\u001b[0m         compat\u001b[39m.\u001b[39;49mraise_(\n\u001b[1;32m     71\u001b[0m             exc_value,\n\u001b[1;32m     72\u001b[0m             with_traceback\u001b[39m=\u001b[39;49mexc_tb,\n\u001b[1;32m     73\u001b[0m         )\n\u001b[1;32m     74\u001b[0m \u001b[39melse\u001b[39;00m:\n\u001b[1;32m     75\u001b[0m     \u001b[39mif\u001b[39;00m \u001b[39mnot\u001b[39;00m compat\u001b[39m.\u001b[39mpy3k \u001b[39mand\u001b[39;00m \u001b[39mself\u001b[39m\u001b[39m.\u001b[39m_exc_info \u001b[39mand\u001b[39;00m \u001b[39mself\u001b[39m\u001b[39m.\u001b[39m_exc_info[\u001b[39m1\u001b[39m]:\n\u001b[1;32m     76\u001b[0m         \u001b[39m# emulate Py3K's behavior of telling us when an exception\u001b[39;00m\n\u001b[1;32m     77\u001b[0m         \u001b[39m# occurs in an exception handler.\u001b[39;00m\n",
                        "File \u001b[0;32m~/developer/premium_dashboard/venv/lib/python3.10/site-packages/sqlalchemy/util/compat.py:207\u001b[0m, in \u001b[0;36mraise_\u001b[0;34m(***failed resolving arguments***)\u001b[0m\n\u001b[1;32m    204\u001b[0m     exception\u001b[39m.\u001b[39m__cause__ \u001b[39m=\u001b[39m replace_context\n\u001b[1;32m    206\u001b[0m \u001b[39mtry\u001b[39;00m:\n\u001b[0;32m--> 207\u001b[0m     \u001b[39mraise\u001b[39;00m exception\n\u001b[1;32m    208\u001b[0m \u001b[39mfinally\u001b[39;00m:\n\u001b[1;32m    209\u001b[0m     \u001b[39m# credit to\u001b[39;00m\n\u001b[1;32m    210\u001b[0m     \u001b[39m# https://cosmicpercolator.com/2016/01/13/exception-leaks-in-python-2-and-3/\u001b[39;00m\n\u001b[1;32m    211\u001b[0m     \u001b[39m# as the __traceback__ object creates a cycle\u001b[39;00m\n\u001b[1;32m    212\u001b[0m     \u001b[39mdel\u001b[39;00m exception, replace_context, from_, with_traceback\n",
                        "File \u001b[0;32m~/developer/premium_dashboard/venv/lib/python3.10/site-packages/sqlalchemy/pool/base.py:661\u001b[0m, in \u001b[0;36m_ConnectionRecord.__connect\u001b[0;34m(self)\u001b[0m\n\u001b[1;32m    659\u001b[0m \u001b[39mtry\u001b[39;00m:\n\u001b[1;32m    660\u001b[0m     \u001b[39mself\u001b[39m\u001b[39m.\u001b[39mstarttime \u001b[39m=\u001b[39m time\u001b[39m.\u001b[39mtime()\n\u001b[0;32m--> 661\u001b[0m     \u001b[39mself\u001b[39m\u001b[39m.\u001b[39mdbapi_connection \u001b[39m=\u001b[39m connection \u001b[39m=\u001b[39m pool\u001b[39m.\u001b[39;49m_invoke_creator(\u001b[39mself\u001b[39;49m)\n\u001b[1;32m    662\u001b[0m     pool\u001b[39m.\u001b[39mlogger\u001b[39m.\u001b[39mdebug(\u001b[39m\"\u001b[39m\u001b[39mCreated new connection \u001b[39m\u001b[39m%r\u001b[39;00m\u001b[39m\"\u001b[39m, connection)\n\u001b[1;32m    663\u001b[0m     \u001b[39mself\u001b[39m\u001b[39m.\u001b[39mfresh \u001b[39m=\u001b[39m \u001b[39mTrue\u001b[39;00m\n",
                        "File \u001b[0;32m~/developer/premium_dashboard/venv/lib/python3.10/site-packages/sqlalchemy/engine/create.py:590\u001b[0m, in \u001b[0;36mcreate_engine.<locals>.connect\u001b[0;34m(connection_record)\u001b[0m\n\u001b[1;32m    588\u001b[0m         \u001b[39mif\u001b[39;00m connection \u001b[39mis\u001b[39;00m \u001b[39mnot\u001b[39;00m \u001b[39mNone\u001b[39;00m:\n\u001b[1;32m    589\u001b[0m             \u001b[39mreturn\u001b[39;00m connection\n\u001b[0;32m--> 590\u001b[0m \u001b[39mreturn\u001b[39;00m dialect\u001b[39m.\u001b[39;49mconnect(\u001b[39m*\u001b[39;49mcargs, \u001b[39m*\u001b[39;49m\u001b[39m*\u001b[39;49mcparams)\n",
                        "File \u001b[0;32m~/developer/premium_dashboard/venv/lib/python3.10/site-packages/sqlalchemy/engine/default.py:597\u001b[0m, in \u001b[0;36mDefaultDialect.connect\u001b[0;34m(self, *cargs, **cparams)\u001b[0m\n\u001b[1;32m    595\u001b[0m \u001b[39mdef\u001b[39;00m \u001b[39mconnect\u001b[39m(\u001b[39mself\u001b[39m, \u001b[39m*\u001b[39mcargs, \u001b[39m*\u001b[39m\u001b[39m*\u001b[39mcparams):\n\u001b[1;32m    596\u001b[0m     \u001b[39m# inherits the docstring from interfaces.Dialect.connect\u001b[39;00m\n\u001b[0;32m--> 597\u001b[0m     \u001b[39mreturn\u001b[39;00m \u001b[39mself\u001b[39;49m\u001b[39m.\u001b[39;49mdbapi\u001b[39m.\u001b[39;49mconnect(\u001b[39m*\u001b[39;49mcargs, \u001b[39m*\u001b[39;49m\u001b[39m*\u001b[39;49mcparams)\n",
                        "File \u001b[0;32m~/developer/premium_dashboard/venv/lib/python3.10/site-packages/psycopg2/__init__.py:122\u001b[0m, in \u001b[0;36mconnect\u001b[0;34m(dsn, connection_factory, cursor_factory, **kwargs)\u001b[0m\n\u001b[1;32m    119\u001b[0m     kwasync[\u001b[39m'\u001b[39m\u001b[39masync_\u001b[39m\u001b[39m'\u001b[39m] \u001b[39m=\u001b[39m kwargs\u001b[39m.\u001b[39mpop(\u001b[39m'\u001b[39m\u001b[39masync_\u001b[39m\u001b[39m'\u001b[39m)\n\u001b[1;32m    121\u001b[0m dsn \u001b[39m=\u001b[39m _ext\u001b[39m.\u001b[39mmake_dsn(dsn, \u001b[39m*\u001b[39m\u001b[39m*\u001b[39mkwargs)\n\u001b[0;32m--> 122\u001b[0m conn \u001b[39m=\u001b[39m _connect(dsn, connection_factory\u001b[39m=\u001b[39;49mconnection_factory, \u001b[39m*\u001b[39;49m\u001b[39m*\u001b[39;49mkwasync)\n\u001b[1;32m    123\u001b[0m \u001b[39mif\u001b[39;00m cursor_factory \u001b[39mis\u001b[39;00m \u001b[39mnot\u001b[39;00m \u001b[39mNone\u001b[39;00m:\n\u001b[1;32m    124\u001b[0m     conn\u001b[39m.\u001b[39mcursor_factory \u001b[39m=\u001b[39m cursor_factory\n",
                        "\u001b[0;31mOperationalError\u001b[0m: (psycopg2.OperationalError) could not translate host name \"lebesgue-dev.cgviinyjedbs.eu-central-1.rds.amazonaws.com\" to address: nodename nor servname provided, or not known\n\n(Background on this error at: https://sqlalche.me/e/14/e3q8)"
                    ]
                }
            ],
            "source": [
                "crud.fb_adset_insights.rebuild_table(db=db)"
            ]
        },
        {
            "cell_type": "code",
            "execution_count": 7,
            "metadata": {},
            "outputs": [
                {
                    "data": {
                        "text/plain": [
                            "[[1], [], [], [], [], [], []]"
                        ]
                    },
                    "execution_count": 7,
                    "metadata": {},
                    "output_type": "execute_result"
                }
            ],
            "source": [
                "list(map(list, np.array_split([1], 7)))"
            ]
        },
        {
            "cell_type": "code",
            "execution_count": 6,
            "metadata": {},
            "outputs": [],
            "source": [
                "df = pd.read_sql(db.query(FacebookDailyPerformance.shop_id).distinct().limit(5).statement, db.bind)"
            ]
        },
        {
            "cell_type": "code",
            "execution_count": 7,
            "metadata": {},
            "outputs": [
                {
                    "data": {
                        "text/html": [
                            "<div>\n",
                            "<style scoped>\n",
                            "    .dataframe tbody tr th:only-of-type {\n",
                            "        vertical-align: middle;\n",
                            "    }\n",
                            "\n",
                            "    .dataframe tbody tr th {\n",
                            "        vertical-align: top;\n",
                            "    }\n",
                            "\n",
                            "    .dataframe thead th {\n",
                            "        text-align: right;\n",
                            "    }\n",
                            "</style>\n",
                            "<table border=\"1\" class=\"dataframe\">\n",
                            "  <thead>\n",
                            "    <tr style=\"text-align: right;\">\n",
                            "      <th></th>\n",
                            "      <th>shop_id</th>\n",
                            "    </tr>\n",
                            "  </thead>\n",
                            "  <tbody>\n",
                            "    <tr>\n",
                            "      <th>0</th>\n",
                            "      <td>2</td>\n",
                            "    </tr>\n",
                            "    <tr>\n",
                            "      <th>1</th>\n",
                            "      <td>96</td>\n",
                            "    </tr>\n",
                            "    <tr>\n",
                            "      <th>2</th>\n",
                            "      <td>15873</td>\n",
                            "    </tr>\n",
                            "    <tr>\n",
                            "      <th>3</th>\n",
                            "      <td>15887</td>\n",
                            "    </tr>\n",
                            "    <tr>\n",
                            "      <th>4</th>\n",
                            "      <td>15892</td>\n",
                            "    </tr>\n",
                            "  </tbody>\n",
                            "</table>\n",
                            "</div>"
                        ],
                        "text/plain": [
                            "   shop_id\n",
                            "0        2\n",
                            "1       96\n",
                            "2    15873\n",
                            "3    15887\n",
                            "4    15892"
                        ]
                    },
                    "execution_count": 7,
                    "metadata": {},
                    "output_type": "execute_result"
                }
            ],
            "source": [
                "df"
            ]
        },
        {
            "cell_type": "code",
            "execution_count": 11,
            "metadata": {},
            "outputs": [
                {
                    "ename": "TypeError",
                    "evalue": "ping_raw_creative_and_target() got an unexpected keyword argument 'db'",
                    "output_type": "error",
                    "traceback": [
                        "\u001b[0;31m---------------------------------------------------------------------------\u001b[0m",
                        "\u001b[0;31mTypeError\u001b[0m                                 Traceback (most recent call last)",
                        "Cell \u001b[0;32mIn[11], line 1\u001b[0m\n\u001b[0;32m----> 1\u001b[0m df \u001b[39m=\u001b[39m ping_raw_creative_and_target(db\u001b[39m=\u001b[39;49mdb, shop_id\u001b[39m=\u001b[39;49m\u001b[39m268714\u001b[39;49m, ad_id\u001b[39m=\u001b[39;49m\u001b[39m6026939154285\u001b[39;49m)\n",
                        "\u001b[0;31mTypeError\u001b[0m: ping_raw_creative_and_target() got an unexpected keyword argument 'db'"
                    ]
                }
            ],
            "source": [
                "df = ping_raw_creative_and_target(db=db, shop_id=268714, ad_id=6026939154285)"
            ]
        },
        {
            "cell_type": "code",
            "execution_count": 2,
            "metadata": {},
            "outputs": [],
            "source": [
                "df = ping_creative(db=db, shop_id=268714)"
            ]
        },
        {
            "cell_type": "code",
            "execution_count": 4,
            "metadata": {},
            "outputs": [
                {
                    "data": {
                        "text/plain": [
                            "1        6033996437485\n",
                            "2        6046729558485\n",
                            "3        6047215813285\n",
                            "4        6047215996285\n",
                            "5        6047216934685\n",
                            "             ...      \n",
                            "10763    6074009688853\n",
                            "10764    6074868893653\n",
                            "10765    6074982158453\n",
                            "10766    6102999128853\n",
                            "10767    6271846481853\n",
                            "Name: ad_id, Length: 1938, dtype: object"
                        ]
                    },
                    "execution_count": 4,
                    "metadata": {},
                    "output_type": "execute_result"
                }
            ],
            "source": [
                "df.loc[df.primary.isna(), 'ad_id']"
            ]
        },
        {
            "cell_type": "code",
            "execution_count": 3,
            "metadata": {},
            "outputs": [
                {
                    "data": {
                        "text/plain": [
                            "0.8200222882615156"
                        ]
                    },
                    "execution_count": 3,
                    "metadata": {},
                    "output_type": "execute_result"
                }
            ],
            "source": [
                "df.primary.count() / len(df)"
            ]
        },
        {
            "cell_type": "code",
            "execution_count": 7,
            "metadata": {},
            "outputs": [
                {
                    "data": {
                        "text/plain": [
                            "0        6026939154285\n",
                            "1        6033996437485\n",
                            "2        6046729558485\n",
                            "3        6047215813285\n",
                            "4        6047215996285\n",
                            "             ...      \n",
                            "10763    6074009688853\n",
                            "10764    6074868893653\n",
                            "10765    6074982158453\n",
                            "10766    6102999128853\n",
                            "10767    6271846481853\n",
                            "Name: ad_id, Length: 4695, dtype: object"
                        ]
                    },
                    "execution_count": 7,
                    "metadata": {},
                    "output_type": "execute_result"
                }
            ],
            "source": [
                "df.loc[df.primary.isna(), 'ad_id']"
            ]
        },
        {
            "cell_type": "code",
            "execution_count": 3,
            "metadata": {},
            "outputs": [
                {
                    "data": {
                        "text/plain": [
                            "0.5639858841010401"
                        ]
                    },
                    "execution_count": 3,
                    "metadata": {},
                    "output_type": "execute_result"
                }
            ],
            "source": [
                "df.primary.count() / len(df)"
            ]
        },
        {
            "cell_type": "code",
            "execution_count": 3,
            "metadata": {},
            "outputs": [
                {
                    "ename": "AttributeError",
                    "evalue": "'DataFrame' object has no attribute 'primary'",
                    "output_type": "error",
                    "traceback": [
                        "\u001b[0;31m---------------------------------------------------------------------------\u001b[0m",
                        "\u001b[0;31mAttributeError\u001b[0m                            Traceback (most recent call last)",
                        "Cell \u001b[0;32mIn[3], line 1\u001b[0m\n\u001b[0;32m----> 1\u001b[0m df\u001b[39m.\u001b[39;49mprimary\u001b[39m.\u001b[39mcount() \u001b[39m/\u001b[39m \u001b[39mlen\u001b[39m(df)\n",
                        "File \u001b[0;32m~/developer/premium_dashboard/venv/lib/python3.10/site-packages/pandas/core/generic.py:5575\u001b[0m, in \u001b[0;36mNDFrame.__getattr__\u001b[0;34m(self, name)\u001b[0m\n\u001b[1;32m   5568\u001b[0m \u001b[39mif\u001b[39;00m (\n\u001b[1;32m   5569\u001b[0m     name \u001b[39mnot\u001b[39;00m \u001b[39min\u001b[39;00m \u001b[39mself\u001b[39m\u001b[39m.\u001b[39m_internal_names_set\n\u001b[1;32m   5570\u001b[0m     \u001b[39mand\u001b[39;00m name \u001b[39mnot\u001b[39;00m \u001b[39min\u001b[39;00m \u001b[39mself\u001b[39m\u001b[39m.\u001b[39m_metadata\n\u001b[1;32m   5571\u001b[0m     \u001b[39mand\u001b[39;00m name \u001b[39mnot\u001b[39;00m \u001b[39min\u001b[39;00m \u001b[39mself\u001b[39m\u001b[39m.\u001b[39m_accessors\n\u001b[1;32m   5572\u001b[0m     \u001b[39mand\u001b[39;00m \u001b[39mself\u001b[39m\u001b[39m.\u001b[39m_info_axis\u001b[39m.\u001b[39m_can_hold_identifiers_and_holds_name(name)\n\u001b[1;32m   5573\u001b[0m ):\n\u001b[1;32m   5574\u001b[0m     \u001b[39mreturn\u001b[39;00m \u001b[39mself\u001b[39m[name]\n\u001b[0;32m-> 5575\u001b[0m \u001b[39mreturn\u001b[39;00m \u001b[39mobject\u001b[39;49m\u001b[39m.\u001b[39;49m\u001b[39m__getattribute__\u001b[39;49m(\u001b[39mself\u001b[39;49m, name)\n",
                        "\u001b[0;31mAttributeError\u001b[0m: 'DataFrame' object has no attribute 'primary'"
                    ]
                }
            ],
            "source": [
                "df.primary.count() / len(df)"
            ]
        },
        {
            "cell_type": "code",
            "execution_count": 10,
            "metadata": {},
            "outputs": [
                {
                    "data": {
                        "text/html": [
                            "<div>\n",
                            "<style scoped>\n",
                            "    .dataframe tbody tr th:only-of-type {\n",
                            "        vertical-align: middle;\n",
                            "    }\n",
                            "\n",
                            "    .dataframe tbody tr th {\n",
                            "        vertical-align: top;\n",
                            "    }\n",
                            "\n",
                            "    .dataframe thead th {\n",
                            "        text-align: right;\n",
                            "    }\n",
                            "</style>\n",
                            "<table border=\"1\" class=\"dataframe\">\n",
                            "  <thead>\n",
                            "    <tr style=\"text-align: right;\">\n",
                            "      <th></th>\n",
                            "      <th>shop_id</th>\n",
                            "      <th>account_id</th>\n",
                            "      <th>ad_id</th>\n",
                            "      <th>creative_id</th>\n",
                            "      <th>aov</th>\n",
                            "      <th>industry</th>\n",
                            "      <th>age_range</th>\n",
                            "      <th>creative_type</th>\n",
                            "      <th>cta_any</th>\n",
                            "      <th>description</th>\n",
                            "      <th>discounts_any</th>\n",
                            "      <th>emojis</th>\n",
                            "      <th>emojis_any</th>\n",
                            "      <th>fact_words_any</th>\n",
                            "      <th>free_shipping_any</th>\n",
                            "      <th>hashtags_any</th>\n",
                            "      <th>links_any</th>\n",
                            "      <th>number_of_countries</th>\n",
                            "      <th>number_of_custom_audiences</th>\n",
                            "      <th>percentages_any</th>\n",
                            "      <th>prices_any</th>\n",
                            "      <th>primary</th>\n",
                            "      <th>starts_with_question_any</th>\n",
                            "      <th>target</th>\n",
                            "      <th>targets_US</th>\n",
                            "      <th>targets_english</th>\n",
                            "      <th>title</th>\n",
                            "      <th>urgency_any</th>\n",
                            "      <th>user_addressing_any</th>\n",
                            "    </tr>\n",
                            "  </thead>\n",
                            "  <tbody>\n",
                            "    <tr>\n",
                            "      <th>0</th>\n",
                            "      <td>268714</td>\n",
                            "      <td>10159096477130290</td>\n",
                            "      <td>23842601978410353</td>\n",
                            "      <td>23842601978070353</td>\n",
                            "      <td>36.687399</td>\n",
                            "      <td>Home and garden</td>\n",
                            "      <td>40</td>\n",
                            "      <td>NaN</td>\n",
                            "      <td>NaN</td>\n",
                            "      <td>NaN</td>\n",
                            "      <td>NaN</td>\n",
                            "      <td>NaN</td>\n",
                            "      <td>NaN</td>\n",
                            "      <td>False</td>\n",
                            "      <td>NaN</td>\n",
                            "      <td>NaN</td>\n",
                            "      <td>NaN</td>\n",
                            "      <td>1</td>\n",
                            "      <td>1</td>\n",
                            "      <td>NaN</td>\n",
                            "      <td>NaN</td>\n",
                            "      <td>NaN</td>\n",
                            "      <td>NaN</td>\n",
                            "      <td>NaN</td>\n",
                            "      <td>NaN</td>\n",
                            "      <td>NaN</td>\n",
                            "      <td>NaN</td>\n",
                            "      <td>NaN</td>\n",
                            "      <td>NaN</td>\n",
                            "    </tr>\n",
                            "  </tbody>\n",
                            "</table>\n",
                            "</div>"
                        ],
                        "text/plain": [
                            "  shop_id         account_id  ... urgency_any user_addressing_any\n",
                            "0  268714  10159096477130290  ...         NaN                 NaN\n",
                            "\n",
                            "[1 rows x 29 columns]"
                        ]
                    },
                    "execution_count": 10,
                    "metadata": {},
                    "output_type": "execute_result"
                }
            ],
            "source": [
                "df[df.ad_id == '23842601978410353']"
            ]
        },
        {
            "cell_type": "code",
            "execution_count": 4,
            "metadata": {},
            "outputs": [
                {
                    "ename": "TypeError",
                    "evalue": "object of type 'float' has no len()",
                    "output_type": "error",
                    "traceback": [
                        "\u001b[0;31m---------------------------------------------------------------------------\u001b[0m",
                        "\u001b[0;31mTypeError\u001b[0m                                 Traceback (most recent call last)",
                        "Cell \u001b[0;32mIn[4], line 1\u001b[0m\n\u001b[0;32m----> 1\u001b[0m primaries \u001b[39m=\u001b[39m df\u001b[39m.\u001b[39mloc[df\u001b[39m.\u001b[39;49mprimary\u001b[39m.\u001b[39;49mapply(\u001b[39mlen\u001b[39;49m) \u001b[39m>\u001b[39m \u001b[39m0\u001b[39m, \u001b[39m'\u001b[39m\u001b[39mprimary\u001b[39m\u001b[39m'\u001b[39m]\u001b[39m.\u001b[39mapply(\u001b[39mlambda\u001b[39;00m x: x[\u001b[39m0\u001b[39m])\u001b[39m.\u001b[39mtolist()\n",
                        "File \u001b[0;32m~/developer/premium_dashboard/venv/lib/python3.10/site-packages/pandas/core/series.py:4433\u001b[0m, in \u001b[0;36mSeries.apply\u001b[0;34m(self, func, convert_dtype, args, **kwargs)\u001b[0m\n\u001b[1;32m   4323\u001b[0m \u001b[39mdef\u001b[39;00m \u001b[39mapply\u001b[39m(\n\u001b[1;32m   4324\u001b[0m     \u001b[39mself\u001b[39m,\n\u001b[1;32m   4325\u001b[0m     func: AggFuncType,\n\u001b[0;32m   (...)\u001b[0m\n\u001b[1;32m   4328\u001b[0m     \u001b[39m*\u001b[39m\u001b[39m*\u001b[39mkwargs,\n\u001b[1;32m   4329\u001b[0m ) \u001b[39m-\u001b[39m\u001b[39m>\u001b[39m DataFrame \u001b[39m|\u001b[39m Series:\n\u001b[1;32m   4330\u001b[0m \u001b[39m    \u001b[39m\u001b[39m\"\"\"\u001b[39;00m\n\u001b[1;32m   4331\u001b[0m \u001b[39m    Invoke function on values of Series.\u001b[39;00m\n\u001b[1;32m   4332\u001b[0m \n\u001b[0;32m   (...)\u001b[0m\n\u001b[1;32m   4431\u001b[0m \u001b[39m    dtype: float64\u001b[39;00m\n\u001b[1;32m   4432\u001b[0m \u001b[39m    \"\"\"\u001b[39;00m\n\u001b[0;32m-> 4433\u001b[0m     \u001b[39mreturn\u001b[39;00m SeriesApply(\u001b[39mself\u001b[39;49m, func, convert_dtype, args, kwargs)\u001b[39m.\u001b[39;49mapply()\n",
                        "File \u001b[0;32m~/developer/premium_dashboard/venv/lib/python3.10/site-packages/pandas/core/apply.py:1088\u001b[0m, in \u001b[0;36mSeriesApply.apply\u001b[0;34m(self)\u001b[0m\n\u001b[1;32m   1084\u001b[0m \u001b[39mif\u001b[39;00m \u001b[39misinstance\u001b[39m(\u001b[39mself\u001b[39m\u001b[39m.\u001b[39mf, \u001b[39mstr\u001b[39m):\n\u001b[1;32m   1085\u001b[0m     \u001b[39m# if we are a string, try to dispatch\u001b[39;00m\n\u001b[1;32m   1086\u001b[0m     \u001b[39mreturn\u001b[39;00m \u001b[39mself\u001b[39m\u001b[39m.\u001b[39mapply_str()\n\u001b[0;32m-> 1088\u001b[0m \u001b[39mreturn\u001b[39;00m \u001b[39mself\u001b[39;49m\u001b[39m.\u001b[39;49mapply_standard()\n",
                        "File \u001b[0;32m~/developer/premium_dashboard/venv/lib/python3.10/site-packages/pandas/core/apply.py:1143\u001b[0m, in \u001b[0;36mSeriesApply.apply_standard\u001b[0;34m(self)\u001b[0m\n\u001b[1;32m   1137\u001b[0m         values \u001b[39m=\u001b[39m obj\u001b[39m.\u001b[39mastype(\u001b[39mobject\u001b[39m)\u001b[39m.\u001b[39m_values\n\u001b[1;32m   1138\u001b[0m         \u001b[39m# error: Argument 2 to \"map_infer\" has incompatible type\u001b[39;00m\n\u001b[1;32m   1139\u001b[0m         \u001b[39m# \"Union[Callable[..., Any], str, List[Union[Callable[..., Any], str]],\u001b[39;00m\n\u001b[1;32m   1140\u001b[0m         \u001b[39m# Dict[Hashable, Union[Union[Callable[..., Any], str],\u001b[39;00m\n\u001b[1;32m   1141\u001b[0m         \u001b[39m# List[Union[Callable[..., Any], str]]]]]\"; expected\u001b[39;00m\n\u001b[1;32m   1142\u001b[0m         \u001b[39m# \"Callable[[Any], Any]\"\u001b[39;00m\n\u001b[0;32m-> 1143\u001b[0m         mapped \u001b[39m=\u001b[39m lib\u001b[39m.\u001b[39;49mmap_infer(\n\u001b[1;32m   1144\u001b[0m             values,\n\u001b[1;32m   1145\u001b[0m             f,  \u001b[39m# type: ignore[arg-type]\u001b[39;49;00m\n\u001b[1;32m   1146\u001b[0m             convert\u001b[39m=\u001b[39;49m\u001b[39mself\u001b[39;49m\u001b[39m.\u001b[39;49mconvert_dtype,\n\u001b[1;32m   1147\u001b[0m         )\n\u001b[1;32m   1149\u001b[0m \u001b[39mif\u001b[39;00m \u001b[39mlen\u001b[39m(mapped) \u001b[39mand\u001b[39;00m \u001b[39misinstance\u001b[39m(mapped[\u001b[39m0\u001b[39m], ABCSeries):\n\u001b[1;32m   1150\u001b[0m     \u001b[39m# GH#43986 Need to do list(mapped) in order to get treated as nested\u001b[39;00m\n\u001b[1;32m   1151\u001b[0m     \u001b[39m#  See also GH#25959 regarding EA support\u001b[39;00m\n\u001b[1;32m   1152\u001b[0m     \u001b[39mreturn\u001b[39;00m obj\u001b[39m.\u001b[39m_constructor_expanddim(\u001b[39mlist\u001b[39m(mapped), index\u001b[39m=\u001b[39mobj\u001b[39m.\u001b[39mindex)\n",
                        "File \u001b[0;32m~/developer/premium_dashboard/venv/lib/python3.10/site-packages/pandas/_libs/lib.pyx:2870\u001b[0m, in \u001b[0;36mpandas._libs.lib.map_infer\u001b[0;34m()\u001b[0m\n",
                        "\u001b[0;31mTypeError\u001b[0m: object of type 'float' has no len()"
                    ]
                }
            ],
            "source": [
                "primaries = df.loc[df.primary.apply(len) > 0, 'primary'].apply(lambda x: x[0]).tolist()"
            ]
        },
        {
            "cell_type": "code",
            "execution_count": 5,
            "metadata": {},
            "outputs": [],
            "source": [
                "query = db.query(FacebookAdset.targeting).limit(1).all()"
            ]
        },
        {
            "cell_type": "code",
            "execution_count": 9,
            "metadata": {},
            "outputs": [
                {
                    "data": {
                        "text/plain": [
                            "[{'age_max': 65,\n",
                            "  'age_min': 21,\n",
                            "  'genders': [2],\n",
                            "  'geo_locations': {'regions': [{'key': '3845',\n",
                            "     'name': 'Arizona',\n",
                            "     'country': 'US'},\n",
                            "    {'key': '3847', 'name': 'California', 'country': 'US'},\n",
                            "    {'key': '3848', 'name': 'Colorado', 'country': 'US'},\n",
                            "    {'key': '3849', 'name': 'Connecticut', 'country': 'US'},\n",
                            "    {'key': '3852', 'name': 'Florida', 'country': 'US'},\n",
                            "    {'key': '3853', 'name': 'Georgia', 'country': 'US'},\n",
                            "    {'key': '3855', 'name': 'Idaho', 'country': 'US'},\n",
                            "    {'key': '3857', 'name': 'Indiana', 'country': 'US'},\n",
                            "    {'key': '3859', 'name': 'Kansas', 'country': 'US'},\n",
                            "    {'key': '3861', 'name': 'Louisiana', 'country': 'US'},\n",
                            "    {'key': '3862', 'name': 'Maine', 'country': 'US'},\n",
                            "    {'key': '3863', 'name': 'Maryland', 'country': 'US'},\n",
                            "    {'key': '3864', 'name': 'Massachusetts', 'country': 'US'},\n",
                            "    {'key': '3868', 'name': 'Missouri', 'country': 'US'},\n",
                            "    {'key': '3870', 'name': 'Nebraska', 'country': 'US'},\n",
                            "    {'key': '3871', 'name': 'Nevada', 'country': 'US'},\n",
                            "    {'key': '3872', 'name': 'New Hampshire', 'country': 'US'},\n",
                            "    {'key': '3873', 'name': 'New Jersey', 'country': 'US'},\n",
                            "    {'key': '3874', 'name': 'New Mexico', 'country': 'US'},\n",
                            "    {'key': '3875', 'name': 'New York', 'country': 'US'},\n",
                            "    {'key': '3876', 'name': 'North Carolina', 'country': 'US'},\n",
                            "    {'key': '3880', 'name': 'Oregon', 'country': 'US'},\n",
                            "    {'key': '3882', 'name': 'Rhode Island', 'country': 'US'},\n",
                            "    {'key': '3883', 'name': 'South Carolina', 'country': 'US'},\n",
                            "    {'key': '3885', 'name': 'Tennessee', 'country': 'US'},\n",
                            "    {'key': '3890', 'name': 'Washington', 'country': 'US'},\n",
                            "    {'key': '3892', 'name': 'Wisconsin', 'country': 'US'}],\n",
                            "   'location_types': ['home']},\n",
                            "  'targeting_optimization': 'expansion_all',\n",
                            "  'excluded_custom_audiences': [{'id': '6042151074436',\n",
                            "    'name': 'CA members (Pixel 180 days)'},\n",
                            "   {'id': '6042151322836', 'name': 'CA leads (Pixel 180 days)'},\n",
                            "   {'id': '6048783738636', 'name': 'CA members (URL 180 days)'},\n",
                            "   {'id': '6048960891836', 'name': 'CA members (API)'},\n",
                            "   {'id': '6124594870836', 'name': 'Supreme_leads_60+days_Sailthru'},\n",
                            "   {'id': '6124594904236', 'name': 'Speakeasy_leads_14+days_Sailthru'},\n",
                            "   {'id': '6124594931436', 'name': 'Waitlist_leads_14+days_Sailthru'},\n",
                            "   {'id': '6126831359436', 'name': 'Active_Members_Sailthru'},\n",
                            "   {'id': '6129512505636', 'name': 'Website Visitors - USD 2 - 180d'},\n",
                            "   {'id': '6129515648436', 'name': 'Website Visitors - Supreme - 180d'},\n",
                            "   {'id': '23843420405880756', 'name': 'Purchase - 180 Days'}],\n",
                            "  'brand_safety_content_filter_levels': ['FACEBOOK_STANDARD', 'AN_STANDARD']}]"
                        ]
                    },
                    "execution_count": 9,
                    "metadata": {},
                    "output_type": "execute_result"
                }
            ],
            "source": [
                "[a[0] for a in query]"
            ]
        },
        {
            "cell_type": "code",
            "execution_count": 2,
            "metadata": {},
            "outputs": [
                {
                    "name": "stdout",
                    "output_type": "stream",
                    "text": [
                        "[2, 96, 15873]\n",
                        "SELECT facebook_daily_performance.shop_id AS facebook_daily_performance_shop_id, facebook_adset.target AS facebook_adset_target, sum(facebook_daily_performance.spend / anon_1.rate_from_usd) AS spend \n",
                        "FROM facebook_daily_performance JOIN facebook_adset ON facebook_daily_performance.shop_id = facebook_adset.shop_id AND facebook_daily_performance.account_id = facebook_adset.account_id AND facebook_daily_performance.adset_id = facebook_adset.adset_id JOIN facebook_ad_account ON facebook_daily_performance.account_id = facebook_ad_account.facebook_id AND facebook_daily_performance.shop_id = facebook_ad_account.shop_id JOIN (SELECT DISTINCT ON (currency_exchange_rate.code) currency_exchange_rate.code AS code, currency_exchange_rate.rate_from_usd AS rate_from_usd \n",
                        "FROM currency_exchange_rate ORDER BY currency_exchange_rate.code, currency_exchange_rate.date DESC) AS anon_1 ON facebook_ad_account.currency = anon_1.code \n",
                        "WHERE facebook_daily_performance.shop_id IN (__[POSTCOMPILE_shop_id_1]) AND facebook_daily_performance.date_start >= %(date_start_1)s AND facebook_daily_performance.date_start <= %(date_start_2)s GROUP BY facebook_daily_performance.shop_id, facebook_adset.target\n",
                        "[16038, 91826, 96200]\n",
                        "SELECT facebook_daily_performance.shop_id AS facebook_daily_performance_shop_id, facebook_adset.target AS facebook_adset_target, sum(facebook_daily_performance.spend / anon_1.rate_from_usd) AS spend \n",
                        "FROM facebook_daily_performance JOIN facebook_adset ON facebook_daily_performance.shop_id = facebook_adset.shop_id AND facebook_daily_performance.account_id = facebook_adset.account_id AND facebook_daily_performance.adset_id = facebook_adset.adset_id JOIN facebook_ad_account ON facebook_daily_performance.account_id = facebook_ad_account.facebook_id AND facebook_daily_performance.shop_id = facebook_ad_account.shop_id JOIN (SELECT DISTINCT ON (currency_exchange_rate.code) currency_exchange_rate.code AS code, currency_exchange_rate.rate_from_usd AS rate_from_usd \n",
                        "FROM currency_exchange_rate ORDER BY currency_exchange_rate.code, currency_exchange_rate.date DESC) AS anon_1 ON facebook_ad_account.currency = anon_1.code \n",
                        "WHERE facebook_daily_performance.shop_id IN (__[POSTCOMPILE_shop_id_1]) AND facebook_daily_performance.date_start >= %(date_start_1)s AND facebook_daily_performance.date_start <= %(date_start_2)s GROUP BY facebook_daily_performance.shop_id, facebook_adset.target\n",
                        "[130144, 159350, 199383]\n",
                        "SELECT facebook_daily_performance.shop_id AS facebook_daily_performance_shop_id, facebook_adset.target AS facebook_adset_target, sum(facebook_daily_performance.spend / anon_1.rate_from_usd) AS spend \n",
                        "FROM facebook_daily_performance JOIN facebook_adset ON facebook_daily_performance.shop_id = facebook_adset.shop_id AND facebook_daily_performance.account_id = facebook_adset.account_id AND facebook_daily_performance.adset_id = facebook_adset.adset_id JOIN facebook_ad_account ON facebook_daily_performance.account_id = facebook_ad_account.facebook_id AND facebook_daily_performance.shop_id = facebook_ad_account.shop_id JOIN (SELECT DISTINCT ON (currency_exchange_rate.code) currency_exchange_rate.code AS code, currency_exchange_rate.rate_from_usd AS rate_from_usd \n",
                        "FROM currency_exchange_rate ORDER BY currency_exchange_rate.code, currency_exchange_rate.date DESC) AS anon_1 ON facebook_ad_account.currency = anon_1.code \n",
                        "WHERE facebook_daily_performance.shop_id IN (__[POSTCOMPILE_shop_id_1]) AND facebook_daily_performance.date_start >= %(date_start_1)s AND facebook_daily_performance.date_start <= %(date_start_2)s GROUP BY facebook_daily_performance.shop_id, facebook_adset.target\n"
                    ]
                }
            ],
            "source": [
                "shop_id_query = db.query(FacebookDailyPerformance.shop_id).filter(FacebookDailyPerformance.date_start >= '2022-01-01').distinct()\n",
                "shop_ids = pd.read_sql(shop_id_query.statement, db.bind)\n",
                "\n",
                "shop_ids = shop_ids['shop_id'].tolist()\n",
                "chunk_size = 3\n",
                "for i, shop_ids_chunk in enumerate(np.array_split(shop_ids, len(shop_ids) // chunk_size)):\n",
                "    print(shop_ids_chunk.tolist())\n",
                "    query = crud.fb_daily_performance.query_budget_split_by_target(db=db, shop_id=shop_ids_chunk.tolist(), start_date='2022-01-01')\n",
                "    print(query)\n",
                "    new_df = pd.read_sql(query.statement, db.bind)\n",
                "    if i == 0:\n",
                "        df = new_df\n",
                "    else:\n",
                "        df = pd.concat([df, new_df], axis=0)\n",
                "    if i == 2:\n",
                "        break"
            ]
        },
        {
            "cell_type": "code",
            "execution_count": 6,
            "metadata": {},
            "outputs": [],
            "source": [
                "crud_streamlit_user.add_user(db=db, username='lebeg', hashed_password=hash_password('lebeg123.'), is_superuser=True)"
            ]
        },
        {
            "cell_type": "code",
            "execution_count": 3,
            "metadata": {},
            "outputs": [],
            "source": [
                "def get_username_config():\n",
                "    user_data = db.query(StreamlitUser).all()\n",
                "    list_of_dicts = [row.__dict__ for row in user_data]\n",
                "    print(list_of_dicts)\n",
                "    result = {}\n",
                "    for dic in list_of_dicts:\n",
                "        username = dic[\"username\"]\n",
                "        dic[\"name\"] = username\n",
                "        dic.pop(\"username\")\n",
                "        dic[\"password\"] = dic[\"hashed_password\"]\n",
                "        result[username] = dic\n",
                "    return {\"usernames\": result}"
            ]
        },
        {
            "cell_type": "code",
            "execution_count": 2,
            "metadata": {},
            "outputs": [],
            "source": [
                "user_data = db.query(StreamlitUser).all()"
            ]
        },
        {
            "cell_type": "code",
            "execution_count": 2,
            "metadata": {},
            "outputs": [
                {
                    "ename": "NameError",
                    "evalue": "name 'get_username_config' is not defined",
                    "output_type": "error",
                    "traceback": [
                        "\u001b[0;31m---------------------------------------------------------------------------\u001b[0m",
                        "\u001b[0;31mNameError\u001b[0m                                 Traceback (most recent call last)",
                        "Cell \u001b[0;32mIn[2], line 1\u001b[0m\n\u001b[0;32m----> 1\u001b[0m config \u001b[39m=\u001b[39m get_username_config()\n",
                        "\u001b[0;31mNameError\u001b[0m: name 'get_username_config' is not defined"
                    ]
                }
            ],
            "source": [
                "config = get_username_config()"
            ]
        },
        {
            "cell_type": "code",
            "execution_count": 7,
            "metadata": {},
            "outputs": [],
            "source": [
                "ni = config['usernames']['ni']"
            ]
        },
        {
            "cell_type": "code",
            "execution_count": 21,
            "metadata": {},
            "outputs": [
                {
                    "data": {
                        "text/plain": [
                            "b'\\\\x243262243132243946636435412f7538575334715a4b31484646734e6548633166647042467735737339794b6c774a49422e30335770487337504d69'"
                        ]
                    },
                    "execution_count": 21,
                    "metadata": {},
                    "output_type": "execute_result"
                }
            ],
            "source": [
                "ni['password'].encode()"
            ]
        },
        {
            "cell_type": "code",
            "execution_count": 4,
            "metadata": {},
            "outputs": [
                {
                    "data": {
                        "text/plain": [
                            "b'$2b$12$9Fcd5A/u8WS4qZK1HFFsNeMRZvkOyVEJD.20nJMZS7wH/jklUxulm'"
                        ]
                    },
                    "execution_count": 4,
                    "metadata": {},
                    "output_type": "execute_result"
                }
            ],
            "source": [
                "password = 'vorkosigan'\n",
                "hashed = hash_password(password)\n",
                "hashed"
            ]
        },
        {
            "cell_type": "code",
            "execution_count": 5,
            "metadata": {},
            "outputs": [
                {
                    "data": {
                        "text/plain": [
                            "bytes"
                        ]
                    },
                    "execution_count": 5,
                    "metadata": {},
                    "output_type": "execute_result"
                }
            ],
            "source": [
                "type(hashed)"
            ]
        },
        {
            "cell_type": "code",
            "execution_count": 23,
            "metadata": {},
            "outputs": [
                {
                    "ename": "ValueError",
                    "evalue": "Invalid salt",
                    "output_type": "error",
                    "traceback": [
                        "\u001b[0;31m---------------------------------------------------------------------------\u001b[0m",
                        "\u001b[0;31mValueError\u001b[0m                                Traceback (most recent call last)",
                        "Cell \u001b[0;32mIn[23], line 1\u001b[0m\n\u001b[0;32m----> 1\u001b[0m bcrypt\u001b[39m.\u001b[39;49mcheckpw(password\u001b[39m.\u001b[39;49mencode(), ni[\u001b[39m\"\u001b[39;49m\u001b[39mpassword\u001b[39;49m\u001b[39m\"\u001b[39;49m]\u001b[39m.\u001b[39;49mencode())\n",
                        "File \u001b[0;32m~/developer/premium_dashboard/venv/lib/python3.10/site-packages/bcrypt/__init__.py:91\u001b[0m, in \u001b[0;36mcheckpw\u001b[0;34m(password, hashed_password)\u001b[0m\n\u001b[1;32m     88\u001b[0m \u001b[39mif\u001b[39;00m \u001b[39misinstance\u001b[39m(password, \u001b[39mstr\u001b[39m) \u001b[39mor\u001b[39;00m \u001b[39misinstance\u001b[39m(hashed_password, \u001b[39mstr\u001b[39m):\n\u001b[1;32m     89\u001b[0m     \u001b[39mraise\u001b[39;00m \u001b[39mTypeError\u001b[39;00m(\u001b[39m\"\u001b[39m\u001b[39mStrings must be encoded before checking\u001b[39m\u001b[39m\"\u001b[39m)\n\u001b[0;32m---> 91\u001b[0m ret \u001b[39m=\u001b[39m hashpw(password, hashed_password)\n\u001b[1;32m     92\u001b[0m \u001b[39mreturn\u001b[39;00m hmac\u001b[39m.\u001b[39mcompare_digest(ret, hashed_password)\n",
                        "File \u001b[0;32m~/developer/premium_dashboard/venv/lib/python3.10/site-packages/bcrypt/__init__.py:84\u001b[0m, in \u001b[0;36mhashpw\u001b[0;34m(password, salt)\u001b[0m\n\u001b[1;32m     76\u001b[0m \u001b[39m# bcrypt originally suffered from a wraparound bug:\u001b[39;00m\n\u001b[1;32m     77\u001b[0m \u001b[39m# http://www.openwall.com/lists/oss-security/2012/01/02/4\u001b[39;00m\n\u001b[1;32m     78\u001b[0m \u001b[39m# This bug was corrected in the OpenBSD source by truncating inputs to 72\u001b[39;00m\n\u001b[1;32m     79\u001b[0m \u001b[39m# bytes on the updated prefix $2b$, but leaving $2a$ unchanged for\u001b[39;00m\n\u001b[1;32m     80\u001b[0m \u001b[39m# compatibility. However, pyca/bcrypt 2.0.0 *did* correctly truncate inputs\u001b[39;00m\n\u001b[1;32m     81\u001b[0m \u001b[39m# on $2a$, so we do it here to preserve compatibility with 2.0.0\u001b[39;00m\n\u001b[1;32m     82\u001b[0m password \u001b[39m=\u001b[39m password[:\u001b[39m72\u001b[39m]\n\u001b[0;32m---> 84\u001b[0m \u001b[39mreturn\u001b[39;00m _bcrypt\u001b[39m.\u001b[39;49mhashpass(password, salt)\n",
                        "\u001b[0;31mValueError\u001b[0m: Invalid salt"
                    ]
                }
            ],
            "source": [
                "bcrypt.checkpw(password.encode(), ni[\"password\"].encode())"
            ]
        },
        {
            "cell_type": "code",
            "execution_count": 2,
            "metadata": {},
            "outputs": [],
            "source": [
                "q = db.query(FacebookAd).limit(5)"
            ]
        },
        {
            "cell_type": "code",
            "execution_count": 3,
            "metadata": {},
            "outputs": [
                {
                    "data": {
                        "text/plain": [
                            "[src.models.facebook.facebook_ad.FacebookAd,\n",
                            " src.models.facebook.facebook_ad.FacebookAd,\n",
                            " src.models.facebook.facebook_ad.FacebookAd,\n",
                            " src.models.facebook.facebook_ad.FacebookAd,\n",
                            " src.models.facebook.facebook_ad.FacebookAd]"
                        ]
                    },
                    "execution_count": 3,
                    "metadata": {},
                    "output_type": "execute_result"
                }
            ],
            "source": [
                "[type(a) for a in q]"
            ]
        },
        {
            "cell_type": "code",
            "execution_count": 2,
            "metadata": {},
            "outputs": [],
            "source": [
                "crud_streamlit_user_shop.add_relationship(db=db, streamlit_user_id=19, shop_id=16038)"
            ]
        },
        {
            "cell_type": "code",
            "execution_count": 12,
            "metadata": {},
            "outputs": [],
            "source": [
                "query = db.query(StreamlitUser)"
            ]
        },
        {
            "cell_type": "code",
            "execution_count": 13,
            "metadata": {},
            "outputs": [],
            "source": [
                "df = pd.read_sql(query.statement, db.bind)"
            ]
        },
        {
            "cell_type": "code",
            "execution_count": 14,
            "metadata": {},
            "outputs": [
                {
                    "data": {
                        "text/html": [
                            "<div>\n",
                            "<style scoped>\n",
                            "    .dataframe tbody tr th:only-of-type {\n",
                            "        vertical-align: middle;\n",
                            "    }\n",
                            "\n",
                            "    .dataframe tbody tr th {\n",
                            "        vertical-align: top;\n",
                            "    }\n",
                            "\n",
                            "    .dataframe thead th {\n",
                            "        text-align: right;\n",
                            "    }\n",
                            "</style>\n",
                            "<table border=\"1\" class=\"dataframe\">\n",
                            "  <thead>\n",
                            "    <tr style=\"text-align: right;\">\n",
                            "      <th></th>\n",
                            "      <th>id</th>\n",
                            "      <th>username</th>\n",
                            "      <th>hashed_password</th>\n",
                            "      <th>is_superuser</th>\n",
                            "    </tr>\n",
                            "  </thead>\n",
                            "  <tbody>\n",
                            "    <tr>\n",
                            "      <th>0</th>\n",
                            "      <td>3</td>\n",
                            "      <td>lebeg</td>\n",
                            "      <td>lebeg123.</td>\n",
                            "      <td>True</td>\n",
                            "    </tr>\n",
                            "    <tr>\n",
                            "      <th>1</th>\n",
                            "      <td>17</td>\n",
                            "      <td>123</td>\n",
                            "      <td>\\x243262243132243946636435412f7538575334715a4b...</td>\n",
                            "      <td>False</td>\n",
                            "    </tr>\n",
                            "    <tr>\n",
                            "      <th>2</th>\n",
                            "      <td>16</td>\n",
                            "      <td>k</td>\n",
                            "      <td>\\x243262243132243946636435412f7538575334715a4b...</td>\n",
                            "      <td>False</td>\n",
                            "    </tr>\n",
                            "  </tbody>\n",
                            "</table>\n",
                            "</div>"
                        ],
                        "text/plain": [
                            "   id username                                    hashed_password  \\\n",
                            "0   3    lebeg                                          lebeg123.   \n",
                            "1  17      123  \\x243262243132243946636435412f7538575334715a4b...   \n",
                            "2  16        k  \\x243262243132243946636435412f7538575334715a4b...   \n",
                            "\n",
                            "   is_superuser  \n",
                            "0          True  \n",
                            "1         False  \n",
                            "2         False  "
                        ]
                    },
                    "execution_count": 14,
                    "metadata": {},
                    "output_type": "execute_result"
                }
            ],
            "source": [
                "df"
            ]
        },
        {
            "cell_type": "code",
            "execution_count": 25,
            "metadata": {},
            "outputs": [],
            "source": [
                "q = db.query(StreamlitUser.username).all()\n",
                "[a.username for a in q]"
            ]
        },
        {
            "cell_type": "code",
            "execution_count": 30,
            "metadata": {},
            "outputs": [
                {
                    "data": {
                        "text/plain": [
                            "['lebeg', 'kikiriki', 'kikirik', 'kikirikajaja', 'kik', 'k', '123']"
                        ]
                    },
                    "execution_count": 30,
                    "metadata": {},
                    "output_type": "execute_result"
                }
            ],
            "source": [
                "[a.username for a in q]"
            ]
        },
        {
            "cell_type": "code",
            "execution_count": 19,
            "metadata": {},
            "outputs": [],
            "source": [
                "import bcrypt\n",
                "import os\n",
                "from dotenv import load_dotenv\n",
                "load_dotenv()\n",
                "from src.utils.hash_password import hash_password"
            ]
        },
        {
            "cell_type": "code",
            "execution_count": null,
            "metadata": {},
            "outputs": [],
            "source": []
        },
        {
            "cell_type": "code",
            "execution_count": 17,
            "metadata": {},
            "outputs": [
                {
                    "data": {
                        "text/plain": [
                            "b'$2b$12$9Fcd5A/u8WS4qZK1HFFsNe'"
                        ]
                    },
                    "execution_count": 17,
                    "metadata": {},
                    "output_type": "execute_result"
                }
            ],
            "source": [
                "os.getenv('STREAMLIT_SALT').encode()"
            ]
        },
        {
            "cell_type": "code",
            "execution_count": 2,
            "metadata": {},
            "outputs": [],
            "source": [
                "crud_streamlit_user.delete_user(db=db, username='lebega')"
            ]
        },
        {
            "cell_type": "code",
            "execution_count": 7,
            "metadata": {},
            "outputs": [],
            "source": [
                "row = StreamlitUser(**dict(username='lebegaca', hashed_password='lebeg123.', is_superuser=True))\n",
                "db.query(StreamlitUser).filter(StreamlitUser.username == 'lebegaca').delete()\n",
                "db.commit()"
            ]
        },
        {
            "cell_type": "code",
            "execution_count": 33,
            "metadata": {},
            "outputs": [
                {
                    "data": {
                        "text/plain": [
                            "'SELECT facebook_daily_performance.shop_id AS facebook_daily_performance_shop_id, facebook_adset.target AS facebook_adset_target, sum(facebook_daily_performance.spend / anon_1.rate_from_usd) AS spend \\nFROM facebook_daily_performance JOIN facebook_adset ON facebook_daily_performance.shop_id = facebook_adset.shop_id AND facebook_daily_performance.account_id = facebook_adset.account_id AND facebook_daily_performance.adset_id = facebook_adset.adset_id JOIN facebook_ad_account ON facebook_daily_performance.account_id = facebook_ad_account.facebook_id AND facebook_daily_performance.shop_id = facebook_ad_account.shop_id JOIN (SELECT DISTINCT ON (currency_exchange_rate.code) currency_exchange_rate.code AS code, currency_exchange_rate.rate_from_usd AS rate_from_usd \\nFROM currency_exchange_rate ORDER BY currency_exchange_rate.code, currency_exchange_rate.date DESC) AS anon_1 ON facebook_ad_account.currency = anon_1.code \\nWHERE facebook_daily_performance.shop_id IN (__[POSTCOMPILE_shop_id_1]) AND facebook_daily_performance.date_start >= %(date_start_1)s AND facebook_daily_performance.date_start <= %(date_start_2)s GROUP BY facebook_daily_performance.shop_id, facebook_adset.target'"
                        ]
                    },
                    "execution_count": 33,
                    "metadata": {},
                    "output_type": "execute_result"
                }
            ],
            "source": [
                "query = crud.fb_daily_performance.query_budget_split_by_target(db=db, shop_id=[16038, 2], start_date='2022-01-01')\n",
                "str(query)"
            ]
        },
        {
            "cell_type": "code",
            "execution_count": 34,
            "metadata": {},
            "outputs": [
                {
                    "data": {
                        "text/html": [
                            "<div>\n",
                            "<style scoped>\n",
                            "    .dataframe tbody tr th:only-of-type {\n",
                            "        vertical-align: middle;\n",
                            "    }\n",
                            "\n",
                            "    .dataframe tbody tr th {\n",
                            "        vertical-align: top;\n",
                            "    }\n",
                            "\n",
                            "    .dataframe thead th {\n",
                            "        text-align: right;\n",
                            "    }\n",
                            "</style>\n",
                            "<table border=\"1\" class=\"dataframe\">\n",
                            "  <thead>\n",
                            "    <tr style=\"text-align: right;\">\n",
                            "      <th></th>\n",
                            "      <th>shop_id</th>\n",
                            "      <th>target</th>\n",
                            "      <th>spend</th>\n",
                            "    </tr>\n",
                            "  </thead>\n",
                            "  <tbody>\n",
                            "    <tr>\n",
                            "      <th>0</th>\n",
                            "      <td>2</td>\n",
                            "      <td>Target.acquisition</td>\n",
                            "      <td>5159.64</td>\n",
                            "    </tr>\n",
                            "    <tr>\n",
                            "      <th>1</th>\n",
                            "      <td>2</td>\n",
                            "      <td>Target.remarketing</td>\n",
                            "      <td>221.28</td>\n",
                            "    </tr>\n",
                            "    <tr>\n",
                            "      <th>2</th>\n",
                            "      <td>16038</td>\n",
                            "      <td>Target.acquisition</td>\n",
                            "      <td>1690709.21</td>\n",
                            "    </tr>\n",
                            "    <tr>\n",
                            "      <th>3</th>\n",
                            "      <td>16038</td>\n",
                            "      <td>Target.remarketing</td>\n",
                            "      <td>167237.34</td>\n",
                            "    </tr>\n",
                            "  </tbody>\n",
                            "</table>\n",
                            "</div>"
                        ],
                        "text/plain": [
                            "   shop_id              target       spend\n",
                            "0        2  Target.acquisition     5159.64\n",
                            "1        2  Target.remarketing      221.28\n",
                            "2    16038  Target.acquisition  1690709.21\n",
                            "3    16038  Target.remarketing   167237.34"
                        ]
                    },
                    "execution_count": 34,
                    "metadata": {},
                    "output_type": "execute_result"
                }
            ],
            "source": [
                "df = pd.read_sql(query.statement, db.bind)\n",
                "df"
            ]
        },
        {
            "cell_type": "code",
            "execution_count": 2,
            "metadata": {},
            "outputs": [
                {
                    "name": "stderr",
                    "output_type": "stream",
                    "text": [
                        "2023-02-09 14:46:01.495 | DEBUG    | src.pingers.ping_shops:ping_shops:23 - Here I am!\n"
                    ]
                },
                {
                    "name": "stdout",
                    "output_type": "stream",
                    "text": [
                        "ping_shops: 0:00:19.410317\n"
                    ]
                }
            ],
            "source": [
                "shops = ping_shops(db=db)"
            ]
        },
        {
            "cell_type": "code",
            "execution_count": 5,
            "metadata": {},
            "outputs": [],
            "source": []
        },
        {
            "cell_type": "code",
            "execution_count": 6,
            "metadata": {},
            "outputs": [
                {
                    "name": "stdout",
                    "output_type": "stream",
                    "text": [
                        "[2, 96, 15873, 16038]\n",
                        "SELECT facebook_daily_performance.shop_id AS facebook_daily_performance_shop_id, facebook_adset.target AS facebook_adset_target, sum(facebook_daily_performance.spend / anon_1.rate_from_usd) AS spend \n",
                        "FROM facebook_daily_performance JOIN facebook_adset ON facebook_daily_performance.shop_id = facebook_adset.shop_id AND facebook_daily_performance.account_id = facebook_adset.account_id AND facebook_daily_performance.adset_id = facebook_adset.adset_id JOIN facebook_ad_account ON facebook_daily_performance.account_id = facebook_ad_account.facebook_id AND facebook_daily_performance.shop_id = facebook_ad_account.shop_id JOIN (SELECT DISTINCT ON (currency_exchange_rate.code) currency_exchange_rate.code AS code, currency_exchange_rate.rate_from_usd AS rate_from_usd \n",
                        "FROM currency_exchange_rate ORDER BY currency_exchange_rate.code, currency_exchange_rate.date DESC) AS anon_1 ON facebook_ad_account.currency = anon_1.code \n",
                        "WHERE facebook_daily_performance.shop_id IN (__[POSTCOMPILE_shop_id_1]) AND facebook_daily_performance.date_start >= %(date_start_1)s AND facebook_daily_performance.date_start <= %(date_start_2)s GROUP BY facebook_daily_performance.shop_id, facebook_adset.target\n",
                        "[91826, 96200, 130144, 159350]\n",
                        "SELECT facebook_daily_performance.shop_id AS facebook_daily_performance_shop_id, facebook_adset.target AS facebook_adset_target, sum(facebook_daily_performance.spend / anon_1.rate_from_usd) AS spend \n",
                        "FROM facebook_daily_performance JOIN facebook_adset ON facebook_daily_performance.shop_id = facebook_adset.shop_id AND facebook_daily_performance.account_id = facebook_adset.account_id AND facebook_daily_performance.adset_id = facebook_adset.adset_id JOIN facebook_ad_account ON facebook_daily_performance.account_id = facebook_ad_account.facebook_id AND facebook_daily_performance.shop_id = facebook_ad_account.shop_id JOIN (SELECT DISTINCT ON (currency_exchange_rate.code) currency_exchange_rate.code AS code, currency_exchange_rate.rate_from_usd AS rate_from_usd \n",
                        "FROM currency_exchange_rate ORDER BY currency_exchange_rate.code, currency_exchange_rate.date DESC) AS anon_1 ON facebook_ad_account.currency = anon_1.code \n",
                        "WHERE facebook_daily_performance.shop_id IN (__[POSTCOMPILE_shop_id_1]) AND facebook_daily_performance.date_start >= %(date_start_1)s AND facebook_daily_performance.date_start <= %(date_start_2)s GROUP BY facebook_daily_performance.shop_id, facebook_adset.target\n",
                        "[199383, 231517, 268714]\n",
                        "SELECT facebook_daily_performance.shop_id AS facebook_daily_performance_shop_id, facebook_adset.target AS facebook_adset_target, sum(facebook_daily_performance.spend / anon_1.rate_from_usd) AS spend \n",
                        "FROM facebook_daily_performance JOIN facebook_adset ON facebook_daily_performance.shop_id = facebook_adset.shop_id AND facebook_daily_performance.account_id = facebook_adset.account_id AND facebook_daily_performance.adset_id = facebook_adset.adset_id JOIN facebook_ad_account ON facebook_daily_performance.account_id = facebook_ad_account.facebook_id AND facebook_daily_performance.shop_id = facebook_ad_account.shop_id JOIN (SELECT DISTINCT ON (currency_exchange_rate.code) currency_exchange_rate.code AS code, currency_exchange_rate.rate_from_usd AS rate_from_usd \n",
                        "FROM currency_exchange_rate ORDER BY currency_exchange_rate.code, currency_exchange_rate.date DESC) AS anon_1 ON facebook_ad_account.currency = anon_1.code \n",
                        "WHERE facebook_daily_performance.shop_id IN (__[POSTCOMPILE_shop_id_1]) AND facebook_daily_performance.date_start >= %(date_start_1)s AND facebook_daily_performance.date_start <= %(date_start_2)s GROUP BY facebook_daily_performance.shop_id, facebook_adset.target\n"
                    ]
                }
            ],
            "source": [
                "shop_id_query = db.query(FacebookDailyPerformance.shop_id).filter(FacebookDailyPerformance.date_start >= '2022-01-01').distinct()\n",
                "shop_ids = pd.read_sql(shop_id_query.statement, db.bind)\n",
                "\n",
                "shop_ids = shop_ids['shop_id'].tolist()\n",
                "chunk_size = 3\n",
                "for i, shop_ids_chunk in enumerate(np.array_split(shop_ids, len(shop_ids) // chunk_size)):\n",
                "    print(shop_ids_chunk.tolist())\n",
                "    query = crud.fb_daily_performance.query_budget_split_by_target(db=db, shop_id=shop_ids_chunk.tolist(), start_date='2022-01-01')\n",
                "    print(query)\n",
                "    new_df = pd.read_sql(query.statement, db.bind)\n",
                "    if i == 0:\n",
                "        df = new_df\n",
                "    else:\n",
                "        df = pd.concat([df, new_df], axis=0)\n",
                "    if i == 2:\n",
                "        break"
            ]
        },
        {
            "cell_type": "code",
            "execution_count": 26,
            "metadata": {},
            "outputs": [
                {
                    "data": {
                        "text/plain": [
                            "[array([36833384, 46864466, 43739609, 50592831, 36370064, 53002252,\n",
                            "        39579188, 31971959, 43985342, 45844908, 38489951, 20347698,\n",
                            "        68534913, 12153503, 33391601, 36143108, 12109463, 43242730,\n",
                            "        41490637, 13597214, 48425409, 31064070, 15332300, 13781927,\n",
                            "        43352241,   256652,  1370565,  2114125, 17807133, 51022062,\n",
                            "        31839270, 38580607, 37140876, 44270769,  1407292, 41224141,\n",
                            "        50604700, 49063542, 45008008, 76522436, 50254205, 31904124,\n",
                            "        21313648, 13131861, 41174878, 50783576, 17045701, 40954863,\n",
                            "           15887, 40330230, 22926764,  9596262, 45038286,  8573833,\n",
                            "        44512322, 38092292, 45836491, 39270994, 17506226, 56579596,\n",
                            "        38833446, 74399413, 41363055, 38962439, 47140968,  8112778,\n",
                            "        44086229, 45045056, 46360217, 38894179, 18675218, 30704322,\n",
                            "        46317801, 41273036, 43954850, 12140410, 45764574,  9231199,\n",
                            "        25963515, 31623603, 40281047,    16006, 39329571, 27227973,\n",
                            "         9893977, 49074615, 41020843, 58264127, 28794880, 48076710,\n",
                            "        36965121, 11937448, 29851960,  9316625, 22502944, 37737448,\n",
                            "        51183517, 39396612, 42232873, 11883461,  3397559, 12102448,\n",
                            "        20211437, 57064140, 45055664, 21002829, 39831581, 50589346,\n",
                            "        51027099, 28729955, 32618209,  8856607,  2135501, 33256305,\n",
                            "        50957841, 51064739, 15433380, 10194147, 45030209, 22712938,\n",
                            "        47836929, 22068518, 46332528,        2, 37995958,  2245214,\n",
                            "        37180627,  2402084, 52112723,  2387181, 24984690, 35619378,\n",
                            "        18686172, 45852603, 43919366, 32795319,  2409934, 18886758,\n",
                            "        31547008,  9152411,  8687421, 26337866, 36735235, 16002430,\n",
                            "         8042751, 70081753, 45344942,   335856, 37235396, 33363962,\n",
                            "        40831949, 18193343, 10560344,  4676271, 43811935, 21884490,\n",
                            "        42144858, 44301396, 38264058, 39706239, 34396588, 46062968,\n",
                            "        42978840, 43382790,   213889,  2876149, 17426875, 34637563,\n",
                            "        28688407, 49690643, 43888734,   135749,  9407140, 41020993,\n",
                            "        38058321, 50733743, 34103894, 15951920, 33084416, 12289672,\n",
                            "        23355918,  7629029, 22703614, 13512604, 22481415, 37189733,\n",
                            "        11859392, 19650347, 34807887, 48862557, 13785664, 10260559,\n",
                            "        50518990, 49943466, 18974696, 26532903, 50971751, 37395195,\n",
                            "        13933585,  2252626, 19289898, 10197218, 50677676, 38071429,\n",
                            "        19425638,  9180676, 58702090, 10608767, 38890678, 10510755]),\n",
                            " array([20000651, 37383222, 20500879, 51203216,  2173471, 42148898,\n",
                            "        37693860, 46159049, 31270681,  2445081, 45493717, 37057908,\n",
                            "        45331016, 58074047, 50952769, 42535592, 50822364, 23522803,\n",
                            "        39713389, 51097765, 48116677, 46348400,  2402571, 46142705,\n",
                            "         8564570, 73040987, 45286951, 51020556, 38860150, 23977708,\n",
                            "        50697002,  2501908, 45797364, 47188120, 44470041, 51177332,\n",
                            "        41436366, 42240975, 20692853, 52207244, 37949081, 35457894,\n",
                            "        36997565,  1390746, 51211265,  9912363, 51124844, 42419894,\n",
                            "        12737677, 19806629, 12808510, 20231443, 19395665, 39520333,\n",
                            "         8588771,  9139458, 50420657, 37733502, 51204887, 43412239,\n",
                            "        56562556, 68537813,  8774527, 30081589, 35112128, 44017797,\n",
                            "         7772466, 37569418, 26493761, 44266378, 11859172, 41998519,\n",
                            "        42202587, 39372308, 45091227, 33335814, 12989612, 19942728,\n",
                            "        44469100,  2167353, 46019492, 52192918, 37787121, 26204440,\n",
                            "         2401299, 48984691, 29975139, 48517177, 40691910, 24126055,\n",
                            "        51124864, 43889778, 50909264, 48982112, 44274172,  9518726,\n",
                            "        50692333, 46167900, 41279979, 55720683, 49689871, 32825495,\n",
                            "        33089105, 50963326, 42148868, 37211363, 37688694, 76824978,\n",
                            "        44997549,  9100580, 37111565,  3207402, 39645416, 58603544,\n",
                            "        37988577, 41079363, 50866917, 55659255, 38192316, 19420498,\n",
                            "        58814935, 12787254, 22660537, 38559673, 38948335,  9927170,\n",
                            "        17104706, 74321328,  8471839, 20134299, 38218390, 10580576,\n",
                            "        44295998, 38369393, 19717003, 39928633, 38389887, 37860594,\n",
                            "         1359754, 37999950, 41331882, 40868730, 38218398,  2227071,\n",
                            "        45071665, 37720544, 24268796, 39145015, 38103817, 40699519,\n",
                            "        33212206, 10261118, 34198648,    16038, 56613887, 40702399,\n",
                            "         8622518, 18484643, 44020787,  8715692, 37058360,   199383,\n",
                            "        34366561,  8511237, 19691547,  2124801, 21575323, 44126490,\n",
                            "              96, 41335335, 38868374, 36678910, 33092193,  2472778,\n",
                            "        38136627, 37480505, 28966990,   182202, 50974586, 47445704,\n",
                            "        22924796, 52538077, 37128351, 35100920, 73805322, 28859605,\n",
                            "        23481652, 23224328, 51210714, 41395662, 22900073, 49065830,\n",
                            "        13830063, 41334766,  8546677, 52968419,  1338947, 43298814,\n",
                            "        42239458, 46868927, 36679793, 51838703, 39244278, 56951609,\n",
                            "        12195110, 10276285, 50693481, 50445563,  2058949, 40844422]),\n",
                            " array([ 9906141, 39100537, 38054497, 37719620, 49561823, 32984825,\n",
                            "        43417642,  9662886, 42237203,  1417720,  8655489, 42233102,\n",
                            "        15666148,   130144, 46150790, 25851397, 40961852, 46831982,\n",
                            "        45276136, 46813456, 51021274, 52094238, 19083465,  2662104,\n",
                            "        39652921, 35697277, 42564905, 47443959, 41973277, 12464272,\n",
                            "        52041939,  3202783,  2577155, 43990010, 39679905, 10188458,\n",
                            "        42565615, 26389028, 36814660,  8914919, 43946410, 51831457,\n",
                            "        45348903, 50106585,  8951576, 45447508, 39106511, 23041145,\n",
                            "         2391983, 31722805, 23799523, 50497431, 44542158, 38483209,\n",
                            "         1918239, 38950722, 36705510, 19503931, 12166677, 51200711,\n",
                            "        57037850, 38299502, 43410517, 10543255, 43372751, 56825533,\n",
                            "        43952231, 24083693, 38290960, 46255395, 39655595, 42760756,\n",
                            "        18166172, 47162080, 50592374, 12674576, 73652427,  1355358,\n",
                            "        37594925, 50742348, 45491526, 24240627,  2034908, 50602673,\n",
                            "        37888749, 36353321,  3192660, 51133084, 40929757, 10565377,\n",
                            "        49022445, 29521951,  1434806,    15977, 42872536, 39528957,\n",
                            "        51177166,  1321582, 40795699, 50631689, 40671461, 50721745,\n",
                            "        10221230, 34681909, 37221588, 36989335, 57733345, 40900835,\n",
                            "         2389204, 39222988, 40963916, 50976291, 47463448, 46828385,\n",
                            "         8686816, 12752324,  7986318, 31859716, 45256821, 45484301,\n",
                            "        31609546, 13855472, 21073603,  2459137, 19049959, 12263797,\n",
                            "        37393195, 44510063, 36183854, 55575375, 12238483,  9738029,\n",
                            "        43886594, 29633032, 33166527, 37782334, 34864955, 49073144,\n",
                            "        56809326, 24751819, 73430611, 29797051, 24692020, 44144500,\n",
                            "        48131293, 38893464, 12786762, 50924659, 44112778, 31420164,\n",
                            "        12760428, 41395146, 10893054, 40698116, 39801981, 22917705,\n",
                            "        37829185, 37981998, 15332885, 44486337, 50640319,    96200,\n",
                            "        48897702, 32946289, 35756063, 73206125, 19675374, 51904487,\n",
                            "        51029960, 40703816, 37218720, 11776266, 10261879, 20953639,\n",
                            "        10006768, 38687494, 38067303,  9375419, 10079705,  8609788,\n",
                            "        31587104,  9530730, 24640760, 38620545, 45262536, 45285024,\n",
                            "        40857611, 50505820, 37737864,  2423816,  9400589, 44183745,\n",
                            "        10034235, 15348287, 43247895, 31665505, 47421521, 36799610,\n",
                            "        44004018, 40959070, 46132509,  9750361, 48433981, 45159394,\n",
                            "        45030541, 50709443, 42177872, 34072236, 44105203]),\n",
                            " array([22119365, 28473545, 46101091, 79546058, 38215210, 47150656,\n",
                            "         9258259, 44484284,  1428146,  9815828, 29842229, 49724659,\n",
                            "         2655205, 39666069, 46175731, 41447372,  3235658,  9994918,\n",
                            "           15892,  2873481, 37913142, 38047162, 39180572, 26106385,\n",
                            "        55841646, 36911037, 38849112, 11490515, 51147115, 73837038,\n",
                            "         8442051, 54875709, 12176957, 51132894, 49634876, 46801580,\n",
                            "         2030833, 55808894, 38358750, 37987374, 39544416, 42197268,\n",
                            "        37716430, 16737433,  8335514, 50993097,   268714, 50498995,\n",
                            "        50517862, 42549862, 48318387, 18305677, 38102371, 34924378,\n",
                            "        45021091, 36319763, 45379739, 19080834, 38023140, 44207949,\n",
                            "        16621201, 45119813, 36659648, 19741878, 12451478, 40312708,\n",
                            "        38894108, 46826053, 45858912, 33554559, 50392847, 38175156,\n",
                            "        34668356, 12345766,  9264996, 35679057, 44470659, 29080200,\n",
                            "         2702425, 43435015, 43808339, 10199056, 35510778, 38891160,\n",
                            "        31584044, 45842958, 31548005, 31297794, 38893730, 44470021,\n",
                            "        37977568,  9578088, 45446054, 42125537, 44276562, 46859416,\n",
                            "        31728156, 38876948, 23654015, 45514705, 42222035,  2174240,\n",
                            "        39771107,  9723286, 18628283, 42238174, 12348254,    91826,\n",
                            "        42265913, 45037106, 38104007, 14018822, 70793243, 49143414,\n",
                            "        19686580,  8901852,  1333476, 26660035,  2073755,  9762267,\n",
                            "        35134105, 23088085, 48492066, 40336212, 39306968,  8454771,\n",
                            "        38315748, 21740924, 41209572, 25907517, 45308493, 49631079,\n",
                            "        50694845,  8884065, 51912008, 10080134, 38901784, 68313418,\n",
                            "        48116543, 45299964, 39681978, 44266541, 46290291, 38894262,\n",
                            "        27547729,   159350, 10227064, 52143605, 10007640, 37177422,\n",
                            "        37396505, 20281988, 40928450, 48460630, 29413487, 37658733,\n",
                            "        37998005, 38483499, 24891898, 57041110, 41151246, 50944062,\n",
                            "        37113082, 51133332, 34310261, 38295917, 42232170, 52748083,\n",
                            "        34810574,  1259996, 37661773,  1215058, 31929671, 44538290,\n",
                            "        36781360, 79993181, 16200158, 48400911,   231517, 44087101,\n",
                            "        50940375, 42198824, 43886677, 43996884, 50723988, 28799482,\n",
                            "         8966477, 37692660, 20980695, 33280300, 52096179, 20614216,\n",
                            "         6732613, 51124636, 10248339, 39770280, 49111322, 31717449,\n",
                            "        41171814, 38308723, 40312516,  9786061, 36946507, 13885685,\n",
                            "        37130885, 50168507, 41019561, 34248783, 43954864]),\n",
                            " array([45057901, 71301472, 49571146,  1912299, 18110497, 21711700,\n",
                            "         2470154, 32812002, 10353162, 10943493, 40339951, 10054981,\n",
                            "        38894308,  2739174, 70666462,  2266360, 47426758, 36378088,\n",
                            "        41870118, 19505868, 37142873, 36978378, 52734591, 31522526,\n",
                            "        35522045, 38356081, 40951757, 50059550, 51198641, 34714720,\n",
                            "        38559204, 14486167, 35498466,    15873, 50522047, 35718182,\n",
                            "        42766359,  1419100, 31342479, 51018031, 41060245, 10273006,\n",
                            "        37156912, 46147156, 54606407, 36672597, 15193630, 32905723,\n",
                            "        37808070, 22343860, 41857988, 32984627, 44190127, 34237718,\n",
                            "        44132909, 31527465, 38955025, 58080305, 37245552, 38402811,\n",
                            "         9527262, 45864486, 39650076, 18043792, 22694828, 45059945,\n",
                            "        39936893, 21774004, 12560835, 39814436, 36848460,  8951762,\n",
                            "        39346644, 39203912, 32903308, 31286041, 28932952, 39848713,\n",
                            "        50735710, 38823077, 58847443, 31818379, 48023348, 29932371,\n",
                            "        43375757, 45356313,  1267261,  9004343, 40164348, 52265787,\n",
                            "        46321569,  9573425, 39260076, 38145342, 40896545, 51824258,\n",
                            "        16429085, 14123457, 37145533, 17448274, 51147161, 57067425,\n",
                            "        51164259, 10074314, 42553441, 46164620, 45046838,  2555010,\n",
                            "        37108949,  2112768, 53001219, 52775763, 22148194, 39674804,\n",
                            "        33511268, 42333117, 17411381, 40921787, 38348391, 29163338,\n",
                            "        37842294,  2410663, 19957071, 48277394,  3112098,  2294414,\n",
                            "        50524723, 36233823, 37259196, 47932389, 23662937, 39316672,\n",
                            "         8556595,  9583694, 46191628, 44113291, 37135321,  8703879,\n",
                            "        40724412, 19387101, 45066856, 45039051, 51112944,  7677164,\n",
                            "        58273096,  2518637, 37254609, 44091923, 40992771, 44994829,\n",
                            "        48148228, 63273289, 12226687, 43962827, 46064172, 50602819,\n",
                            "        39221969, 36293314, 20329307,  3233591, 44151529, 63459535,\n",
                            "        20402319, 44479250, 50455589, 23647289, 26269495, 37392165,\n",
                            "        37082831, 37156182,  2974781, 41445449, 79497608, 45867058,\n",
                            "          134490, 28720295, 41075753, 33166821, 45194119, 39309100,\n",
                            "         8792296,  2295945, 37673090, 39253929, 38819134, 14447833,\n",
                            "        41498372, 34350445, 30929283,  2214814, 46827171, 38385236,\n",
                            "        57986953, 81528324, 34685987, 50962794, 52011773, 49086843,\n",
                            "        42661289, 25254472, 31396894, 12833525, 41000377, 37213843,\n",
                            "        12480682, 28299708, 40914710, 18600257, 42787782])]"
                        ]
                    },
                    "execution_count": 26,
                    "metadata": {},
                    "output_type": "execute_result"
                }
            ],
            "source": []
        },
        {
            "cell_type": "code",
            "execution_count": 11,
            "metadata": {},
            "outputs": [],
            "source": [
                "def f(df):\n",
                "    print(df)\n",
                "    df.spend = df.spend / df.spend.sum()\n",
                "    return df"
            ]
        },
        {
            "cell_type": "code",
            "execution_count": 12,
            "metadata": {},
            "outputs": [
                {
                    "name": "stdout",
                    "output_type": "stream",
                    "text": [
                        "0    Target.acquisition\n",
                        "1    Target.remarketing\n",
                        "Name: target, dtype: object\n"
                    ]
                },
                {
                    "ename": "AttributeError",
                    "evalue": "'Series' object has no attribute 'spend'",
                    "output_type": "error",
                    "traceback": [
                        "\u001b[0;31m---------------------------------------------------------------------------\u001b[0m",
                        "\u001b[0;31mAttributeError\u001b[0m                            Traceback (most recent call last)",
                        "\u001b[1;32m/Users/sanjinjuricfot/developer/premium_dashboard/tmp.ipynb Cell 5\u001b[0m in \u001b[0;36m<cell line: 1>\u001b[0;34m()\u001b[0m\n\u001b[0;32m----> <a href='vscode-notebook-cell:/Users/sanjinjuricfot/developer/premium_dashboard/tmp.ipynb#X51sZmlsZQ%3D%3D?line=0'>1</a>\u001b[0m df\u001b[39m.\u001b[39;49mgroupby(\u001b[39m'\u001b[39;49m\u001b[39mshop_id\u001b[39;49m\u001b[39m'\u001b[39;49m)\u001b[39m.\u001b[39;49mtransform(f)\n",
                        "File \u001b[0;32m~/developer/premium_dashboard/venv/lib/python3.10/site-packages/pandas/core/groupby/generic.py:1184\u001b[0m, in \u001b[0;36mDataFrameGroupBy.transform\u001b[0;34m(self, func, engine, engine_kwargs, *args, **kwargs)\u001b[0m\n\u001b[1;32m   1181\u001b[0m \u001b[39m@Substitution\u001b[39m(klass\u001b[39m=\u001b[39m\u001b[39m\"\u001b[39m\u001b[39mDataFrame\u001b[39m\u001b[39m\"\u001b[39m)\n\u001b[1;32m   1182\u001b[0m \u001b[39m@Appender\u001b[39m(_transform_template)\n\u001b[1;32m   1183\u001b[0m \u001b[39mdef\u001b[39;00m \u001b[39mtransform\u001b[39m(\u001b[39mself\u001b[39m, func, \u001b[39m*\u001b[39margs, engine\u001b[39m=\u001b[39m\u001b[39mNone\u001b[39;00m, engine_kwargs\u001b[39m=\u001b[39m\u001b[39mNone\u001b[39;00m, \u001b[39m*\u001b[39m\u001b[39m*\u001b[39mkwargs):\n\u001b[0;32m-> 1184\u001b[0m     \u001b[39mreturn\u001b[39;00m \u001b[39mself\u001b[39;49m\u001b[39m.\u001b[39;49m_transform(\n\u001b[1;32m   1185\u001b[0m         func, \u001b[39m*\u001b[39;49margs, engine\u001b[39m=\u001b[39;49mengine, engine_kwargs\u001b[39m=\u001b[39;49mengine_kwargs, \u001b[39m*\u001b[39;49m\u001b[39m*\u001b[39;49mkwargs\n\u001b[1;32m   1186\u001b[0m     )\n",
                        "File \u001b[0;32m~/developer/premium_dashboard/venv/lib/python3.10/site-packages/pandas/core/groupby/groupby.py:1633\u001b[0m, in \u001b[0;36mGroupBy._transform\u001b[0;34m(self, func, engine, engine_kwargs, *args, **kwargs)\u001b[0m\n\u001b[1;32m   1630\u001b[0m func \u001b[39m=\u001b[39m com\u001b[39m.\u001b[39mget_cython_func(func) \u001b[39mor\u001b[39;00m func\n\u001b[1;32m   1632\u001b[0m \u001b[39mif\u001b[39;00m \u001b[39mnot\u001b[39;00m \u001b[39misinstance\u001b[39m(func, \u001b[39mstr\u001b[39m):\n\u001b[0;32m-> 1633\u001b[0m     \u001b[39mreturn\u001b[39;00m \u001b[39mself\u001b[39;49m\u001b[39m.\u001b[39;49m_transform_general(func, \u001b[39m*\u001b[39;49margs, \u001b[39m*\u001b[39;49m\u001b[39m*\u001b[39;49mkwargs)\n\u001b[1;32m   1635\u001b[0m \u001b[39melif\u001b[39;00m func \u001b[39mnot\u001b[39;00m \u001b[39min\u001b[39;00m base\u001b[39m.\u001b[39mtransform_kernel_allowlist:\n\u001b[1;32m   1636\u001b[0m     msg \u001b[39m=\u001b[39m \u001b[39mf\u001b[39m\u001b[39m\"\u001b[39m\u001b[39m'\u001b[39m\u001b[39m{\u001b[39;00mfunc\u001b[39m}\u001b[39;00m\u001b[39m'\u001b[39m\u001b[39m is not a valid function name for transform(name)\u001b[39m\u001b[39m\"\u001b[39m\n",
                        "File \u001b[0;32m~/developer/premium_dashboard/venv/lib/python3.10/site-packages/pandas/core/groupby/generic.py:1156\u001b[0m, in \u001b[0;36mDataFrameGroupBy._transform_general\u001b[0;34m(self, func, *args, **kwargs)\u001b[0m\n\u001b[1;32m   1154\u001b[0m \u001b[39mobject\u001b[39m\u001b[39m.\u001b[39m\u001b[39m__setattr__\u001b[39m(group, \u001b[39m\"\u001b[39m\u001b[39mname\u001b[39m\u001b[39m\"\u001b[39m, name)\n\u001b[1;32m   1155\u001b[0m \u001b[39mtry\u001b[39;00m:\n\u001b[0;32m-> 1156\u001b[0m     path, res \u001b[39m=\u001b[39m \u001b[39mself\u001b[39;49m\u001b[39m.\u001b[39;49m_choose_path(fast_path, slow_path, group)\n\u001b[1;32m   1157\u001b[0m \u001b[39mexcept\u001b[39;00m \u001b[39mTypeError\u001b[39;00m:\n\u001b[1;32m   1158\u001b[0m     \u001b[39mreturn\u001b[39;00m \u001b[39mself\u001b[39m\u001b[39m.\u001b[39m_transform_item_by_item(obj, fast_path)\n",
                        "File \u001b[0;32m~/developer/premium_dashboard/venv/lib/python3.10/site-packages/pandas/core/groupby/generic.py:1208\u001b[0m, in \u001b[0;36mDataFrameGroupBy._choose_path\u001b[0;34m(self, fast_path, slow_path, group)\u001b[0m\n\u001b[1;32m   1206\u001b[0m \u001b[39mdef\u001b[39;00m \u001b[39m_choose_path\u001b[39m(\u001b[39mself\u001b[39m, fast_path: Callable, slow_path: Callable, group: DataFrame):\n\u001b[1;32m   1207\u001b[0m     path \u001b[39m=\u001b[39m slow_path\n\u001b[0;32m-> 1208\u001b[0m     res \u001b[39m=\u001b[39m slow_path(group)\n\u001b[1;32m   1210\u001b[0m     \u001b[39m# if we make it here, test if we can use the fast path\u001b[39;00m\n\u001b[1;32m   1211\u001b[0m     \u001b[39mtry\u001b[39;00m:\n",
                        "File \u001b[0;32m~/developer/premium_dashboard/venv/lib/python3.10/site-packages/pandas/core/groupby/generic.py:1201\u001b[0m, in \u001b[0;36mDataFrameGroupBy._define_paths.<locals>.<lambda>\u001b[0;34m(group)\u001b[0m\n\u001b[1;32m   1199\u001b[0m \u001b[39melse\u001b[39;00m:\n\u001b[1;32m   1200\u001b[0m     fast_path \u001b[39m=\u001b[39m \u001b[39mlambda\u001b[39;00m group: func(group, \u001b[39m*\u001b[39margs, \u001b[39m*\u001b[39m\u001b[39m*\u001b[39mkwargs)\n\u001b[0;32m-> 1201\u001b[0m     slow_path \u001b[39m=\u001b[39m \u001b[39mlambda\u001b[39;00m group: group\u001b[39m.\u001b[39;49mapply(\n\u001b[1;32m   1202\u001b[0m         \u001b[39mlambda\u001b[39;49;00m x: func(x, \u001b[39m*\u001b[39;49margs, \u001b[39m*\u001b[39;49m\u001b[39m*\u001b[39;49mkwargs), axis\u001b[39m=\u001b[39;49m\u001b[39mself\u001b[39;49m\u001b[39m.\u001b[39;49maxis\n\u001b[1;32m   1203\u001b[0m     )\n\u001b[1;32m   1204\u001b[0m \u001b[39mreturn\u001b[39;00m fast_path, slow_path\n",
                        "File \u001b[0;32m~/developer/premium_dashboard/venv/lib/python3.10/site-packages/pandas/core/frame.py:8839\u001b[0m, in \u001b[0;36mDataFrame.apply\u001b[0;34m(self, func, axis, raw, result_type, args, **kwargs)\u001b[0m\n\u001b[1;32m   8828\u001b[0m \u001b[39mfrom\u001b[39;00m \u001b[39mpandas\u001b[39;00m\u001b[39m.\u001b[39;00m\u001b[39mcore\u001b[39;00m\u001b[39m.\u001b[39;00m\u001b[39mapply\u001b[39;00m \u001b[39mimport\u001b[39;00m frame_apply\n\u001b[1;32m   8830\u001b[0m op \u001b[39m=\u001b[39m frame_apply(\n\u001b[1;32m   8831\u001b[0m     \u001b[39mself\u001b[39m,\n\u001b[1;32m   8832\u001b[0m     func\u001b[39m=\u001b[39mfunc,\n\u001b[0;32m   (...)\u001b[0m\n\u001b[1;32m   8837\u001b[0m     kwargs\u001b[39m=\u001b[39mkwargs,\n\u001b[1;32m   8838\u001b[0m )\n\u001b[0;32m-> 8839\u001b[0m \u001b[39mreturn\u001b[39;00m op\u001b[39m.\u001b[39;49mapply()\u001b[39m.\u001b[39m__finalize__(\u001b[39mself\u001b[39m, method\u001b[39m=\u001b[39m\u001b[39m\"\u001b[39m\u001b[39mapply\u001b[39m\u001b[39m\"\u001b[39m)\n",
                        "File \u001b[0;32m~/developer/premium_dashboard/venv/lib/python3.10/site-packages/pandas/core/apply.py:727\u001b[0m, in \u001b[0;36mFrameApply.apply\u001b[0;34m(self)\u001b[0m\n\u001b[1;32m    724\u001b[0m \u001b[39melif\u001b[39;00m \u001b[39mself\u001b[39m\u001b[39m.\u001b[39mraw:\n\u001b[1;32m    725\u001b[0m     \u001b[39mreturn\u001b[39;00m \u001b[39mself\u001b[39m\u001b[39m.\u001b[39mapply_raw()\n\u001b[0;32m--> 727\u001b[0m \u001b[39mreturn\u001b[39;00m \u001b[39mself\u001b[39;49m\u001b[39m.\u001b[39;49mapply_standard()\n",
                        "File \u001b[0;32m~/developer/premium_dashboard/venv/lib/python3.10/site-packages/pandas/core/apply.py:851\u001b[0m, in \u001b[0;36mFrameApply.apply_standard\u001b[0;34m(self)\u001b[0m\n\u001b[1;32m    850\u001b[0m \u001b[39mdef\u001b[39;00m \u001b[39mapply_standard\u001b[39m(\u001b[39mself\u001b[39m):\n\u001b[0;32m--> 851\u001b[0m     results, res_index \u001b[39m=\u001b[39m \u001b[39mself\u001b[39;49m\u001b[39m.\u001b[39;49mapply_series_generator()\n\u001b[1;32m    853\u001b[0m     \u001b[39m# wrap results\u001b[39;00m\n\u001b[1;32m    854\u001b[0m     \u001b[39mreturn\u001b[39;00m \u001b[39mself\u001b[39m\u001b[39m.\u001b[39mwrap_results(results, res_index)\n",
                        "File \u001b[0;32m~/developer/premium_dashboard/venv/lib/python3.10/site-packages/pandas/core/apply.py:867\u001b[0m, in \u001b[0;36mFrameApply.apply_series_generator\u001b[0;34m(self)\u001b[0m\n\u001b[1;32m    864\u001b[0m \u001b[39mwith\u001b[39;00m option_context(\u001b[39m\"\u001b[39m\u001b[39mmode.chained_assignment\u001b[39m\u001b[39m\"\u001b[39m, \u001b[39mNone\u001b[39;00m):\n\u001b[1;32m    865\u001b[0m     \u001b[39mfor\u001b[39;00m i, v \u001b[39min\u001b[39;00m \u001b[39menumerate\u001b[39m(series_gen):\n\u001b[1;32m    866\u001b[0m         \u001b[39m# ignore SettingWithCopy here in case the user mutates\u001b[39;00m\n\u001b[0;32m--> 867\u001b[0m         results[i] \u001b[39m=\u001b[39m \u001b[39mself\u001b[39;49m\u001b[39m.\u001b[39;49mf(v)\n\u001b[1;32m    868\u001b[0m         \u001b[39mif\u001b[39;00m \u001b[39misinstance\u001b[39m(results[i], ABCSeries):\n\u001b[1;32m    869\u001b[0m             \u001b[39m# If we have a view on v, we need to make a copy because\u001b[39;00m\n\u001b[1;32m    870\u001b[0m             \u001b[39m#  series_generator will swap out the underlying data\u001b[39;00m\n\u001b[1;32m    871\u001b[0m             results[i] \u001b[39m=\u001b[39m results[i]\u001b[39m.\u001b[39mcopy(deep\u001b[39m=\u001b[39m\u001b[39mFalse\u001b[39;00m)\n",
                        "File \u001b[0;32m~/developer/premium_dashboard/venv/lib/python3.10/site-packages/pandas/core/groupby/generic.py:1202\u001b[0m, in \u001b[0;36mDataFrameGroupBy._define_paths.<locals>.<lambda>.<locals>.<lambda>\u001b[0;34m(x)\u001b[0m\n\u001b[1;32m   1199\u001b[0m \u001b[39melse\u001b[39;00m:\n\u001b[1;32m   1200\u001b[0m     fast_path \u001b[39m=\u001b[39m \u001b[39mlambda\u001b[39;00m group: func(group, \u001b[39m*\u001b[39margs, \u001b[39m*\u001b[39m\u001b[39m*\u001b[39mkwargs)\n\u001b[1;32m   1201\u001b[0m     slow_path \u001b[39m=\u001b[39m \u001b[39mlambda\u001b[39;00m group: group\u001b[39m.\u001b[39mapply(\n\u001b[0;32m-> 1202\u001b[0m         \u001b[39mlambda\u001b[39;00m x: func(x, \u001b[39m*\u001b[39;49margs, \u001b[39m*\u001b[39;49m\u001b[39m*\u001b[39;49mkwargs), axis\u001b[39m=\u001b[39m\u001b[39mself\u001b[39m\u001b[39m.\u001b[39maxis\n\u001b[1;32m   1203\u001b[0m     )\n\u001b[1;32m   1204\u001b[0m \u001b[39mreturn\u001b[39;00m fast_path, slow_path\n",
                        "\u001b[1;32m/Users/sanjinjuricfot/developer/premium_dashboard/tmp.ipynb Cell 5\u001b[0m in \u001b[0;36mf\u001b[0;34m(df)\u001b[0m\n\u001b[1;32m      <a href='vscode-notebook-cell:/Users/sanjinjuricfot/developer/premium_dashboard/tmp.ipynb#X51sZmlsZQ%3D%3D?line=0'>1</a>\u001b[0m \u001b[39mdef\u001b[39;00m \u001b[39mf\u001b[39m(df):\n\u001b[1;32m      <a href='vscode-notebook-cell:/Users/sanjinjuricfot/developer/premium_dashboard/tmp.ipynb#X51sZmlsZQ%3D%3D?line=1'>2</a>\u001b[0m     \u001b[39mprint\u001b[39m(df)\n\u001b[0;32m----> <a href='vscode-notebook-cell:/Users/sanjinjuricfot/developer/premium_dashboard/tmp.ipynb#X51sZmlsZQ%3D%3D?line=2'>3</a>\u001b[0m     df\u001b[39m.\u001b[39mspend \u001b[39m=\u001b[39m df\u001b[39m.\u001b[39;49mspend \u001b[39m/\u001b[39m df\u001b[39m.\u001b[39mspend\u001b[39m.\u001b[39msum()\n\u001b[1;32m      <a href='vscode-notebook-cell:/Users/sanjinjuricfot/developer/premium_dashboard/tmp.ipynb#X51sZmlsZQ%3D%3D?line=3'>4</a>\u001b[0m     \u001b[39mreturn\u001b[39;00m df\n",
                        "File \u001b[0;32m~/developer/premium_dashboard/venv/lib/python3.10/site-packages/pandas/core/generic.py:5575\u001b[0m, in \u001b[0;36mNDFrame.__getattr__\u001b[0;34m(self, name)\u001b[0m\n\u001b[1;32m   5568\u001b[0m \u001b[39mif\u001b[39;00m (\n\u001b[1;32m   5569\u001b[0m     name \u001b[39mnot\u001b[39;00m \u001b[39min\u001b[39;00m \u001b[39mself\u001b[39m\u001b[39m.\u001b[39m_internal_names_set\n\u001b[1;32m   5570\u001b[0m     \u001b[39mand\u001b[39;00m name \u001b[39mnot\u001b[39;00m \u001b[39min\u001b[39;00m \u001b[39mself\u001b[39m\u001b[39m.\u001b[39m_metadata\n\u001b[1;32m   5571\u001b[0m     \u001b[39mand\u001b[39;00m name \u001b[39mnot\u001b[39;00m \u001b[39min\u001b[39;00m \u001b[39mself\u001b[39m\u001b[39m.\u001b[39m_accessors\n\u001b[1;32m   5572\u001b[0m     \u001b[39mand\u001b[39;00m \u001b[39mself\u001b[39m\u001b[39m.\u001b[39m_info_axis\u001b[39m.\u001b[39m_can_hold_identifiers_and_holds_name(name)\n\u001b[1;32m   5573\u001b[0m ):\n\u001b[1;32m   5574\u001b[0m     \u001b[39mreturn\u001b[39;00m \u001b[39mself\u001b[39m[name]\n\u001b[0;32m-> 5575\u001b[0m \u001b[39mreturn\u001b[39;00m \u001b[39mobject\u001b[39;49m\u001b[39m.\u001b[39;49m\u001b[39m__getattribute__\u001b[39;49m(\u001b[39mself\u001b[39;49m, name)\n",
                        "\u001b[0;31mAttributeError\u001b[0m: 'Series' object has no attribute 'spend'"
                    ]
                }
            ],
            "source": [
                "df.groupby('shop_id').transform(f)"
            ]
        },
        {
            "cell_type": "code",
            "execution_count": null,
            "metadata": {},
            "outputs": [],
            "source": [
                "import pandas as pd\n",
                "# crm = pd.read_csv('data/industries.csv')\n",
                "df = pd.read_csv('data/ads_insights.csv')"
            ]
        },
        {
            "cell_type": "code",
            "execution_count": null,
            "metadata": {},
            "outputs": [],
            "source": [
                "q = 4\n",
                "pd.qcut(df.loc[df.facebook_spend.notna(), 'facebook_spend'], q=q, labels=list(range(q))).isna().sum()"
            ]
        },
        {
            "cell_type": "code",
            "execution_count": null,
            "metadata": {},
            "outputs": [],
            "source": [
                "df.industry.count()"
            ]
        },
        {
            "cell_type": "code",
            "execution_count": null,
            "metadata": {},
            "outputs": [],
            "source": [
                "import pandas as pd\n",
                "from enum import Enum\n",
                "from itertools import combinations\n",
                "from src.utils.enum import get_enum_values\n",
                "import numpy as np\n",
                "\n",
                "class EPlatform(str, Enum):\n",
                "    facebook = \"facebook\"\n",
                "    tiktok = \"tiktok\"\n",
                "    google = \"google\"\n",
                "\n",
                "df = pd.read_csv('data/ads_insights.csv')"
            ]
        },
        {
            "cell_type": "code",
            "execution_count": null,
            "metadata": {},
            "outputs": [],
            "source": [
                "\"-\".join(['a', 'b'])"
            ]
        },
        {
            "cell_type": "code",
            "execution_count": null,
            "metadata": {},
            "outputs": [],
            "source": [
                "set(combinations(, r=2))"
            ]
        },
        {
            "cell_type": "code",
            "execution_count": null,
            "metadata": {},
            "outputs": [],
            "source": [
                "def get_all_subsets(s: set | list):\n",
                "    n = len(s)\n",
                "    subsets = []\n",
                "    for i in range(n+1):\n",
                "        i_subsets = combinations(s, i)\n",
                "        subsets.extend(i_subsets)\n",
                "    return subsets"
            ]
        },
        {
            "cell_type": "code",
            "execution_count": null,
            "metadata": {},
            "outputs": [],
            "source": [
                "platforms = get_enum_values(EPlatform)\n",
                "platform_combinations = get_all_subsets(platforms)"
            ]
        },
        {
            "cell_type": "code",
            "execution_count": null,
            "metadata": {},
            "outputs": [],
            "source": [
                "table = pd.DataFrame(columns=['combination', 'shops', 'budget_split'])"
            ]
        },
        {
            "cell_type": "code",
            "execution_count": null,
            "metadata": {},
            "outputs": [],
            "source": [
                "def get_spend_ratio(s: pd.Series, platforms: list):\n",
                "    ratio = [s[f\"{platform}_spend\"] / s.full_spend for platform in platforms]\n",
                "    return ratio"
            ]
        },
        {
            "cell_type": "code",
            "execution_count": null,
            "metadata": {},
            "outputs": [],
            "source": [
                "def get_data_by_platform_combination(df: pd.DataFrame, combination: list):\n",
                "    filter = [True in range(len(df))]\n",
                "    for platform in platforms:\n",
                "        if platform in combination:\n",
                "            filter = filter & (df[f'{platform}_spend'].notna())\n",
                "        else:\n",
                "            filter = filter & (df[f'{platform}_spend'].isna())\n",
                "    filtered = df[filter].copy()\n",
                "    filtered['full_spend'] = filtered.apply(lambda df: sum([df[f\"{platform}_spend\"] for platform in combination]), axis=1)\n",
                "    platforms_without_the_last_one = combination[:len(combination)-1]\n",
                "    filtered['spend_ratio'] = filtered.apply(lambda df: get_spend_ratio(df, platforms=platforms_without_the_last_one), axis=1)\n",
                "    mean_ratio = np.mean(filtered['spend_ratio'].tolist(), axis=0)\n",
                "    print(mean_ratio)\n",
                "    result = {\"combination\": '_'.join(combination), \"shops\": len(filtered)/len(df), \"budget_split\": list(mean_ratio) + [1-mean_ratio.sum()]}\n",
                "    return result"
            ]
        },
        {
            "cell_type": "code",
            "execution_count": null,
            "metadata": {},
            "outputs": [],
            "source": [
                "for combination in platform_combinations:\n",
                "    if not len(combination):\n",
                "        continue\n",
                "    row = get_data_by_platform_combination(df=df, combination=combination)\n",
                "    table.loc[len(table), :] = row"
            ]
        },
        {
            "cell_type": "code",
            "execution_count": null,
            "metadata": {},
            "outputs": [],
            "source": [
                "table"
            ]
        },
        {
            "cell_type": "code",
            "execution_count": null,
            "metadata": {},
            "outputs": [],
            "source": [
                "result"
            ]
        },
        {
            "cell_type": "code",
            "execution_count": null,
            "metadata": {},
            "outputs": [],
            "source": [
                "filtered"
            ]
        },
        {
            "cell_type": "code",
            "execution_count": null,
            "metadata": {},
            "outputs": [],
            "source": [
                "filtered.spend_ratio"
            ]
        },
        {
            "cell_type": "code",
            "execution_count": null,
            "metadata": {},
            "outputs": [],
            "source": [
                "filtered"
            ]
        },
        {
            "cell_type": "code",
            "execution_count": null,
            "metadata": {},
            "outputs": [],
            "source": [
                "combination[:len(combination)-1]"
            ]
        },
        {
            "cell_type": "code",
            "execution_count": null,
            "metadata": {},
            "outputs": [],
            "source": [
                "len(df[(df.facebook_spend.notna()) & (df.google_spend.isna()) & (df.tiktok_spend.notna())])"
            ]
        },
        {
            "cell_type": "code",
            "execution_count": null,
            "metadata": {},
            "outputs": [],
            "source": [
                "df = ping_ads_insights_all_platforms(db=db, columns='spend')"
            ]
        },
        {
            "cell_type": "code",
            "execution_count": null,
            "metadata": {},
            "outputs": [],
            "source": [
                "only_shop = df.groupby('shop_id').sum().reset_index()"
            ]
        },
        {
            "cell_type": "code",
            "execution_count": null,
            "metadata": {},
            "outputs": [],
            "source": [
                "df"
            ]
        },
        {
            "cell_type": "code",
            "execution_count": null,
            "metadata": {},
            "outputs": [],
            "source": [
                "FacebookAd.ad_id.__mapper__"
            ]
        },
        {
            "cell_type": "code",
            "execution_count": null,
            "metadata": {},
            "outputs": [],
            "source": [
                "FacebookAd.__class__"
            ]
        },
        {
            "cell_type": "code",
            "execution_count": null,
            "metadata": {},
            "outputs": [],
            "source": [
                "df = ping_shops(db=db)"
            ]
        },
        {
            "cell_type": "code",
            "execution_count": null,
            "metadata": {},
            "outputs": [],
            "source": [
                "df.loc[df.shop_id == 16038, :]"
            ]
        },
        {
            "cell_type": "code",
            "execution_count": null,
            "metadata": {},
            "outputs": [],
            "source": [
                "df.ad_id"
            ]
        },
        {
            "cell_type": "code",
            "execution_count": null,
            "metadata": {},
            "outputs": [],
            "source": [
                "df.loc[df.ad_id == '10'].index[0]"
            ]
        },
        {
            "cell_type": "code",
            "execution_count": null,
            "metadata": {},
            "outputs": [],
            "source": [
                "query = session.query(FacebookAd.ad_id)"
            ]
        },
        {
            "cell_type": "code",
            "execution_count": null,
            "metadata": {},
            "outputs": [],
            "source": [
                "query[0]"
            ]
        },
        {
            "cell_type": "code",
            "execution_count": null,
            "metadata": {},
            "outputs": [],
            "source": [
                "type(query)"
            ]
        },
        {
            "cell_type": "code",
            "execution_count": null,
            "metadata": {},
            "outputs": [],
            "source": []
        }
    ],
    "metadata": {
        "kernelspec": {
            "display_name": "venv",
            "language": "python",
            "name": "python3"
        },
        "language_info": {
            "codemirror_mode": {
                "name": "ipython",
                "version": 3
            },
            "file_extension": ".py",
            "mimetype": "text/x-python",
            "name": "python",
            "nbconvert_exporter": "python",
            "pygments_lexer": "ipython3",
            "version": "3.10.4"
        },
        "orig_nbformat": 4,
        "vscode": {
            "interpreter": {
                "hash": "8d947fb20adcdb46724b6de978200dc344d5e62962619fc08c1959a1c208320c"
            }
        }
    },
    "nbformat": 4,
    "nbformat_minor": 2
}