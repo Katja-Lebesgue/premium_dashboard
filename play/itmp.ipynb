{
 "cells": [
  {
   "cell_type": "code",
   "execution_count": 1,
   "metadata": {},
   "outputs": [
    {
     "name": "stderr",
     "output_type": "stream",
     "text": [
      "\u001b[32m2023-11-27 13:31:21.081\u001b[0m | \u001b[34m\u001b[1mDEBUG   \u001b[0m | \u001b[36msrc.database.session\u001b[0m:\u001b[36m<module>\u001b[0m:\u001b[36m17\u001b[0m - \u001b[34m\u001b[1mbase: prod.cw6tznt1p9hq.us-east-1.rds.amazonaws.com\u001b[0m\n"
     ]
    }
   ],
   "source": [
    "import sys\n",
    "sys.path.append('..')\n",
    "\n",
    "from abc import ABC, abstractmethod\n",
    "from datetime import datetime, timedelta, date\n",
    "from dateutil.relativedelta import relativedelta\n",
    "from enum import Enum\n",
    "from sqlalchemy import or_, not_, func\n",
    "from numbers import Number\n",
    "import webbrowser\n",
    "\n",
    "from src.database.session import SessionLocal\n",
    "from src.pingers import *\n",
    "from src.models import *\n",
    "from src import crud\n",
    "from src.abc.descriptive import DescriptiveDF\n",
    "from src.utils import *\n",
    "from src.models.enums.facebook.creative_features import BOOLEAN_TEXT_FEATURES\n",
    "from src.utils import *\n",
    "from src.models.enums.facebook import Target\n",
    "from src.crud.utils.get_performance import get_conversion_rates_dict\n",
    "from src.models.enums import Industry\n",
    "from src.models.enums.facebook import TextType\n",
    "db = SessionLocal()\n",
    "end_date_plus_one = date(year=2023, month=8, day=1)\n",
    "end_date = end_date_plus_one - timedelta(days=1)\n",
    "start_date = end_date_plus_one - relativedelta(months=12)\n",
    "shop_id = 44301396\n",
    "\n",
    "# df = ping_facebook_creative_target_and_performance(db=db, shop_id=16038, start_date='2023-09-20')"
   ]
  },
  {
   "cell_type": "code",
   "execution_count": 2,
   "metadata": {},
   "outputs": [
    {
     "name": "stdout",
     "output_type": "stream",
     "text": [
      "SELECT DISTINCT ON (currency_exchange_rate.code) currency_exchange_rate.code AS currency_exchange_rate_code, currency_exchange_rate.rate_from_usd AS currency_exchange_rate_rate_from_usd \n",
      "FROM currency_exchange_rate ORDER BY currency_exchange_rate.code, currency_exchange_rate.date DESC\n"
     ]
    },
    {
     "name": "stderr",
     "output_type": "stream",
     "text": [
      "\u001b[32m2023-11-27 13:32:04.075\u001b[0m | \u001b[34m\u001b[1mDEBUG   \u001b[0m | \u001b[36msrc.utils.s3.read_file_from_s3\u001b[0m:\u001b[36mread_csv_from_s3\u001b[0m:\u001b[36m24\u001b[0m - \u001b[34m\u001b[1mpath: crm_dataset_dev.csv\u001b[0m\n"
     ]
    }
   ],
   "source": [
    "df = ping_ads_insights_all_platforms(db=db, get_industry=True)"
   ]
  },
  {
   "cell_type": "code",
   "execution_count": 19,
   "metadata": {},
   "outputs": [],
   "source": [
    "df_ = df.groupby(['shop_id', 'platform'])[['spend_USD']].sum().unstack(level='platform').loc[:, 'spend_USD']"
   ]
  },
  {
   "cell_type": "code",
   "execution_count": 17,
   "metadata": {},
   "outputs": [],
   "source": [
    "df_ =  df_.unstack(level=1).loc[:, 'spend_USD']"
   ]
  },
  {
   "cell_type": "code",
   "execution_count": 3,
   "metadata": {},
   "outputs": [
    {
     "name": "stdout",
     "output_type": "stream",
     "text": [
      "2023-11-16\n",
      "2023-10-16\n",
      "2023-09-16\n",
      "2023-08-16\n",
      "2023-07-16\n",
      "2023-06-16\n",
      "2023-05-16\n",
      "2023-04-16\n",
      "2023-03-16\n",
      "2023-02-16\n",
      "2023-01-16\n",
      "2022-12-16\n",
      "2022-11-16\n",
      "2022-10-16\n",
      "2022-09-16\n",
      "2022-08-16\n",
      "2022-07-16\n",
      "2022-06-16\n",
      "2022-05-16\n",
      "2022-04-16\n",
      "2022-03-16\n",
      "2022-02-16\n",
      "2022-01-16\n",
      "2021-12-16\n",
      "2021-11-16\n",
      "2021-10-16\n",
      "2021-09-16\n",
      "2021-08-16\n",
      "2021-07-16\n",
      "2021-06-16\n",
      "2021-05-16\n",
      "2021-04-16\n",
      "2021-03-16\n",
      "2021-02-16\n",
      "2021-01-16\n",
      "2020-12-16\n",
      "2020-11-16\n",
      "2020-10-16\n",
      "2020-09-16\n",
      "2020-08-16\n",
      "2020-07-16\n",
      "2020-06-16\n",
      "2020-05-16\n",
      "2020-04-16\n",
      "2020-03-16\n",
      "2020-02-16\n",
      "2020-01-16\n",
      "2019-12-16\n",
      "2019-11-16\n",
      "2019-10-16\n",
      "2019-09-16\n",
      "2019-08-16\n",
      "2019-07-16\n",
      "2019-06-16\n",
      "2019-05-16\n",
      "2019-04-16\n",
      "2019-03-16\n",
      "2019-02-16\n",
      "2019-01-16\n",
      "2018-12-16\n",
      "2018-11-16\n",
      "2018-10-16\n",
      "2018-09-16\n",
      "2018-08-16\n",
      "2018-07-16\n",
      "2018-06-16\n",
      "2018-05-16\n",
      "2018-04-16\n",
      "2018-03-16\n",
      "2018-02-16\n",
      "2018-01-16\n",
      "2017-12-16\n",
      "2017-11-16\n",
      "2017-10-16\n",
      "2017-09-16\n",
      "2017-08-16\n",
      "2017-07-16\n",
      "2017-06-16\n",
      "2017-05-16\n",
      "2017-04-16\n",
      "2017-03-16\n",
      "2017-02-16\n",
      "2017-01-16\n",
      "2016-12-16\n",
      "2016-11-16\n",
      "2016-10-16\n",
      "2016-09-16\n",
      "2016-08-16\n",
      "2016-07-16\n",
      "2016-06-16\n",
      "2016-05-16\n",
      "2016-04-16\n",
      "2016-03-16\n",
      "2016-02-16\n",
      "2016-01-16\n",
      "2015-12-16\n",
      "2015-11-16\n",
      "2015-10-16\n",
      "2015-09-16\n",
      "2015-08-16\n",
      "2015-07-16\n",
      "2015-06-16\n",
      "2015-05-16\n",
      "2015-04-16\n",
      "2015-03-16\n",
      "2015-02-16\n",
      "2015-01-16\n"
     ]
    }
   ],
   "source": [
    "dt = date.today()\n",
    "while dt > date(year=2015, month=1, day=1):\n",
    "    print(dt)\n",
    "    dt -= relativedelta(months=1)"
   ]
  },
  {
   "cell_type": "code",
   "execution_count": 2,
   "metadata": {},
   "outputs": [
    {
     "data": {
      "text/plain": [
       "(datetime.date(2023, 1, 1), datetime.date(2023, 1, 31))"
      ]
     },
     "execution_count": 2,
     "metadata": {},
     "output_type": "execute_result"
    }
   ],
   "source": [
    "get_first_and_last_day_of_the_month(month='2023-01')"
   ]
  },
  {
   "cell_type": "code",
   "execution_count": 2,
   "metadata": {},
   "outputs": [
    {
     "ename": "TypeError",
     "evalue": "CRUDFacebookCreativeFeatures.get_text_sample() missing 1 required positional argument: 'text_type'",
     "output_type": "error",
     "traceback": [
      "\u001b[0;31m---------------------------------------------------------------------------\u001b[0m",
      "\u001b[0;31mTypeError\u001b[0m                                 Traceback (most recent call last)",
      "\u001b[1;32m/Users/sanjinjuricfot/developer/premium_dashboard/play/itmp.ipynb Cell 2\u001b[0m line \u001b[0;36m1\n\u001b[0;32m----> <a href='vscode-notebook-cell:/Users/sanjinjuricfot/developer/premium_dashboard/play/itmp.ipynb#W2sZmlsZQ%3D%3D?line=0'>1</a>\u001b[0m text_data \u001b[39m=\u001b[39m crud\u001b[39m.\u001b[39;49mfb_creative_features\u001b[39m.\u001b[39;49mget_text_sample(db\u001b[39m=\u001b[39;49mdb, sample_size\u001b[39m=\u001b[39;49m\u001b[39m100_000\u001b[39;49m, start_date \u001b[39m=\u001b[39;49m start_date, end_date \u001b[39m=\u001b[39;49m end_date)\n\u001b[1;32m      <a href='vscode-notebook-cell:/Users/sanjinjuricfot/developer/premium_dashboard/play/itmp.ipynb#W2sZmlsZQ%3D%3D?line=1'>2</a>\u001b[0m text_df \u001b[39m=\u001b[39m pd\u001b[39m.\u001b[39mDataFrame(text_data)\n\u001b[1;32m      <a href='vscode-notebook-cell:/Users/sanjinjuricfot/developer/premium_dashboard/play/itmp.ipynb#W2sZmlsZQ%3D%3D?line=2'>3</a>\u001b[0m crm \u001b[39m=\u001b[39m db\u001b[39m.\u001b[39mquery(Crm\u001b[39m.\u001b[39mshop_id, Crm\u001b[39m.\u001b[39mindustry)\u001b[39m.\u001b[39mfilter(Crm\u001b[39m.\u001b[39mshop_id\u001b[39m.\u001b[39min_(text_df\u001b[39m.\u001b[39mshop_id\u001b[39m.\u001b[39munique()\u001b[39m.\u001b[39mtolist()))\u001b[39m.\u001b[39mall()\n",
      "\u001b[0;31mTypeError\u001b[0m: CRUDFacebookCreativeFeatures.get_text_sample() missing 1 required positional argument: 'text_type'"
     ]
    }
   ],
   "source": [
    "text_data = crud.fb_creative_features.get_text_sample(db=db, sample_size=100_000, start_date = start_date, end_date = end_date)\n",
    "text_df = pd.DataFrame(text_data)\n",
    "crm = db.query(Crm.shop_id, Crm.industry).filter(Crm.shop_id.in_(text_df.shop_id.unique().tolist())).all()\n",
    "crm_df = pd.DataFrame(crm)\n",
    "df = text_df.merge(crm_df)"
   ]
  },
  {
   "cell_type": "code",
   "execution_count": 2,
   "metadata": {},
   "outputs": [],
   "source": [
    "data = crud.fb_creative_features.get_text_sample(\n",
    "    db=db,\n",
    "    # industry=Industry.pet_supplies,\n",
    "    text_type=TextType.description,\n",
    "    start_date=date.today() - timedelta(days=900),\n",
    "    end_date=date.today(),\n",
    ")"
   ]
  },
  {
   "cell_type": "code",
   "execution_count": 4,
   "metadata": {},
   "outputs": [
    {
     "data": {
      "text/plain": [
       "10000"
      ]
     },
     "execution_count": 4,
     "metadata": {},
     "output_type": "execute_result"
    }
   ],
   "source": [
    "len(data)"
   ]
  },
  {
   "cell_type": "code",
   "execution_count": 3,
   "metadata": {},
   "outputs": [
    {
     "data": {
      "text/plain": [
       "57"
      ]
     },
     "execution_count": 3,
     "metadata": {},
     "output_type": "execute_result"
    }
   ],
   "source": [
    "len(data)"
   ]
  },
  {
   "cell_type": "code",
   "execution_count": 5,
   "metadata": {},
   "outputs": [
    {
     "data": {
      "text/html": [
       "<div>\n",
       "<style scoped>\n",
       "    .dataframe tbody tr th:only-of-type {\n",
       "        vertical-align: middle;\n",
       "    }\n",
       "\n",
       "    .dataframe tbody tr th {\n",
       "        vertical-align: top;\n",
       "    }\n",
       "\n",
       "    .dataframe thead th {\n",
       "        text-align: right;\n",
       "    }\n",
       "</style>\n",
       "<table border=\"1\" class=\"dataframe\">\n",
       "  <thead>\n",
       "    <tr style=\"text-align: right;\">\n",
       "      <th></th>\n",
       "      <th>shop_id</th>\n",
       "      <th>title</th>\n",
       "      <th>primary</th>\n",
       "      <th>description</th>\n",
       "      <th>industry_enum</th>\n",
       "    </tr>\n",
       "  </thead>\n",
       "  <tbody>\n",
       "    <tr>\n",
       "      <th>0</th>\n",
       "      <td>119989244</td>\n",
       "      <td>[]</td>\n",
       "      <td>[En høj kvalitet børne dunjakke er en fantasti...</td>\n",
       "      <td>[]</td>\n",
       "      <td>clothing_and_accessories</td>\n",
       "    </tr>\n",
       "    <tr>\n",
       "      <th>1</th>\n",
       "      <td>10893054</td>\n",
       "      <td>[]</td>\n",
       "      <td>[Mid-Year Summer Sale Up to 90%OFF ! Almost Go...</td>\n",
       "      <td>[Extra 30% OFF with Code: SALE30]</td>\n",
       "      <td>clothing_and_accessories</td>\n",
       "    </tr>\n",
       "    <tr>\n",
       "      <th>2</th>\n",
       "      <td>10893054</td>\n",
       "      <td>[]</td>\n",
       "      <td>[Final Clearance ! More Sales Items Add Into T...</td>\n",
       "      <td>[Extra 40% OFF Code: SALE40]</td>\n",
       "      <td>clothing_and_accessories</td>\n",
       "    </tr>\n",
       "    <tr>\n",
       "      <th>3</th>\n",
       "      <td>116557323</td>\n",
       "      <td>[Dnevna doza mikronutrijenata]</td>\n",
       "      <td>[🌟 Dnevna doza mikronutrijenata! Upoznaj naše ...</td>\n",
       "      <td>[]</td>\n",
       "      <td>clothing_and_accessories</td>\n",
       "    </tr>\n",
       "    <tr>\n",
       "      <th>4</th>\n",
       "      <td>116557323</td>\n",
       "      <td>[Dnevna doza mikronutrijenata]</td>\n",
       "      <td>[🌟 Dnevna doza mikronutrijenata! Upoznaj naše ...</td>\n",
       "      <td>[]</td>\n",
       "      <td>clothing_and_accessories</td>\n",
       "    </tr>\n",
       "    <tr>\n",
       "      <th>...</th>\n",
       "      <td>...</td>\n",
       "      <td>...</td>\n",
       "      <td>...</td>\n",
       "      <td>...</td>\n",
       "      <td>...</td>\n",
       "    </tr>\n",
       "    <tr>\n",
       "      <th>9995</th>\n",
       "      <td>2</td>\n",
       "      <td>[We're in this together. ]</td>\n",
       "      <td>[It's no secret cleaning products are walking ...</td>\n",
       "      <td>[Subscribe &amp; Save 30%]</td>\n",
       "      <td>clothing_and_accessories</td>\n",
       "    </tr>\n",
       "    <tr>\n",
       "      <th>9996</th>\n",
       "      <td>2</td>\n",
       "      <td>[We're in this together. ]</td>\n",
       "      <td>[It's no secret cleaning products are walking ...</td>\n",
       "      <td>[Subscribe &amp; Save 30%]</td>\n",
       "      <td>clothing_and_accessories</td>\n",
       "    </tr>\n",
       "    <tr>\n",
       "      <th>9997</th>\n",
       "      <td>2</td>\n",
       "      <td>[$10 off $30+ with code JULY4TH]</td>\n",
       "      <td>[Celebrate Independence Day by saving big on o...</td>\n",
       "      <td>[]</td>\n",
       "      <td>clothing_and_accessories</td>\n",
       "    </tr>\n",
       "    <tr>\n",
       "      <th>9998</th>\n",
       "      <td>2</td>\n",
       "      <td>[Save $10 with code JULY4TH]</td>\n",
       "      <td>[This week only, save $10 when you spend $30+ ...</td>\n",
       "      <td>[ ]</td>\n",
       "      <td>clothing_and_accessories</td>\n",
       "    </tr>\n",
       "    <tr>\n",
       "      <th>9999</th>\n",
       "      <td>2</td>\n",
       "      <td>[Eco-responsible detergent pods]</td>\n",
       "      <td>[]</td>\n",
       "      <td>[]</td>\n",
       "      <td>clothing_and_accessories</td>\n",
       "    </tr>\n",
       "  </tbody>\n",
       "</table>\n",
       "<p>10000 rows × 5 columns</p>\n",
       "</div>"
      ],
      "text/plain": [
       "        shop_id                             title  \\\n",
       "0     119989244                                []   \n",
       "1      10893054                                []   \n",
       "2      10893054                                []   \n",
       "3     116557323    [Dnevna doza mikronutrijenata]   \n",
       "4     116557323    [Dnevna doza mikronutrijenata]   \n",
       "...         ...                               ...   \n",
       "9995          2        [We're in this together. ]   \n",
       "9996          2        [We're in this together. ]   \n",
       "9997          2  [$10 off $30+ with code JULY4TH]   \n",
       "9998          2      [Save $10 with code JULY4TH]   \n",
       "9999          2  [Eco-responsible detergent pods]   \n",
       "\n",
       "                                                primary  \\\n",
       "0     [En høj kvalitet børne dunjakke er en fantasti...   \n",
       "1     [Mid-Year Summer Sale Up to 90%OFF ! Almost Go...   \n",
       "2     [Final Clearance ! More Sales Items Add Into T...   \n",
       "3     [🌟 Dnevna doza mikronutrijenata! Upoznaj naše ...   \n",
       "4     [🌟 Dnevna doza mikronutrijenata! Upoznaj naše ...   \n",
       "...                                                 ...   \n",
       "9995  [It's no secret cleaning products are walking ...   \n",
       "9996  [It's no secret cleaning products are walking ...   \n",
       "9997  [Celebrate Independence Day by saving big on o...   \n",
       "9998  [This week only, save $10 when you spend $30+ ...   \n",
       "9999                                                 []   \n",
       "\n",
       "                            description             industry_enum  \n",
       "0                                    []  clothing_and_accessories  \n",
       "1     [Extra 30% OFF with Code: SALE30]  clothing_and_accessories  \n",
       "2          [Extra 40% OFF Code: SALE40]  clothing_and_accessories  \n",
       "3                                    []  clothing_and_accessories  \n",
       "4                                    []  clothing_and_accessories  \n",
       "...                                 ...                       ...  \n",
       "9995             [Subscribe & Save 30%]  clothing_and_accessories  \n",
       "9996             [Subscribe & Save 30%]  clothing_and_accessories  \n",
       "9997                                 []  clothing_and_accessories  \n",
       "9998                                [ ]  clothing_and_accessories  \n",
       "9999                                 []  clothing_and_accessories  \n",
       "\n",
       "[10000 rows x 5 columns]"
      ]
     },
     "execution_count": 5,
     "metadata": {},
     "output_type": "execute_result"
    }
   ],
   "source": [
    "df = pd.DataFrame(data)\n",
    "df"
   ]
  },
  {
   "cell_type": "code",
   "execution_count": 3,
   "metadata": {},
   "outputs": [],
   "source": [
    "class E(str, Enum):\n",
    "    a='b'"
   ]
  },
  {
   "cell_type": "code",
   "execution_count": 10,
   "metadata": {},
   "outputs": [],
   "source": [
    "df = text_df.merge(crm_df)"
   ]
  },
  {
   "cell_type": "code",
   "execution_count": 11,
   "metadata": {},
   "outputs": [
    {
     "data": {
      "text/plain": [
       "industry\n",
       "Clothing and accessories           612\n",
       "Health and beauty                  359\n",
       "Unknown                            252\n",
       "Food and drink                      99\n",
       "Home and garden                     69\n",
       "Electronics                         48\n",
       "Pet supplies                        41\n",
       "Art and entertainment               38\n",
       "Sports and recreation               36\n",
       "Toys and games                      25\n",
       "Business equipment and supplies     24\n",
       "Hardware and automotive              6\n",
       "Name: count, dtype: int64"
      ]
     },
     "execution_count": 11,
     "metadata": {},
     "output_type": "execute_result"
    }
   ],
   "source": [
    "df.industry.value_counts()"
   ]
  },
  {
   "cell_type": "code",
   "execution_count": 4,
   "metadata": {},
   "outputs": [
    {
     "data": {
      "text/html": [
       "<div>\n",
       "<style scoped>\n",
       "    .dataframe tbody tr th:only-of-type {\n",
       "        vertical-align: middle;\n",
       "    }\n",
       "\n",
       "    .dataframe tbody tr th {\n",
       "        vertical-align: top;\n",
       "    }\n",
       "\n",
       "    .dataframe thead th {\n",
       "        text-align: right;\n",
       "    }\n",
       "</style>\n",
       "<table border=\"1\" class=\"dataframe\">\n",
       "  <thead>\n",
       "    <tr style=\"text-align: right;\">\n",
       "      <th></th>\n",
       "      <th>title</th>\n",
       "      <th>primary</th>\n",
       "      <th>description</th>\n",
       "    </tr>\n",
       "  </thead>\n",
       "  <tbody>\n",
       "    <tr>\n",
       "      <th>0</th>\n",
       "      <td>[]</td>\n",
       "      <td>[عداد ساعات التشغيل\\nللاستخدام في المولدات و ا...</td>\n",
       "      <td>[]</td>\n",
       "    </tr>\n",
       "    <tr>\n",
       "      <th>1</th>\n",
       "      <td>[]</td>\n",
       "      <td>[Our timeless essentials - Bivale bracelets in...</td>\n",
       "      <td>[]</td>\n",
       "    </tr>\n",
       "    <tr>\n",
       "      <th>2</th>\n",
       "      <td>[]</td>\n",
       "      <td>[]</td>\n",
       "      <td>[]</td>\n",
       "    </tr>\n",
       "    <tr>\n",
       "      <th>3</th>\n",
       "      <td>[]</td>\n",
       "      <td>[Our curated boxes are the perfect way to brin...</td>\n",
       "      <td>[Mini closet refresh, Mystery Boxes for just $50]</td>\n",
       "    </tr>\n",
       "    <tr>\n",
       "      <th>4</th>\n",
       "      <td>[]</td>\n",
       "      <td>[Our curated boxes are the perfect way to brin...</td>\n",
       "      <td>[The fan-favorite Mystery Box comes with two (...</td>\n",
       "    </tr>\n",
       "    <tr>\n",
       "      <th>...</th>\n",
       "      <td>...</td>\n",
       "      <td>...</td>\n",
       "      <td>...</td>\n",
       "    </tr>\n",
       "    <tr>\n",
       "      <th>1826</th>\n",
       "      <td>[Try a Starter Pack for $2.49!]</td>\n",
       "      <td>[Our Premium Pads fit into your regular underw...</td>\n",
       "      <td>[Trusted by 100,000+ happy customers.]</td>\n",
       "    </tr>\n",
       "    <tr>\n",
       "      <th>1827</th>\n",
       "      <td>[Premier Supplements For Women!]</td>\n",
       "      <td>[Our Women's Essentials Bundle provides the pe...</td>\n",
       "      <td>[Trusted by 100,000+ happy customers.]</td>\n",
       "    </tr>\n",
       "    <tr>\n",
       "      <th>1828</th>\n",
       "      <td>[SUMMER READY ]</td>\n",
       "      <td>[Summer is here ☀️ Add Dainty's gold &amp; sterlin...</td>\n",
       "      <td>[20% OFF CODE: LOVE20]</td>\n",
       "    </tr>\n",
       "    <tr>\n",
       "      <th>1829</th>\n",
       "      <td>[Get 10 OFF]</td>\n",
       "      <td>[Time to reconsider board equipment?  Take 10%...</td>\n",
       "      <td>[]</td>\n",
       "    </tr>\n",
       "    <tr>\n",
       "      <th>1830</th>\n",
       "      <td>[]</td>\n",
       "      <td>[Сочные скидки на соковыжималки Juicer Three о...</td>\n",
       "      <td>[]</td>\n",
       "    </tr>\n",
       "  </tbody>\n",
       "</table>\n",
       "<p>1831 rows × 3 columns</p>\n",
       "</div>"
      ],
      "text/plain": [
       "                                 title  \\\n",
       "0                                   []   \n",
       "1                                   []   \n",
       "2                                   []   \n",
       "3                                   []   \n",
       "4                                   []   \n",
       "...                                ...   \n",
       "1826   [Try a Starter Pack for $2.49!]   \n",
       "1827  [Premier Supplements For Women!]   \n",
       "1828                   [SUMMER READY ]   \n",
       "1829                      [Get 10 OFF]   \n",
       "1830                                []   \n",
       "\n",
       "                                                primary  \\\n",
       "0     [عداد ساعات التشغيل\\nللاستخدام في المولدات و ا...   \n",
       "1     [Our timeless essentials - Bivale bracelets in...   \n",
       "2                                                    []   \n",
       "3     [Our curated boxes are the perfect way to brin...   \n",
       "4     [Our curated boxes are the perfect way to brin...   \n",
       "...                                                 ...   \n",
       "1826  [Our Premium Pads fit into your regular underw...   \n",
       "1827  [Our Women's Essentials Bundle provides the pe...   \n",
       "1828  [Summer is here ☀️ Add Dainty's gold & sterlin...   \n",
       "1829  [Time to reconsider board equipment?  Take 10%...   \n",
       "1830  [Сочные скидки на соковыжималки Juicer Three о...   \n",
       "\n",
       "                                            description  \n",
       "0                                                    []  \n",
       "1                                                    []  \n",
       "2                                                    []  \n",
       "3     [Mini closet refresh, Mystery Boxes for just $50]  \n",
       "4     [The fan-favorite Mystery Box comes with two (...  \n",
       "...                                                 ...  \n",
       "1826             [Trusted by 100,000+ happy customers.]  \n",
       "1827             [Trusted by 100,000+ happy customers.]  \n",
       "1828                             [20% OFF CODE: LOVE20]  \n",
       "1829                                                 []  \n",
       "1830                                                 []  \n",
       "\n",
       "[1831 rows x 3 columns]"
      ]
     },
     "execution_count": 4,
     "metadata": {},
     "output_type": "execute_result"
    }
   ],
   "source": [
    "pd.DataFrame(data)"
   ]
  },
  {
   "cell_type": "code",
   "execution_count": 8,
   "metadata": {},
   "outputs": [
    {
     "data": {
      "text/plain": [
       "'1.00K'"
      ]
     },
     "execution_count": 8,
     "metadata": {},
     "output_type": "execute_result"
    }
   ],
   "source": [
    "big_number_human_format(1_000)"
   ]
  },
  {
   "cell_type": "code",
   "execution_count": null,
   "metadata": {},
   "outputs": [],
   "source": []
  },
  {
   "cell_type": "code",
   "execution_count": 6,
   "metadata": {},
   "outputs": [
    {
     "data": {
      "text/plain": [
       "[[[], 1], [[1]], 2]"
      ]
     },
     "execution_count": 6,
     "metadata": {},
     "output_type": "execute_result"
    }
   ],
   "source": [
    "[[[], 1], [[1]], 2]"
   ]
  },
  {
   "cell_type": "code",
   "execution_count": 2,
   "metadata": {},
   "outputs": [],
   "source": [
    "df = ping_facebook_creative_and_performance(db=db, shop_id = 16038)"
   ]
  },
  {
   "cell_type": "code",
   "execution_count": 3,
   "metadata": {},
   "outputs": [
    {
     "data": {
      "text/plain": [
       "0           [10, 10]\n",
       "1               [10]\n",
       "2       [10, 10, 10]\n",
       "3           [10, 10]\n",
       "4           [10, 10]\n",
       "            ...     \n",
       "3651             [0]\n",
       "3652             [0]\n",
       "3653             [0]\n",
       "3654             [0]\n",
       "3655            [80]\n",
       "Name: discount_list, Length: 3656, dtype: object"
      ]
     },
     "execution_count": 3,
     "metadata": {},
     "output_type": "execute_result"
    }
   ],
   "source": [
    "df.discount_list"
   ]
  },
  {
   "cell_type": "code",
   "execution_count": 9,
   "metadata": {},
   "outputs": [],
   "source": [
    "def test_finally():\n",
    "    a = {'k': 1}\n",
    "    try:\n",
    "        return a\n",
    "    finally:\n",
    "        a['k'] -= 1\n",
    "        print('kraj')"
   ]
  },
  {
   "cell_type": "code",
   "execution_count": 10,
   "metadata": {},
   "outputs": [
    {
     "name": "stdout",
     "output_type": "stream",
     "text": [
      "kraj\n",
      "0\n",
      "2\n"
     ]
    },
    {
     "ename": "",
     "evalue": "",
     "output_type": "error",
     "traceback": [
      "\u001b[1;31mThe Kernel crashed while executing code in the the current cell or a previous cell. Please review the code in the cell(s) to identify a possible cause of the failure. Click <a href='https://aka.ms/vscodeJupyterKernelCrash'>here</a> for more info. View Jupyter <a href='command:jupyter.viewOutput'>log</a> for further details."
     ]
    }
   ],
   "source": [
    "a = test_finally()\n",
    "print(a['k'])\n",
    "a['k'] += 2\n",
    "print(a['k'])"
   ]
  },
  {
   "cell_type": "code",
   "execution_count": 7,
   "metadata": {},
   "outputs": [
    {
     "data": {
      "text/plain": [
       "7"
      ]
     },
     "execution_count": 7,
     "metadata": {},
     "output_type": "execute_result"
    }
   ],
   "source": [
    "a"
   ]
  },
  {
   "cell_type": "code",
   "execution_count": 3,
   "metadata": {},
   "outputs": [
    {
     "name": "stdout",
     "output_type": "stream",
     "text": [
      "SELECT DISTINCT ON (currency_exchange_rate.code) currency_exchange_rate.code AS currency_exchange_rate_code, currency_exchange_rate.rate_from_usd AS currency_exchange_rate_rate_from_usd \n",
      "FROM currency_exchange_rate ORDER BY currency_exchange_rate.code, currency_exchange_rate.date DESC\n"
     ]
    },
    {
     "name": "stderr",
     "output_type": "stream",
     "text": [
      "\u001b[32m2023-11-06 12:47:36.400\u001b[0m | \u001b[34m\u001b[1mDEBUG   \u001b[0m | \u001b[36msrc.pingers.ping_ads_insights\u001b[0m:\u001b[36mping_ads_insights_by_platform\u001b[0m:\u001b[36m94\u001b[0m - \u001b[34m\u001b[1mdb type: <class 'sqlalchemy.orm.session.Session'>\u001b[0m\n",
      "\u001b[32m2023-11-06 12:48:13.770\u001b[0m | \u001b[34m\u001b[1mDEBUG   \u001b[0m | \u001b[36msrc.pingers.ping_ads_insights\u001b[0m:\u001b[36mping_ads_insights_by_platform\u001b[0m:\u001b[36m94\u001b[0m - \u001b[34m\u001b[1mdb type: <class 'sqlalchemy.orm.session.Session'>\u001b[0m\n",
      "\u001b[32m2023-11-06 12:48:28.869\u001b[0m | \u001b[34m\u001b[1mDEBUG   \u001b[0m | \u001b[36msrc.pingers.ping_ads_insights\u001b[0m:\u001b[36mping_ads_insights_by_platform\u001b[0m:\u001b[36m94\u001b[0m - \u001b[34m\u001b[1mdb type: <class 'sqlalchemy.orm.session.Session'>\u001b[0m\n"
     ]
    }
   ],
   "source": [
    "df = ping_ads_insights_all_platforms(db=db)"
   ]
  },
  {
   "cell_type": "code",
   "execution_count": 6,
   "metadata": {},
   "outputs": [
    {
     "data": {
      "text/plain": [
       "Timestamp('2023-11-01 00:00:00')"
      ]
     },
     "execution_count": 6,
     "metadata": {},
     "output_type": "execute_result"
    }
   ],
   "source": [
    "df.year_month.max()"
   ]
  },
  {
   "cell_type": "code",
   "execution_count": 3,
   "metadata": {},
   "outputs": [
    {
     "data": {
      "text/plain": [
       "True"
      ]
     },
     "execution_count": 3,
     "metadata": {},
     "output_type": "execute_result"
    }
   ],
   "source": [
    "eval(os.getenv('CUSTOM_ANALYSIS'))"
   ]
  },
  {
   "cell_type": "code",
   "execution_count": 6,
   "metadata": {},
   "outputs": [
    {
     "data": {
      "text/plain": [
       "True"
      ]
     },
     "execution_count": 6,
     "metadata": {},
     "output_type": "execute_result"
    }
   ],
   "source": [
    "eval('False') is False"
   ]
  },
  {
   "cell_type": "code",
   "execution_count": 2,
   "metadata": {},
   "outputs": [],
   "source": [
    "df = crud.fb_daily_performance.get_performance(db=db, shop_id=shop_id, start_date = '2023-09-20', period=Period.date)"
   ]
  },
  {
   "cell_type": "code",
   "execution_count": 2,
   "metadata": {},
   "outputs": [],
   "source": [
    "df = ping_facebook_creative(db=db, shop_id=16038)"
   ]
  },
  {
   "cell_type": "code",
   "execution_count": 3,
   "metadata": {},
   "outputs": [
    {
     "data": {
      "text/plain": [
       "5417"
      ]
     },
     "execution_count": 3,
     "metadata": {},
     "output_type": "execute_result"
    }
   ],
   "source": [
    "len(df)"
   ]
  },
  {
   "cell_type": "code",
   "execution_count": 4,
   "metadata": {},
   "outputs": [],
   "source": [
    "# df = crud.fb_daily_performance.get_performance(db=db, shop_id=16038, start_date='2023-06-01')\n",
    "df = ping_facebook_creative_target_and_performance(db=db, shop_id=16038, start_date='2023-06-01')"
   ]
  },
  {
   "cell_type": "code",
   "execution_count": 5,
   "metadata": {},
   "outputs": [
    {
     "data": {
      "text/plain": [
       "ad_id\n",
       "23855091528590755    69121.32\n",
       "23853108353540755    51533.70\n",
       "23856746700950755    44520.76\n",
       "23855200131640755    40054.91\n",
       "23854607500280755    32254.04\n",
       "                       ...   \n",
       "23858727818090755       35.61\n",
       "23857982741540755       25.05\n",
       "23855968645130755       17.37\n",
       "23857982741560755        2.43\n",
       "23854131616400755        0.00\n",
       "Name: spend_USD, Length: 119, dtype: float64"
      ]
     },
     "execution_count": 5,
     "metadata": {},
     "output_type": "execute_result"
    }
   ],
   "source": [
    "df.groupby(['ad_id'])['spend_USD'].sum().sort_values(ascending=False)"
   ]
  },
  {
   "cell_type": "code",
   "execution_count": 2,
   "metadata": {},
   "outputs": [
    {
     "data": {
      "text/plain": [
       "True"
      ]
     },
     "execution_count": 2,
     "metadata": {},
     "output_type": "execute_result"
    }
   ],
   "source": [
    "isinstance(True, Number)"
   ]
  },
  {
   "cell_type": "code",
   "execution_count": 2,
   "metadata": {},
   "outputs": [
    {
     "data": {
      "text/plain": [
       "True"
      ]
     },
     "execution_count": 2,
     "metadata": {},
     "output_type": "execute_result"
    }
   ],
   "source": [
    "webbrowser.open('https://discuss.streamlit.io/t/a-new-tab-doesnt-open-up-in-my-web-browser-if-i-run-the-streamlit-python-script/285/25')"
   ]
  },
  {
   "cell_type": "code",
   "execution_count": 4,
   "metadata": {},
   "outputs": [
    {
     "data": {
      "text/plain": [
       "False"
      ]
     },
     "execution_count": 4,
     "metadata": {},
     "output_type": "execute_result"
    }
   ],
   "source": [
    "isinstance(5, bool)"
   ]
  },
  {
   "cell_type": "code",
   "execution_count": 2,
   "metadata": {},
   "outputs": [
    {
     "name": "stderr",
     "output_type": "stream",
     "text": [
      "\u001b[32m2023-08-30 07:28:52.771\u001b[0m | \u001b[34m\u001b[1mDEBUG   \u001b[0m | \u001b[36msrc.pingers.ping_target\u001b[0m:\u001b[36mdeduce_audience\u001b[0m:\u001b[36m110\u001b[0m - \u001b[34m\u001b[1mtu sam\u001b[0m\n",
      "\u001b[32m2023-08-30 07:28:52.781\u001b[0m | \u001b[34m\u001b[1mDEBUG   \u001b[0m | \u001b[36msrc.pingers.ping_target\u001b[0m:\u001b[36mdeduce_audience\u001b[0m:\u001b[36m110\u001b[0m - \u001b[34m\u001b[1mtu sam\u001b[0m\n",
      "\u001b[32m2023-08-30 07:28:52.788\u001b[0m | \u001b[34m\u001b[1mDEBUG   \u001b[0m | \u001b[36msrc.pingers.ping_target\u001b[0m:\u001b[36mdeduce_audience\u001b[0m:\u001b[36m110\u001b[0m - \u001b[34m\u001b[1mtu sam\u001b[0m\n",
      "\u001b[32m2023-08-30 07:28:52.788\u001b[0m | \u001b[34m\u001b[1mDEBUG   \u001b[0m | \u001b[36msrc.pingers.ping_target\u001b[0m:\u001b[36mdeduce_audience\u001b[0m:\u001b[36m110\u001b[0m - \u001b[34m\u001b[1mtu sam\u001b[0m\n",
      "\u001b[32m2023-08-30 07:28:52.789\u001b[0m | \u001b[34m\u001b[1mDEBUG   \u001b[0m | \u001b[36msrc.pingers.ping_target\u001b[0m:\u001b[36mdeduce_audience\u001b[0m:\u001b[36m110\u001b[0m - \u001b[34m\u001b[1mtu sam\u001b[0m\n",
      "\u001b[32m2023-08-30 07:28:52.790\u001b[0m | \u001b[34m\u001b[1mDEBUG   \u001b[0m | \u001b[36msrc.pingers.ping_target\u001b[0m:\u001b[36mdeduce_audience\u001b[0m:\u001b[36m110\u001b[0m - \u001b[34m\u001b[1mtu sam\u001b[0m\n",
      "\u001b[32m2023-08-30 07:28:52.790\u001b[0m | \u001b[34m\u001b[1mDEBUG   \u001b[0m | \u001b[36msrc.pingers.ping_target\u001b[0m:\u001b[36mdeduce_audience\u001b[0m:\u001b[36m110\u001b[0m - \u001b[34m\u001b[1mtu sam\u001b[0m\n",
      "\u001b[32m2023-08-30 07:28:52.791\u001b[0m | \u001b[34m\u001b[1mDEBUG   \u001b[0m | \u001b[36msrc.pingers.ping_target\u001b[0m:\u001b[36mdeduce_audience\u001b[0m:\u001b[36m110\u001b[0m - \u001b[34m\u001b[1mtu sam\u001b[0m\n",
      "\u001b[32m2023-08-30 07:28:52.791\u001b[0m | \u001b[34m\u001b[1mDEBUG   \u001b[0m | \u001b[36msrc.pingers.ping_target\u001b[0m:\u001b[36mdeduce_audience\u001b[0m:\u001b[36m110\u001b[0m - \u001b[34m\u001b[1mtu sam\u001b[0m\n",
      "\u001b[32m2023-08-30 07:28:52.792\u001b[0m | \u001b[34m\u001b[1mDEBUG   \u001b[0m | \u001b[36msrc.pingers.ping_target\u001b[0m:\u001b[36mdeduce_audience\u001b[0m:\u001b[36m110\u001b[0m - \u001b[34m\u001b[1mtu sam\u001b[0m\n",
      "\u001b[32m2023-08-30 07:28:52.793\u001b[0m | \u001b[34m\u001b[1mDEBUG   \u001b[0m | \u001b[36msrc.pingers.ping_target\u001b[0m:\u001b[36mdeduce_audience\u001b[0m:\u001b[36m110\u001b[0m - \u001b[34m\u001b[1mtu sam\u001b[0m\n",
      "\u001b[32m2023-08-30 07:28:52.794\u001b[0m | \u001b[34m\u001b[1mDEBUG   \u001b[0m | \u001b[36msrc.pingers.ping_target\u001b[0m:\u001b[36mdeduce_audience\u001b[0m:\u001b[36m110\u001b[0m - \u001b[34m\u001b[1mtu sam\u001b[0m\n",
      "\u001b[32m2023-08-30 07:28:52.795\u001b[0m | \u001b[34m\u001b[1mDEBUG   \u001b[0m | \u001b[36msrc.pingers.ping_target\u001b[0m:\u001b[36mdeduce_audience\u001b[0m:\u001b[36m110\u001b[0m - \u001b[34m\u001b[1mtu sam\u001b[0m\n",
      "\u001b[32m2023-08-30 07:28:52.795\u001b[0m | \u001b[34m\u001b[1mDEBUG   \u001b[0m | \u001b[36msrc.pingers.ping_target\u001b[0m:\u001b[36mdeduce_audience\u001b[0m:\u001b[36m110\u001b[0m - \u001b[34m\u001b[1mtu sam\u001b[0m\n",
      "\u001b[32m2023-08-30 07:28:52.797\u001b[0m | \u001b[34m\u001b[1mDEBUG   \u001b[0m | \u001b[36msrc.pingers.ping_target\u001b[0m:\u001b[36mdeduce_audience\u001b[0m:\u001b[36m110\u001b[0m - \u001b[34m\u001b[1mtu sam\u001b[0m\n",
      "\u001b[32m2023-08-30 07:28:52.799\u001b[0m | \u001b[34m\u001b[1mDEBUG   \u001b[0m | \u001b[36msrc.pingers.ping_target\u001b[0m:\u001b[36mdeduce_audience\u001b[0m:\u001b[36m110\u001b[0m - \u001b[34m\u001b[1mtu sam\u001b[0m\n",
      "\u001b[32m2023-08-30 07:28:52.800\u001b[0m | \u001b[34m\u001b[1mDEBUG   \u001b[0m | \u001b[36msrc.pingers.ping_target\u001b[0m:\u001b[36mdeduce_audience\u001b[0m:\u001b[36m110\u001b[0m - \u001b[34m\u001b[1mtu sam\u001b[0m\n",
      "\u001b[32m2023-08-30 07:28:52.801\u001b[0m | \u001b[34m\u001b[1mDEBUG   \u001b[0m | \u001b[36msrc.pingers.ping_target\u001b[0m:\u001b[36mdeduce_audience\u001b[0m:\u001b[36m110\u001b[0m - \u001b[34m\u001b[1mtu sam\u001b[0m\n",
      "\u001b[32m2023-08-30 07:28:52.802\u001b[0m | \u001b[34m\u001b[1mDEBUG   \u001b[0m | \u001b[36msrc.pingers.ping_target\u001b[0m:\u001b[36mdeduce_audience\u001b[0m:\u001b[36m110\u001b[0m - \u001b[34m\u001b[1mtu sam\u001b[0m\n",
      "\u001b[32m2023-08-30 07:28:52.802\u001b[0m | \u001b[34m\u001b[1mDEBUG   \u001b[0m | \u001b[36msrc.pingers.ping_target\u001b[0m:\u001b[36mdeduce_audience\u001b[0m:\u001b[36m110\u001b[0m - \u001b[34m\u001b[1mtu sam\u001b[0m\n",
      "\u001b[32m2023-08-30 07:28:52.804\u001b[0m | \u001b[34m\u001b[1mDEBUG   \u001b[0m | \u001b[36msrc.pingers.ping_target\u001b[0m:\u001b[36mdeduce_audience\u001b[0m:\u001b[36m110\u001b[0m - \u001b[34m\u001b[1mtu sam\u001b[0m\n",
      "\u001b[32m2023-08-30 07:28:52.804\u001b[0m | \u001b[34m\u001b[1mDEBUG   \u001b[0m | \u001b[36msrc.pingers.ping_target\u001b[0m:\u001b[36mdeduce_audience\u001b[0m:\u001b[36m110\u001b[0m - \u001b[34m\u001b[1mtu sam\u001b[0m\n",
      "\u001b[32m2023-08-30 07:28:52.805\u001b[0m | \u001b[34m\u001b[1mDEBUG   \u001b[0m | \u001b[36msrc.pingers.ping_target\u001b[0m:\u001b[36mdeduce_audience\u001b[0m:\u001b[36m110\u001b[0m - \u001b[34m\u001b[1mtu sam\u001b[0m\n",
      "\u001b[32m2023-08-30 07:28:52.806\u001b[0m | \u001b[34m\u001b[1mDEBUG   \u001b[0m | \u001b[36msrc.pingers.ping_target\u001b[0m:\u001b[36mdeduce_audience\u001b[0m:\u001b[36m110\u001b[0m - \u001b[34m\u001b[1mtu sam\u001b[0m\n",
      "\u001b[32m2023-08-30 07:28:52.806\u001b[0m | \u001b[34m\u001b[1mDEBUG   \u001b[0m | \u001b[36msrc.pingers.ping_target\u001b[0m:\u001b[36mdeduce_audience\u001b[0m:\u001b[36m110\u001b[0m - \u001b[34m\u001b[1mtu sam\u001b[0m\n",
      "\u001b[32m2023-08-30 07:28:52.807\u001b[0m | \u001b[34m\u001b[1mDEBUG   \u001b[0m | \u001b[36msrc.pingers.ping_target\u001b[0m:\u001b[36mdeduce_audience\u001b[0m:\u001b[36m110\u001b[0m - \u001b[34m\u001b[1mtu sam\u001b[0m\n",
      "\u001b[32m2023-08-30 07:28:52.807\u001b[0m | \u001b[34m\u001b[1mDEBUG   \u001b[0m | \u001b[36msrc.pingers.ping_target\u001b[0m:\u001b[36mdeduce_audience\u001b[0m:\u001b[36m110\u001b[0m - \u001b[34m\u001b[1mtu sam\u001b[0m\n",
      "\u001b[32m2023-08-30 07:28:52.808\u001b[0m | \u001b[34m\u001b[1mDEBUG   \u001b[0m | \u001b[36msrc.pingers.ping_target\u001b[0m:\u001b[36mdeduce_audience\u001b[0m:\u001b[36m110\u001b[0m - \u001b[34m\u001b[1mtu sam\u001b[0m\n",
      "\u001b[32m2023-08-30 07:28:52.811\u001b[0m | \u001b[34m\u001b[1mDEBUG   \u001b[0m | \u001b[36msrc.pingers.ping_target\u001b[0m:\u001b[36mdeduce_audience\u001b[0m:\u001b[36m110\u001b[0m - \u001b[34m\u001b[1mtu sam\u001b[0m\n",
      "\u001b[32m2023-08-30 07:28:52.812\u001b[0m | \u001b[34m\u001b[1mDEBUG   \u001b[0m | \u001b[36msrc.pingers.ping_target\u001b[0m:\u001b[36mdeduce_audience\u001b[0m:\u001b[36m110\u001b[0m - \u001b[34m\u001b[1mtu sam\u001b[0m\n",
      "\u001b[32m2023-08-30 07:28:52.813\u001b[0m | \u001b[34m\u001b[1mDEBUG   \u001b[0m | \u001b[36msrc.pingers.ping_target\u001b[0m:\u001b[36mdeduce_audience\u001b[0m:\u001b[36m110\u001b[0m - \u001b[34m\u001b[1mtu sam\u001b[0m\n",
      "\u001b[32m2023-08-30 07:28:52.814\u001b[0m | \u001b[34m\u001b[1mDEBUG   \u001b[0m | \u001b[36msrc.pingers.ping_target\u001b[0m:\u001b[36mdeduce_audience\u001b[0m:\u001b[36m110\u001b[0m - \u001b[34m\u001b[1mtu sam\u001b[0m\n",
      "\u001b[32m2023-08-30 07:28:52.814\u001b[0m | \u001b[34m\u001b[1mDEBUG   \u001b[0m | \u001b[36msrc.pingers.ping_target\u001b[0m:\u001b[36mdeduce_audience\u001b[0m:\u001b[36m110\u001b[0m - \u001b[34m\u001b[1mtu sam\u001b[0m\n",
      "\u001b[32m2023-08-30 07:28:52.815\u001b[0m | \u001b[34m\u001b[1mDEBUG   \u001b[0m | \u001b[36msrc.pingers.ping_target\u001b[0m:\u001b[36mdeduce_audience\u001b[0m:\u001b[36m110\u001b[0m - \u001b[34m\u001b[1mtu sam\u001b[0m\n",
      "\u001b[32m2023-08-30 07:28:52.815\u001b[0m | \u001b[34m\u001b[1mDEBUG   \u001b[0m | \u001b[36msrc.pingers.ping_target\u001b[0m:\u001b[36mdeduce_audience\u001b[0m:\u001b[36m110\u001b[0m - \u001b[34m\u001b[1mtu sam\u001b[0m\n",
      "\u001b[32m2023-08-30 07:28:52.815\u001b[0m | \u001b[34m\u001b[1mDEBUG   \u001b[0m | \u001b[36msrc.pingers.ping_target\u001b[0m:\u001b[36mdeduce_audience\u001b[0m:\u001b[36m110\u001b[0m - \u001b[34m\u001b[1mtu sam\u001b[0m\n",
      "\u001b[32m2023-08-30 07:28:52.816\u001b[0m | \u001b[34m\u001b[1mDEBUG   \u001b[0m | \u001b[36msrc.pingers.ping_target\u001b[0m:\u001b[36mdeduce_audience\u001b[0m:\u001b[36m110\u001b[0m - \u001b[34m\u001b[1mtu sam\u001b[0m\n",
      "\u001b[32m2023-08-30 07:28:52.817\u001b[0m | \u001b[34m\u001b[1mDEBUG   \u001b[0m | \u001b[36msrc.pingers.ping_target\u001b[0m:\u001b[36mdeduce_audience\u001b[0m:\u001b[36m110\u001b[0m - \u001b[34m\u001b[1mtu sam\u001b[0m\n",
      "\u001b[32m2023-08-30 07:28:52.817\u001b[0m | \u001b[34m\u001b[1mDEBUG   \u001b[0m | \u001b[36msrc.pingers.ping_target\u001b[0m:\u001b[36mdeduce_audience\u001b[0m:\u001b[36m110\u001b[0m - \u001b[34m\u001b[1mtu sam\u001b[0m\n",
      "\u001b[32m2023-08-30 07:28:52.817\u001b[0m | \u001b[34m\u001b[1mDEBUG   \u001b[0m | \u001b[36msrc.pingers.ping_target\u001b[0m:\u001b[36mdeduce_audience\u001b[0m:\u001b[36m110\u001b[0m - \u001b[34m\u001b[1mtu sam\u001b[0m\n",
      "\u001b[32m2023-08-30 07:28:52.818\u001b[0m | \u001b[34m\u001b[1mDEBUG   \u001b[0m | \u001b[36msrc.pingers.ping_target\u001b[0m:\u001b[36mdeduce_audience\u001b[0m:\u001b[36m110\u001b[0m - \u001b[34m\u001b[1mtu sam\u001b[0m\n",
      "\u001b[32m2023-08-30 07:28:52.818\u001b[0m | \u001b[34m\u001b[1mDEBUG   \u001b[0m | \u001b[36msrc.pingers.ping_target\u001b[0m:\u001b[36mdeduce_audience\u001b[0m:\u001b[36m110\u001b[0m - \u001b[34m\u001b[1mtu sam\u001b[0m\n",
      "\u001b[32m2023-08-30 07:28:52.818\u001b[0m | \u001b[34m\u001b[1mDEBUG   \u001b[0m | \u001b[36msrc.pingers.ping_target\u001b[0m:\u001b[36mdeduce_audience\u001b[0m:\u001b[36m110\u001b[0m - \u001b[34m\u001b[1mtu sam\u001b[0m\n",
      "\u001b[32m2023-08-30 07:28:52.819\u001b[0m | \u001b[34m\u001b[1mDEBUG   \u001b[0m | \u001b[36msrc.pingers.ping_target\u001b[0m:\u001b[36mdeduce_audience\u001b[0m:\u001b[36m110\u001b[0m - \u001b[34m\u001b[1mtu sam\u001b[0m\n",
      "\u001b[32m2023-08-30 07:28:52.820\u001b[0m | \u001b[34m\u001b[1mDEBUG   \u001b[0m | \u001b[36msrc.pingers.ping_target\u001b[0m:\u001b[36mdeduce_audience\u001b[0m:\u001b[36m110\u001b[0m - \u001b[34m\u001b[1mtu sam\u001b[0m\n",
      "\u001b[32m2023-08-30 07:28:52.820\u001b[0m | \u001b[34m\u001b[1mDEBUG   \u001b[0m | \u001b[36msrc.pingers.ping_target\u001b[0m:\u001b[36mdeduce_audience\u001b[0m:\u001b[36m110\u001b[0m - \u001b[34m\u001b[1mtu sam\u001b[0m\n",
      "\u001b[32m2023-08-30 07:28:52.822\u001b[0m | \u001b[34m\u001b[1mDEBUG   \u001b[0m | \u001b[36msrc.pingers.ping_target\u001b[0m:\u001b[36mdeduce_audience\u001b[0m:\u001b[36m110\u001b[0m - \u001b[34m\u001b[1mtu sam\u001b[0m\n",
      "\u001b[32m2023-08-30 07:28:52.822\u001b[0m | \u001b[34m\u001b[1mDEBUG   \u001b[0m | \u001b[36msrc.pingers.ping_target\u001b[0m:\u001b[36mdeduce_audience\u001b[0m:\u001b[36m110\u001b[0m - \u001b[34m\u001b[1mtu sam\u001b[0m\n",
      "\u001b[32m2023-08-30 07:28:52.823\u001b[0m | \u001b[34m\u001b[1mDEBUG   \u001b[0m | \u001b[36msrc.pingers.ping_target\u001b[0m:\u001b[36mdeduce_audience\u001b[0m:\u001b[36m110\u001b[0m - \u001b[34m\u001b[1mtu sam\u001b[0m\n",
      "\u001b[32m2023-08-30 07:28:52.824\u001b[0m | \u001b[34m\u001b[1mDEBUG   \u001b[0m | \u001b[36msrc.pingers.ping_target\u001b[0m:\u001b[36mdeduce_audience\u001b[0m:\u001b[36m110\u001b[0m - \u001b[34m\u001b[1mtu sam\u001b[0m\n",
      "\u001b[32m2023-08-30 07:28:52.824\u001b[0m | \u001b[34m\u001b[1mDEBUG   \u001b[0m | \u001b[36msrc.pingers.ping_target\u001b[0m:\u001b[36mdeduce_audience\u001b[0m:\u001b[36m110\u001b[0m - \u001b[34m\u001b[1mtu sam\u001b[0m\n",
      "\u001b[32m2023-08-30 07:28:52.825\u001b[0m | \u001b[34m\u001b[1mDEBUG   \u001b[0m | \u001b[36msrc.pingers.ping_target\u001b[0m:\u001b[36mdeduce_audience\u001b[0m:\u001b[36m110\u001b[0m - \u001b[34m\u001b[1mtu sam\u001b[0m\n",
      "\u001b[32m2023-08-30 07:28:52.827\u001b[0m | \u001b[34m\u001b[1mDEBUG   \u001b[0m | \u001b[36msrc.pingers.ping_target\u001b[0m:\u001b[36mdeduce_audience\u001b[0m:\u001b[36m110\u001b[0m - \u001b[34m\u001b[1mtu sam\u001b[0m\n",
      "\u001b[32m2023-08-30 07:28:52.828\u001b[0m | \u001b[34m\u001b[1mDEBUG   \u001b[0m | \u001b[36msrc.pingers.ping_target\u001b[0m:\u001b[36mdeduce_audience\u001b[0m:\u001b[36m110\u001b[0m - \u001b[34m\u001b[1mtu sam\u001b[0m\n",
      "\u001b[32m2023-08-30 07:28:52.828\u001b[0m | \u001b[34m\u001b[1mDEBUG   \u001b[0m | \u001b[36msrc.pingers.ping_target\u001b[0m:\u001b[36mdeduce_audience\u001b[0m:\u001b[36m110\u001b[0m - \u001b[34m\u001b[1mtu sam\u001b[0m\n",
      "\u001b[32m2023-08-30 07:28:52.829\u001b[0m | \u001b[34m\u001b[1mDEBUG   \u001b[0m | \u001b[36msrc.pingers.ping_target\u001b[0m:\u001b[36mdeduce_audience\u001b[0m:\u001b[36m110\u001b[0m - \u001b[34m\u001b[1mtu sam\u001b[0m\n",
      "\u001b[32m2023-08-30 07:28:52.830\u001b[0m | \u001b[34m\u001b[1mDEBUG   \u001b[0m | \u001b[36msrc.pingers.ping_target\u001b[0m:\u001b[36mdeduce_audience\u001b[0m:\u001b[36m110\u001b[0m - \u001b[34m\u001b[1mtu sam\u001b[0m\n",
      "\u001b[32m2023-08-30 07:28:52.830\u001b[0m | \u001b[34m\u001b[1mDEBUG   \u001b[0m | \u001b[36msrc.pingers.ping_target\u001b[0m:\u001b[36mdeduce_audience\u001b[0m:\u001b[36m110\u001b[0m - \u001b[34m\u001b[1mtu sam\u001b[0m\n",
      "\u001b[32m2023-08-30 07:28:52.832\u001b[0m | \u001b[34m\u001b[1mDEBUG   \u001b[0m | \u001b[36msrc.pingers.ping_target\u001b[0m:\u001b[36mdeduce_audience\u001b[0m:\u001b[36m110\u001b[0m - \u001b[34m\u001b[1mtu sam\u001b[0m\n",
      "\u001b[32m2023-08-30 07:28:52.833\u001b[0m | \u001b[34m\u001b[1mDEBUG   \u001b[0m | \u001b[36msrc.pingers.ping_target\u001b[0m:\u001b[36mdeduce_audience\u001b[0m:\u001b[36m110\u001b[0m - \u001b[34m\u001b[1mtu sam\u001b[0m\n",
      "\u001b[32m2023-08-30 07:28:52.834\u001b[0m | \u001b[34m\u001b[1mDEBUG   \u001b[0m | \u001b[36msrc.pingers.ping_target\u001b[0m:\u001b[36mdeduce_audience\u001b[0m:\u001b[36m110\u001b[0m - \u001b[34m\u001b[1mtu sam\u001b[0m\n",
      "\u001b[32m2023-08-30 07:28:52.835\u001b[0m | \u001b[34m\u001b[1mDEBUG   \u001b[0m | \u001b[36msrc.pingers.ping_target\u001b[0m:\u001b[36mdeduce_audience\u001b[0m:\u001b[36m110\u001b[0m - \u001b[34m\u001b[1mtu sam\u001b[0m\n",
      "\u001b[32m2023-08-30 07:28:52.836\u001b[0m | \u001b[34m\u001b[1mDEBUG   \u001b[0m | \u001b[36msrc.pingers.ping_target\u001b[0m:\u001b[36mdeduce_audience\u001b[0m:\u001b[36m110\u001b[0m - \u001b[34m\u001b[1mtu sam\u001b[0m\n",
      "\u001b[32m2023-08-30 07:28:52.840\u001b[0m | \u001b[34m\u001b[1mDEBUG   \u001b[0m | \u001b[36msrc.pingers.ping_target\u001b[0m:\u001b[36mdeduce_audience\u001b[0m:\u001b[36m110\u001b[0m - \u001b[34m\u001b[1mtu sam\u001b[0m\n",
      "\u001b[32m2023-08-30 07:28:52.840\u001b[0m | \u001b[34m\u001b[1mDEBUG   \u001b[0m | \u001b[36msrc.pingers.ping_target\u001b[0m:\u001b[36mdeduce_audience\u001b[0m:\u001b[36m110\u001b[0m - \u001b[34m\u001b[1mtu sam\u001b[0m\n",
      "\u001b[32m2023-08-30 07:28:52.842\u001b[0m | \u001b[34m\u001b[1mDEBUG   \u001b[0m | \u001b[36msrc.pingers.ping_target\u001b[0m:\u001b[36mdeduce_audience\u001b[0m:\u001b[36m110\u001b[0m - \u001b[34m\u001b[1mtu sam\u001b[0m\n",
      "\u001b[32m2023-08-30 07:28:52.844\u001b[0m | \u001b[34m\u001b[1mDEBUG   \u001b[0m | \u001b[36msrc.pingers.ping_target\u001b[0m:\u001b[36mdeduce_audience\u001b[0m:\u001b[36m110\u001b[0m - \u001b[34m\u001b[1mtu sam\u001b[0m\n",
      "\u001b[32m2023-08-30 07:28:52.846\u001b[0m | \u001b[34m\u001b[1mDEBUG   \u001b[0m | \u001b[36msrc.pingers.ping_target\u001b[0m:\u001b[36mdeduce_audience\u001b[0m:\u001b[36m110\u001b[0m - \u001b[34m\u001b[1mtu sam\u001b[0m\n",
      "\u001b[32m2023-08-30 07:28:52.847\u001b[0m | \u001b[34m\u001b[1mDEBUG   \u001b[0m | \u001b[36msrc.pingers.ping_target\u001b[0m:\u001b[36mdeduce_audience\u001b[0m:\u001b[36m110\u001b[0m - \u001b[34m\u001b[1mtu sam\u001b[0m\n",
      "\u001b[32m2023-08-30 07:28:52.851\u001b[0m | \u001b[34m\u001b[1mDEBUG   \u001b[0m | \u001b[36msrc.pingers.ping_target\u001b[0m:\u001b[36mdeduce_audience\u001b[0m:\u001b[36m110\u001b[0m - \u001b[34m\u001b[1mtu sam\u001b[0m\n",
      "\u001b[32m2023-08-30 07:28:52.854\u001b[0m | \u001b[34m\u001b[1mDEBUG   \u001b[0m | \u001b[36msrc.pingers.ping_target\u001b[0m:\u001b[36mdeduce_audience\u001b[0m:\u001b[36m110\u001b[0m - \u001b[34m\u001b[1mtu sam\u001b[0m\n",
      "\u001b[32m2023-08-30 07:28:52.855\u001b[0m | \u001b[34m\u001b[1mDEBUG   \u001b[0m | \u001b[36msrc.pingers.ping_target\u001b[0m:\u001b[36mdeduce_audience\u001b[0m:\u001b[36m110\u001b[0m - \u001b[34m\u001b[1mtu sam\u001b[0m\n",
      "\u001b[32m2023-08-30 07:28:52.860\u001b[0m | \u001b[34m\u001b[1mDEBUG   \u001b[0m | \u001b[36msrc.pingers.ping_target\u001b[0m:\u001b[36mdeduce_audience\u001b[0m:\u001b[36m110\u001b[0m - \u001b[34m\u001b[1mtu sam\u001b[0m\n",
      "\u001b[32m2023-08-30 07:28:52.861\u001b[0m | \u001b[34m\u001b[1mDEBUG   \u001b[0m | \u001b[36msrc.pingers.ping_target\u001b[0m:\u001b[36mdeduce_audience\u001b[0m:\u001b[36m110\u001b[0m - \u001b[34m\u001b[1mtu sam\u001b[0m\n",
      "\u001b[32m2023-08-30 07:28:52.862\u001b[0m | \u001b[34m\u001b[1mDEBUG   \u001b[0m | \u001b[36msrc.pingers.ping_target\u001b[0m:\u001b[36mdeduce_audience\u001b[0m:\u001b[36m110\u001b[0m - \u001b[34m\u001b[1mtu sam\u001b[0m\n",
      "\u001b[32m2023-08-30 07:28:52.866\u001b[0m | \u001b[34m\u001b[1mDEBUG   \u001b[0m | \u001b[36msrc.pingers.ping_target\u001b[0m:\u001b[36mdeduce_audience\u001b[0m:\u001b[36m110\u001b[0m - \u001b[34m\u001b[1mtu sam\u001b[0m\n",
      "\u001b[32m2023-08-30 07:28:52.869\u001b[0m | \u001b[34m\u001b[1mDEBUG   \u001b[0m | \u001b[36msrc.pingers.ping_target\u001b[0m:\u001b[36mdeduce_audience\u001b[0m:\u001b[36m110\u001b[0m - \u001b[34m\u001b[1mtu sam\u001b[0m\n",
      "\u001b[32m2023-08-30 07:28:52.869\u001b[0m | \u001b[34m\u001b[1mDEBUG   \u001b[0m | \u001b[36msrc.pingers.ping_target\u001b[0m:\u001b[36mdeduce_audience\u001b[0m:\u001b[36m110\u001b[0m - \u001b[34m\u001b[1mtu sam\u001b[0m\n",
      "\u001b[32m2023-08-30 07:28:52.871\u001b[0m | \u001b[34m\u001b[1mDEBUG   \u001b[0m | \u001b[36msrc.pingers.ping_target\u001b[0m:\u001b[36mdeduce_audience\u001b[0m:\u001b[36m110\u001b[0m - \u001b[34m\u001b[1mtu sam\u001b[0m\n",
      "\u001b[32m2023-08-30 07:28:52.871\u001b[0m | \u001b[34m\u001b[1mDEBUG   \u001b[0m | \u001b[36msrc.pingers.ping_target\u001b[0m:\u001b[36mdeduce_audience\u001b[0m:\u001b[36m110\u001b[0m - \u001b[34m\u001b[1mtu sam\u001b[0m\n",
      "\u001b[32m2023-08-30 07:28:52.872\u001b[0m | \u001b[34m\u001b[1mDEBUG   \u001b[0m | \u001b[36msrc.pingers.ping_target\u001b[0m:\u001b[36mdeduce_audience\u001b[0m:\u001b[36m110\u001b[0m - \u001b[34m\u001b[1mtu sam\u001b[0m\n",
      "\u001b[32m2023-08-30 07:28:52.872\u001b[0m | \u001b[34m\u001b[1mDEBUG   \u001b[0m | \u001b[36msrc.pingers.ping_target\u001b[0m:\u001b[36mdeduce_audience\u001b[0m:\u001b[36m110\u001b[0m - \u001b[34m\u001b[1mtu sam\u001b[0m\n",
      "\u001b[32m2023-08-30 07:28:52.873\u001b[0m | \u001b[34m\u001b[1mDEBUG   \u001b[0m | \u001b[36msrc.pingers.ping_target\u001b[0m:\u001b[36mdeduce_audience\u001b[0m:\u001b[36m110\u001b[0m - \u001b[34m\u001b[1mtu sam\u001b[0m\n",
      "\u001b[32m2023-08-30 07:28:52.873\u001b[0m | \u001b[34m\u001b[1mDEBUG   \u001b[0m | \u001b[36msrc.pingers.ping_target\u001b[0m:\u001b[36mdeduce_audience\u001b[0m:\u001b[36m110\u001b[0m - \u001b[34m\u001b[1mtu sam\u001b[0m\n",
      "\u001b[32m2023-08-30 07:28:52.873\u001b[0m | \u001b[34m\u001b[1mDEBUG   \u001b[0m | \u001b[36msrc.pingers.ping_target\u001b[0m:\u001b[36mdeduce_audience\u001b[0m:\u001b[36m110\u001b[0m - \u001b[34m\u001b[1mtu sam\u001b[0m\n"
     ]
    }
   ],
   "source": [
    "df = ping_target(db=db, shop_id=16038)"
   ]
  },
  {
   "cell_type": "code",
   "execution_count": 3,
   "metadata": {},
   "outputs": [
    {
     "data": {
      "text/plain": [
       "audience\n",
       "Audience.broad          385\n",
       "Audience.interest       138\n",
       "Audience.retargeting     85\n",
       "Audience.lookalike       42\n",
       "Name: count, dtype: int64"
      ]
     },
     "execution_count": 3,
     "metadata": {},
     "output_type": "execute_result"
    }
   ],
   "source": [
    "df.audience.value_counts()"
   ]
  },
  {
   "cell_type": "code",
   "execution_count": 4,
   "metadata": {},
   "outputs": [
    {
     "data": {
      "text/plain": [
       "105    Audience.retargeting\n",
       "109    Audience.retargeting\n",
       "127    Audience.retargeting\n",
       "128    Audience.retargeting\n",
       "138    Audience.retargeting\n",
       "               ...         \n",
       "577    Audience.retargeting\n",
       "609    Audience.retargeting\n",
       "620    Audience.retargeting\n",
       "626    Audience.retargeting\n",
       "637    Audience.retargeting\n",
       "Name: audience, Length: 85, dtype: object"
      ]
     },
     "execution_count": 4,
     "metadata": {},
     "output_type": "execute_result"
    }
   ],
   "source": [
    "df.loc[df.target == Target.remarketing, 'audience']"
   ]
  },
  {
   "cell_type": "code",
   "execution_count": 4,
   "metadata": {},
   "outputs": [
    {
     "data": {
      "text/plain": [
       "['aha']"
      ]
     },
     "execution_count": 4,
     "metadata": {},
     "output_type": "execute_result"
    }
   ],
   "source": [
    "from inspect import getfullargspec\n",
    "\n",
    "def f(aha: int = 5):\n",
    "    pass\n",
    "\n",
    "getfullargspec(f).args"
   ]
  },
  {
   "cell_type": "code",
   "execution_count": 113,
   "metadata": {},
   "outputs": [],
   "source": [
    "class A(ABC):\n",
    "    @print_execution_time\n",
    "    @abstractmethod\n",
    "    def am(self, **kwargs):\n",
    "        pass"
   ]
  },
  {
   "cell_type": "code",
   "execution_count": 114,
   "metadata": {},
   "outputs": [],
   "source": [
    "class B(A):\n",
    "    def am(self):\n",
    "        print('h')"
   ]
  },
  {
   "cell_type": "code",
   "execution_count": 115,
   "metadata": {},
   "outputs": [
    {
     "name": "stdout",
     "output_type": "stream",
     "text": [
      "h\n"
     ]
    }
   ],
   "source": [
    "b = B()\n",
    "b.am()"
   ]
  },
  {
   "cell_type": "code",
   "execution_count": 88,
   "metadata": {},
   "outputs": [],
   "source": [
    "df = ping_target_and_performance(db=db, shop_id=16038, enum_to_value=True)\n",
    "df['n_ads'] = 1\n",
    "# df = df[ftd.metric_columns + ftd.descriptive_columns + ['year_month', 'primary', 'description', '']]\n",
    "df[ftd.fake_feature] = '.'"
   ]
  },
  {
   "cell_type": "code",
   "execution_count": 92,
   "metadata": {},
   "outputs": [
    {
     "data": {
      "text/plain": [
       "3612839.8100000005"
      ]
     },
     "execution_count": 92,
     "metadata": {},
     "output_type": "execute_result"
    }
   ],
   "source": [
    "df.spend_USD.sum()"
   ]
  },
  {
   "cell_type": "code",
   "execution_count": 98,
   "metadata": {},
   "outputs": [],
   "source": [
    "df2 = df.copy()"
   ]
  },
  {
   "cell_type": "code",
   "execution_count": 99,
   "metadata": {},
   "outputs": [],
   "source": [
    "for explode_col in ftd.explode_descriptive_columns:\n",
    "    df[ftd.metric_columns] = df[ftd.metric_columns].div(df.age_groups.apply(len), axis=0)\n",
    "    df = df.explode(explode_col).dropna(axis=0, subset=explode_col)"
   ]
  },
  {
   "cell_type": "code",
   "execution_count": 100,
   "metadata": {},
   "outputs": [],
   "source": [
    "df2 = df2.explode('age_groups')"
   ]
  },
  {
   "cell_type": "code",
   "execution_count": 101,
   "metadata": {},
   "outputs": [
    {
     "data": {
      "text/plain": [
       "-4.656612873077393e-10"
      ]
     },
     "execution_count": 101,
     "metadata": {},
     "output_type": "execute_result"
    }
   ],
   "source": [
    "df2.spend_USD.sum() - df.spend_USD.sum()"
   ]
  },
  {
   "cell_type": "code",
   "execution_count": null,
   "metadata": {},
   "outputs": [],
   "source": []
  },
  {
   "cell_type": "code",
   "execution_count": 102,
   "metadata": {},
   "outputs": [],
   "source": [
    "df = ping_target_and_performance(db=db, shop_id=16038, enum_to_value=True)\n",
    "df['n_ads'] = 1\n",
    "df = df[ftd.metric_columns + ftd.descriptive_columns + ['year_month']]\n",
    "df[ftd.fake_feature] = '.'\n",
    "for explode_col in ftd.explode_descriptive_columns:\n",
    "    df[ftd.metric_columns] = df[ftd.metric_columns].div(df.age_groups.apply(len), axis=0)\n",
    "    df = df.explode(explode_col).dropna(axis=0, subset=explode_col)\n",
    "stacked_df = df.set_index(list(set(df.columns) - set(ftd.descriptive_columns + [ftd.fake_feature]))).stack(level=-1).reset_index()\n",
    "level_column = [col for col in stacked_df.columns if 'level' in str(col)][0]\n",
    "stacked_df.rename(columns={level_column: 'feature', 0: 'feature_value'}, inplace=True)\n",
    "shop_descriptive_df = stacked_df.groupby(['year_month', 'feature', 'feature_value'])[ftd.metric_columns].sum()"
   ]
  },
  {
   "cell_type": "code",
   "execution_count": 106,
   "metadata": {},
   "outputs": [
    {
     "data": {
      "text/html": [
       "<div>\n",
       "<style scoped>\n",
       "    .dataframe tbody tr th:only-of-type {\n",
       "        vertical-align: middle;\n",
       "    }\n",
       "\n",
       "    .dataframe tbody tr th {\n",
       "        vertical-align: top;\n",
       "    }\n",
       "\n",
       "    .dataframe thead th {\n",
       "        text-align: right;\n",
       "    }\n",
       "</style>\n",
       "<table border=\"1\" class=\"dataframe\">\n",
       "  <thead>\n",
       "    <tr style=\"text-align: right;\">\n",
       "      <th></th>\n",
       "      <th></th>\n",
       "      <th></th>\n",
       "      <th>spend_USD</th>\n",
       "      <th>impr</th>\n",
       "      <th>clicks</th>\n",
       "      <th>purch</th>\n",
       "      <th>purch_value_USD</th>\n",
       "      <th>n_ads</th>\n",
       "    </tr>\n",
       "    <tr>\n",
       "      <th>year_month</th>\n",
       "      <th>feature</th>\n",
       "      <th>feature_value</th>\n",
       "      <th></th>\n",
       "      <th></th>\n",
       "      <th></th>\n",
       "      <th></th>\n",
       "      <th></th>\n",
       "      <th></th>\n",
       "    </tr>\n",
       "  </thead>\n",
       "  <tbody>\n",
       "    <tr>\n",
       "      <th>2016-08-01</th>\n",
       "      <th>fake_feature</th>\n",
       "      <th>.</th>\n",
       "      <td>2984.80</td>\n",
       "      <td>279166.0</td>\n",
       "      <td>4834.0</td>\n",
       "      <td>45.0</td>\n",
       "      <td>0.00</td>\n",
       "      <td>41.0</td>\n",
       "    </tr>\n",
       "    <tr>\n",
       "      <th>2016-09-01</th>\n",
       "      <th>fake_feature</th>\n",
       "      <th>.</th>\n",
       "      <td>4722.21</td>\n",
       "      <td>664735.0</td>\n",
       "      <td>10510.0</td>\n",
       "      <td>92.0</td>\n",
       "      <td>0.00</td>\n",
       "      <td>62.0</td>\n",
       "    </tr>\n",
       "    <tr>\n",
       "      <th>2016-10-01</th>\n",
       "      <th>fake_feature</th>\n",
       "      <th>.</th>\n",
       "      <td>4929.56</td>\n",
       "      <td>818328.0</td>\n",
       "      <td>10611.0</td>\n",
       "      <td>221.0</td>\n",
       "      <td>0.00</td>\n",
       "      <td>74.0</td>\n",
       "    </tr>\n",
       "    <tr>\n",
       "      <th>2016-11-01</th>\n",
       "      <th>fake_feature</th>\n",
       "      <th>.</th>\n",
       "      <td>5200.03</td>\n",
       "      <td>973057.0</td>\n",
       "      <td>8421.0</td>\n",
       "      <td>151.0</td>\n",
       "      <td>0.00</td>\n",
       "      <td>74.0</td>\n",
       "    </tr>\n",
       "    <tr>\n",
       "      <th>2016-12-01</th>\n",
       "      <th>fake_feature</th>\n",
       "      <th>.</th>\n",
       "      <td>4140.95</td>\n",
       "      <td>624521.0</td>\n",
       "      <td>5817.0</td>\n",
       "      <td>77.0</td>\n",
       "      <td>0.00</td>\n",
       "      <td>60.0</td>\n",
       "    </tr>\n",
       "    <tr>\n",
       "      <th>...</th>\n",
       "      <th>...</th>\n",
       "      <th>...</th>\n",
       "      <td>...</td>\n",
       "      <td>...</td>\n",
       "      <td>...</td>\n",
       "      <td>...</td>\n",
       "      <td>...</td>\n",
       "      <td>...</td>\n",
       "    </tr>\n",
       "    <tr>\n",
       "      <th>2023-04-01</th>\n",
       "      <th>fake_feature</th>\n",
       "      <th>.</th>\n",
       "      <td>227635.62</td>\n",
       "      <td>13296255.0</td>\n",
       "      <td>126740.0</td>\n",
       "      <td>1546.0</td>\n",
       "      <td>307917.22</td>\n",
       "      <td>20.0</td>\n",
       "    </tr>\n",
       "    <tr>\n",
       "      <th>2023-05-01</th>\n",
       "      <th>fake_feature</th>\n",
       "      <th>.</th>\n",
       "      <td>143810.16</td>\n",
       "      <td>9219372.0</td>\n",
       "      <td>82268.0</td>\n",
       "      <td>1280.0</td>\n",
       "      <td>230801.32</td>\n",
       "      <td>21.0</td>\n",
       "    </tr>\n",
       "    <tr>\n",
       "      <th>2023-06-01</th>\n",
       "      <th>fake_feature</th>\n",
       "      <th>.</th>\n",
       "      <td>137206.08</td>\n",
       "      <td>9432753.0</td>\n",
       "      <td>83510.0</td>\n",
       "      <td>1175.0</td>\n",
       "      <td>189821.41</td>\n",
       "      <td>21.0</td>\n",
       "    </tr>\n",
       "    <tr>\n",
       "      <th>2023-07-01</th>\n",
       "      <th>fake_feature</th>\n",
       "      <th>.</th>\n",
       "      <td>247202.34</td>\n",
       "      <td>15707007.0</td>\n",
       "      <td>159885.0</td>\n",
       "      <td>2384.0</td>\n",
       "      <td>427760.61</td>\n",
       "      <td>60.0</td>\n",
       "    </tr>\n",
       "    <tr>\n",
       "      <th>2023-08-01</th>\n",
       "      <th>fake_feature</th>\n",
       "      <th>.</th>\n",
       "      <td>141439.29</td>\n",
       "      <td>8570155.0</td>\n",
       "      <td>95637.0</td>\n",
       "      <td>1871.0</td>\n",
       "      <td>316236.94</td>\n",
       "      <td>43.0</td>\n",
       "    </tr>\n",
       "  </tbody>\n",
       "</table>\n",
       "<p>77 rows × 6 columns</p>\n",
       "</div>"
      ],
      "text/plain": [
       "                                       spend_USD        impr    clicks  \\\n",
       "year_month feature      feature_value                                    \n",
       "2016-08-01 fake_feature .                2984.80    279166.0    4834.0   \n",
       "2016-09-01 fake_feature .                4722.21    664735.0   10510.0   \n",
       "2016-10-01 fake_feature .                4929.56    818328.0   10611.0   \n",
       "2016-11-01 fake_feature .                5200.03    973057.0    8421.0   \n",
       "2016-12-01 fake_feature .                4140.95    624521.0    5817.0   \n",
       "...                                          ...         ...       ...   \n",
       "2023-04-01 fake_feature .              227635.62  13296255.0  126740.0   \n",
       "2023-05-01 fake_feature .              143810.16   9219372.0   82268.0   \n",
       "2023-06-01 fake_feature .              137206.08   9432753.0   83510.0   \n",
       "2023-07-01 fake_feature .              247202.34  15707007.0  159885.0   \n",
       "2023-08-01 fake_feature .              141439.29   8570155.0   95637.0   \n",
       "\n",
       "                                        purch  purch_value_USD  n_ads  \n",
       "year_month feature      feature_value                                  \n",
       "2016-08-01 fake_feature .                45.0             0.00   41.0  \n",
       "2016-09-01 fake_feature .                92.0             0.00   62.0  \n",
       "2016-10-01 fake_feature .               221.0             0.00   74.0  \n",
       "2016-11-01 fake_feature .               151.0             0.00   74.0  \n",
       "2016-12-01 fake_feature .                77.0             0.00   60.0  \n",
       "...                                       ...              ...    ...  \n",
       "2023-04-01 fake_feature .              1546.0        307917.22   20.0  \n",
       "2023-05-01 fake_feature .              1280.0        230801.32   21.0  \n",
       "2023-06-01 fake_feature .              1175.0        189821.41   21.0  \n",
       "2023-07-01 fake_feature .              2384.0        427760.61   60.0  \n",
       "2023-08-01 fake_feature .              1871.0        316236.94   43.0  \n",
       "\n",
       "[77 rows x 6 columns]"
      ]
     },
     "execution_count": 106,
     "metadata": {},
     "output_type": "execute_result"
    }
   ],
   "source": [
    "sumary_df[sumary_df.index.get_level_values('feature').isin([ftd.fake_feature])]"
   ]
  },
  {
   "cell_type": "code",
   "execution_count": 75,
   "metadata": {},
   "outputs": [],
   "source": [
    "stacked_df = df.set_index(list(set(df.columns) - set(ftd.descriptive_columns + [ftd.fake_feature]))).stack(level=-1).reset_index()\n",
    "level_column = [col for col in stacked_df.columns if 'level' in str(col)][0]\n",
    "stacked_df.rename(columns={level_column: 'feature', 0: 'feature_value'}, inplace=True)"
   ]
  },
  {
   "cell_type": "code",
   "execution_count": 76,
   "metadata": {},
   "outputs": [
    {
     "data": {
      "text/html": [
       "<div>\n",
       "<style scoped>\n",
       "    .dataframe tbody tr th:only-of-type {\n",
       "        vertical-align: middle;\n",
       "    }\n",
       "\n",
       "    .dataframe tbody tr th {\n",
       "        vertical-align: top;\n",
       "    }\n",
       "\n",
       "    .dataframe thead th {\n",
       "        text-align: right;\n",
       "    }\n",
       "</style>\n",
       "<table border=\"1\" class=\"dataframe\">\n",
       "  <thead>\n",
       "    <tr style=\"text-align: right;\">\n",
       "      <th></th>\n",
       "      <th></th>\n",
       "      <th></th>\n",
       "      <th>spend_USD</th>\n",
       "      <th>impr</th>\n",
       "      <th>clicks</th>\n",
       "      <th>purch</th>\n",
       "      <th>purch_value_USD</th>\n",
       "      <th>n_ads</th>\n",
       "    </tr>\n",
       "    <tr>\n",
       "      <th>year_month</th>\n",
       "      <th>feature</th>\n",
       "      <th>feature_value</th>\n",
       "      <th></th>\n",
       "      <th></th>\n",
       "      <th></th>\n",
       "      <th></th>\n",
       "      <th></th>\n",
       "      <th></th>\n",
       "    </tr>\n",
       "  </thead>\n",
       "  <tbody>\n",
       "    <tr>\n",
       "      <th rowspan=\"5\" valign=\"top\">2016-08-01</th>\n",
       "      <th>creative_type</th>\n",
       "      <th>carousel</th>\n",
       "      <td>2984.80</td>\n",
       "      <td>279166.0</td>\n",
       "      <td>4834.0</td>\n",
       "      <td>45.0</td>\n",
       "      <td>0.00</td>\n",
       "      <td>41</td>\n",
       "    </tr>\n",
       "    <tr>\n",
       "      <th rowspan=\"2\" valign=\"top\">cta</th>\n",
       "      <th>False</th>\n",
       "      <td>2714.21</td>\n",
       "      <td>264301.0</td>\n",
       "      <td>4539.0</td>\n",
       "      <td>44.0</td>\n",
       "      <td>0.00</td>\n",
       "      <td>35</td>\n",
       "    </tr>\n",
       "    <tr>\n",
       "      <th>True</th>\n",
       "      <td>270.59</td>\n",
       "      <td>14865.0</td>\n",
       "      <td>295.0</td>\n",
       "      <td>1.0</td>\n",
       "      <td>0.00</td>\n",
       "      <td>6</td>\n",
       "    </tr>\n",
       "    <tr>\n",
       "      <th>discount</th>\n",
       "      <th>True</th>\n",
       "      <td>2984.80</td>\n",
       "      <td>279166.0</td>\n",
       "      <td>4834.0</td>\n",
       "      <td>45.0</td>\n",
       "      <td>0.00</td>\n",
       "      <td>41</td>\n",
       "    </tr>\n",
       "    <tr>\n",
       "      <th>emoji</th>\n",
       "      <th>False</th>\n",
       "      <td>2984.80</td>\n",
       "      <td>279166.0</td>\n",
       "      <td>4834.0</td>\n",
       "      <td>45.0</td>\n",
       "      <td>0.00</td>\n",
       "      <td>41</td>\n",
       "    </tr>\n",
       "    <tr>\n",
       "      <th>...</th>\n",
       "      <th>...</th>\n",
       "      <th>...</th>\n",
       "      <td>...</td>\n",
       "      <td>...</td>\n",
       "      <td>...</td>\n",
       "      <td>...</td>\n",
       "      <td>...</td>\n",
       "      <td>...</td>\n",
       "    </tr>\n",
       "    <tr>\n",
       "      <th rowspan=\"5\" valign=\"top\">2023-08-01</th>\n",
       "      <th rowspan=\"2\" valign=\"top\">target</th>\n",
       "      <th>acquisition</th>\n",
       "      <td>123725.51</td>\n",
       "      <td>7482632.0</td>\n",
       "      <td>86006.0</td>\n",
       "      <td>1085.0</td>\n",
       "      <td>201472.23</td>\n",
       "      <td>30</td>\n",
       "    </tr>\n",
       "    <tr>\n",
       "      <th>remarketing</th>\n",
       "      <td>7702.16</td>\n",
       "      <td>331759.0</td>\n",
       "      <td>1654.0</td>\n",
       "      <td>704.0</td>\n",
       "      <td>101519.60</td>\n",
       "      <td>9</td>\n",
       "    </tr>\n",
       "    <tr>\n",
       "      <th>urgency</th>\n",
       "      <th>False</th>\n",
       "      <td>141439.29</td>\n",
       "      <td>8570155.0</td>\n",
       "      <td>95637.0</td>\n",
       "      <td>1871.0</td>\n",
       "      <td>316236.94</td>\n",
       "      <td>43</td>\n",
       "    </tr>\n",
       "    <tr>\n",
       "      <th>user_addressing</th>\n",
       "      <th>True</th>\n",
       "      <td>141439.29</td>\n",
       "      <td>8570155.0</td>\n",
       "      <td>95637.0</td>\n",
       "      <td>1871.0</td>\n",
       "      <td>316236.94</td>\n",
       "      <td>43</td>\n",
       "    </tr>\n",
       "    <tr>\n",
       "      <th>weasel_words</th>\n",
       "      <th>False</th>\n",
       "      <td>141439.29</td>\n",
       "      <td>8570155.0</td>\n",
       "      <td>95637.0</td>\n",
       "      <td>1871.0</td>\n",
       "      <td>316236.94</td>\n",
       "      <td>43</td>\n",
       "    </tr>\n",
       "  </tbody>\n",
       "</table>\n",
       "<p>1741 rows × 6 columns</p>\n",
       "</div>"
      ],
      "text/plain": [
       "                                          spend_USD       impr   clicks  \\\n",
       "year_month feature         feature_value                                  \n",
       "2016-08-01 creative_type   carousel         2984.80   279166.0   4834.0   \n",
       "           cta             False            2714.21   264301.0   4539.0   \n",
       "                           True              270.59    14865.0    295.0   \n",
       "           discount        True             2984.80   279166.0   4834.0   \n",
       "           emoji           False            2984.80   279166.0   4834.0   \n",
       "...                                             ...        ...      ...   \n",
       "2023-08-01 target          acquisition    123725.51  7482632.0  86006.0   \n",
       "                           remarketing      7702.16   331759.0   1654.0   \n",
       "           urgency         False          141439.29  8570155.0  95637.0   \n",
       "           user_addressing True           141439.29  8570155.0  95637.0   \n",
       "           weasel_words    False          141439.29  8570155.0  95637.0   \n",
       "\n",
       "                                           purch  purch_value_USD  n_ads  \n",
       "year_month feature         feature_value                                  \n",
       "2016-08-01 creative_type   carousel         45.0             0.00     41  \n",
       "           cta             False            44.0             0.00     35  \n",
       "                           True              1.0             0.00      6  \n",
       "           discount        True             45.0             0.00     41  \n",
       "           emoji           False            45.0             0.00     41  \n",
       "...                                          ...              ...    ...  \n",
       "2023-08-01 target          acquisition    1085.0        201472.23     30  \n",
       "                           remarketing     704.0        101519.60      9  \n",
       "           urgency         False          1871.0        316236.94     43  \n",
       "           user_addressing True           1871.0        316236.94     43  \n",
       "           weasel_words    False          1871.0        316236.94     43  \n",
       "\n",
       "[1741 rows x 6 columns]"
      ]
     },
     "execution_count": 76,
     "metadata": {},
     "output_type": "execute_result"
    }
   ],
   "source": [
    "sumary_df = stacked_df.groupby(['year_month', 'feature', 'feature_value'])[ftd.metric_columns].sum()"
   ]
  },
  {
   "cell_type": "code",
   "execution_count": 72,
   "metadata": {},
   "outputs": [
    {
     "data": {
      "text/plain": [
       "['year_month',\n",
       " 'impr',\n",
       " 'n_ads',\n",
       " 'spend_USD',\n",
       " 'purch_value_USD',\n",
       " 'purch',\n",
       " 'clicks',\n",
       " 'level_7',\n",
       " 0]"
      ]
     },
     "execution_count": 72,
     "metadata": {},
     "output_type": "execute_result"
    }
   ],
   "source": [
    "[col for col in stacked_df.columns if '5' in col]"
   ]
  },
  {
   "cell_type": "code",
   "execution_count": 12,
   "metadata": {},
   "outputs": [
    {
     "data": {
      "text/html": [
       "<div>\n",
       "<style scoped>\n",
       "    .dataframe tbody tr th:only-of-type {\n",
       "        vertical-align: middle;\n",
       "    }\n",
       "\n",
       "    .dataframe tbody tr th {\n",
       "        vertical-align: top;\n",
       "    }\n",
       "\n",
       "    .dataframe thead th {\n",
       "        text-align: right;\n",
       "    }\n",
       "</style>\n",
       "<table border=\"1\" class=\"dataframe\">\n",
       "  <thead>\n",
       "    <tr style=\"text-align: right;\">\n",
       "      <th></th>\n",
       "      <th>spend_USD</th>\n",
       "      <th>impr</th>\n",
       "      <th>clicks</th>\n",
       "      <th>purch</th>\n",
       "      <th>purch_value_USD</th>\n",
       "      <th>n_ads</th>\n",
       "    </tr>\n",
       "    <tr>\n",
       "      <th>year_month</th>\n",
       "      <th></th>\n",
       "      <th></th>\n",
       "      <th></th>\n",
       "      <th></th>\n",
       "      <th></th>\n",
       "      <th></th>\n",
       "    </tr>\n",
       "  </thead>\n",
       "  <tbody>\n",
       "    <tr>\n",
       "      <th>2016-08-01</th>\n",
       "      <td>2984.80</td>\n",
       "      <td>279166.0</td>\n",
       "      <td>4834.0</td>\n",
       "      <td>45.0</td>\n",
       "      <td>0.00</td>\n",
       "      <td>41</td>\n",
       "    </tr>\n",
       "    <tr>\n",
       "      <th>2016-09-01</th>\n",
       "      <td>4722.21</td>\n",
       "      <td>664735.0</td>\n",
       "      <td>10510.0</td>\n",
       "      <td>92.0</td>\n",
       "      <td>0.00</td>\n",
       "      <td>62</td>\n",
       "    </tr>\n",
       "    <tr>\n",
       "      <th>2016-10-01</th>\n",
       "      <td>4929.56</td>\n",
       "      <td>818328.0</td>\n",
       "      <td>10611.0</td>\n",
       "      <td>221.0</td>\n",
       "      <td>0.00</td>\n",
       "      <td>74</td>\n",
       "    </tr>\n",
       "    <tr>\n",
       "      <th>2016-11-01</th>\n",
       "      <td>5200.03</td>\n",
       "      <td>973057.0</td>\n",
       "      <td>8421.0</td>\n",
       "      <td>151.0</td>\n",
       "      <td>0.00</td>\n",
       "      <td>74</td>\n",
       "    </tr>\n",
       "    <tr>\n",
       "      <th>2016-12-01</th>\n",
       "      <td>4140.95</td>\n",
       "      <td>624521.0</td>\n",
       "      <td>5817.0</td>\n",
       "      <td>77.0</td>\n",
       "      <td>0.00</td>\n",
       "      <td>60</td>\n",
       "    </tr>\n",
       "    <tr>\n",
       "      <th>...</th>\n",
       "      <td>...</td>\n",
       "      <td>...</td>\n",
       "      <td>...</td>\n",
       "      <td>...</td>\n",
       "      <td>...</td>\n",
       "      <td>...</td>\n",
       "    </tr>\n",
       "    <tr>\n",
       "      <th>2023-04-01</th>\n",
       "      <td>227635.62</td>\n",
       "      <td>13296255.0</td>\n",
       "      <td>126740.0</td>\n",
       "      <td>1546.0</td>\n",
       "      <td>307917.22</td>\n",
       "      <td>20</td>\n",
       "    </tr>\n",
       "    <tr>\n",
       "      <th>2023-05-01</th>\n",
       "      <td>143810.16</td>\n",
       "      <td>9219372.0</td>\n",
       "      <td>82268.0</td>\n",
       "      <td>1280.0</td>\n",
       "      <td>230801.32</td>\n",
       "      <td>21</td>\n",
       "    </tr>\n",
       "    <tr>\n",
       "      <th>2023-06-01</th>\n",
       "      <td>137206.08</td>\n",
       "      <td>9432753.0</td>\n",
       "      <td>83510.0</td>\n",
       "      <td>1175.0</td>\n",
       "      <td>189821.41</td>\n",
       "      <td>21</td>\n",
       "    </tr>\n",
       "    <tr>\n",
       "      <th>2023-07-01</th>\n",
       "      <td>247202.34</td>\n",
       "      <td>15707007.0</td>\n",
       "      <td>159885.0</td>\n",
       "      <td>2384.0</td>\n",
       "      <td>427760.61</td>\n",
       "      <td>60</td>\n",
       "    </tr>\n",
       "    <tr>\n",
       "      <th>2023-08-01</th>\n",
       "      <td>141439.29</td>\n",
       "      <td>8570155.0</td>\n",
       "      <td>95637.0</td>\n",
       "      <td>1871.0</td>\n",
       "      <td>316236.94</td>\n",
       "      <td>43</td>\n",
       "    </tr>\n",
       "  </tbody>\n",
       "</table>\n",
       "<p>77 rows × 6 columns</p>\n",
       "</div>"
      ],
      "text/plain": [
       "            spend_USD        impr    clicks   purch  purch_value_USD  n_ads\n",
       "year_month                                                                 \n",
       "2016-08-01    2984.80    279166.0    4834.0    45.0             0.00     41\n",
       "2016-09-01    4722.21    664735.0   10510.0    92.0             0.00     62\n",
       "2016-10-01    4929.56    818328.0   10611.0   221.0             0.00     74\n",
       "2016-11-01    5200.03    973057.0    8421.0   151.0             0.00     74\n",
       "2016-12-01    4140.95    624521.0    5817.0    77.0             0.00     60\n",
       "...               ...         ...       ...     ...              ...    ...\n",
       "2023-04-01  227635.62  13296255.0  126740.0  1546.0        307917.22     20\n",
       "2023-05-01  143810.16   9219372.0   82268.0  1280.0        230801.32     21\n",
       "2023-06-01  137206.08   9432753.0   83510.0  1175.0        189821.41     21\n",
       "2023-07-01  247202.34  15707007.0  159885.0  2384.0        427760.61     60\n",
       "2023-08-01  141439.29   8570155.0   95637.0  1871.0        316236.94     43\n",
       "\n",
       "[77 rows x 6 columns]"
      ]
     },
     "execution_count": 12,
     "metadata": {},
     "output_type": "execute_result"
    }
   ],
   "source": [
    "df.groupby(['year_month'])[ftd.metric_columns].sum()"
   ]
  },
  {
   "cell_type": "code",
   "execution_count": 13,
   "metadata": {},
   "outputs": [
    {
     "data": {
      "text/html": [
       "<div>\n",
       "<style scoped>\n",
       "    .dataframe tbody tr th:only-of-type {\n",
       "        vertical-align: middle;\n",
       "    }\n",
       "\n",
       "    .dataframe tbody tr th {\n",
       "        vertical-align: top;\n",
       "    }\n",
       "\n",
       "    .dataframe thead th {\n",
       "        text-align: right;\n",
       "    }\n",
       "</style>\n",
       "<table border=\"1\" class=\"dataframe\">\n",
       "  <thead>\n",
       "    <tr style=\"text-align: right;\">\n",
       "      <th></th>\n",
       "      <th>shop_id</th>\n",
       "      <th>account_id</th>\n",
       "      <th>ad_id</th>\n",
       "      <th>creative_type</th>\n",
       "      <th>title</th>\n",
       "      <th>primary</th>\n",
       "      <th>description</th>\n",
       "      <th>cta</th>\n",
       "      <th>discount</th>\n",
       "      <th>emoji</th>\n",
       "      <th>...</th>\n",
       "      <th>adset_id</th>\n",
       "      <th>spend</th>\n",
       "      <th>impr</th>\n",
       "      <th>clicks</th>\n",
       "      <th>purch</th>\n",
       "      <th>purch_value</th>\n",
       "      <th>year_month</th>\n",
       "      <th>spend_USD</th>\n",
       "      <th>purch_value_USD</th>\n",
       "      <th>n_ads</th>\n",
       "    </tr>\n",
       "  </thead>\n",
       "  <tbody>\n",
       "    <tr>\n",
       "      <th>0</th>\n",
       "      <td>16038</td>\n",
       "      <td>923409341101559</td>\n",
       "      <td>23842502774150755</td>\n",
       "      <td>carousel</td>\n",
       "      <td>[]</td>\n",
       "      <td>[Fresh Fall Collections at FEW MODA, 10% OFF F...</td>\n",
       "      <td>[10% OFF Your First Order]</td>\n",
       "      <td>False</td>\n",
       "      <td>True</td>\n",
       "      <td>False</td>\n",
       "      <td>...</td>\n",
       "      <td>23842502773950755</td>\n",
       "      <td>15.78</td>\n",
       "      <td>1697.0</td>\n",
       "      <td>21.0</td>\n",
       "      <td>2.0</td>\n",
       "      <td>0.00</td>\n",
       "      <td>2016-08-01</td>\n",
       "      <td>15.78</td>\n",
       "      <td>0.00</td>\n",
       "      <td>1</td>\n",
       "    </tr>\n",
       "    <tr>\n",
       "      <th>1</th>\n",
       "      <td>16038</td>\n",
       "      <td>923409341101559</td>\n",
       "      <td>23842502774270755</td>\n",
       "      <td>carousel</td>\n",
       "      <td>[]</td>\n",
       "      <td>[FEW MODA 2016 Fall Collections-Part I, Free S...</td>\n",
       "      <td>[10% OFF Your First Order]</td>\n",
       "      <td>False</td>\n",
       "      <td>True</td>\n",
       "      <td>False</td>\n",
       "      <td>...</td>\n",
       "      <td>23842502773990755</td>\n",
       "      <td>7.25</td>\n",
       "      <td>284.0</td>\n",
       "      <td>5.0</td>\n",
       "      <td>0.0</td>\n",
       "      <td>0.00</td>\n",
       "      <td>2016-08-01</td>\n",
       "      <td>7.25</td>\n",
       "      <td>0.00</td>\n",
       "      <td>1</td>\n",
       "    </tr>\n",
       "    <tr>\n",
       "      <th>2</th>\n",
       "      <td>16038</td>\n",
       "      <td>923409341101559</td>\n",
       "      <td>23842502774380755</td>\n",
       "      <td>carousel</td>\n",
       "      <td>[]</td>\n",
       "      <td>[Fresh Fall Collections at FEW MODA, 10% OFF F...</td>\n",
       "      <td>[10% OFF Your First Purchase, 10% OFF Your Fir...</td>\n",
       "      <td>False</td>\n",
       "      <td>True</td>\n",
       "      <td>False</td>\n",
       "      <td>...</td>\n",
       "      <td>23842502773960755</td>\n",
       "      <td>15.48</td>\n",
       "      <td>1779.0</td>\n",
       "      <td>13.0</td>\n",
       "      <td>0.0</td>\n",
       "      <td>0.00</td>\n",
       "      <td>2016-08-01</td>\n",
       "      <td>15.48</td>\n",
       "      <td>0.00</td>\n",
       "      <td>1</td>\n",
       "    </tr>\n",
       "    <tr>\n",
       "      <th>3</th>\n",
       "      <td>16038</td>\n",
       "      <td>923409341101559</td>\n",
       "      <td>23842502774390755</td>\n",
       "      <td>carousel</td>\n",
       "      <td>[]</td>\n",
       "      <td>[Summer Time Pleasure! 10% OFF Code: FEWMODASU...</td>\n",
       "      <td>[10% OFF with FEWMODASUMMERPLEASURE]</td>\n",
       "      <td>False</td>\n",
       "      <td>True</td>\n",
       "      <td>False</td>\n",
       "      <td>...</td>\n",
       "      <td>23842502773990755</td>\n",
       "      <td>5.85</td>\n",
       "      <td>246.0</td>\n",
       "      <td>1.0</td>\n",
       "      <td>0.0</td>\n",
       "      <td>0.00</td>\n",
       "      <td>2016-08-01</td>\n",
       "      <td>5.85</td>\n",
       "      <td>0.00</td>\n",
       "      <td>1</td>\n",
       "    </tr>\n",
       "    <tr>\n",
       "      <th>4</th>\n",
       "      <td>16038</td>\n",
       "      <td>923409341101559</td>\n",
       "      <td>23842502774480755</td>\n",
       "      <td>carousel</td>\n",
       "      <td>[]</td>\n",
       "      <td>[Fresh Fall Collections at FEW MODA, 10% OFF F...</td>\n",
       "      <td>[10% OFF Your First Order]</td>\n",
       "      <td>False</td>\n",
       "      <td>True</td>\n",
       "      <td>False</td>\n",
       "      <td>...</td>\n",
       "      <td>23842502773980755</td>\n",
       "      <td>18.53</td>\n",
       "      <td>2537.0</td>\n",
       "      <td>15.0</td>\n",
       "      <td>0.0</td>\n",
       "      <td>0.00</td>\n",
       "      <td>2016-08-01</td>\n",
       "      <td>18.53</td>\n",
       "      <td>0.00</td>\n",
       "      <td>1</td>\n",
       "    </tr>\n",
       "    <tr>\n",
       "      <th>...</th>\n",
       "      <td>...</td>\n",
       "      <td>...</td>\n",
       "      <td>...</td>\n",
       "      <td>...</td>\n",
       "      <td>...</td>\n",
       "      <td>...</td>\n",
       "      <td>...</td>\n",
       "      <td>...</td>\n",
       "      <td>...</td>\n",
       "      <td>...</td>\n",
       "      <td>...</td>\n",
       "      <td>...</td>\n",
       "      <td>...</td>\n",
       "      <td>...</td>\n",
       "      <td>...</td>\n",
       "      <td>...</td>\n",
       "      <td>...</td>\n",
       "      <td>...</td>\n",
       "      <td>...</td>\n",
       "      <td>...</td>\n",
       "      <td>...</td>\n",
       "    </tr>\n",
       "    <tr>\n",
       "      <th>3460</th>\n",
       "      <td>16038</td>\n",
       "      <td>923409341101559</td>\n",
       "      <td>23857024785990755</td>\n",
       "      <td>dynamic</td>\n",
       "      <td>[Change the Way You Shop]</td>\n",
       "      <td>[Get summer-ready in styles with our high-qual...</td>\n",
       "      <td>[⭐⭐⭐⭐⭐]</td>\n",
       "      <td>False</td>\n",
       "      <td>False</td>\n",
       "      <td>True</td>\n",
       "      <td>...</td>\n",
       "      <td>23856265061000755</td>\n",
       "      <td>45.27</td>\n",
       "      <td>895.0</td>\n",
       "      <td>7.0</td>\n",
       "      <td>5.0</td>\n",
       "      <td>528.00</td>\n",
       "      <td>2023-08-01</td>\n",
       "      <td>45.27</td>\n",
       "      <td>528.00</td>\n",
       "      <td>1</td>\n",
       "    </tr>\n",
       "    <tr>\n",
       "      <th>3461</th>\n",
       "      <td>16038</td>\n",
       "      <td>923409341101559</td>\n",
       "      <td>23857029567760755</td>\n",
       "      <td>dynamic</td>\n",
       "      <td>[Change the Way You Shop]</td>\n",
       "      <td>[Get summer-ready in styles with our high-qual...</td>\n",
       "      <td>[⭐⭐⭐⭐⭐]</td>\n",
       "      <td>False</td>\n",
       "      <td>False</td>\n",
       "      <td>True</td>\n",
       "      <td>...</td>\n",
       "      <td>23857029567770755</td>\n",
       "      <td>4368.77</td>\n",
       "      <td>299836.0</td>\n",
       "      <td>3322.0</td>\n",
       "      <td>32.0</td>\n",
       "      <td>6334.00</td>\n",
       "      <td>2023-08-01</td>\n",
       "      <td>4368.77</td>\n",
       "      <td>6334.00</td>\n",
       "      <td>1</td>\n",
       "    </tr>\n",
       "    <tr>\n",
       "      <th>3462</th>\n",
       "      <td>16038</td>\n",
       "      <td>923409341101559</td>\n",
       "      <td>23857029576390755</td>\n",
       "      <td>dynamic</td>\n",
       "      <td>[Change the Way You Shop]</td>\n",
       "      <td>[Get summer-ready in styles with our high-qual...</td>\n",
       "      <td>[⭐⭐⭐⭐⭐]</td>\n",
       "      <td>False</td>\n",
       "      <td>False</td>\n",
       "      <td>True</td>\n",
       "      <td>...</td>\n",
       "      <td>23857029576400755</td>\n",
       "      <td>2582.31</td>\n",
       "      <td>193128.0</td>\n",
       "      <td>1759.0</td>\n",
       "      <td>25.0</td>\n",
       "      <td>3812.50</td>\n",
       "      <td>2023-08-01</td>\n",
       "      <td>2582.31</td>\n",
       "      <td>3812.50</td>\n",
       "      <td>1</td>\n",
       "    </tr>\n",
       "    <tr>\n",
       "      <th>3463</th>\n",
       "      <td>16038</td>\n",
       "      <td>923409341101559</td>\n",
       "      <td>23857109574380755</td>\n",
       "      <td>dynamic</td>\n",
       "      <td>[Change the Way You Shop]</td>\n",
       "      <td>[Embrace Effortless Elegance 🌸]</td>\n",
       "      <td>[⭐⭐⭐⭐⭐]</td>\n",
       "      <td>False</td>\n",
       "      <td>False</td>\n",
       "      <td>True</td>\n",
       "      <td>...</td>\n",
       "      <td>23857109574390755</td>\n",
       "      <td>1748.24</td>\n",
       "      <td>132285.0</td>\n",
       "      <td>2393.0</td>\n",
       "      <td>15.0</td>\n",
       "      <td>2054.61</td>\n",
       "      <td>2023-08-01</td>\n",
       "      <td>1748.24</td>\n",
       "      <td>2054.61</td>\n",
       "      <td>1</td>\n",
       "    </tr>\n",
       "    <tr>\n",
       "      <th>3464</th>\n",
       "      <td>16038</td>\n",
       "      <td>923409341101559</td>\n",
       "      <td>23857109583720755</td>\n",
       "      <td>dynamic</td>\n",
       "      <td>[Change the Way You Shop]</td>\n",
       "      <td>[Embrace Effortless Elegance 🌸]</td>\n",
       "      <td>[⭐⭐⭐⭐⭐]</td>\n",
       "      <td>False</td>\n",
       "      <td>False</td>\n",
       "      <td>True</td>\n",
       "      <td>...</td>\n",
       "      <td>23857109583730755</td>\n",
       "      <td>1312.30</td>\n",
       "      <td>130515.0</td>\n",
       "      <td>503.0</td>\n",
       "      <td>10.0</td>\n",
       "      <td>1044.00</td>\n",
       "      <td>2023-08-01</td>\n",
       "      <td>1312.30</td>\n",
       "      <td>1044.00</td>\n",
       "      <td>1</td>\n",
       "    </tr>\n",
       "  </tbody>\n",
       "</table>\n",
       "<p>3465 rows × 32 columns</p>\n",
       "</div>"
      ],
      "text/plain": [
       "      shop_id       account_id              ad_id creative_type  \\\n",
       "0       16038  923409341101559  23842502774150755      carousel   \n",
       "1       16038  923409341101559  23842502774270755      carousel   \n",
       "2       16038  923409341101559  23842502774380755      carousel   \n",
       "3       16038  923409341101559  23842502774390755      carousel   \n",
       "4       16038  923409341101559  23842502774480755      carousel   \n",
       "...       ...              ...                ...           ...   \n",
       "3460    16038  923409341101559  23857024785990755       dynamic   \n",
       "3461    16038  923409341101559  23857029567760755       dynamic   \n",
       "3462    16038  923409341101559  23857029576390755       dynamic   \n",
       "3463    16038  923409341101559  23857109574380755       dynamic   \n",
       "3464    16038  923409341101559  23857109583720755       dynamic   \n",
       "\n",
       "                          title  \\\n",
       "0                            []   \n",
       "1                            []   \n",
       "2                            []   \n",
       "3                            []   \n",
       "4                            []   \n",
       "...                         ...   \n",
       "3460  [Change the Way You Shop]   \n",
       "3461  [Change the Way You Shop]   \n",
       "3462  [Change the Way You Shop]   \n",
       "3463  [Change the Way You Shop]   \n",
       "3464  [Change the Way You Shop]   \n",
       "\n",
       "                                                primary  \\\n",
       "0     [Fresh Fall Collections at FEW MODA, 10% OFF F...   \n",
       "1     [FEW MODA 2016 Fall Collections-Part I, Free S...   \n",
       "2     [Fresh Fall Collections at FEW MODA, 10% OFF F...   \n",
       "3     [Summer Time Pleasure! 10% OFF Code: FEWMODASU...   \n",
       "4     [Fresh Fall Collections at FEW MODA, 10% OFF F...   \n",
       "...                                                 ...   \n",
       "3460  [Get summer-ready in styles with our high-qual...   \n",
       "3461  [Get summer-ready in styles with our high-qual...   \n",
       "3462  [Get summer-ready in styles with our high-qual...   \n",
       "3463                    [Embrace Effortless Elegance 🌸]   \n",
       "3464                    [Embrace Effortless Elegance 🌸]   \n",
       "\n",
       "                                            description    cta  discount  \\\n",
       "0                            [10% OFF Your First Order]  False      True   \n",
       "1                            [10% OFF Your First Order]  False      True   \n",
       "2     [10% OFF Your First Purchase, 10% OFF Your Fir...  False      True   \n",
       "3                  [10% OFF with FEWMODASUMMERPLEASURE]  False      True   \n",
       "4                            [10% OFF Your First Order]  False      True   \n",
       "...                                                 ...    ...       ...   \n",
       "3460                                            [⭐⭐⭐⭐⭐]  False     False   \n",
       "3461                                            [⭐⭐⭐⭐⭐]  False     False   \n",
       "3462                                            [⭐⭐⭐⭐⭐]  False     False   \n",
       "3463                                            [⭐⭐⭐⭐⭐]  False     False   \n",
       "3464                                            [⭐⭐⭐⭐⭐]  False     False   \n",
       "\n",
       "      emoji  ...           adset_id    spend      impr  clicks  purch  \\\n",
       "0     False  ...  23842502773950755    15.78    1697.0    21.0    2.0   \n",
       "1     False  ...  23842502773990755     7.25     284.0     5.0    0.0   \n",
       "2     False  ...  23842502773960755    15.48    1779.0    13.0    0.0   \n",
       "3     False  ...  23842502773990755     5.85     246.0     1.0    0.0   \n",
       "4     False  ...  23842502773980755    18.53    2537.0    15.0    0.0   \n",
       "...     ...  ...                ...      ...       ...     ...    ...   \n",
       "3460   True  ...  23856265061000755    45.27     895.0     7.0    5.0   \n",
       "3461   True  ...  23857029567770755  4368.77  299836.0  3322.0   32.0   \n",
       "3462   True  ...  23857029576400755  2582.31  193128.0  1759.0   25.0   \n",
       "3463   True  ...  23857109574390755  1748.24  132285.0  2393.0   15.0   \n",
       "3464   True  ...  23857109583730755  1312.30  130515.0   503.0   10.0   \n",
       "\n",
       "      purch_value  year_month  spend_USD  purch_value_USD  n_ads  \n",
       "0            0.00  2016-08-01      15.78             0.00      1  \n",
       "1            0.00  2016-08-01       7.25             0.00      1  \n",
       "2            0.00  2016-08-01      15.48             0.00      1  \n",
       "3            0.00  2016-08-01       5.85             0.00      1  \n",
       "4            0.00  2016-08-01      18.53             0.00      1  \n",
       "...           ...         ...        ...              ...    ...  \n",
       "3460       528.00  2023-08-01      45.27           528.00      1  \n",
       "3461      6334.00  2023-08-01    4368.77          6334.00      1  \n",
       "3462      3812.50  2023-08-01    2582.31          3812.50      1  \n",
       "3463      2054.61  2023-08-01    1748.24          2054.61      1  \n",
       "3464      1044.00  2023-08-01    1312.30          1044.00      1  \n",
       "\n",
       "[3465 rows x 32 columns]"
      ]
     },
     "execution_count": 13,
     "metadata": {},
     "output_type": "execute_result"
    }
   ],
   "source": [
    "df"
   ]
  },
  {
   "cell_type": "code",
   "execution_count": 26,
   "metadata": {},
   "outputs": [],
   "source": [
    "class A(ABC):\n",
    "    @classmethod\n",
    "    @abstractmethod\n",
    "    def konj():\n",
    "        pass"
   ]
  },
  {
   "cell_type": "code",
   "execution_count": 27,
   "metadata": {},
   "outputs": [],
   "source": [
    "class B(A):\n",
    "    def konj():\n",
    "        print('hola')"
   ]
  },
  {
   "cell_type": "code",
   "execution_count": 28,
   "metadata": {},
   "outputs": [
    {
     "name": "stdout",
     "output_type": "stream",
     "text": [
      "hola\n"
     ]
    }
   ],
   "source": [
    "B.konj()"
   ]
  },
  {
   "cell_type": "code",
   "execution_count": 12,
   "metadata": {},
   "outputs": [],
   "source": [
    "class B(A):\n",
    "    pass"
   ]
  },
  {
   "cell_type": "code",
   "execution_count": 13,
   "metadata": {},
   "outputs": [
    {
     "name": "stdout",
     "output_type": "stream",
     "text": [
      "b\n"
     ]
    }
   ],
   "source": [
    "a = B()\n",
    "a.konj()"
   ]
  },
  {
   "cell_type": "code",
   "execution_count": 3,
   "metadata": {},
   "outputs": [
    {
     "data": {
      "text/plain": [
       "True"
      ]
     },
     "execution_count": 3,
     "metadata": {},
     "output_type": "execute_result"
    }
   ],
   "source": [
    "DescriptiveDF.main in os.path.join('konj', DescriptiveDF.main)"
   ]
  },
  {
   "cell_type": "code",
   "execution_count": null,
   "metadata": {},
   "outputs": [],
   "source": [
    "df = ftd"
   ]
  },
  {
   "cell_type": "code",
   "execution_count": 2,
   "metadata": {},
   "outputs": [],
   "source": [
    "folder = 'proba1'\n",
    "path = 'proba1/hopla.csv'\n",
    "df = pd.DataFrame([[1, 0]])\n",
    "save_csv_to_s3(df=df, path=path, add_global_folder=False)"
   ]
  },
  {
   "cell_type": "code",
   "execution_count": 3,
   "metadata": {},
   "outputs": [],
   "source": [
    "bucket = 'creative-features'\n",
    "copy_source = {\n",
    "    \"Bucket\": bucket,\n",
    "    \"Key\": 'proba1/hopla.csv',\n",
    "}\n",
    "s3_client.copy(copy_source, bucket, 'proba2/hopla.csv')"
   ]
  },
  {
   "cell_type": "code",
   "execution_count": 5,
   "metadata": {},
   "outputs": [
    {
     "name": "stderr",
     "output_type": "stream",
     "text": [
      "\u001b[32m2023-08-18 10:01:34.741\u001b[0m | \u001b[34m\u001b[1mDEBUG   \u001b[0m | \u001b[36msrc.utils.s3.delete_from_s3\u001b[0m:\u001b[36mdelete_from_s3\u001b[0m:\u001b[36m15\u001b[0m - \u001b[34m\u001b[1mprefix = 'proba2/'\u001b[0m\n"
     ]
    }
   ],
   "source": [
    "delete_from_s3(prefix='proba2/')"
   ]
  },
  {
   "cell_type": "code",
   "execution_count": 6,
   "metadata": {},
   "outputs": [
    {
     "name": "stderr",
     "output_type": "stream",
     "text": [
      "\u001b[32m2023-08-18 10:01:49.897\u001b[0m | \u001b[34m\u001b[1mDEBUG   \u001b[0m | \u001b[36msrc.utils.s3.utils\u001b[0m:\u001b[36mlist_objects_from_prefix\u001b[0m:\u001b[36m45\u001b[0m - \u001b[34m\u001b[1mraw prefix = proba1\u001b[0m\n",
      "\u001b[32m2023-08-18 10:01:49.903\u001b[0m | \u001b[34m\u001b[1mDEBUG   \u001b[0m | \u001b[36msrc.utils.s3.copy_on_s3\u001b[0m:\u001b[36mcopy_on_s3\u001b[0m:\u001b[36m26\u001b[0m - \u001b[34m\u001b[1mobj_path = 'proba1/hopla.csv', new_path = 'proba2/hopla.csv', creative-features\u001b[0m\n"
     ]
    }
   ],
   "source": [
    "copy_on_s3(original_prefix=folder, target_prefix='proba2/', add_global_folder=False)"
   ]
  },
  {
   "cell_type": "code",
   "execution_count": 2,
   "metadata": {},
   "outputs": [
    {
     "name": "stderr",
     "output_type": "stream",
     "text": [
      "\u001b[32m2023-08-18 08:03:42.564\u001b[0m | \u001b[34m\u001b[1mDEBUG   \u001b[0m | \u001b[36msrc.utils.s3.utils\u001b[0m:\u001b[36mlist_objects_from_prefix\u001b[0m:\u001b[36m44\u001b[0m - \u001b[34m\u001b[1mraw prefix = prod\u001b[0m\n"
     ]
    },
    {
     "name": "stdout",
     "output_type": "stream",
     "text": [
      "['prod/', 'prod/data/fb_images/', 'prod/data/fb_images/color_analysis/', 'prod/data/fb_images/color_analysis/final.csv', 'prod/data/fb_images/color_analysis/final_by_shop.csv', 'prod/data/fb_images/color_analysis/image.csv', 'prod/data/fb_images/color_analysis/images_1000px/images/a6bdac16-e374-11ed-a595-66c93374e280.png', 'prod/data/fb_images/color_analysis/images_1000px/images/a6bdacd4-e374-11ed-a595-66c93374e280.png', 'prod/data/fb_images/color_analysis/images_1000px/images/a6bdace8-e374-11ed-a595-66c93374e280.png', 'prod/data/fb_images/color_analysis/images_1000px/images/a6bdacf2-e374-11ed-a595-66c93374e280.png', 'prod/data/fb_images/color_analysis/images_1000px/images/a6bdacfc-e374-11ed-a595-66c93374e280.png', 'prod/data/fb_images/color_analysis/images_1000px/images/a6bdad06-e374-11ed-a595-66c93374e280.png', 'prod/data/fb_images/color_analysis/images_1000px/images/a6bdad10-e374-11ed-a595-66c93374e280.png', 'prod/data/fb_images/color_analysis/images_1000px/images/a6bdad1a-e374-11ed-a595-66c93374e280.png', 'prod/data/fb_images/color_analysis/images_1000px/images/a6bdad24-e374-11ed-a595-66c93374e280.png', 'prod/data/fb_images/color_analysis/images_1000px/images/a6bdad2e-e374-11ed-a595-66c93374e280.png', 'prod/data/fb_images/color_analysis/images_1000px/images/a6bdad2f-e374-11ed-a595-66c93374e280.png', 'prod/data/fb_images/color_analysis/images_1000px/images/a6bdad38-e374-11ed-a595-66c93374e280.png', 'prod/data/fb_images/color_analysis/images_1000px/images/a6bdad4c-e374-11ed-a595-66c93374e280.png', 'prod/data/fb_images/color_analysis/images_1000px/images/a6bdad56-e374-11ed-a595-66c93374e280.png', 'prod/data/fb_images/color_analysis/images_1000px/images/a6bdad57-e374-11ed-a595-66c93374e280.png', 'prod/data/fb_images/color_analysis/images_1000px/images/a6bdad60-e374-11ed-a595-66c93374e280.png', 'prod/data/fb_images/color_analysis/images_1000px/images/a6bdad6a-e374-11ed-a595-66c93374e280.png', 'prod/data/fb_images/color_analysis/images_1000px/images/a6bdad74-e374-11ed-a595-66c93374e280.png', 'prod/data/fb_images/color_analysis/images_1000px/images/a6bdad7e-e374-11ed-a595-66c93374e280.png', 'prod/data/fb_images/color_analysis/images_1000px/images/a6bdad88-e374-11ed-a595-66c93374e280.png', 'prod/data/fb_images/color_analysis/images_1000px/images/a6bdad92-e374-11ed-a595-66c93374e280.png', 'prod/data/fb_images/color_analysis/images_1000px/images/a6bdad9c-e374-11ed-a595-66c93374e280.png', 'prod/data/fb_images/color_analysis/images_1000px/images/a6bdada6-e374-11ed-a595-66c93374e280.png', 'prod/data/fb_images/color_analysis/images_1000px/images/a6bdadb0-e374-11ed-a595-66c93374e280.png', 'prod/data/fb_images/color_analysis/images_1000px/images/a6bdadba-e374-11ed-a595-66c93374e280.png', 'prod/data/fb_images/color_analysis/images_1000px/images/a6bdadbb-e374-11ed-a595-66c93374e280.png', 'prod/data/fb_images/color_analysis/images_1000px/images/a6bdadc4-e374-11ed-a595-66c93374e280.png', 'prod/data/fb_images/color_analysis/images_1000px/images/a6bdadce-e374-11ed-a595-66c93374e280.png', 'prod/data/fb_images/color_analysis/images_1000px/images/a6bdadd8-e374-11ed-a595-66c93374e280.png', 'prod/data/fb_images/color_analysis/images_1000px/images/a6bdade2-e374-11ed-a595-66c93374e280.png', 'prod/data/fb_images/color_analysis/images_1000px/images/a6bdadec-e374-11ed-a595-66c93374e280.png', 'prod/data/fb_images/color_analysis/images_1000px/images/a6bdadf6-e374-11ed-a595-66c93374e280.png', 'prod/data/fb_images/color_analysis/images_1000px/images/a6bdadf7-e374-11ed-a595-66c93374e280.png', 'prod/data/fb_images/color_analysis/images_1000px/images/a6bdae00-e374-11ed-a595-66c93374e280.png', 'prod/data/fb_images/color_analysis/images_1000px/images/a6bdae0a-e374-11ed-a595-66c93374e280.png', 'prod/data/fb_images/color_analysis/images_1000px/images/a6bdae14-e374-11ed-a595-66c93374e280.png', 'prod/data/fb_images/color_analysis/images_1000px/images/a6bdae1e-e374-11ed-a595-66c93374e280.png', 'prod/data/fb_images/color_analysis/images_1000px/images/a6bdae28-e374-11ed-a595-66c93374e280.png', 'prod/data/fb_images/color_analysis/images_1000px/images/a6bdae32-e374-11ed-a595-66c93374e280.png', 'prod/data/fb_images/color_analysis/images_1000px/images/a6bdae3c-e374-11ed-a595-66c93374e280.png', 'prod/data/fb_images/color_analysis/images_1000px/images/a6bdae3d-e374-11ed-a595-66c93374e280.png', 'prod/data/fb_images/color_analysis/images_1000px/images/a6bdae46-e374-11ed-a595-66c93374e280.png', 'prod/data/fb_images/color_analysis/images_1000px/images/a6bdae50-e374-11ed-a595-66c93374e280.png', 'prod/data/fb_images/color_analysis/images_1000px/images/a6bdae5a-e374-11ed-a595-66c93374e280.png', 'prod/data/fb_images/color_analysis/images_1000px/images/a6bdae64-e374-11ed-a595-66c93374e280.png', 'prod/data/fb_images/color_analysis/images_1000px/images/a6bdae6e-e374-11ed-a595-66c93374e280.png', 'prod/data/fb_images/color_analysis/images_1000px/images/a6bdae78-e374-11ed-a595-66c93374e280.png', 'prod/data/fb_images/color_analysis/images_1000px/images/a6bdae82-e374-11ed-a595-66c93374e280.png', 'prod/data/fb_images/color_analysis/images_1000px/images/a6bdae83-e374-11ed-a595-66c93374e280.png', 'prod/data/fb_images/color_analysis/images_1000px/images/a6bdae8c-e374-11ed-a595-66c93374e280.png', 'prod/data/fb_images/color_analysis/images_1000px/images/a6bdae96-e374-11ed-a595-66c93374e280.png', 'prod/data/fb_images/color_analysis/images_1000px/images/a6bdaea0-e374-11ed-a595-66c93374e280.png', 'prod/data/fb_images/color_analysis/images_1000px/images/a6bdaeaa-e374-11ed-a595-66c93374e280.png', 'prod/data/fb_images/color_analysis/images_1000px/images/a6bdaeb4-e374-11ed-a595-66c93374e280.png', 'prod/data/fb_images/color_analysis/images_1000px/images/a6bdaeb5-e374-11ed-a595-66c93374e280.png', 'prod/data/fb_images/color_analysis/images_1000px/images/a6bdaebe-e374-11ed-a595-66c93374e280.png', 'prod/data/fb_images/color_analysis/images_1000px/images/a6bdaec8-e374-11ed-a595-66c93374e280.png', 'prod/data/fb_images/color_analysis/images_1000px/images/a6bdb062-e374-11ed-a595-66c93374e280.png', 'prod/data/fb_images/color_analysis/images_1000px/images/a6bdb06c-e374-11ed-a595-66c93374e280.png', 'prod/data/fb_images/color_analysis/images_1000px/images/a6bdb076-e374-11ed-a595-66c93374e280.png', 'prod/data/fb_images/color_analysis/images_1000px/images/a6bdb080-e374-11ed-a595-66c93374e280.png', 'prod/data/fb_images/color_analysis/images_1000px/images/a6bdb081-e374-11ed-a595-66c93374e280.png', 'prod/data/fb_images/color_analysis/images_1000px/images/a6bdb08a-e374-11ed-a595-66c93374e280.png', 'prod/data/fb_images/color_analysis/images_1000px/images/a6bdb094-e374-11ed-a595-66c93374e280.png', 'prod/data/fb_images/color_analysis/images_1000px/images/a6bdb09e-e374-11ed-a595-66c93374e280.png', 'prod/data/fb_images/color_analysis/images_1000px/images/a6bdb0a8-e374-11ed-a595-66c93374e280.png', 'prod/data/fb_images/color_analysis/images_1000px/images/a6bdb0b2-e374-11ed-a595-66c93374e280.png', 'prod/data/fb_images/color_analysis/images_1000px/images/a6bdb0bc-e374-11ed-a595-66c93374e280.png', 'prod/data/fb_images/color_analysis/images_1000px/images/a6bdb0bd-e374-11ed-a595-66c93374e280.png', 'prod/data/fb_images/color_analysis/images_1000px/images/a6bdb0c6-e374-11ed-a595-66c93374e280.png', 'prod/data/fb_images/color_analysis/images_1000px/images/a6bdb0d0-e374-11ed-a595-66c93374e280.png', 'prod/data/fb_images/color_analysis/images_1000px/images/a6bdb0da-e374-11ed-a595-66c93374e280.png', 'prod/data/fb_images/color_analysis/images_1000px/images/a6bdb0e4-e374-11ed-a595-66c93374e280.png', 'prod/data/fb_images/color_analysis/images_1000px/images/a6bdb0ee-e374-11ed-a595-66c93374e280.png', 'prod/data/fb_images/color_analysis/images_1000px/images/a6bdb0f8-e374-11ed-a595-66c93374e280.png', 'prod/data/fb_images/color_analysis/images_1000px/images/a6bdb0f9-e374-11ed-a595-66c93374e280.png', 'prod/data/fb_images/color_analysis/images_1000px/images/a6bdb102-e374-11ed-a595-66c93374e280.png', 'prod/data/fb_images/color_analysis/images_1000px/images/a6bdb10c-e374-11ed-a595-66c93374e280.png', 'prod/data/fb_images/color_analysis/images_1000px/images/a6bdb116-e374-11ed-a595-66c93374e280.png', 'prod/data/fb_images/color_analysis/images_1000px/images/a6bdb120-e374-11ed-a595-66c93374e280.png', 'prod/data/fb_images/color_analysis/images_1000px/images/a6bdb12a-e374-11ed-a595-66c93374e280.png', 'prod/data/fb_images/color_analysis/images_1000px/images/a6bdb12b-e374-11ed-a595-66c93374e280.png', 'prod/data/fb_images/color_analysis/images_1000px/images/a6bdb134-e374-11ed-a595-66c93374e280.png', 'prod/data/fb_images/color_analysis/images_1000px/images/a6bdb13e-e374-11ed-a595-66c93374e280.png', 'prod/data/fb_images/color_analysis/images_1000px/images/a6bdb148-e374-11ed-a595-66c93374e280.png', 'prod/data/fb_images/color_analysis/images_1000px/images/a6bdb152-e374-11ed-a595-66c93374e280.png', 'prod/data/fb_images/color_analysis/images_1000px/images/a6bdb15c-e374-11ed-a595-66c93374e280.png', 'prod/data/fb_images/color_analysis/images_1000px/images/a6bdb15d-e374-11ed-a595-66c93374e280.png', 'prod/data/fb_images/color_analysis/images_1000px/images/a6bdb166-e374-11ed-a595-66c93374e280.png', 'prod/data/fb_images/color_analysis/images_1000px/images/a6bdb170-e374-11ed-a595-66c93374e280.png', 'prod/data/fb_images/color_analysis/images_1000px/images/a6bdb17a-e374-11ed-a595-66c93374e280.png', 'prod/data/fb_images/color_analysis/images_1000px/images/a6bdb184-e374-11ed-a595-66c93374e280.png', 'prod/data/fb_images/color_analysis/images_1000px/images/a6bdb18e-e374-11ed-a595-66c93374e280.png', 'prod/data/fb_images/color_analysis/images_1000px/images/a6bdb18f-e374-11ed-a595-66c93374e280.png', 'prod/data/fb_images/color_analysis/images_1000px/images/a6bdb198-e374-11ed-a595-66c93374e280.png', 'prod/data/fb_images/color_analysis/images_1000px/images/a6bdb1a2-e374-11ed-a595-66c93374e280.png', 'prod/data/fb_images/color_analysis/images_1000px/images/a6bdb1ac-e374-11ed-a595-66c93374e280.png', 'prod/data/fb_images/color_analysis/images_1000px/images/a6bdb1b6-e374-11ed-a595-66c93374e280.png', 'prod/data/fb_images/color_analysis/images_1000px/images/a6bdb1c0-e374-11ed-a595-66c93374e280.png', 'prod/data/fb_images/color_analysis/images_1000px/images/a6bdb1c1-e374-11ed-a595-66c93374e280.png', 'prod/data/fb_images/color_analysis/images_1000px/images/a6bdb1ca-e374-11ed-a595-66c93374e280.png', 'prod/data/fb_images/color_analysis/images_1000px/images/a6bdb1d4-e374-11ed-a595-66c93374e280.png', 'prod/data/fb_images/color_analysis/images_1000px/images/a6bdb1de-e374-11ed-a595-66c93374e280.png', 'prod/data/fb_images/color_analysis/images_1000px/images/a6bdb1e8-e374-11ed-a595-66c93374e280.png', 'prod/data/fb_images/color_analysis/images_1000px/images/a6bdb1f2-e374-11ed-a595-66c93374e280.png', 'prod/data/fb_images/color_analysis/images_1000px/images/a6bdb1f3-e374-11ed-a595-66c93374e280.png', 'prod/data/fb_images/color_analysis/images_1000px/images/a6bdb1fc-e374-11ed-a595-66c93374e280.png', 'prod/data/fb_images/color_analysis/images_1000px/images/a6bdb206-e374-11ed-a595-66c93374e280.png', 'prod/data/fb_images/color_analysis/images_1000px/images/a6bdb210-e374-11ed-a595-66c93374e280.png', 'prod/data/fb_images/color_analysis/images_1000px/images/a6bdb21a-e374-11ed-a595-66c93374e280.png', 'prod/data/fb_images/color_analysis/images_1000px/images/a6bdb224-e374-11ed-a595-66c93374e280.png', 'prod/data/fb_images/color_analysis/images_1000px/images/a6bdb225-e374-11ed-a595-66c93374e280.png', 'prod/data/fb_images/color_analysis/images_1000px/images/a6bdb22e-e374-11ed-a595-66c93374e280.png', 'prod/data/fb_images/color_analysis/images_1000px/images/a6bdb238-e374-11ed-a595-66c93374e280.png', 'prod/data/fb_images/color_analysis/images_1000px/images/a6bdb242-e374-11ed-a595-66c93374e280.png', 'prod/data/fb_images/color_analysis/images_1000px/images/a6bdb24c-e374-11ed-a595-66c93374e280.png', 'prod/data/fb_images/color_analysis/images_1000px/images/a6bdb256-e374-11ed-a595-66c93374e280.png', 'prod/data/fb_images/color_analysis/images_1000px/images/a6bdb260-e374-11ed-a595-66c93374e280.png', 'prod/data/fb_images/color_analysis/images_1000px/images/a6bdb261-e374-11ed-a595-66c93374e280.png', 'prod/data/fb_images/color_analysis/images_1000px/images/a6bdb26a-e374-11ed-a595-66c93374e280.png', 'prod/data/fb_images/color_analysis/images_1000px/images/a6bdb274-e374-11ed-a595-66c93374e280.png', 'prod/data/fb_images/color_analysis/images_1000px/images/a6bdb27e-e374-11ed-a595-66c93374e280.png', 'prod/data/fb_images/color_analysis/images_1000px/images/a6bdb288-e374-11ed-a595-66c93374e280.png', 'prod/data/fb_images/color_analysis/images_1000px/images/a6bdb292-e374-11ed-a595-66c93374e280.png', 'prod/data/fb_images/color_analysis/images_1000px/images/a6bdb29c-e374-11ed-a595-66c93374e280.png', 'prod/data/fb_images/color_analysis/images_1000px/images/a6bdb29d-e374-11ed-a595-66c93374e280.png', 'prod/data/fb_images/color_analysis/images_1000px/images/a6bdb2a6-e374-11ed-a595-66c93374e280.png', 'prod/data/fb_images/color_analysis/images_1000px/images/a6bdb2b0-e374-11ed-a595-66c93374e280.png', 'prod/data/fb_images/color_analysis/images_1000px/images/a6bdb2ba-e374-11ed-a595-66c93374e280.png', 'prod/data/fb_images/color_analysis/images_1000px/images/a6bdb2c4-e374-11ed-a595-66c93374e280.png', 'prod/data/fb_images/color_analysis/images_1000px/images/a6bdb2ce-e374-11ed-a595-66c93374e280.png', 'prod/data/fb_images/color_analysis/images_1000px/images/a6bdb2cf-e374-11ed-a595-66c93374e280.png', 'prod/data/fb_images/color_analysis/images_1000px/images/a6bdb2d8-e374-11ed-a595-66c93374e280.png', 'prod/data/fb_images/color_analysis/images_1000px/images/a6bdb2e2-e374-11ed-a595-66c93374e280.png', 'prod/data/fb_images/color_analysis/images_1000px/images/a6bdb2ec-e374-11ed-a595-66c93374e280.png', 'prod/data/fb_images/color_analysis/images_1000px/images/a6bdb2f6-e374-11ed-a595-66c93374e280.png', 'prod/data/fb_images/color_analysis/images_1000px/images/a6bdb300-e374-11ed-a595-66c93374e280.png', 'prod/data/fb_images/color_analysis/images_1000px/images/a6bdb30a-e374-11ed-a595-66c93374e280.png', 'prod/data/fb_images/color_analysis/images_1000px/images/a6bdb30b-e374-11ed-a595-66c93374e280.png', 'prod/data/fb_images/color_analysis/images_1000px/images/a6bdb314-e374-11ed-a595-66c93374e280.png', 'prod/data/fb_images/color_analysis/images_1000px/images/a6bdb31e-e374-11ed-a595-66c93374e280.png', 'prod/data/fb_images/color_analysis/images_1000px/images/a6bdb328-e374-11ed-a595-66c93374e280.png', 'prod/data/fb_images/color_analysis/images_1000px/images/a6bdb332-e374-11ed-a595-66c93374e280.png', 'prod/data/fb_images/color_analysis/images_1000px/images/a6bdb33c-e374-11ed-a595-66c93374e280.png', 'prod/data/fb_images/color_analysis/images_1000px/images/a6bdb33d-e374-11ed-a595-66c93374e280.png', 'prod/data/fb_images/color_analysis/images_1000px/images/a6bdb346-e374-11ed-a595-66c93374e280.png', 'prod/data/fb_images/color_analysis/images_1000px/images/a6bdb350-e374-11ed-a595-66c93374e280.png', 'prod/data/fb_images/color_analysis/images_1000px/images/a6bdb35a-e374-11ed-a595-66c93374e280.png', 'prod/data/fb_images/color_analysis/images_1000px/images/a6bdb364-e374-11ed-a595-66c93374e280.png', 'prod/data/fb_images/color_analysis/images_1000px/images/a6bdb36e-e374-11ed-a595-66c93374e280.png', 'prod/data/fb_images/color_analysis/images_1000px/images/a6bdb36f-e374-11ed-a595-66c93374e280.png', 'prod/data/fb_images/color_analysis/images_1000px/images/a6bdb378-e374-11ed-a595-66c93374e280.png', 'prod/data/fb_images/color_analysis/images_1000px/images/a6bdb382-e374-11ed-a595-66c93374e280.png', 'prod/data/fb_images/color_analysis/images_1000px/images/a6bdb38c-e374-11ed-a595-66c93374e280.png', 'prod/data/fb_images/color_analysis/images_1000px/images/a6bdb396-e374-11ed-a595-66c93374e280.png', 'prod/data/fb_images/color_analysis/images_1000px/images/a6bdb3a0-e374-11ed-a595-66c93374e280.png', 'prod/data/fb_images/color_analysis/images_1000px/images/a6bdb3aa-e374-11ed-a595-66c93374e280.png', 'prod/data/fb_images/color_analysis/images_1000px/images/a6bdb3ab-e374-11ed-a595-66c93374e280.png', 'prod/data/fb_images/color_analysis/images_1000px/images/a6bdb3b4-e374-11ed-a595-66c93374e280.png', 'prod/data/fb_images/color_analysis/images_1000px/images/a6bdb3be-e374-11ed-a595-66c93374e280.png', 'prod/data/fb_images/color_analysis/images_1000px/images/a6bdb3c8-e374-11ed-a595-66c93374e280.png', 'prod/data/fb_images/color_analysis/images_1000px/images/a6bdb3d2-e374-11ed-a595-66c93374e280.png', 'prod/data/fb_images/color_analysis/images_1000px/images/a6bdb3dc-e374-11ed-a595-66c93374e280.png', 'prod/data/fb_images/color_analysis/images_1000px/images/a6bdb3dd-e374-11ed-a595-66c93374e280.png', 'prod/data/fb_images/color_analysis/images_1000px/images/a6bdb3e6-e374-11ed-a595-66c93374e280.png', 'prod/data/fb_images/color_analysis/images_1000px/images/a6bdb3f0-e374-11ed-a595-66c93374e280.png', 'prod/data/fb_images/color_analysis/images_1000px/images/a6bdb3fa-e374-11ed-a595-66c93374e280.png', 'prod/data/fb_images/color_analysis/images_1000px/images/a6bdb404-e374-11ed-a595-66c93374e280.png', 'prod/data/fb_images/color_analysis/images_1000px/images/a6bdb40e-e374-11ed-a595-66c93374e280.png', 'prod/data/fb_images/color_analysis/images_1000px/images/a6bdb418-e374-11ed-a595-66c93374e280.png', 'prod/data/fb_images/color_analysis/images_1000px/images/a6bdb419-e374-11ed-a595-66c93374e280.png', 'prod/data/fb_images/color_analysis/images_1000px/images/a6bdb422-e374-11ed-a595-66c93374e280.png', 'prod/data/fb_images/color_analysis/images_1000px/images/a6bdb42c-e374-11ed-a595-66c93374e280.png', 'prod/data/fb_images/color_analysis/images_1000px/images/a6bdb436-e374-11ed-a595-66c93374e280.png', 'prod/data/fb_images/color_analysis/images_1000px/images/a6bdb440-e374-11ed-a595-66c93374e280.png', 'prod/data/fb_images/color_analysis/images_1000px/images/a6bdb44a-e374-11ed-a595-66c93374e280.png', 'prod/data/fb_images/color_analysis/images_1000px/images/a6bdb44b-e374-11ed-a595-66c93374e280.png', 'prod/data/fb_images/color_analysis/images_1000px/images/a6bdb454-e374-11ed-a595-66c93374e280.png', 'prod/data/fb_images/color_analysis/images_1000px/images/a6bdb45e-e374-11ed-a595-66c93374e280.png', 'prod/data/fb_images/color_analysis/images_1000px/images/a6bdb468-e374-11ed-a595-66c93374e280.png', 'prod/data/fb_images/color_analysis/images_1000px/images/a6bdb472-e374-11ed-a595-66c93374e280.png', 'prod/data/fb_images/color_analysis/images_1000px/images/a6bdb47c-e374-11ed-a595-66c93374e280.png', 'prod/data/fb_images/color_analysis/images_1000px/images/a6bdb486-e374-11ed-a595-66c93374e280.png', 'prod/data/fb_images/color_analysis/images_1000px/images/a6bdb487-e374-11ed-a595-66c93374e280.png', 'prod/data/fb_images/color_analysis/images_1000px/images/a6bdb490-e374-11ed-a595-66c93374e280.png', 'prod/data/fb_images/color_analysis/images_1000px/images/a6bdb49a-e374-11ed-a595-66c93374e280.png', 'prod/data/fb_images/color_analysis/images_1000px/images/a6bdb4a4-e374-11ed-a595-66c93374e280.png', 'prod/data/fb_images/color_analysis/images_1000px/images/a6bdb4ae-e374-11ed-a595-66c93374e280.png', 'prod/data/fb_images/color_analysis/images_1000px/images/a6bdb4b8-e374-11ed-a595-66c93374e280.png', 'prod/data/fb_images/color_analysis/images_1000px/images/a6bdb4b9-e374-11ed-a595-66c93374e280.png', 'prod/data/fb_images/color_analysis/images_1000px/images/a6bdb4c2-e374-11ed-a595-66c93374e280.png', 'prod/data/fb_images/color_analysis/images_1000px/images/a6bdb4cc-e374-11ed-a595-66c93374e280.png', 'prod/data/fb_images/color_analysis/images_1000px/images/a6bdb4d6-e374-11ed-a595-66c93374e280.png', 'prod/data/fb_images/color_analysis/images_1000px/images/a6bdb4e0-e374-11ed-a595-66c93374e280.png', 'prod/data/fb_images/color_analysis/images_1000px/images/a6bdb4ea-e374-11ed-a595-66c93374e280.png', 'prod/data/fb_images/color_analysis/images_1000px/images/a6bdb4f4-e374-11ed-a595-66c93374e280.png', 'prod/data/fb_images/color_analysis/images_1000px/images/a6bdb4f5-e374-11ed-a595-66c93374e280.png', 'prod/data/fb_images/color_analysis/images_1000px/images/a6bdb4fe-e374-11ed-a595-66c93374e280.png', 'prod/data/fb_images/color_analysis/images_1000px/images/a6bdb508-e374-11ed-a595-66c93374e280.png', 'prod/data/fb_images/color_analysis/images_1000px/images/a6bdb512-e374-11ed-a595-66c93374e280.png', 'prod/data/fb_images/color_analysis/images_1000px/images/a6bdb51c-e374-11ed-a595-66c93374e280.png', 'prod/data/fb_images/color_analysis/images_1000px/images/a6bdb526-e374-11ed-a595-66c93374e280.png', 'prod/data/fb_images/color_analysis/images_1000px/images/a6bdb530-e374-11ed-a595-66c93374e280.png', 'prod/data/fb_images/color_analysis/images_1000px/images/a6bdb531-e374-11ed-a595-66c93374e280.png', 'prod/data/fb_images/color_analysis/images_1000px/images/a6bdb53a-e374-11ed-a595-66c93374e280.png', 'prod/data/fb_images/color_analysis/images_1000px/images/a6bdb544-e374-11ed-a595-66c93374e280.png', 'prod/data/fb_images/color_analysis/images_1000px/images/a6bdb54e-e374-11ed-a595-66c93374e280.png', 'prod/data/fb_images/color_analysis/images_1000px/images/a6bdb558-e374-11ed-a595-66c93374e280.png', 'prod/data/fb_images/color_analysis/images_1000px/images/a6bdb562-e374-11ed-a595-66c93374e280.png', 'prod/data/fb_images/color_analysis/images_1000px/images/a6bdb563-e374-11ed-a595-66c93374e280.png', 'prod/data/fb_images/color_analysis/images_1000px/images/a6bdb56c-e374-11ed-a595-66c93374e280.png', 'prod/data/fb_images/color_analysis/images_1000px/images/a6bdb576-e374-11ed-a595-66c93374e280.png', 'prod/data/fb_images/color_analysis/images_1000px/images/a6bdb580-e374-11ed-a595-66c93374e280.png', 'prod/data/fb_images/color_analysis/images_1000px/images/a6bdb58a-e374-11ed-a595-66c93374e280.png', 'prod/data/fb_images/color_analysis/images_1000px/images/a6bdb594-e374-11ed-a595-66c93374e280.png', 'prod/data/fb_images/color_analysis/images_1000px/images/a6bdb59e-e374-11ed-a595-66c93374e280.png', 'prod/data/fb_images/color_analysis/images_1000px/images/a6bdb5a8-e374-11ed-a595-66c93374e280.png', 'prod/data/fb_images/color_analysis/images_1000px/images/a6bdb5a9-e374-11ed-a595-66c93374e280.png', 'prod/data/fb_images/color_analysis/images_1000px/images/a6bdb5b2-e374-11ed-a595-66c93374e280.png', 'prod/data/fb_images/color_analysis/images_1000px/images/a6bdb5bc-e374-11ed-a595-66c93374e280.png', 'prod/data/fb_images/color_analysis/images_1000px/images/a6bdb5c6-e374-11ed-a595-66c93374e280.png', 'prod/data/fb_images/color_analysis/images_1000px/images/a6bdb5d0-e374-11ed-a595-66c93374e280.png', 'prod/data/fb_images/color_analysis/images_1000px/images/a6bdb5da-e374-11ed-a595-66c93374e280.png', 'prod/data/fb_images/color_analysis/images_1000px/images/a6bdb5e4-e374-11ed-a595-66c93374e280.png', 'prod/data/fb_images/color_analysis/images_1000px/images/a6bdb5e5-e374-11ed-a595-66c93374e280.png', 'prod/data/fb_images/color_analysis/images_1000px/images/a6bdb5ee-e374-11ed-a595-66c93374e280.png', 'prod/data/fb_images/color_analysis/images_1000px/images/a6bdb5f8-e374-11ed-a595-66c93374e280.png', 'prod/data/fb_images/color_analysis/images_1000px/images/a6bdb602-e374-11ed-a595-66c93374e280.png', 'prod/data/fb_images/color_analysis/images_1000px/images/a6bdb60c-e374-11ed-a595-66c93374e280.png', 'prod/data/fb_images/color_analysis/images_1000px/images/a6bdb616-e374-11ed-a595-66c93374e280.png', 'prod/data/fb_images/color_analysis/images_1000px/images/a6bdb620-e374-11ed-a595-66c93374e280.png', 'prod/data/fb_images/color_analysis/images_1000px/images/a6bdb621-e374-11ed-a595-66c93374e280.png', 'prod/data/fb_images/color_analysis/images_1000px/images/a6bdb62a-e374-11ed-a595-66c93374e280.png', 'prod/data/fb_images/color_analysis/images_1000px/images/a6bdb634-e374-11ed-a595-66c93374e280.png', 'prod/data/fb_images/color_analysis/images_1000px/images/a6bdb63e-e374-11ed-a595-66c93374e280.png', 'prod/data/fb_images/color_analysis/images_1000px/images/a6bdb648-e374-11ed-a595-66c93374e280.png', 'prod/data/fb_images/color_analysis/images_1000px/images/a6bdb652-e374-11ed-a595-66c93374e280.png', 'prod/data/fb_images/color_analysis/images_1000px/images/a6bdb65c-e374-11ed-a595-66c93374e280.png', 'prod/data/fb_images/color_analysis/images_1000px/images/a6bdb666-e374-11ed-a595-66c93374e280.png', 'prod/data/fb_images/color_analysis/images_1000px/images/a6bdb667-e374-11ed-a595-66c93374e280.png', 'prod/data/fb_images/color_analysis/images_1000px/images/a6bdb670-e374-11ed-a595-66c93374e280.png', 'prod/data/fb_images/color_analysis/images_1000px/images/a6bdb67a-e374-11ed-a595-66c93374e280.png', 'prod/data/fb_images/color_analysis/images_1000px/images/a6bdb684-e374-11ed-a595-66c93374e280.png', 'prod/data/fb_images/color_analysis/images_1000px/images/a6bdb68e-e374-11ed-a595-66c93374e280.png', 'prod/data/fb_images/color_analysis/images_1000px/images/a6bdb698-e374-11ed-a595-66c93374e280.png', 'prod/data/fb_images/color_analysis/images_1000px/images/a6bdb699-e374-11ed-a595-66c93374e280.png', 'prod/data/fb_images/color_analysis/images_1000px/images/a6bdb6a2-e374-11ed-a595-66c93374e280.png', 'prod/data/fb_images/color_analysis/images_1000px/images/a6bdb6ac-e374-11ed-a595-66c93374e280.png', 'prod/data/fb_images/color_analysis/images_1000px/images/a6bdb6b6-e374-11ed-a595-66c93374e280.png', 'prod/data/fb_images/color_analysis/images_1000px/images/a6bdb6c0-e374-11ed-a595-66c93374e280.png', 'prod/data/fb_images/color_analysis/images_1000px/images/a6bdb6ca-e374-11ed-a595-66c93374e280.png', 'prod/data/fb_images/color_analysis/images_1000px/images/a6bdb6d4-e374-11ed-a595-66c93374e280.png', 'prod/data/fb_images/color_analysis/images_1000px/images/a6bdb6d5-e374-11ed-a595-66c93374e280.png', 'prod/data/fb_images/color_analysis/images_1000px/images/a6bdb6de-e374-11ed-a595-66c93374e280.png', 'prod/data/fb_images/color_analysis/images_1000px/images/a6bdb6e8-e374-11ed-a595-66c93374e280.png', 'prod/data/fb_images/color_analysis/images_1000px/images/a6bdb6f2-e374-11ed-a595-66c93374e280.png', 'prod/data/fb_images/color_analysis/images_1000px/images/a6bdb6fc-e374-11ed-a595-66c93374e280.png', 'prod/data/fb_images/color_analysis/images_1000px/images/a6bdb706-e374-11ed-a595-66c93374e280.png', 'prod/data/fb_images/color_analysis/images_1000px/images/a6bdb707-e374-11ed-a595-66c93374e280.png', 'prod/data/fb_images/color_analysis/images_1000px/images/a6bdb710-e374-11ed-a595-66c93374e280.png', 'prod/data/fb_images/color_analysis/images_1000px/images/a6bdb71a-e374-11ed-a595-66c93374e280.png', 'prod/data/fb_images/color_analysis/images_1000px/images/a6bdb724-e374-11ed-a595-66c93374e280.png', 'prod/data/fb_images/color_analysis/images_1000px/images/a6bdb72e-e374-11ed-a595-66c93374e280.png', 'prod/data/fb_images/color_analysis/images_1000px/images/a6bdb738-e374-11ed-a595-66c93374e280.png', 'prod/data/fb_images/color_analysis/images_1000px/images/a6bdb742-e374-11ed-a595-66c93374e280.png', 'prod/data/fb_images/color_analysis/images_1000px/images/a6bdb743-e374-11ed-a595-66c93374e280.png', 'prod/data/fb_images/color_analysis/images_1000px/images/a6bdb74c-e374-11ed-a595-66c93374e280.png', 'prod/data/fb_images/color_analysis/images_1000px/images/a6bdb756-e374-11ed-a595-66c93374e280.png', 'prod/data/fb_images/color_analysis/images_1000px/images/a6bdb760-e374-11ed-a595-66c93374e280.png', 'prod/data/fb_images/color_analysis/images_1000px/images/a6bdb76a-e374-11ed-a595-66c93374e280.png', 'prod/data/fb_images/color_analysis/images_1000px/images/a6bdb774-e374-11ed-a595-66c93374e280.png', 'prod/data/fb_images/color_analysis/images_1000px/images/a6bdb77e-e374-11ed-a595-66c93374e280.png', 'prod/data/fb_images/color_analysis/images_1000px/images/a6bdb77f-e374-11ed-a595-66c93374e280.png', 'prod/data/fb_images/color_analysis/images_1000px/images/a6bdb788-e374-11ed-a595-66c93374e280.png', 'prod/data/fb_images/color_analysis/images_1000px/images/a6bdb792-e374-11ed-a595-66c93374e280.png', 'prod/data/fb_images/color_analysis/images_1000px/images/a6bdb79c-e374-11ed-a595-66c93374e280.png', 'prod/data/fb_images/color_analysis/images_1000px/images/a6bdb7a6-e374-11ed-a595-66c93374e280.png', 'prod/data/fb_images/color_analysis/images_1000px/images/a6bdb7b0-e374-11ed-a595-66c93374e280.png', 'prod/data/fb_images/color_analysis/images_1000px/images/a6bdb7ba-e374-11ed-a595-66c93374e280.png', 'prod/data/fb_images/color_analysis/images_1000px/images/a6bdb7c4-e374-11ed-a595-66c93374e280.png', 'prod/data/fb_images/color_analysis/images_1000px/images/a6bdb7c5-e374-11ed-a595-66c93374e280.png', 'prod/data/fb_images/color_analysis/images_1000px/images/a6bdb7ce-e374-11ed-a595-66c93374e280.png', 'prod/data/fb_images/color_analysis/images_1000px/images/a6bdb7d8-e374-11ed-a595-66c93374e280.png', 'prod/data/fb_images/color_analysis/images_1000px/images/a6bdb7e2-e374-11ed-a595-66c93374e280.png', 'prod/data/fb_images/color_analysis/images_1000px/images/a6bdb7ec-e374-11ed-a595-66c93374e280.png', 'prod/data/fb_images/color_analysis/images_1000px/images/a6bdb7f6-e374-11ed-a595-66c93374e280.png', 'prod/data/fb_images/color_analysis/images_1000px/images/a6bdb7f7-e374-11ed-a595-66c93374e280.png', 'prod/data/fb_images/color_analysis/images_1000px/images/a6bdb800-e374-11ed-a595-66c93374e280.png', 'prod/data/fb_images/color_analysis/images_1000px/images/a6bdb80a-e374-11ed-a595-66c93374e280.png', 'prod/data/fb_images/color_analysis/images_1000px/images/a6bdb814-e374-11ed-a595-66c93374e280.png', 'prod/data/fb_images/color_analysis/images_1000px/images/a6bdb81e-e374-11ed-a595-66c93374e280.png', 'prod/data/fb_images/color_analysis/images_1000px/images/a6bdb828-e374-11ed-a595-66c93374e280.png', 'prod/data/fb_images/color_analysis/images_1000px/images/a6bdb832-e374-11ed-a595-66c93374e280.png', 'prod/data/fb_images/color_analysis/images_1000px/images/a6bdb833-e374-11ed-a595-66c93374e280.png', 'prod/data/fb_images/color_analysis/images_1000px/images/a6bdb83c-e374-11ed-a595-66c93374e280.png', 'prod/data/fb_images/color_analysis/images_1000px/images/a6bdb846-e374-11ed-a595-66c93374e280.png', 'prod/data/fb_images/color_analysis/images_1000px/images/a6bdb850-e374-11ed-a595-66c93374e280.png', 'prod/data/fb_images/color_analysis/images_1000px/images/a6bdb85a-e374-11ed-a595-66c93374e280.png', 'prod/data/fb_images/color_analysis/images_1000px/images/a6bdb864-e374-11ed-a595-66c93374e280.png', 'prod/data/fb_images/color_analysis/images_1000px/images/a6bdb865-e374-11ed-a595-66c93374e280.png', 'prod/data/fb_images/color_analysis/images_1000px/images/a6bdb86e-e374-11ed-a595-66c93374e280.png', 'prod/data/fb_images/color_analysis/images_1000px/images/a6bdb878-e374-11ed-a595-66c93374e280.png', 'prod/data/fb_images/color_analysis/images_1000px/images/a6bdb882-e374-11ed-a595-66c93374e280.png', 'prod/data/fb_images/color_analysis/images_1000px/images/a6bdb88c-e374-11ed-a595-66c93374e280.png', 'prod/data/fb_images/color_analysis/images_1000px/images/a6bdb896-e374-11ed-a595-66c93374e280.png', 'prod/data/fb_images/color_analysis/images_1000px/images/a6bdb8a0-e374-11ed-a595-66c93374e280.png', 'prod/data/fb_images/color_analysis/images_1000px/images/a6bdb8a1-e374-11ed-a595-66c93374e280.png', 'prod/data/fb_images/color_analysis/images_1000px/images/a6bdb8aa-e374-11ed-a595-66c93374e280.png', 'prod/data/fb_images/color_analysis/images_1000px/images/a6bdb8b4-e374-11ed-a595-66c93374e280.png', 'prod/data/fb_images/color_analysis/images_1000px/images/a6bdb8be-e374-11ed-a595-66c93374e280.png', 'prod/data/fb_images/color_analysis/images_1000px/images/a6bdb8c8-e374-11ed-a595-66c93374e280.png', 'prod/data/fb_images/color_analysis/images_1000px/images/a6bdb8d2-e374-11ed-a595-66c93374e280.png', 'prod/data/fb_images/color_analysis/images_1000px/images/a6bdb8d3-e374-11ed-a595-66c93374e280.png', 'prod/data/fb_images/color_analysis/images_1000px/images/a6bdb8dc-e374-11ed-a595-66c93374e280.png', 'prod/data/fb_images/color_analysis/images_1000px/images/a6bdb8e6-e374-11ed-a595-66c93374e280.png', 'prod/data/fb_images/color_analysis/images_1000px/images/a6bdb8f0-e374-11ed-a595-66c93374e280.png', 'prod/data/fb_images/color_analysis/images_1000px/images/a6bdb8fa-e374-11ed-a595-66c93374e280.png', 'prod/data/fb_images/color_analysis/images_1000px/images/a6bdb904-e374-11ed-a595-66c93374e280.png', 'prod/data/fb_images/color_analysis/images_1000px/images/a6bdb90e-e374-11ed-a595-66c93374e280.png', 'prod/data/fb_images/color_analysis/images_1000px/images/a6bdb90f-e374-11ed-a595-66c93374e280.png', 'prod/data/fb_images/color_analysis/images_1000px/images/a6bdb918-e374-11ed-a595-66c93374e280.png', 'prod/data/fb_images/color_analysis/images_1000px/images/a6bdb922-e374-11ed-a595-66c93374e280.png', 'prod/data/fb_images/color_analysis/images_1000px/images/a6bdb92c-e374-11ed-a595-66c93374e280.png', 'prod/data/fb_images/color_analysis/images_1000px/images/a6bdb936-e374-11ed-a595-66c93374e280.png', 'prod/data/fb_images/color_analysis/images_1000px/images/a6bdb940-e374-11ed-a595-66c93374e280.png', 'prod/data/fb_images/color_analysis/images_1000px/images/a6bdb94a-e374-11ed-a595-66c93374e280.png', 'prod/data/fb_images/color_analysis/images_1000px/images/a6bdb94b-e374-11ed-a595-66c93374e280.png', 'prod/data/fb_images/color_analysis/images_1000px/images/a6bdb954-e374-11ed-a595-66c93374e280.png', 'prod/data/fb_images/color_analysis/images_1000px/images/a6bdb95e-e374-11ed-a595-66c93374e280.png', 'prod/data/fb_images/color_analysis/images_1000px/images/a6bdb968-e374-11ed-a595-66c93374e280.png', 'prod/data/fb_images/color_analysis/images_1000px/images/a6bdb972-e374-11ed-a595-66c93374e280.png', 'prod/data/fb_images/color_analysis/images_1000px/images/a6bdb97c-e374-11ed-a595-66c93374e280.png', 'prod/data/fb_images/color_analysis/images_1000px/images/a6bdb986-e374-11ed-a595-66c93374e280.png', 'prod/data/fb_images/color_analysis/images_1000px/images/a6bdb990-e374-11ed-a595-66c93374e280.png', 'prod/data/fb_images/color_analysis/images_1000px/images/a6bdb991-e374-11ed-a595-66c93374e280.png', 'prod/data/fb_images/color_analysis/images_1000px/images/a6bdb99a-e374-11ed-a595-66c93374e280.png', 'prod/data/fb_images/color_analysis/images_1000px/images/a6bdb9a4-e374-11ed-a595-66c93374e280.png', 'prod/data/fb_images/color_analysis/images_1000px/images/a6bdb9ae-e374-11ed-a595-66c93374e280.png', 'prod/data/fb_images/color_analysis/images_1000px/images/a6bdb9b8-e374-11ed-a595-66c93374e280.png', 'prod/data/fb_images/color_analysis/images_1000px/images/a6bdb9c2-e374-11ed-a595-66c93374e280.png', 'prod/data/fb_images/color_analysis/images_1000px/images/a6bdb9c3-e374-11ed-a595-66c93374e280.png', 'prod/data/fb_images/color_analysis/images_1000px/images/a6bdb9cc-e374-11ed-a595-66c93374e280.png', 'prod/data/fb_images/color_analysis/images_1000px/images/a6bdb9d6-e374-11ed-a595-66c93374e280.png', 'prod/data/fb_images/color_analysis/images_1000px/images/a6bdb9e0-e374-11ed-a595-66c93374e280.png', 'prod/data/fb_images/color_analysis/images_1000px/images/a6bdb9ea-e374-11ed-a595-66c93374e280.png', 'prod/data/fb_images/color_analysis/images_1000px/images/a6bdb9f4-e374-11ed-a595-66c93374e280.png', 'prod/data/fb_images/color_analysis/images_1000px/images/a6bdb9fe-e374-11ed-a595-66c93374e280.png', 'prod/data/fb_images/color_analysis/images_1000px/images/a6bdb9ff-e374-11ed-a595-66c93374e280.png', 'prod/data/fb_images/color_analysis/images_1000px/images/a6bdba08-e374-11ed-a595-66c93374e280.png', 'prod/data/fb_images/color_analysis/images_1000px/images/a6bdba12-e374-11ed-a595-66c93374e280.png', 'prod/data/fb_images/color_analysis/images_1000px/images/a6bdba1c-e374-11ed-a595-66c93374e280.png', 'prod/data/fb_images/color_analysis/images_1000px/images/a6bdba26-e374-11ed-a595-66c93374e280.png', 'prod/data/fb_images/color_analysis/images_1000px/images/a6bdba30-e374-11ed-a595-66c93374e280.png', 'prod/data/fb_images/color_analysis/images_1000px/images/a6bdba3a-e374-11ed-a595-66c93374e280.png', 'prod/data/fb_images/color_analysis/images_1000px/images/a6bdba3b-e374-11ed-a595-66c93374e280.png', 'prod/data/fb_images/color_analysis/images_1000px/images/a6bdba44-e374-11ed-a595-66c93374e280.png', 'prod/data/fb_images/color_analysis/images_1000px/images/a6bdba4e-e374-11ed-a595-66c93374e280.png', 'prod/data/fb_images/color_analysis/images_1000px/images/a6bdba58-e374-11ed-a595-66c93374e280.png', 'prod/data/fb_images/color_analysis/images_1000px/images/a6bdba62-e374-11ed-a595-66c93374e280.png', 'prod/data/fb_images/color_analysis/images_1000px/images/a6bdba6c-e374-11ed-a595-66c93374e280.png', 'prod/data/fb_images/color_analysis/images_1000px/images/a6bdba76-e374-11ed-a595-66c93374e280.png', 'prod/data/fb_images/color_analysis/images_1000px/images/a6bdba77-e374-11ed-a595-66c93374e280.png', 'prod/data/fb_images/color_analysis/images_1000px/images/a6bdba80-e374-11ed-a595-66c93374e280.png', 'prod/data/fb_images/color_analysis/images_1000px/images/a6bdba8a-e374-11ed-a595-66c93374e280.png', 'prod/data/fb_images/color_analysis/images_1000px/images/a6bdba94-e374-11ed-a595-66c93374e280.png', 'prod/data/fb_images/color_analysis/images_1000px/images/a6bdba9e-e374-11ed-a595-66c93374e280.png', 'prod/data/fb_images/color_analysis/images_1000px/images/a6bdbaa8-e374-11ed-a595-66c93374e280.png', 'prod/data/fb_images/color_analysis/images_1000px/images/a6bdbab2-e374-11ed-a595-66c93374e280.png', 'prod/data/fb_images/color_analysis/images_1000px/images/a6bdbab3-e374-11ed-a595-66c93374e280.png', 'prod/data/fb_images/color_analysis/images_1000px/images/a6bdbabc-e374-11ed-a595-66c93374e280.png', 'prod/data/fb_images/color_analysis/images_1000px/images/a6bdbac6-e374-11ed-a595-66c93374e280.png', 'prod/data/fb_images/color_analysis/images_1000px/images/a6bdbad0-e374-11ed-a595-66c93374e280.png', 'prod/data/fb_images/color_analysis/images_1000px/images/a6bdbada-e374-11ed-a595-66c93374e280.png', 'prod/data/fb_images/color_analysis/images_1000px/images/a6bdbae4-e374-11ed-a595-66c93374e280.png', 'prod/data/fb_images/color_analysis/images_1000px/images/a6bdbaee-e374-11ed-a595-66c93374e280.png', 'prod/data/fb_images/color_analysis/images_1000px/images/a6bdbaef-e374-11ed-a595-66c93374e280.png', 'prod/data/fb_images/color_analysis/images_1000px/images/a6bdbaf8-e374-11ed-a595-66c93374e280.png', 'prod/data/fb_images/color_analysis/images_1000px/images/a6bdbb02-e374-11ed-a595-66c93374e280.png', 'prod/data/fb_images/color_analysis/images_1000px/images/a6bdbb0c-e374-11ed-a595-66c93374e280.png', 'prod/data/fb_images/color_analysis/images_1000px/images/a6bdbb16-e374-11ed-a595-66c93374e280.png', 'prod/data/fb_images/color_analysis/images_1000px/images/a6bdbb20-e374-11ed-a595-66c93374e280.png', 'prod/data/fb_images/color_analysis/images_1000px/images/a6bdbb21-e374-11ed-a595-66c93374e280.png', 'prod/data/fb_images/color_analysis/images_1000px/images/a6bdbb2a-e374-11ed-a595-66c93374e280.png', 'prod/data/fb_images/color_analysis/images_1000px/images/a6bdbb34-e374-11ed-a595-66c93374e280.png', 'prod/data/fb_images/color_analysis/images_1000px/images/a6bdbb3e-e374-11ed-a595-66c93374e280.png', 'prod/data/fb_images/color_analysis/images_1000px/images/a6bdbb48-e374-11ed-a595-66c93374e280.png', 'prod/data/fb_images/color_analysis/images_1000px/images/a6bdbb52-e374-11ed-a595-66c93374e280.png', 'prod/data/fb_images/color_analysis/images_1000px/images/a6bdbb5c-e374-11ed-a595-66c93374e280.png', 'prod/data/fb_images/color_analysis/images_1000px/images/a6bdbb66-e374-11ed-a595-66c93374e280.png', 'prod/data/fb_images/color_analysis/images_1000px/images/a6bdbb67-e374-11ed-a595-66c93374e280.png', 'prod/data/fb_images/color_analysis/images_1000px/images/a6bdbb70-e374-11ed-a595-66c93374e280.png', 'prod/data/fb_images/color_analysis/images_1000px/images/a6bdbb7a-e374-11ed-a595-66c93374e280.png', 'prod/data/fb_images/color_analysis/images_1000px/images/a6bdbb84-e374-11ed-a595-66c93374e280.png', 'prod/data/fb_images/color_analysis/images_1000px/images/a6bdbb8e-e374-11ed-a595-66c93374e280.png', 'prod/data/fb_images/color_analysis/images_1000px/images/a6bdbb98-e374-11ed-a595-66c93374e280.png', 'prod/data/fb_images/color_analysis/images_1000px/images/a6bdbba2-e374-11ed-a595-66c93374e280.png', 'prod/data/fb_images/color_analysis/images_1000px/images/a6bdbba3-e374-11ed-a595-66c93374e280.png', 'prod/data/fb_images/color_analysis/images_1000px/images/a6bdbbac-e374-11ed-a595-66c93374e280.png', 'prod/data/fb_images/color_analysis/images_1000px/images/a6bdbbb6-e374-11ed-a595-66c93374e280.png', 'prod/data/fb_images/color_analysis/images_1000px/images/a6bdbbc0-e374-11ed-a595-66c93374e280.png', 'prod/data/fb_images/color_analysis/images_1000px/images/a6bdbbca-e374-11ed-a595-66c93374e280.png', 'prod/data/fb_images/color_analysis/images_1000px/images/a6bdbbd4-e374-11ed-a595-66c93374e280.png', 'prod/data/fb_images/color_analysis/images_1000px/images/a6bdbbde-e374-11ed-a595-66c93374e280.png', 'prod/data/fb_images/color_analysis/images_1000px/images/a6bdbbe8-e374-11ed-a595-66c93374e280.png', 'prod/data/fb_images/color_analysis/images_1000px/images/a6bdbbe9-e374-11ed-a595-66c93374e280.png', 'prod/data/fb_images/color_analysis/images_1000px/images/a6bdbbf2-e374-11ed-a595-66c93374e280.png', 'prod/data/fb_images/color_analysis/images_1000px/images/a6bdbbfc-e374-11ed-a595-66c93374e280.png', 'prod/data/fb_images/color_analysis/images_1000px/images/a6bdbc06-e374-11ed-a595-66c93374e280.png', 'prod/data/fb_images/color_analysis/images_1000px/images/a6bdbc10-e374-11ed-a595-66c93374e280.png', 'prod/data/fb_images/color_analysis/images_1000px/images/a6bdbc1a-e374-11ed-a595-66c93374e280.png', 'prod/data/fb_images/color_analysis/images_1000px/images/a6bdbc24-e374-11ed-a595-66c93374e280.png', 'prod/data/fb_images/color_analysis/images_1000px/images/a6bdbc2e-e374-11ed-a595-66c93374e280.png', 'prod/data/fb_images/color_analysis/images_1000px/images/a6bdbc38-e374-11ed-a595-66c93374e280.png', 'prod/data/fb_images/color_analysis/images_1000px/images/a6bdbc39-e374-11ed-a595-66c93374e280.png', 'prod/data/fb_images/color_analysis/images_1000px/images/a6bdbc42-e374-11ed-a595-66c93374e280.png', 'prod/data/fb_images/color_analysis/images_1000px/images/a6bdbc4c-e374-11ed-a595-66c93374e280.png', 'prod/data/fb_images/color_analysis/images_1000px/images/a6bdbc56-e374-11ed-a595-66c93374e280.png', 'prod/data/fb_images/color_analysis/images_1000px/images/a6bdbc60-e374-11ed-a595-66c93374e280.png', 'prod/data/fb_images/color_analysis/images_1000px/images/a6bdbc6a-e374-11ed-a595-66c93374e280.png', 'prod/data/fb_images/color_analysis/images_1000px/images/a6bdbc74-e374-11ed-a595-66c93374e280.png', 'prod/data/fb_images/color_analysis/images_1000px/images/a6bdbc75-e374-11ed-a595-66c93374e280.png', 'prod/data/fb_images/color_analysis/images_1000px/images/a6bdbc7e-e374-11ed-a595-66c93374e280.png', 'prod/data/fb_images/color_analysis/images_1000px/images/a6bdbc88-e374-11ed-a595-66c93374e280.png', 'prod/data/fb_images/color_analysis/images_1000px/images/a6bdbc92-e374-11ed-a595-66c93374e280.png', 'prod/data/fb_images/color_analysis/images_1000px/images/a6bdbc9c-e374-11ed-a595-66c93374e280.png', 'prod/data/fb_images/color_analysis/images_1000px/images/a6bdbca6-e374-11ed-a595-66c93374e280.png', 'prod/data/fb_images/color_analysis/images_1000px/images/a6bdbcb0-e374-11ed-a595-66c93374e280.png', 'prod/data/fb_images/color_analysis/images_1000px/images/a6bdbcb1-e374-11ed-a595-66c93374e280.png', 'prod/data/fb_images/color_analysis/images_1000px/images/a6bdbcba-e374-11ed-a595-66c93374e280.png', 'prod/data/fb_images/color_analysis/images_1000px/images/a6bdbcc4-e374-11ed-a595-66c93374e280.png', 'prod/data/fb_images/color_analysis/images_1000px/images/a6bdbcce-e374-11ed-a595-66c93374e280.png', 'prod/data/fb_images/color_analysis/images_1000px/images/a6bdbcd8-e374-11ed-a595-66c93374e280.png', 'prod/data/fb_images/color_analysis/images_1000px/images/a6bdbce2-e374-11ed-a595-66c93374e280.png', 'prod/data/fb_images/color_analysis/images_1000px/images/a6bdbce3-e374-11ed-a595-66c93374e280.png', 'prod/data/fb_images/color_analysis/images_1000px/images/a6bdbcec-e374-11ed-a595-66c93374e280.png', 'prod/data/fb_images/color_analysis/images_1000px/images/a6bdbcf6-e374-11ed-a595-66c93374e280.png', 'prod/data/fb_images/color_analysis/images_1000px/images/a6bdbd00-e374-11ed-a595-66c93374e280.png', 'prod/data/fb_images/color_analysis/images_1000px/images/a6bdbd0a-e374-11ed-a595-66c93374e280.png', 'prod/data/fb_images/color_analysis/images_1000px/images/a6bdbd14-e374-11ed-a595-66c93374e280.png', 'prod/data/fb_images/color_analysis/images_1000px/images/a6bdbd1e-e374-11ed-a595-66c93374e280.png', 'prod/data/fb_images/color_analysis/images_1000px/images/a6bdbd1f-e374-11ed-a595-66c93374e280.png', 'prod/data/fb_images/color_analysis/images_1000px/images/a6bdbd28-e374-11ed-a595-66c93374e280.png', 'prod/data/fb_images/color_analysis/images_1000px/images/a6bdbd32-e374-11ed-a595-66c93374e280.png', 'prod/data/fb_images/color_analysis/images_1000px/images/a6bdbd3c-e374-11ed-a595-66c93374e280.png', 'prod/data/fb_images/color_analysis/images_1000px/images/a6bdbd46-e374-11ed-a595-66c93374e280.png', 'prod/data/fb_images/color_analysis/images_1000px/images/a6bdbd50-e374-11ed-a595-66c93374e280.png', 'prod/data/fb_images/color_analysis/images_1000px/images/a6bdbd51-e374-11ed-a595-66c93374e280.png', 'prod/data/fb_images/color_analysis/images_1000px/images/a6bdbd5a-e374-11ed-a595-66c93374e280.png', 'prod/data/fb_images/color_analysis/images_1000px/images/a6bdbd64-e374-11ed-a595-66c93374e280.png', 'prod/data/fb_images/color_analysis/images_1000px/images/a6bdbd6e-e374-11ed-a595-66c93374e280.png', 'prod/data/fb_images/color_analysis/images_1000px/images/a6bdbd78-e374-11ed-a595-66c93374e280.png', 'prod/data/fb_images/color_analysis/images_1000px/images/a6bdbd82-e374-11ed-a595-66c93374e280.png', 'prod/data/fb_images/color_analysis/images_1000px/images/a6bdbd8c-e374-11ed-a595-66c93374e280.png', 'prod/data/fb_images/color_analysis/images_1000px/images/a6bdbd8d-e374-11ed-a595-66c93374e280.png', 'prod/data/fb_images/color_analysis/images_1000px/images/a6bdbd96-e374-11ed-a595-66c93374e280.png', 'prod/data/fb_images/color_analysis/images_1000px/images/a6bdbda0-e374-11ed-a595-66c93374e280.png', 'prod/data/fb_images/color_analysis/images_1000px/images/a6bdbdaa-e374-11ed-a595-66c93374e280.png', 'prod/data/fb_images/color_analysis/images_1000px/images/a6bdbdb4-e374-11ed-a595-66c93374e280.png', 'prod/data/fb_images/color_analysis/images_1000px/images/a6bdbdbe-e374-11ed-a595-66c93374e280.png', 'prod/data/fb_images/color_analysis/images_1000px/images/a6bdbdbf-e374-11ed-a595-66c93374e280.png', 'prod/data/fb_images/color_analysis/images_1000px/images/a6bdbdc8-e374-11ed-a595-66c93374e280.png', 'prod/data/fb_images/color_analysis/images_1000px/images/a6bdbdd2-e374-11ed-a595-66c93374e280.png', 'prod/data/fb_images/color_analysis/images_1000px/images/a6bdbddc-e374-11ed-a595-66c93374e280.png', 'prod/data/fb_images/color_analysis/images_1000px/images/a6bdbde6-e374-11ed-a595-66c93374e280.png', 'prod/data/fb_images/color_analysis/images_1000px/images/a6bdbdf0-e374-11ed-a595-66c93374e280.png', 'prod/data/fb_images/color_analysis/images_1000px/images/a6bdbdfa-e374-11ed-a595-66c93374e280.png', 'prod/data/fb_images/color_analysis/images_1000px/images/a6bdbdfb-e374-11ed-a595-66c93374e280.png', 'prod/data/fb_images/color_analysis/images_1000px/images/a6bdbe04-e374-11ed-a595-66c93374e280.png', 'prod/data/fb_images/color_analysis/images_1000px/images/a6bdbe0e-e374-11ed-a595-66c93374e280.png', 'prod/data/fb_images/color_analysis/images_1000px/images/a6bdbe18-e374-11ed-a595-66c93374e280.png', 'prod/data/fb_images/color_analysis/images_1000px/images/a6bdbe22-e374-11ed-a595-66c93374e280.png', 'prod/data/fb_images/color_analysis/images_1000px/images/a6bdbe2c-e374-11ed-a595-66c93374e280.png', 'prod/data/fb_images/color_analysis/images_1000px/images/a6bdbe2d-e374-11ed-a595-66c93374e280.png', 'prod/data/fb_images/color_analysis/images_1000px/images/a6bdbe36-e374-11ed-a595-66c93374e280.png', 'prod/data/fb_images/color_analysis/images_1000px/images/a6bdbe40-e374-11ed-a595-66c93374e280.png', 'prod/data/fb_images/color_analysis/images_1000px/images/a6bdbe4a-e374-11ed-a595-66c93374e280.png', 'prod/data/fb_images/color_analysis/images_1000px/images/a6bdbe54-e374-11ed-a595-66c93374e280.png', 'prod/data/fb_images/color_analysis/images_1000px/images/a6bdbe5e-e374-11ed-a595-66c93374e280.png', 'prod/data/fb_images/color_analysis/images_1000px/images/a6bdbe68-e374-11ed-a595-66c93374e280.png', 'prod/data/fb_images/color_analysis/images_1000px/images/a6bdbe69-e374-11ed-a595-66c93374e280.png', 'prod/data/fb_images/color_analysis/images_1000px/images/a6bdbe72-e374-11ed-a595-66c93374e280.png', 'prod/data/fb_images/color_analysis/images_1000px/images/a6bdbe7c-e374-11ed-a595-66c93374e280.png', 'prod/data/fb_images/color_analysis/images_1000px/images/a6bdbe86-e374-11ed-a595-66c93374e280.png', 'prod/data/fb_images/color_analysis/images_1000px/images/a6bdbe90-e374-11ed-a595-66c93374e280.png', 'prod/data/fb_images/color_analysis/images_1000px/images/a6bdbe9a-e374-11ed-a595-66c93374e280.png', 'prod/data/fb_images/color_analysis/images_1000px/images/a6bdbea4-e374-11ed-a595-66c93374e280.png', 'prod/data/fb_images/color_analysis/images_1000px/images/a6bdbea5-e374-11ed-a595-66c93374e280.png', 'prod/data/fb_images/color_analysis/images_1000px/images/a6bdbeae-e374-11ed-a595-66c93374e280.png', 'prod/data/fb_images/color_analysis/images_1000px/images/a6bdbeb8-e374-11ed-a595-66c93374e280.png', 'prod/data/fb_images/color_analysis/images_1000px/images/a6bdbec2-e374-11ed-a595-66c93374e280.png', 'prod/data/fb_images/color_analysis/images_1000px/images/a6bdbecc-e374-11ed-a595-66c93374e280.png', 'prod/data/fb_images/color_analysis/images_1000px/images/a6bdbed6-e374-11ed-a595-66c93374e280.png', 'prod/data/fb_images/color_analysis/images_1000px/images/a6bdbee0-e374-11ed-a595-66c93374e280.png', 'prod/data/fb_images/color_analysis/images_1000px/images/a6bdbee1-e374-11ed-a595-66c93374e280.png', 'prod/data/fb_images/color_analysis/images_1000px/images/a6bdbeea-e374-11ed-a595-66c93374e280.png', 'prod/data/fb_images/color_analysis/images_1000px/images/a6bdbef4-e374-11ed-a595-66c93374e280.png', 'prod/data/fb_images/color_analysis/images_1000px/images/a6bdbefe-e374-11ed-a595-66c93374e280.png', 'prod/data/fb_images/color_analysis/images_1000px/images/a6bdbf08-e374-11ed-a595-66c93374e280.png', 'prod/data/fb_images/color_analysis/images_1000px/images/a6bdbf12-e374-11ed-a595-66c93374e280.png', 'prod/data/fb_images/color_analysis/images_1000px/images/a6bdbf1c-e374-11ed-a595-66c93374e280.png', 'prod/data/fb_images/color_analysis/images_1000px/images/a6bdbf1d-e374-11ed-a595-66c93374e280.png', 'prod/data/fb_images/color_analysis/images_1000px/images/a6bdbf26-e374-11ed-a595-66c93374e280.png', 'prod/data/fb_images/color_analysis/images_1000px/images/a6bdbf30-e374-11ed-a595-66c93374e280.png', 'prod/data/fb_images/color_analysis/images_1000px/images/a6bdbf3a-e374-11ed-a595-66c93374e280.png', 'prod/data/fb_images/color_analysis/images_1000px/images/a6bdbf44-e374-11ed-a595-66c93374e280.png', 'prod/data/fb_images/color_analysis/images_1000px/images/a6bdbf4e-e374-11ed-a595-66c93374e280.png', 'prod/data/fb_images/color_analysis/images_1000px/images/a6bdbf4f-e374-11ed-a595-66c93374e280.png', 'prod/data/fb_images/color_analysis/images_1000px/images/a6bdbf58-e374-11ed-a595-66c93374e280.png', 'prod/data/fb_images/color_analysis/images_1000px/images/a6bdbf62-e374-11ed-a595-66c93374e280.png', 'prod/data/fb_images/color_analysis/images_1000px/images/a6bdbf6c-e374-11ed-a595-66c93374e280.png', 'prod/data/fb_images/color_analysis/images_1000px/images/a6bdbf76-e374-11ed-a595-66c93374e280.png', 'prod/data/fb_images/color_analysis/images_1000px/images/a6bdbf80-e374-11ed-a595-66c93374e280.png', 'prod/data/fb_images/color_analysis/images_1000px/images/a6bdbf81-e374-11ed-a595-66c93374e280.png', 'prod/data/fb_images/color_analysis/images_1000px/images/a6bdbf8a-e374-11ed-a595-66c93374e280.png', 'prod/data/fb_images/color_analysis/images_1000px/images/a6bdbf94-e374-11ed-a595-66c93374e280.png', 'prod/data/fb_images/color_analysis/images_1000px/images/a6bdbf9e-e374-11ed-a595-66c93374e280.png', 'prod/data/fb_images/color_analysis/images_1000px/images/a6bdbfa8-e374-11ed-a595-66c93374e280.png', 'prod/data/fb_images/color_analysis/images_1000px/images/a6bdbfb2-e374-11ed-a595-66c93374e280.png', 'prod/data/fb_images/color_analysis/images_1000px/images/a6bdbfbc-e374-11ed-a595-66c93374e280.png', 'prod/data/fb_images/color_analysis/images_1000px/images/a6bdbfbd-e374-11ed-a595-66c93374e280.png', 'prod/data/fb_images/color_analysis/images_1000px/images/a6bdbfc6-e374-11ed-a595-66c93374e280.png', 'prod/data/fb_images/color_analysis/images_1000px/images/a6bdbfd0-e374-11ed-a595-66c93374e280.png', 'prod/data/fb_images/color_analysis/images_1000px/images/a6bdbfda-e374-11ed-a595-66c93374e280.png', 'prod/data/fb_images/color_analysis/images_1000px/images/a6bdbfe4-e374-11ed-a595-66c93374e280.png', 'prod/data/fb_images/color_analysis/images_1000px/images/a6bdbfee-e374-11ed-a595-66c93374e280.png', 'prod/data/fb_images/color_analysis/images_1000px/images/a6bdbfef-e374-11ed-a595-66c93374e280.png', 'prod/data/fb_images/color_analysis/images_1000px/images/a6bdbff8-e374-11ed-a595-66c93374e280.png', 'prod/data/fb_images/color_analysis/images_1000px/images/a6bdc002-e374-11ed-a595-66c93374e280.png', 'prod/data/fb_images/color_analysis/images_1000px/images/a6bdc00c-e374-11ed-a595-66c93374e280.png', 'prod/data/fb_images/color_analysis/images_1000px/images/a6bdc016-e374-11ed-a595-66c93374e280.png', 'prod/data/fb_images/color_analysis/images_1000px/images/a6bdc020-e374-11ed-a595-66c93374e280.png', 'prod/data/fb_images/color_analysis/images_1000px/images/a6bdc021-e374-11ed-a595-66c93374e280.png', 'prod/data/fb_images/color_analysis/images_1000px/images/a6bdc02a-e374-11ed-a595-66c93374e280.png', 'prod/data/fb_images/color_analysis/images_1000px/images/a6bdc034-e374-11ed-a595-66c93374e280.png', 'prod/data/fb_images/color_analysis/images_1000px/images/a6bdc03e-e374-11ed-a595-66c93374e280.png', 'prod/data/fb_images/color_analysis/images_1000px/images/a6bdc048-e374-11ed-a595-66c93374e280.png', 'prod/data/fb_images/color_analysis/images_1000px/images/a6bdc052-e374-11ed-a595-66c93374e280.png', 'prod/data/fb_images/color_analysis/images_1000px/images/a6bdc053-e374-11ed-a595-66c93374e280.png', 'prod/data/fb_images/color_analysis/images_1000px/images/a6bdc05c-e374-11ed-a595-66c93374e280.png', 'prod/data/fb_images/color_analysis/images_1000px/images/a6bdc066-e374-11ed-a595-66c93374e280.png', 'prod/data/fb_images/color_analysis/images_1000px/images/a6bdc070-e374-11ed-a595-66c93374e280.png', 'prod/data/fb_images/color_analysis/images_1000px/images/a6bdc0d4-e374-11ed-a595-66c93374e280.png', 'prod/data/fb_images/color_analysis/images_1000px/images/a6bdc0de-e374-11ed-a595-66c93374e280.png', 'prod/data/fb_images/color_analysis/images_1000px/images/a6bdc0e8-e374-11ed-a595-66c93374e280.png', 'prod/data/fb_images/color_analysis/images_1000px/images/a6bdc0f2-e374-11ed-a595-66c93374e280.png', 'prod/data/fb_images/color_analysis/images_1000px/images/a6bdc106-e374-11ed-a595-66c93374e280.png', 'prod/data/fb_images/color_analysis/images_1000px/images/a6bdc110-e374-11ed-a595-66c93374e280.png', 'prod/data/fb_images/color_analysis/images_1000px/images/a6bdc11a-e374-11ed-a595-66c93374e280.png', 'prod/data/fb_images/color_analysis/images_1000px/images/a6bdc124-e374-11ed-a595-66c93374e280.png', 'prod/data/fb_images/color_analysis/images_1000px/images/a6bdc12e-e374-11ed-a595-66c93374e280.png', 'prod/data/fb_images/color_analysis/images_1000px/images/a6bdc138-e374-11ed-a595-66c93374e280.png', 'prod/data/fb_images/color_analysis/images_1000px/images/a6bdc14c-e374-11ed-a595-66c93374e280.png', 'prod/data/fb_images/color_analysis/images_1000px/images/a6bdc156-e374-11ed-a595-66c93374e280.png', 'prod/data/fb_images/color_analysis/images_1000px/images/a6bdc160-e374-11ed-a595-66c93374e280.png', 'prod/data/fb_images/color_analysis/images_1000px/images/a6bdc16a-e374-11ed-a595-66c93374e280.png', 'prod/data/fb_images/color_analysis/images_1000px/images/a6bdc174-e374-11ed-a595-66c93374e280.png', 'prod/data/fb_images/color_analysis/images_1000px/images/a6bdc17e-e374-11ed-a595-66c93374e280.png', 'prod/data/fb_images/color_analysis/images_1000px/images/a6bdc192-e374-11ed-a595-66c93374e280.png', 'prod/data/fb_images/color_analysis/images_1000px/images/a6bdc19c-e374-11ed-a595-66c93374e280.png', 'prod/data/fb_images/color_analysis/images_1000px/images/a6bdc1a6-e374-11ed-a595-66c93374e280.png', 'prod/data/fb_images/color_analysis/images_1000px/images/a6bdc1b0-e374-11ed-a595-66c93374e280.png', 'prod/data/fb_images/color_analysis/images_1000px/images/a6bdc1c4-e374-11ed-a595-66c93374e280.png', 'prod/data/fb_images/color_analysis/images_1000px/images/a6bdc1ce-e374-11ed-a595-66c93374e280.png', 'prod/data/fb_images/color_analysis/images_1000px/images/a6bdc1d8-e374-11ed-a595-66c93374e280.png', 'prod/data/fb_images/color_analysis/images_1000px/images/a6bdc1e2-e374-11ed-a595-66c93374e280.png', 'prod/data/fb_images/color_analysis/images_1000px/images/a6bdc1f6-e374-11ed-a595-66c93374e280.png', 'prod/data/fb_images/color_analysis/images_1000px/images/a6bdc200-e374-11ed-a595-66c93374e280.png', 'prod/data/fb_images/color_analysis/images_1000px/images/a6bdc20a-e374-11ed-a595-66c93374e280.png', 'prod/data/fb_images/color_analysis/images_1000px/images/a6bdc214-e374-11ed-a595-66c93374e280.png', 'prod/data/fb_images/color_analysis/images_1000px/images/a6bdc21e-e374-11ed-a595-66c93374e280.png', 'prod/data/fb_images/color_analysis/images_1000px/images/a6bdc232-e374-11ed-a595-66c93374e280.png', 'prod/data/fb_images/color_analysis/images_1000px/images/a6bdc23c-e374-11ed-a595-66c93374e280.png', 'prod/data/fb_images/color_analysis/images_1000px/images/a6bdc246-e374-11ed-a595-66c93374e280.png', 'prod/data/fb_images/color_analysis/images_1000px/images/a6bdc250-e374-11ed-a595-66c93374e280.png', 'prod/data/fb_images/color_analysis/images_1000px/images/a6bdc25a-e374-11ed-a595-66c93374e280.png', 'prod/data/fb_images/color_analysis/images_1000px/images/a6bdc25b-e374-11ed-a595-66c93374e280.png', 'prod/data/fb_images/color_analysis/images_1000px/images/a6bdc264-e374-11ed-a595-66c93374e280.png', 'prod/data/fb_images/color_analysis/images_1000px/images/a6bdc26e-e374-11ed-a595-66c93374e280.png', 'prod/data/fb_images/color_analysis/images_1000px/images/a6bdc278-e374-11ed-a595-66c93374e280.png', 'prod/data/fb_images/color_analysis/images_1000px/images/a6bdc282-e374-11ed-a595-66c93374e280.png', 'prod/data/fb_images/color_analysis/images_1000px/images/a6bdc28c-e374-11ed-a595-66c93374e280.png', 'prod/data/fb_images/color_analysis/images_1000px/images/a6bdc296-e374-11ed-a595-66c93374e280.png', 'prod/data/fb_images/color_analysis/images_1000px/images/a6bdc2a0-e374-11ed-a595-66c93374e280.png', 'prod/data/fb_images/color_analysis/images_1000px/images/a6bdc2aa-e374-11ed-a595-66c93374e280.png', 'prod/data/fb_images/color_analysis/images_1000px/images/a6bdc2b4-e374-11ed-a595-66c93374e280.png', 'prod/data/fb_images/color_analysis/images_1000px/images/a6bdc2be-e374-11ed-a595-66c93374e280.png', 'prod/data/fb_images/color_analysis/images_1000px/images/a6bdc2c8-e374-11ed-a595-66c93374e280.png', 'prod/data/fb_images/color_analysis/images_1000px/images/a6bdc2d2-e374-11ed-a595-66c93374e280.png', 'prod/data/fb_images/color_analysis/images_1000px/images/a6bdc2dc-e374-11ed-a595-66c93374e280.png', 'prod/data/fb_images/color_analysis/images_1000px/images/a6bdc2dd-e374-11ed-a595-66c93374e280.png', 'prod/data/fb_images/color_analysis/images_1000px/images/a6bdc2e6-e374-11ed-a595-66c93374e280.png', 'prod/data/fb_images/color_analysis/images_1000px/images/a6bdc2f0-e374-11ed-a595-66c93374e280.png', 'prod/data/fb_images/color_analysis/images_1000px/images/a6bdc2fa-e374-11ed-a595-66c93374e280.png', 'prod/data/fb_images/color_analysis/images_1000px/images/a6bdc304-e374-11ed-a595-66c93374e280.png', 'prod/data/fb_images/color_analysis/images_1000px/images/a6bdc30e-e374-11ed-a595-66c93374e280.png', 'prod/data/fb_images/color_analysis/images_1000px/images/a6bdc318-e374-11ed-a595-66c93374e280.png', 'prod/data/fb_images/color_analysis/images_1000px/images/a6bdc322-e374-11ed-a595-66c93374e280.png', 'prod/data/fb_images/color_analysis/images_1000px/images/a6bdc32c-e374-11ed-a595-66c93374e280.png', 'prod/data/fb_images/color_analysis/images_1000px/images/a6bdc336-e374-11ed-a595-66c93374e280.png', 'prod/data/fb_images/color_analysis/images_1000px/images/a6bdc340-e374-11ed-a595-66c93374e280.png', 'prod/data/fb_images/color_analysis/images_1000px/images/a6bdc34a-e374-11ed-a595-66c93374e280.png', 'prod/data/fb_images/color_analysis/images_1000px/images/a6bdc34b-e374-11ed-a595-66c93374e280.png', 'prod/data/fb_images/color_analysis/images_1000px/images/a6bdc354-e374-11ed-a595-66c93374e280.png', 'prod/data/fb_images/color_analysis/images_1000px/images/a6bdc35e-e374-11ed-a595-66c93374e280.png', 'prod/data/fb_images/color_analysis/images_1000px/images/a6bdc368-e374-11ed-a595-66c93374e280.png', 'prod/data/fb_images/color_analysis/images_1000px/images/a6bdc372-e374-11ed-a595-66c93374e280.png', 'prod/data/fb_images/color_analysis/images_1000px/images/a6bdc37c-e374-11ed-a595-66c93374e280.png', 'prod/data/fb_images/color_analysis/images_1000px/images/a6bdc386-e374-11ed-a595-66c93374e280.png', 'prod/data/fb_images/color_analysis/images_1000px/images/a6bdc390-e374-11ed-a595-66c93374e280.png', 'prod/data/fb_images/color_analysis/images_1000px/images/a6bdc39a-e374-11ed-a595-66c93374e280.png', 'prod/data/fb_images/color_analysis/images_1000px/images/a6bdc3a4-e374-11ed-a595-66c93374e280.png', 'prod/data/fb_images/color_analysis/images_1000px/images/a6bdc3ae-e374-11ed-a595-66c93374e280.png', 'prod/data/fb_images/color_analysis/images_1000px/images/a6bdc3b8-e374-11ed-a595-66c93374e280.png', 'prod/data/fb_images/color_analysis/images_1000px/images/a6bdc3c2-e374-11ed-a595-66c93374e280.png', 'prod/data/fb_images/color_analysis/images_1000px/images/a6bdc3cc-e374-11ed-a595-66c93374e280.png', 'prod/data/fb_images/color_analysis/images_1000px/images/a6bdc3d6-e374-11ed-a595-66c93374e280.png', 'prod/data/fb_images/color_analysis/images_1000px/images/a6bdc3e0-e374-11ed-a595-66c93374e280.png', 'prod/data/fb_images/color_analysis/images_1000px/images/a6bdc3e1-e374-11ed-a595-66c93374e280.png', 'prod/data/fb_images/color_analysis/images_1000px/images/a6bdc3ea-e374-11ed-a595-66c93374e280.png', 'prod/data/fb_images/color_analysis/images_1000px/images/a6bdc3f4-e374-11ed-a595-66c93374e280.png', 'prod/data/fb_images/color_analysis/images_1000px/images/a6bdc3fe-e374-11ed-a595-66c93374e280.png', 'prod/data/fb_images/color_analysis/images_1000px/images/a6bdc408-e374-11ed-a595-66c93374e280.png', 'prod/data/fb_images/color_analysis/images_1000px/images/a6bdc412-e374-11ed-a595-66c93374e280.png', 'prod/data/fb_images/color_analysis/images_1000px/images/a6bdc41c-e374-11ed-a595-66c93374e280.png', 'prod/data/fb_images/color_analysis/images_1000px/images/a6bdc426-e374-11ed-a595-66c93374e280.png', 'prod/data/fb_images/color_analysis/images_1000px/images/a6bdc430-e374-11ed-a595-66c93374e280.png', 'prod/data/fb_images/color_analysis/images_1000px/images/a6bdc43a-e374-11ed-a595-66c93374e280.png', 'prod/data/fb_images/color_analysis/images_1000px/images/a6bdc444-e374-11ed-a595-66c93374e280.png', 'prod/data/fb_images/color_analysis/images_1000px/images/a6bdc44e-e374-11ed-a595-66c93374e280.png', 'prod/data/fb_images/color_analysis/images_1000px/images/a6bdc458-e374-11ed-a595-66c93374e280.png', 'prod/data/fb_images/color_analysis/images_1000px/images/a6bdc462-e374-11ed-a595-66c93374e280.png', 'prod/data/fb_images/color_analysis/images_1000px/images/a6bdc46c-e374-11ed-a595-66c93374e280.png', 'prod/data/fb_images/color_analysis/images_1000px/images/a6bdc46d-e374-11ed-a595-66c93374e280.png', 'prod/data/fb_images/color_analysis/images_1000px/images/a6bdc476-e374-11ed-a595-66c93374e280.png', 'prod/data/fb_images/color_analysis/images_1000px/images/a6bdc480-e374-11ed-a595-66c93374e280.png', 'prod/data/fb_images/color_analysis/images_1000px/images/a6bdc48a-e374-11ed-a595-66c93374e280.png', 'prod/data/fb_images/color_analysis/images_1000px/images/a6bdc494-e374-11ed-a595-66c93374e280.png', 'prod/data/fb_images/color_analysis/images_1000px/images/a6bdc49e-e374-11ed-a595-66c93374e280.png', 'prod/data/fb_images/color_analysis/images_1000px/images/a6bdc4a8-e374-11ed-a595-66c93374e280.png', 'prod/data/fb_images/color_analysis/images_1000px/images/a6bdc4b2-e374-11ed-a595-66c93374e280.png', 'prod/data/fb_images/color_analysis/images_1000px/images/a6bdc4bc-e374-11ed-a595-66c93374e280.png', 'prod/data/fb_images/color_analysis/images_1000px/images/a6bdc4c6-e374-11ed-a595-66c93374e280.png', 'prod/data/fb_images/color_analysis/images_1000px/images/a6bdc4d0-e374-11ed-a595-66c93374e280.png', 'prod/data/fb_images/color_analysis/images_1000px/images/a6bdc4da-e374-11ed-a595-66c93374e280.png', 'prod/data/fb_images/color_analysis/images_1000px/images/a6bdc4e4-e374-11ed-a595-66c93374e280.png', 'prod/data/fb_images/color_analysis/images_1000px/images/a6bdc4ee-e374-11ed-a595-66c93374e280.png', 'prod/data/fb_images/color_analysis/images_1000px/images/a6bdc4f8-e374-11ed-a595-66c93374e280.png', 'prod/data/fb_images/color_analysis/images_1000px/images/a6bdc502-e374-11ed-a595-66c93374e280.png', 'prod/data/fb_images/color_analysis/images_1000px/images/a6bdc50c-e374-11ed-a595-66c93374e280.png', 'prod/data/fb_images/color_analysis/images_1000px/images/a6bdc516-e374-11ed-a595-66c93374e280.png', 'prod/data/fb_images/color_analysis/images_1000px/images/a6bdc520-e374-11ed-a595-66c93374e280.png', 'prod/data/fb_images/color_analysis/images_1000px/images/a6bdc52a-e374-11ed-a595-66c93374e280.png', 'prod/data/fb_images/color_analysis/images_1000px/images/a6bdc534-e374-11ed-a595-66c93374e280.png', 'prod/data/fb_images/color_analysis/images_1000px/images/a6bdc535-e374-11ed-a595-66c93374e280.png', 'prod/data/fb_images/color_analysis/images_1000px/images/a6bdc548-e374-11ed-a595-66c93374e280.png', 'prod/data/fb_images/color_analysis/images_1000px/images/a6bdc552-e374-11ed-a595-66c93374e280.png', 'prod/data/fb_images/color_analysis/images_1000px/images/a6bdc55c-e374-11ed-a595-66c93374e280.png', 'prod/data/fb_images/color_analysis/images_1000px/images/a6bdc566-e374-11ed-a595-66c93374e280.png', 'prod/data/fb_images/color_analysis/images_1000px/images/a6bdc570-e374-11ed-a595-66c93374e280.png', 'prod/data/fb_images/color_analysis/images_1000px/images/a6bdc584-e374-11ed-a595-66c93374e280.png', 'prod/data/fb_images/color_analysis/images_1000px/images/a6bdc58e-e374-11ed-a595-66c93374e280.png', 'prod/data/fb_images/color_analysis/images_1000px/images/a6bdc598-e374-11ed-a595-66c93374e280.png', 'prod/data/fb_images/color_analysis/images_1000px/images/a6bdc5ac-e374-11ed-a595-66c93374e280.png', 'prod/data/fb_images/color_analysis/images_1000px/images/a6bdc5b6-e374-11ed-a595-66c93374e280.png', 'prod/data/fb_images/color_analysis/images_1000px/images/a6bdc5c0-e374-11ed-a595-66c93374e280.png', 'prod/data/fb_images/color_analysis/images_1000px/images/a6bdc5ca-e374-11ed-a595-66c93374e280.png', 'prod/data/fb_images/color_analysis/images_1000px/images/a6bdc5d4-e374-11ed-a595-66c93374e280.png', 'prod/data/fb_images/color_analysis/images_1000px/images/a6bdc660-e374-11ed-a595-66c93374e280.png', 'prod/data/fb_images/color_analysis/images_1000px/images/a6bdc67e-e374-11ed-a595-66c93374e280.png', 'prod/data/fb_images/color_analysis/images_1000px/images/a6bdc688-e374-11ed-a595-66c93374e280.png', 'prod/data/fb_images/color_analysis/images_1000px/images/a6bdc692-e374-11ed-a595-66c93374e280.png', 'prod/data/fb_images/color_analysis/images_1000px/images/a6bdc69c-e374-11ed-a595-66c93374e280.png', 'prod/data/fb_images/color_analysis/images_1000px/images/a6bdc6a6-e374-11ed-a595-66c93374e280.png', 'prod/data/fb_images/color_analysis/images_1000px/images/a6bdc6b0-e374-11ed-a595-66c93374e280.png', 'prod/data/fb_images/color_analysis/images_1000px/images/a6bdc6ba-e374-11ed-a595-66c93374e280.png', 'prod/data/fb_images/color_analysis/images_1000px/images/a6bdc6c4-e374-11ed-a595-66c93374e280.png', 'prod/data/fb_images/color_analysis/images_1000px/images/a6bdc6ce-e374-11ed-a595-66c93374e280.png', 'prod/data/fb_images/color_analysis/images_1000px/images/a6bdc6d8-e374-11ed-a595-66c93374e280.png', 'prod/data/fb_images/color_analysis/images_1000px/images/a6bdc6d9-e374-11ed-a595-66c93374e280.png', 'prod/data/fb_images/color_analysis/images_1000px/images/a6bdc6e2-e374-11ed-a595-66c93374e280.png', 'prod/data/fb_images/color_analysis/images_1000px/images/a6bdc6ec-e374-11ed-a595-66c93374e280.png', 'prod/data/fb_images/color_analysis/images_1000px/images/a6bdc6f6-e374-11ed-a595-66c93374e280.png', 'prod/data/fb_images/color_analysis/images_1000px/images/a6bdc700-e374-11ed-a595-66c93374e280.png', 'prod/data/fb_images/color_analysis/images_1000px/images/a6bdc70a-e374-11ed-a595-66c93374e280.png', 'prod/data/fb_images/color_analysis/images_1000px/images/a6bdc714-e374-11ed-a595-66c93374e280.png', 'prod/data/fb_images/color_analysis/images_1000px/images/a6bdc71e-e374-11ed-a595-66c93374e280.png', 'prod/data/fb_images/color_analysis/images_1000px/images/a6bdc728-e374-11ed-a595-66c93374e280.png', 'prod/data/fb_images/color_analysis/images_1000px/images/a6bdc732-e374-11ed-a595-66c93374e280.png', 'prod/data/fb_images/color_analysis/images_1000px/images/a6bdc73c-e374-11ed-a595-66c93374e280.png', 'prod/data/fb_images/color_analysis/images_1000px/images/a6bdc746-e374-11ed-a595-66c93374e280.png', 'prod/data/fb_images/color_analysis/images_1000px/images/a6bdc750-e374-11ed-a595-66c93374e280.png', 'prod/data/fb_images/color_analysis/images_1000px/images/a6bdc75a-e374-11ed-a595-66c93374e280.png', 'prod/data/fb_images/color_analysis/images_1000px/images/a6bdc764-e374-11ed-a595-66c93374e280.png', 'prod/data/fb_images/color_analysis/images_1000px/images/a6bdc765-e374-11ed-a595-66c93374e280.png', 'prod/data/fb_images/color_analysis/images_1000px/images/a6bdc76e-e374-11ed-a595-66c93374e280.png', 'prod/data/fb_images/color_analysis/images_1000px/images/a6bdc778-e374-11ed-a595-66c93374e280.png', 'prod/data/fb_images/color_analysis/images_1000px/images/a6bdc782-e374-11ed-a595-66c93374e280.png', 'prod/data/fb_images/color_analysis/images_1000px/images/a6bdc78c-e374-11ed-a595-66c93374e280.png', 'prod/data/fb_images/color_analysis/images_1000px/images/a6bdc796-e374-11ed-a595-66c93374e280.png', 'prod/data/fb_images/color_analysis/images_1000px/images/a6bdc7a0-e374-11ed-a595-66c93374e280.png', 'prod/data/fb_images/color_analysis/images_1000px/images/a6bdc7aa-e374-11ed-a595-66c93374e280.png', 'prod/data/fb_images/color_analysis/images_1000px/images/a6bdc7b4-e374-11ed-a595-66c93374e280.png', 'prod/data/fb_images/color_analysis/images_1000px/images/a6bdc7be-e374-11ed-a595-66c93374e280.png', 'prod/data/fb_images/color_analysis/images_1000px/images/a6bdc7c8-e374-11ed-a595-66c93374e280.png', 'prod/data/fb_images/color_analysis/images_1000px/images/a6bdc7d2-e374-11ed-a595-66c93374e280.png', 'prod/data/fb_images/color_analysis/images_1000px/images/a6bdc7dc-e374-11ed-a595-66c93374e280.png', 'prod/data/fb_images/color_analysis/images_1000px/images/a6bdc7e6-e374-11ed-a595-66c93374e280.png', 'prod/data/fb_images/color_analysis/images_1000px/images/a6bdc7f0-e374-11ed-a595-66c93374e280.png', 'prod/data/fb_images/color_analysis/images_1000px/images/a6bdc7fa-e374-11ed-a595-66c93374e280.png', 'prod/data/fb_images/color_analysis/images_1000px/images/a6bdc804-e374-11ed-a595-66c93374e280.png', 'prod/data/fb_images/color_analysis/images_1000px/images/a6bdc80e-e374-11ed-a595-66c93374e280.png', 'prod/data/fb_images/color_analysis/images_1000px/images/a6bdc818-e374-11ed-a595-66c93374e280.png', 'prod/data/fb_images/color_analysis/images_1000px/images/a6bdc819-e374-11ed-a595-66c93374e280.png', 'prod/data/fb_images/color_analysis/images_1000px/images/a6bdc822-e374-11ed-a595-66c93374e280.png', 'prod/data/fb_images/color_analysis/images_1000px/images/a6bdc82c-e374-11ed-a595-66c93374e280.png', 'prod/data/fb_images/color_analysis/images_1000px/images/a6bdc836-e374-11ed-a595-66c93374e280.png', 'prod/data/fb_images/color_analysis/images_1000px/images/a6bdc840-e374-11ed-a595-66c93374e280.png', 'prod/data/fb_images/color_analysis/images_1000px/images/a6bdc84a-e374-11ed-a595-66c93374e280.png', 'prod/data/fb_images/color_analysis/images_1000px/images/a6bdc854-e374-11ed-a595-66c93374e280.png', 'prod/data/fb_images/color_analysis/images_1000px/images/a6bdc85e-e374-11ed-a595-66c93374e280.png', 'prod/data/fb_images/color_analysis/images_1000px/images/a6bdc868-e374-11ed-a595-66c93374e280.png', 'prod/data/fb_images/color_analysis/images_1000px/images/a6bdc869-e374-11ed-a595-66c93374e280.png', 'prod/data/fb_images/color_analysis/images_1000px/images/a6bdc872-e374-11ed-a595-66c93374e280.png', 'prod/data/fb_images/color_analysis/images_1000px/images/a6bdc87c-e374-11ed-a595-66c93374e280.png', 'prod/data/fb_images/color_analysis/images_1000px/images/a6bdc886-e374-11ed-a595-66c93374e280.png', 'prod/data/fb_images/color_analysis/images_1000px/images/a6bdc890-e374-11ed-a595-66c93374e280.png', 'prod/data/fb_images/color_analysis/images_1000px/images/a6bdc89a-e374-11ed-a595-66c93374e280.png', 'prod/data/fb_images/color_analysis/images_1000px/images/a6bdc8a4-e374-11ed-a595-66c93374e280.png', 'prod/data/fb_images/color_analysis/images_1000px/images/a6bdc8ae-e374-11ed-a595-66c93374e280.png', 'prod/data/fb_images/color_analysis/images_1000px/images/a6bdc8b8-e374-11ed-a595-66c93374e280.png', 'prod/data/fb_images/color_analysis/images_1000px/images/a6bdc8c2-e374-11ed-a595-66c93374e280.png', 'prod/data/fb_images/color_analysis/images_1000px/images/a6bdc8c3-e374-11ed-a595-66c93374e280.png', 'prod/data/fb_images/color_analysis/images_1000px/images/a6bdc8cc-e374-11ed-a595-66c93374e280.png', 'prod/data/fb_images/color_analysis/images_1000px/images/a6bdc8d6-e374-11ed-a595-66c93374e280.png', 'prod/data/fb_images/color_analysis/images_1000px/images/a6bdc8e0-e374-11ed-a595-66c93374e280.png', 'prod/data/fb_images/color_analysis/images_1000px/images/a6bdc8ea-e374-11ed-a595-66c93374e280.png', 'prod/data/fb_images/color_analysis/images_1000px/images/a6bdc8f4-e374-11ed-a595-66c93374e280.png', 'prod/data/fb_images/color_analysis/images_1000px/images/a6bdc8f5-e374-11ed-a595-66c93374e280.png', 'prod/data/fb_images/color_analysis/images_1000px/images/a6bdc8fe-e374-11ed-a595-66c93374e280.png', 'prod/data/fb_images/color_analysis/images_1000px/images/a6bdc908-e374-11ed-a595-66c93374e280.png', 'prod/data/fb_images/color_analysis/images_1000px/images/a6bdc912-e374-11ed-a595-66c93374e280.png', 'prod/data/fb_images/color_analysis/images_1000px/images/a6bdc91c-e374-11ed-a595-66c93374e280.png', 'prod/data/fb_images/color_analysis/images_1000px/images/a6bdc926-e374-11ed-a595-66c93374e280.png', 'prod/data/fb_images/color_analysis/images_1000px/images/a6bdc930-e374-11ed-a595-66c93374e280.png', 'prod/data/fb_images/color_analysis/images_1000px/images/a6bdc93a-e374-11ed-a595-66c93374e280.png', 'prod/data/fb_images/color_analysis/images_1000px/images/a6bdc944-e374-11ed-a595-66c93374e280.png', 'prod/data/fb_images/color_analysis/images_1000px/images/a6bdc94e-e374-11ed-a595-66c93374e280.png', 'prod/data/fb_images/color_analysis/images_1000px/images/a6bdc958-e374-11ed-a595-66c93374e280.png', 'prod/data/fb_images/color_analysis/images_1000px/images/a6bdca0c-e374-11ed-a595-66c93374e280.png', 'prod/data/fb_images/color_analysis/images_1000px/images/a6bdca16-e374-11ed-a595-66c93374e280.png', 'prod/data/fb_images/color_analysis/images_1000px/images/a6bdca20-e374-11ed-a595-66c93374e280.png', 'prod/data/fb_images/color_analysis/images_1000px/images/a6bdca21-e374-11ed-a595-66c93374e280.png', 'prod/data/fb_images/color_analysis/images_1000px/images/a6bdca2a-e374-11ed-a595-66c93374e280.png', 'prod/data/fb_images/color_analysis/images_1000px/images/a6bdca34-e374-11ed-a595-66c93374e280.png', 'prod/data/fb_images/color_analysis/images_1000px/images/a6bdca3e-e374-11ed-a595-66c93374e280.png', 'prod/data/fb_images/color_analysis/images_1000px/images/a6bdca48-e374-11ed-a595-66c93374e280.png', 'prod/data/fb_images/color_analysis/images_1000px/images/a6bdca52-e374-11ed-a595-66c93374e280.png', 'prod/data/fb_images/color_analysis/images_1000px/images/a6bdca5c-e374-11ed-a595-66c93374e280.png', 'prod/data/fb_images/color_analysis/images_1000px/images/a6bdca5d-e374-11ed-a595-66c93374e280.png', 'prod/data/fb_images/color_analysis/images_1000px/images/a6bdca66-e374-11ed-a595-66c93374e280.png', 'prod/data/fb_images/color_analysis/images_1000px/images/a6bdca70-e374-11ed-a595-66c93374e280.png', 'prod/data/fb_images/color_analysis/images_1000px/images/a6bdca7a-e374-11ed-a595-66c93374e280.png', 'prod/data/fb_images/color_analysis/images_1000px/images/a6bdca84-e374-11ed-a595-66c93374e280.png', 'prod/data/fb_images/color_analysis/images_1000px/images/a6bdca8e-e374-11ed-a595-66c93374e280.png', 'prod/data/fb_images/color_analysis/images_1000px/images/a6bdca8f-e374-11ed-a595-66c93374e280.png', 'prod/data/fb_images/color_analysis/images_1000px/images/a6bdca98-e374-11ed-a595-66c93374e280.png', 'prod/data/fb_images/color_analysis/images_1000px/images/a6bdcaa2-e374-11ed-a595-66c93374e280.png', 'prod/data/fb_images/color_analysis/images_1000px/images/a6bdcaac-e374-11ed-a595-66c93374e280.png', 'prod/data/fb_images/color_analysis/images_1000px/images/a6bdcab6-e374-11ed-a595-66c93374e280.png', 'prod/data/fb_images/color_analysis/images_1000px/images/a6bdcac0-e374-11ed-a595-66c93374e280.png', 'prod/data/fb_images/color_analysis/images_1000px/images/a6bdcaca-e374-11ed-a595-66c93374e280.png', 'prod/data/fb_images/color_analysis/images_1000px/images/a6bdcacb-e374-11ed-a595-66c93374e280.png', 'prod/data/fb_images/color_analysis/images_1000px/images/a6bdcad4-e374-11ed-a595-66c93374e280.png', 'prod/data/fb_images/color_analysis/images_1000px/images/a6bdcade-e374-11ed-a595-66c93374e280.png', 'prod/data/fb_images/color_analysis/images_1000px/images/a6bdcae8-e374-11ed-a595-66c93374e280.png', 'prod/data/fb_images/color_analysis/images_1000px/images/a6bdcaf2-e374-11ed-a595-66c93374e280.png', 'prod/data/fb_images/color_analysis/images_1000px/images/a6bdcafc-e374-11ed-a595-66c93374e280.png', 'prod/data/fb_images/color_analysis/images_1000px/images/a6bdcb06-e374-11ed-a595-66c93374e280.png', 'prod/data/fb_images/color_analysis/images_1000px/images/a6bdcb07-e374-11ed-a595-66c93374e280.png', 'prod/data/fb_images/color_analysis/images_1000px/images/a6bdcb10-e374-11ed-a595-66c93374e280.png', 'prod/data/fb_images/color_analysis/images_1000px/images/a6bdcb1a-e374-11ed-a595-66c93374e280.png', 'prod/data/fb_images/color_analysis/images_1000px/images/a6bdcb24-e374-11ed-a595-66c93374e280.png', 'prod/data/fb_images/color_analysis/images_1000px/images/a6bdcb2e-e374-11ed-a595-66c93374e280.png', 'prod/data/fb_images/color_analysis/images_1000px/images/a6bdcb38-e374-11ed-a595-66c93374e280.png', 'prod/data/fb_images/color_analysis/images_1000px/images/a6bdcb39-e374-11ed-a595-66c93374e280.png', 'prod/data/fb_images/color_analysis/images_1000px/images/a6bdcb42-e374-11ed-a595-66c93374e280.png', 'prod/data/fb_images/color_analysis/images_1000px/images/a6bdcb4c-e374-11ed-a595-66c93374e280.png', 'prod/data/fb_images/color_analysis/images_1000px/images/a6bdcb56-e374-11ed-a595-66c93374e280.png', 'prod/data/fb_images/color_analysis/images_1000px/images/a6bdcb60-e374-11ed-a595-66c93374e280.png', 'prod/data/fb_images/color_analysis/images_1000px/images/a6bdcb6a-e374-11ed-a595-66c93374e280.png', 'prod/data/fb_images/color_analysis/images_1000px/images/a6bdcb74-e374-11ed-a595-66c93374e280.png', 'prod/data/fb_images/color_analysis/images_1000px/images/a6bdcb75-e374-11ed-a595-66c93374e280.png', 'prod/data/fb_images/color_analysis/images_1000px/images/a6bdcb7e-e374-11ed-a595-66c93374e280.png', 'prod/data/fb_images/color_analysis/images_1000px/images/a6bdcb88-e374-11ed-a595-66c93374e280.png', 'prod/data/fb_images/color_analysis/images_1000px/images/a6bdcb92-e374-11ed-a595-66c93374e280.png', 'prod/data/fb_images/color_analysis/images_1000px/images/a6bdcb9c-e374-11ed-a595-66c93374e280.png', 'prod/data/fb_images/color_analysis/images_1000px/images/a6bdcba6-e374-11ed-a595-66c93374e280.png', 'prod/data/fb_images/color_analysis/images_1000px/images/a6bdcba7-e374-11ed-a595-66c93374e280.png', 'prod/data/fb_images/color_analysis/images_1000px/images/a6bdcbb0-e374-11ed-a595-66c93374e280.png', 'prod/data/fb_images/color_analysis/images_1000px/images/a6bdcbba-e374-11ed-a595-66c93374e280.png', 'prod/data/fb_images/color_analysis/images_1000px/images/a6bdcbc4-e374-11ed-a595-66c93374e280.png', 'prod/data/fb_images/color_analysis/images_1000px/images/a6bdcbce-e374-11ed-a595-66c93374e280.png', 'prod/data/fb_images/color_analysis/images_1000px/images/a6bdcbd8-e374-11ed-a595-66c93374e280.png', 'prod/data/fb_images/color_analysis/images_1000px/images/a6bdcbe2-e374-11ed-a595-66c93374e280.png', 'prod/data/fb_images/color_analysis/images_1000px/images/a6bdcbe3-e374-11ed-a595-66c93374e280.png', 'prod/data/fb_images/color_analysis/images_1000px/images/a6bdcbec-e374-11ed-a595-66c93374e280.png', 'prod/data/fb_images/color_analysis/images_1000px/images/a6bdcbf6-e374-11ed-a595-66c93374e280.png', 'prod/data/fb_images/color_analysis/images_1000px/images/a6bdcc00-e374-11ed-a595-66c93374e280.png', 'prod/data/fb_images/color_analysis/images_1000px/images/a6bdcc0a-e374-11ed-a595-66c93374e280.png', 'prod/data/fb_images/color_analysis/images_1000px/images/a6bdcc14-e374-11ed-a595-66c93374e280.png', 'prod/data/fb_images/color_analysis/images_1000px/images/a6bdcc15-e374-11ed-a595-66c93374e280.png', 'prod/data/fb_images/color_analysis/images_1000px/images/a6bdcc1e-e374-11ed-a595-66c93374e280.png', 'prod/data/fb_images/color_analysis/images_1000px/images/a6bdcc28-e374-11ed-a595-66c93374e280.png', 'prod/data/fb_images/color_analysis/images_1000px/images/a6bdcc32-e374-11ed-a595-66c93374e280.png', 'prod/data/fb_images/color_analysis/images_1000px/images/a6bdcc3c-e374-11ed-a595-66c93374e280.png', 'prod/data/fb_images/color_analysis/images_1000px/images/a6bdcc46-e374-11ed-a595-66c93374e280.png', 'prod/data/fb_images/color_analysis/images_1000px/images/a6bdcc50-e374-11ed-a595-66c93374e280.png', 'prod/data/fb_images/color_analysis/images_1000px/images/a6bdcc51-e374-11ed-a595-66c93374e280.png', 'prod/data/fb_images/color_analysis/images_1000px/images/a6bdcc5a-e374-11ed-a595-66c93374e280.png', 'prod/data/fb_images/color_analysis/images_1000px/images/a6bdcc64-e374-11ed-a595-66c93374e280.png', 'prod/data/fb_images/color_analysis/images_1000px/images/a6bdcc6e-e374-11ed-a595-66c93374e280.png', 'prod/data/fb_images/color_analysis/images_1000px/images/a6bdcc78-e374-11ed-a595-66c93374e280.png', 'prod/data/fb_images/color_analysis/images_1000px/images/a6bdcc82-e374-11ed-a595-66c93374e280.png', 'prod/data/fb_images/color_analysis/images_1000px/images/a6bdcc83-e374-11ed-a595-66c93374e280.png', 'prod/data/fb_images/color_analysis/images_1000px/images/a6bdcc8c-e374-11ed-a595-66c93374e280.png', 'prod/data/fb_images/color_analysis/images_1000px/images/a6bdcc96-e374-11ed-a595-66c93374e280.png', 'prod/data/fb_images/color_analysis/images_1000px/images/a6bdcca0-e374-11ed-a595-66c93374e280.png', 'prod/data/fb_images/color_analysis/images_1000px/images/a6bdccaa-e374-11ed-a595-66c93374e280.png', 'prod/data/fb_images/color_analysis/images_1000px/images/a6bdccb4-e374-11ed-a595-66c93374e280.png', 'prod/data/fb_images/color_analysis/images_1000px/images/a6bdccb5-e374-11ed-a595-66c93374e280.png', 'prod/data/fb_images/color_analysis/images_1000px/images/a6bdccbe-e374-11ed-a595-66c93374e280.png', 'prod/data/fb_images/color_analysis/images_1000px/images/a6bdccc8-e374-11ed-a595-66c93374e280.png', 'prod/data/fb_images/color_analysis/images_1000px/images/a6bdccd2-e374-11ed-a595-66c93374e280.png', 'prod/data/fb_images/color_analysis/images_1000px/images/a6bdccdc-e374-11ed-a595-66c93374e280.png', 'prod/data/fb_images/color_analysis/images_1000px/images/a6bdcce6-e374-11ed-a595-66c93374e280.png', 'prod/data/fb_images/color_analysis/images_1000px/images/a6bdccf0-e374-11ed-a595-66c93374e280.png', 'prod/data/fb_images/color_analysis/images_1000px/images/a6bdccfa-e374-11ed-a595-66c93374e280.png', 'prod/data/fb_images/color_analysis/images_1000px/images/a6bdccfb-e374-11ed-a595-66c93374e280.png', 'prod/data/fb_images/color_analysis/images_1000px/images/a6bdcd04-e374-11ed-a595-66c93374e280.png', 'prod/data/fb_images/color_analysis/images_1000px/images/a6bdcd0e-e374-11ed-a595-66c93374e280.png', 'prod/data/fb_images/color_analysis/images_1000px/images/a6bdcd18-e374-11ed-a595-66c93374e280.png', 'prod/data/fb_images/color_analysis/images_1000px/images/a6bdcd22-e374-11ed-a595-66c93374e280.png', 'prod/data/fb_images/color_analysis/images_1000px/images/a6bdcd2c-e374-11ed-a595-66c93374e280.png', 'prod/data/fb_images/color_analysis/images_1000px/images/a6bdcd2d-e374-11ed-a595-66c93374e280.png', 'prod/data/fb_images/color_analysis/images_1000px/images/a6bdcd36-e374-11ed-a595-66c93374e280.png', 'prod/data/fb_images/color_analysis/images_1000px/images/a6bdcd40-e374-11ed-a595-66c93374e280.png', 'prod/data/fb_images/color_analysis/images_1000px/images/a6bdcd4a-e374-11ed-a595-66c93374e280.png', 'prod/data/fb_images/color_analysis/images_1000px/images/a6bdcd54-e374-11ed-a595-66c93374e280.png', 'prod/data/fb_images/color_analysis/images_1000px/images/a6bdcd5e-e374-11ed-a595-66c93374e280.png', 'prod/data/fb_images/color_analysis/images_1000px/images/a6bdcd5f-e374-11ed-a595-66c93374e280.png', 'prod/data/fb_images/color_analysis/images_1000px/images/a6bdcd68-e374-11ed-a595-66c93374e280.png', 'prod/data/fb_images/color_analysis/images_1000px/images/a6bdcd72-e374-11ed-a595-66c93374e280.png', 'prod/data/fb_images/color_analysis/images_1000px/images/a6bdcd7c-e374-11ed-a595-66c93374e280.png', 'prod/data/fb_images/color_analysis/images_1000px/images/a6bdcd86-e374-11ed-a595-66c93374e280.png', 'prod/data/fb_images/color_analysis/images_1000px/images/a6bdcd90-e374-11ed-a595-66c93374e280.png', 'prod/data/fb_images/color_analysis/images_1000px/images/a6bdcd9a-e374-11ed-a595-66c93374e280.png', 'prod/data/fb_images/color_analysis/images_1000px/images/a6bdcd9b-e374-11ed-a595-66c93374e280.png', 'prod/data/fb_images/color_analysis/images_1000px/images/a6bdcda4-e374-11ed-a595-66c93374e280.png', 'prod/data/fb_images/color_analysis/images_1000px/images/a6bdcdae-e374-11ed-a595-66c93374e280.png', 'prod/data/fb_images/color_analysis/images_1000px/images/a6bdcdb8-e374-11ed-a595-66c93374e280.png', 'prod/data/fb_images/color_analysis/images_1000px/images/a6bdcdc2-e374-11ed-a595-66c93374e280.png', 'prod/data/fb_images/color_analysis/images_1000px/images/a6bdcdcc-e374-11ed-a595-66c93374e280.png', 'prod/data/fb_images/color_analysis/images_1000px/images/a6bdcdcd-e374-11ed-a595-66c93374e280.png', 'prod/data/fb_images/color_analysis/images_1000px/images/a6bdcdd6-e374-11ed-a595-66c93374e280.png', 'prod/data/fb_images/color_analysis/images_1000px/images/a6bdcde0-e374-11ed-a595-66c93374e280.png', 'prod/data/fb_images/color_analysis/images_1000px/images/a6bdcdea-e374-11ed-a595-66c93374e280.png', 'prod/data/fb_images/color_analysis/images_1000px/images/a6bdcdf4-e374-11ed-a595-66c93374e280.png', 'prod/data/fb_images/color_analysis/images_1000px/images/a6bdcdfe-e374-11ed-a595-66c93374e280.png', 'prod/data/fb_images/color_analysis/images_1000px/images/a6bdcdff-e374-11ed-a595-66c93374e280.png', 'prod/data/fb_images/color_analysis/images_1000px/images/a6bdce08-e374-11ed-a595-66c93374e280.png', 'prod/data/fb_images/color_analysis/images_1000px/images/a6bdce12-e374-11ed-a595-66c93374e280.png', 'prod/data/fb_images/color_analysis/images_1000px/images/a6bdce1c-e374-11ed-a595-66c93374e280.png', 'prod/data/fb_images/color_analysis/images_1000px/images/a6bdce26-e374-11ed-a595-66c93374e280.png', 'prod/data/fb_images/color_analysis/images_1000px/images/a6bdce30-e374-11ed-a595-66c93374e280.png', 'prod/data/fb_images/color_analysis/images_1000px/images/a6bdce31-e374-11ed-a595-66c93374e280.png', 'prod/data/fb_images/color_analysis/images_1000px/images/a6bdce3a-e374-11ed-a595-66c93374e280.png', 'prod/data/fb_images/color_analysis/images_1000px/images/a6bdce44-e374-11ed-a595-66c93374e280.png', 'prod/data/fb_images/color_analysis/images_1000px/images/a6bdce4e-e374-11ed-a595-66c93374e280.png', 'prod/data/fb_images/color_analysis/images_1000px/images/a6bdce58-e374-11ed-a595-66c93374e280.png', 'prod/data/fb_images/color_analysis/images_1000px/images/a6bdce62-e374-11ed-a595-66c93374e280.png', 'prod/data/fb_images/color_analysis/images_1000px/images/a6bdce6c-e374-11ed-a595-66c93374e280.png', 'prod/data/fb_images/color_analysis/images_1000px/images/a6bdce6d-e374-11ed-a595-66c93374e280.png', 'prod/data/fb_images/color_analysis/images_1000px/images/a6bdce76-e374-11ed-a595-66c93374e280.png', 'prod/data/fb_images/color_analysis/images_1000px/images/a6bdce80-e374-11ed-a595-66c93374e280.png', 'prod/data/fb_images/color_analysis/images_1000px/images/a6bdce8a-e374-11ed-a595-66c93374e280.png', 'prod/data/fb_images/color_analysis/images_1000px/images/a6bdce94-e374-11ed-a595-66c93374e280.png', 'prod/data/fb_images/color_analysis/images_1000px/images/a6bdce9e-e374-11ed-a595-66c93374e280.png', 'prod/data/fb_images/color_analysis/images_1000px/images/a6bdcea8-e374-11ed-a595-66c93374e280.png', 'prod/data/fb_images/color_analysis/images_1000px/images/a6bdcea9-e374-11ed-a595-66c93374e280.png', 'prod/data/fb_images/color_analysis/images_1000px/images/a6bdceb2-e374-11ed-a595-66c93374e280.png', 'prod/data/fb_images/color_analysis/images_1000px/images/a6bdcebc-e374-11ed-a595-66c93374e280.png', 'prod/data/fb_images/color_analysis/images_1000px/images/a6bdcec6-e374-11ed-a595-66c93374e280.png', 'prod/data/fb_images/color_analysis/images_1000px/images/a6bdced0-e374-11ed-a595-66c93374e280.png', 'prod/data/fb_images/color_analysis/images_1000px/images/a6bdceda-e374-11ed-a595-66c93374e280.png', 'prod/data/fb_images/color_analysis/images_1000px/images/a6bdcedb-e374-11ed-a595-66c93374e280.png', 'prod/data/fb_images/color_analysis/images_1000px/images/a6bdcee4-e374-11ed-a595-66c93374e280.png', 'prod/data/fb_images/color_analysis/images_1000px/images/a6bdceee-e374-11ed-a595-66c93374e280.png', 'prod/data/fb_images/color_analysis/images_1000px/images/a6bdcef8-e374-11ed-a595-66c93374e280.png', 'prod/data/fb_images/color_analysis/images_1000px/images/a6bdcf02-e374-11ed-a595-66c93374e280.png', 'prod/data/fb_images/color_analysis/images_1000px/images/a6bdcf0c-e374-11ed-a595-66c93374e280.png', 'prod/data/fb_images/color_analysis/images_1000px/images/a6bdcf16-e374-11ed-a595-66c93374e280.png', 'prod/data/fb_images/color_analysis/images_1000px/images/a6bdcf17-e374-11ed-a595-66c93374e280.png', 'prod/data/fb_images/color_analysis/images_1000px/images/a6bdcf20-e374-11ed-a595-66c93374e280.png', 'prod/data/fb_images/color_analysis/images_1000px/images/a6bdcf2a-e374-11ed-a595-66c93374e280.png', 'prod/data/fb_images/color_analysis/images_1000px/images/a6bdcf34-e374-11ed-a595-66c93374e280.png', 'prod/data/fb_images/color_analysis/images_1000px/images/a6bdcf3e-e374-11ed-a595-66c93374e280.png', 'prod/data/fb_images/color_analysis/images_1000px/images/a6bdcf48-e374-11ed-a595-66c93374e280.png', 'prod/data/fb_images/color_analysis/images_1000px/images/a6bdcf52-e374-11ed-a595-66c93374e280.png', 'prod/data/fb_images/color_analysis/images_1000px/images/a6bdcf53-e374-11ed-a595-66c93374e280.png', 'prod/data/fb_images/color_analysis/images_1000px/images/a6bdcf5c-e374-11ed-a595-66c93374e280.png', 'prod/data/fb_images/color_analysis/images_1000px/images/a6bdcf66-e374-11ed-a595-66c93374e280.png', 'prod/data/fb_images/color_analysis/images_1000px/images/a6bdcf70-e374-11ed-a595-66c93374e280.png', 'prod/data/fb_images/color_analysis/images_1000px/images/a6bdcf7a-e374-11ed-a595-66c93374e280.png', 'prod/data/fb_images/color_analysis/images_1000px/images/a6bdcf84-e374-11ed-a595-66c93374e280.png', 'prod/data/fb_images/color_analysis/images_1000px/images/a6bdcf85-e374-11ed-a595-66c93374e280.png', 'prod/data/fb_images/color_analysis/images_1000px/images/a6bdcf8e-e374-11ed-a595-66c93374e280.png', 'prod/data/fb_images/color_analysis/images_1000px/images/a6bdcf98-e374-11ed-a595-66c93374e280.png', 'prod/data/fb_images/color_analysis/images_1000px/images/a6bdcfa2-e374-11ed-a595-66c93374e280.png', 'prod/data/fb_images/color_analysis/images_1000px/images/a6bdcfac-e374-11ed-a595-66c93374e280.png', 'prod/data/fb_images/color_analysis/images_1000px/images/a6bdcfb6-e374-11ed-a595-66c93374e280.png', 'prod/data/fb_images/color_analysis/images_1000px/images/a6bdcfc0-e374-11ed-a595-66c93374e280.png', 'prod/data/fb_images/color_analysis/images_1000px/images/a6bdcfc1-e374-11ed-a595-66c93374e280.png', 'prod/data/fb_images/color_analysis/images_1000px/images/a6bdcfca-e374-11ed-a595-66c93374e280.png', 'prod/data/fb_images/color_analysis/images_1000px/images/a6bdcfd4-e374-11ed-a595-66c93374e280.png', 'prod/data/fb_images/color_analysis/images_1000px/images/a6bdcfde-e374-11ed-a595-66c93374e280.png', 'prod/data/fb_images/color_analysis/images_1000px/images/a6bdcfe8-e374-11ed-a595-66c93374e280.png', 'prod/data/fb_images/color_analysis/images_1000px/images/a6bdcff2-e374-11ed-a595-66c93374e280.png', 'prod/data/fb_images/color_analysis/images_1000px/images/a6bdcffc-e374-11ed-a595-66c93374e280.png', 'prod/data/fb_images/color_analysis/images_1000px/images/a6bdcffd-e374-11ed-a595-66c93374e280.png', 'prod/data/fb_images/color_analysis/images_1000px/images/a6bdd006-e374-11ed-a595-66c93374e280.png', 'prod/data/fb_images/color_analysis/images_1000px/images/a6bdd010-e374-11ed-a595-66c93374e280.png', 'prod/data/fb_images/color_analysis/images_1000px/images/a6bdd01a-e374-11ed-a595-66c93374e280.png', 'prod/data/fb_images/color_analysis/images_1000px/images/a6bdd024-e374-11ed-a595-66c93374e280.png', 'prod/data/fb_images/color_analysis/images_1000px/images/a6bdd025-e374-11ed-a595-66c93374e280.png', 'prod/data/fb_images/color_analysis/images_1000px/images/a6bdd02e-e374-11ed-a595-66c93374e280.png', 'prod/data/fb_images/color_analysis/images_1000px/images/a6bdd038-e374-11ed-a595-66c93374e280.png', 'prod/data/fb_images/color_analysis/images_1000px/images/a6bdd042-e374-11ed-a595-66c93374e280.png', 'prod/data/fb_images/color_analysis/images_1000px/images/a6bdd04c-e374-11ed-a595-66c93374e280.png', 'prod/data/fb_images/color_analysis/images_1000px/images/a6bdd056-e374-11ed-a595-66c93374e280.png', 'prod/data/fb_images/color_analysis/images_1000px/images/a6bdd060-e374-11ed-a595-66c93374e280.png', 'prod/data/fb_images/color_analysis/images_1000px/images/a6bdd061-e374-11ed-a595-66c93374e280.png', 'prod/data/fb_images/color_analysis/images_1000px/images/a6bdd06a-e374-11ed-a595-66c93374e280.png', 'prod/data/fb_images/color_analysis/images_1000px/images/a6bdd074-e374-11ed-a595-66c93374e280.png', 'prod/data/fb_images/color_analysis/images_1000px/images/a6bdd07e-e374-11ed-a595-66c93374e280.png', 'prod/data/fb_images/color_analysis/images_1000px/images/a6bdd088-e374-11ed-a595-66c93374e280.png', 'prod/data/fb_images/color_analysis/images_1000px/images/a6bdd092-e374-11ed-a595-66c93374e280.png', 'prod/data/fb_images/color_analysis/images_1000px/images/a6bdd09c-e374-11ed-a595-66c93374e280.png', 'prod/data/fb_images/color_analysis/images_1000px/images/a6bdd09d-e374-11ed-a595-66c93374e280.png', 'prod/data/fb_images/color_analysis/images_1000px/images/a6bdd0a6-e374-11ed-a595-66c93374e280.png', 'prod/data/fb_images/color_analysis/images_1000px/images/a6bdd0b0-e374-11ed-a595-66c93374e280.png', 'prod/data/fb_images/color_analysis/images_1000px/images/a6bdd0ba-e374-11ed-a595-66c93374e280.png', 'prod/data/fb_images/color_analysis/images_1000px/images/a6bdd0c4-e374-11ed-a595-66c93374e280.png', 'prod/data/fb_images/color_analysis/images_1000px/images/a6bdd0ce-e374-11ed-a595-66c93374e280.png', 'prod/data/fb_images/color_analysis/images_1000px/images/a6bdd0cf-e374-11ed-a595-66c93374e280.png', 'prod/data/fb_images/color_analysis/images_1000px/images/a6bdd0d8-e374-11ed-a595-66c93374e280.png', 'prod/data/fb_images/color_analysis/images_1000px/images/a6bdd0e2-e374-11ed-a595-66c93374e280.png', 'prod/data/fb_images/color_analysis/images_1000px/images/a6bdd0ec-e374-11ed-a595-66c93374e280.png', 'prod/data/fb_images/color_analysis/images_1000px/images/a6bdd0f6-e374-11ed-a595-66c93374e280.png', 'prod/data/fb_images/color_analysis/images_1000px/images/a6bdd100-e374-11ed-a595-66c93374e280.png', 'prod/data/fb_images/color_analysis/images_1000px/images/a6bdd101-e374-11ed-a595-66c93374e280.png', 'prod/data/fb_images/color_analysis/images_1000px/images/a6bdd10a-e374-11ed-a595-66c93374e280.png', 'prod/data/fb_images/color_analysis/images_1000px/images/a6bdd114-e374-11ed-a595-66c93374e280.png', 'prod/data/fb_images/color_analysis/images_1000px/images/a6bdd11e-e374-11ed-a595-66c93374e280.png', 'prod/data/fb_images/color_analysis/images_1000px/images/a6bdd128-e374-11ed-a595-66c93374e280.png', 'prod/data/fb_images/color_analysis/images_1000px/images/a6bdd132-e374-11ed-a595-66c93374e280.png', 'prod/data/fb_images/color_analysis/images_1000px/images/a6bdd133-e374-11ed-a595-66c93374e280.png', 'prod/data/fb_images/color_analysis/images_1000px/images/a6bdd13c-e374-11ed-a595-66c93374e280.png', 'prod/data/fb_images/color_analysis/images_1000px/images/a6bdd146-e374-11ed-a595-66c93374e280.png', 'prod/data/fb_images/color_analysis/images_1000px/images/a6bdd150-e374-11ed-a595-66c93374e280.png', 'prod/data/fb_images/color_analysis/images_1000px/images/a6bdd15a-e374-11ed-a595-66c93374e280.png', 'prod/data/fb_images/color_analysis/images_1000px/images/a6bdd164-e374-11ed-a595-66c93374e280.png', 'prod/data/fb_images/color_analysis/images_1000px/images/a6bdd165-e374-11ed-a595-66c93374e280.png', 'prod/data/fb_images/color_analysis/images_1000px/images/a6bdd16e-e374-11ed-a595-66c93374e280.png', 'prod/data/fb_images/color_analysis/images_1000px/images/a6bdd178-e374-11ed-a595-66c93374e280.png', 'prod/data/fb_images/color_analysis/images_1000px/images/a6bdd182-e374-11ed-a595-66c93374e280.png', 'prod/data/fb_images/color_analysis/images_1000px/images/a6bdd18c-e374-11ed-a595-66c93374e280.png', 'prod/data/fb_images/color_analysis/images_1000px/images/a6bdd196-e374-11ed-a595-66c93374e280.png', 'prod/data/fb_images/color_analysis/images_1000px/images/a6bdd1a0-e374-11ed-a595-66c93374e280.png', 'prod/data/fb_images/color_analysis/images_1000px/images/a6bdd1a1-e374-11ed-a595-66c93374e280.png', 'prod/data/fb_images/color_analysis/images_1000px/images/a6bdd1aa-e374-11ed-a595-66c93374e280.png', 'prod/data/fb_images/color_analysis/images_1000px/images/a6bdd1b4-e374-11ed-a595-66c93374e280.png', 'prod/data/fb_images/color_analysis/images_1000px/images/a6bdd1be-e374-11ed-a595-66c93374e280.png', 'prod/data/fb_images/color_analysis/images_1000px/images/a6bdd1c8-e374-11ed-a595-66c93374e280.png', 'prod/data/fb_images/color_analysis/images_1000px/images/a6bdd1d2-e374-11ed-a595-66c93374e280.png', 'prod/data/fb_images/color_analysis/images_1000px/images/a6bdd1d3-e374-11ed-a595-66c93374e280.png', 'prod/data/fb_images/color_analysis/images_1000px/images/a6bdd1dc-e374-11ed-a595-66c93374e280.png', 'prod/data/fb_images/color_analysis/images_1000px/images/a6bdd1e6-e374-11ed-a595-66c93374e280.png', 'prod/data/fb_images/color_analysis/images_1000px/images/a6bdd1f0-e374-11ed-a595-66c93374e280.png', 'prod/data/fb_images/color_analysis/images_1000px/images/a6bdd1fa-e374-11ed-a595-66c93374e280.png', 'prod/data/fb_images/color_analysis/images_1000px/images/a6bdd204-e374-11ed-a595-66c93374e280.png', 'prod/data/fb_images/color_analysis/images_1000px/images/a6bdd205-e374-11ed-a595-66c93374e280.png', 'prod/data/fb_images/color_analysis/images_1000px/images/a6bdd20e-e374-11ed-a595-66c93374e280.png', 'prod/data/fb_images/color_analysis/images_1000px/images/a6bdd218-e374-11ed-a595-66c93374e280.png', 'prod/data/fb_images/color_analysis/images_1000px/images/a6bdd222-e374-11ed-a595-66c93374e280.png']\n"
     ]
    },
    {
     "name": "stderr",
     "output_type": "stream",
     "text": [
      "\u001b[32m2023-08-18 08:04:49.393\u001b[0m | \u001b[34m\u001b[1mDEBUG   \u001b[0m | \u001b[36msrc.utils.s3.utils\u001b[0m:\u001b[36mlist_objects_from_prefix\u001b[0m:\u001b[36m44\u001b[0m - \u001b[34m\u001b[1mraw prefix = prod\u001b[0m\n"
     ]
    },
    {
     "name": "stdout",
     "output_type": "stream",
     "text": [
      "[]\n"
     ]
    }
   ],
   "source": [
    "print(list_objects_from_prefix(prefix=path, add_global_folder=False))\n",
    "delete_from_s3(prefix=path)\n",
    "print(list_objects_from_prefix(prefix=path, add_global_folder=False))"
   ]
  },
  {
   "cell_type": "code",
   "execution_count": 3,
   "metadata": {},
   "outputs": [
    {
     "ename": "TypeError",
     "evalue": "copy_on_s3() got an unexpected keyword argument 'copy_prefix'",
     "output_type": "error",
     "traceback": [
      "\u001b[0;31m---------------------------------------------------------------------------\u001b[0m",
      "\u001b[0;31mTypeError\u001b[0m                                 Traceback (most recent call last)",
      "Cell \u001b[0;32mIn[3], line 1\u001b[0m\n\u001b[0;32m----> 1\u001b[0m copy_on_s3(original_prefix\u001b[39m=\u001b[39;49m\u001b[39m'\u001b[39;49m\u001b[39mdev\u001b[39;49m\u001b[39m'\u001b[39;49m, copy_prefix\u001b[39m=\u001b[39;49m\u001b[39m'\u001b[39;49m\u001b[39mprod\u001b[39;49m\u001b[39m'\u001b[39;49m)\n",
      "\u001b[0;31mTypeError\u001b[0m: copy_on_s3() got an unexpected keyword argument 'copy_prefix'"
     ]
    }
   ],
   "source": [
    "copy_on_s3(original_prefix='dev', copy_prefix='prod')"
   ]
  },
  {
   "cell_type": "code",
   "execution_count": 5,
   "metadata": {},
   "outputs": [
    {
     "data": {
      "text/plain": [
       "'prod/data/fb_images/color_analysis/images_1000px/images/a6bdacde-e374-11ed-a595-66c93374e280.png'"
      ]
     },
     "execution_count": 5,
     "metadata": {},
     "output_type": "execute_result"
    }
   ],
   "source": [
    "l = list_objects_from_prefix(prefix='prod/', add_global_folder=False)\n",
    "l[8]"
   ]
  },
  {
   "cell_type": "code",
   "execution_count": 6,
   "metadata": {},
   "outputs": [],
   "source": [
    "ta = 'prod/data/fb_images/color_analysis/images_1000px/images/a6bdacde-e374-11ed-a595-66c93374e280.png'"
   ]
  },
  {
   "cell_type": "code",
   "execution_count": 7,
   "metadata": {},
   "outputs": [
    {
     "data": {
      "text/plain": [
       "{'ResponseMetadata': {'RequestId': 'H0JCJQWXQQFMQVJ7',\n",
       "  'HostId': 'm88AvNyg+7zki0B7M1NQRpAOUn1qni/2bX8BjiQx/GO+53AAHFCwjhNGrb+sJZgm7o9XzBWN1RY=',\n",
       "  'HTTPStatusCode': 204,\n",
       "  'HTTPHeaders': {'x-amz-id-2': 'm88AvNyg+7zki0B7M1NQRpAOUn1qni/2bX8BjiQx/GO+53AAHFCwjhNGrb+sJZgm7o9XzBWN1RY=',\n",
       "   'x-amz-request-id': 'H0JCJQWXQQFMQVJ7',\n",
       "   'date': 'Fri, 18 Aug 2023 07:21:06 GMT',\n",
       "   'x-amz-version-id': 'Jso_UnkZkUgUQcxHURvnVLDzqvsaZ_ie',\n",
       "   'x-amz-delete-marker': 'true',\n",
       "   'server': 'AmazonS3'},\n",
       "  'RetryAttempts': 0},\n",
       " 'DeleteMarker': True,\n",
       " 'VersionId': 'Jso_UnkZkUgUQcxHURvnVLDzqvsaZ_ie'}"
      ]
     },
     "execution_count": 7,
     "metadata": {},
     "output_type": "execute_result"
    }
   ],
   "source": [
    "delete_from_s3(path=ta)"
   ]
  },
  {
   "cell_type": "code",
   "execution_count": 2,
   "metadata": {},
   "outputs": [
    {
     "name": "stdout",
     "output_type": "stream",
     "text": [
      "SELECT facebook_ad_account.facebook_id AS facebook_ad_account_facebook_id, facebook_ad_account.currency AS facebook_ad_account_currency, anon_1.rate_from_usd AS anon_1_rate_from_usd \n",
      "FROM facebook_ad_account JOIN (SELECT currency_exchange_rate.code AS code, currency_exchange_rate.rate_from_usd AS rate_from_usd, rank() OVER (PARTITION BY currency_exchange_rate.code ORDER BY currency_exchange_rate.date DESC) AS date_rank \n",
      "FROM currency_exchange_rate ORDER BY currency_exchange_rate.code, currency_exchange_rate.date DESC) AS anon_1 ON anon_1.code = facebook_ad_account.currency \n",
      "WHERE facebook_ad_account.shop_id IN (__[POSTCOMPILE_shop_id_1]) AND anon_1.date_rank = %(date_rank_1)s\n"
     ]
    },
    {
     "data": {
      "text/plain": [
       "{'57086910': 1.357765}"
      ]
     },
     "execution_count": 2,
     "metadata": {},
     "output_type": "execute_result"
    }
   ],
   "source": [
    "aha = get_conversion_rates_dict(db=db, account_model=FacebookAdAccount, shop_id = 44301396)\n",
    "aha"
   ]
  },
  {
   "cell_type": "code",
   "execution_count": 3,
   "metadata": {},
   "outputs": [
    {
     "data": {
      "text/plain": [
       "{'57086910': 1.357765}"
      ]
     },
     "execution_count": 3,
     "metadata": {},
     "output_type": "execute_result"
    }
   ],
   "source": [
    "aha"
   ]
  },
  {
   "cell_type": "code",
   "execution_count": 2,
   "metadata": {},
   "outputs": [
    {
     "name": "stdout",
     "output_type": "stream",
     "text": [
      "SELECT DISTINCT ON (currency_exchange_rate.code) currency_exchange_rate.code AS currency_exchange_rate_code, currency_exchange_rate.rate_from_usd AS currency_exchange_rate_rate_from_usd \n",
      "FROM currency_exchange_rate ORDER BY currency_exchange_rate.code, currency_exchange_rate.date DESC\n"
     ]
    },
    {
     "data": {
      "text/plain": [
       "<sqlalchemy.orm.query.Query at 0xffff7c19a500>"
      ]
     },
     "execution_count": 2,
     "metadata": {},
     "output_type": "execute_result"
    }
   ],
   "source": [
    "crud.currency_exchange_rate.query_current_rates(db=db)"
   ]
  },
  {
   "cell_type": "code",
   "execution_count": 8,
   "metadata": {},
   "outputs": [],
   "source": [
    "df = pd.DataFrame()"
   ]
  },
  {
   "cell_type": "code",
   "execution_count": 10,
   "metadata": {},
   "outputs": [
    {
     "data": {
      "text/plain": [
       "0.0"
      ]
     },
     "execution_count": 10,
     "metadata": {},
     "output_type": "execute_result"
    }
   ],
   "source": [
    "getattr(df, 'sum')()"
   ]
  },
  {
   "cell_type": "code",
   "execution_count": 4,
   "metadata": {},
   "outputs": [],
   "source": [
    "df = ping_target_and_performance(db=db, shop_id=shop_id, start_date=start_date, end_date=end_date, enum_to_value=True)"
   ]
  },
  {
   "cell_type": "code",
   "execution_count": 6,
   "metadata": {},
   "outputs": [
    {
     "data": {
      "text/plain": [
       "0      remarketing\n",
       "1      remarketing\n",
       "2      remarketing\n",
       "3      remarketing\n",
       "4      acquisition\n",
       "          ...     \n",
       "943    acquisition\n",
       "944    acquisition\n",
       "945    acquisition\n",
       "946    remarketing\n",
       "947    acquisition\n",
       "Name: target, Length: 948, dtype: object"
      ]
     },
     "execution_count": 6,
     "metadata": {},
     "output_type": "execute_result"
    }
   ],
   "source": [
    "df.target"
   ]
  },
  {
   "cell_type": "code",
   "execution_count": 24,
   "metadata": {},
   "outputs": [
    {
     "data": {
      "text/html": [
       "<div>\n",
       "<style scoped>\n",
       "    .dataframe tbody tr th:only-of-type {\n",
       "        vertical-align: middle;\n",
       "    }\n",
       "\n",
       "    .dataframe tbody tr th {\n",
       "        vertical-align: top;\n",
       "    }\n",
       "\n",
       "    .dataframe thead th {\n",
       "        text-align: right;\n",
       "    }\n",
       "</style>\n",
       "<table border=\"1\" class=\"dataframe\">\n",
       "  <thead>\n",
       "    <tr style=\"text-align: right;\">\n",
       "      <th></th>\n",
       "      <th>shop_id</th>\n",
       "      <th>account_id</th>\n",
       "      <th>adset_id</th>\n",
       "      <th>target</th>\n",
       "      <th>targeting</th>\n",
       "      <th>audience</th>\n",
       "      <th>interests</th>\n",
       "      <th>gender</th>\n",
       "      <th>age_groups</th>\n",
       "      <th>ad_id</th>\n",
       "      <th>spend</th>\n",
       "      <th>impr</th>\n",
       "      <th>clicks</th>\n",
       "      <th>purch</th>\n",
       "      <th>purch_value</th>\n",
       "      <th>year_month</th>\n",
       "      <th>spend_USD</th>\n",
       "      <th>purch_value_USD</th>\n",
       "    </tr>\n",
       "  </thead>\n",
       "  <tbody>\n",
       "    <tr>\n",
       "      <th>0</th>\n",
       "      <td>44301396</td>\n",
       "      <td>57086910</td>\n",
       "      <td>6265489292658</td>\n",
       "      <td>Target.remarketing</td>\n",
       "      <td>{'age_max': 65, 'age_min': 18, 'geo_locations'...</td>\n",
       "      <td>Audience.broad</td>\n",
       "      <td>[]</td>\n",
       "      <td>Gender.both</td>\n",
       "      <td>[AgeGroup.young, AgeGroup.middle, AgeGroup.old]</td>\n",
       "      <td>6270216041258</td>\n",
       "      <td>968.33</td>\n",
       "      <td>72098.0</td>\n",
       "      <td>737.0</td>\n",
       "      <td>57.0</td>\n",
       "      <td>5251.74</td>\n",
       "      <td>2022-08-01</td>\n",
       "      <td>713.162571</td>\n",
       "      <td>3867.838860</td>\n",
       "    </tr>\n",
       "    <tr>\n",
       "      <th>1</th>\n",
       "      <td>44301396</td>\n",
       "      <td>57086910</td>\n",
       "      <td>6265489292658</td>\n",
       "      <td>Target.remarketing</td>\n",
       "      <td>{'age_max': 65, 'age_min': 18, 'geo_locations'...</td>\n",
       "      <td>Audience.broad</td>\n",
       "      <td>[]</td>\n",
       "      <td>Gender.both</td>\n",
       "      <td>[AgeGroup.young, AgeGroup.middle, AgeGroup.old]</td>\n",
       "      <td>6270216041258</td>\n",
       "      <td>1385.18</td>\n",
       "      <td>81919.0</td>\n",
       "      <td>957.0</td>\n",
       "      <td>43.0</td>\n",
       "      <td>5125.13</td>\n",
       "      <td>2022-09-01</td>\n",
       "      <td>1020.167227</td>\n",
       "      <td>3774.592225</td>\n",
       "    </tr>\n",
       "    <tr>\n",
       "      <th>2</th>\n",
       "      <td>44301396</td>\n",
       "      <td>57086910</td>\n",
       "      <td>6265489292658</td>\n",
       "      <td>Target.remarketing</td>\n",
       "      <td>{'age_max': 65, 'age_min': 18, 'geo_locations'...</td>\n",
       "      <td>Audience.broad</td>\n",
       "      <td>[]</td>\n",
       "      <td>Gender.both</td>\n",
       "      <td>[AgeGroup.young, AgeGroup.middle, AgeGroup.old]</td>\n",
       "      <td>6270216041258</td>\n",
       "      <td>1839.94</td>\n",
       "      <td>108259.0</td>\n",
       "      <td>1276.0</td>\n",
       "      <td>143.0</td>\n",
       "      <td>22359.86</td>\n",
       "      <td>2022-10-01</td>\n",
       "      <td>1355.092109</td>\n",
       "      <td>16467.748861</td>\n",
       "    </tr>\n",
       "    <tr>\n",
       "      <th>3</th>\n",
       "      <td>44301396</td>\n",
       "      <td>57086910</td>\n",
       "      <td>6265489292658</td>\n",
       "      <td>Target.remarketing</td>\n",
       "      <td>{'age_max': 65, 'age_min': 18, 'geo_locations'...</td>\n",
       "      <td>Audience.broad</td>\n",
       "      <td>[]</td>\n",
       "      <td>Gender.both</td>\n",
       "      <td>[AgeGroup.young, AgeGroup.middle, AgeGroup.old]</td>\n",
       "      <td>6270216041258</td>\n",
       "      <td>1913.82</td>\n",
       "      <td>72621.0</td>\n",
       "      <td>708.0</td>\n",
       "      <td>80.0</td>\n",
       "      <td>11620.13</td>\n",
       "      <td>2022-11-01</td>\n",
       "      <td>1409.503777</td>\n",
       "      <td>8558.076060</td>\n",
       "    </tr>\n",
       "    <tr>\n",
       "      <th>119</th>\n",
       "      <td>44301396</td>\n",
       "      <td>57086910</td>\n",
       "      <td>6284094837258</td>\n",
       "      <td>Target.remarketing</td>\n",
       "      <td>{'age_max': 65, 'age_min': 18, 'geo_locations'...</td>\n",
       "      <td>Audience.broad</td>\n",
       "      <td>[]</td>\n",
       "      <td>Gender.both</td>\n",
       "      <td>[AgeGroup.young, AgeGroup.middle, AgeGroup.old]</td>\n",
       "      <td>6284094837458</td>\n",
       "      <td>13.66</td>\n",
       "      <td>676.0</td>\n",
       "      <td>73.0</td>\n",
       "      <td>0.0</td>\n",
       "      <td>0.00</td>\n",
       "      <td>2022-09-01</td>\n",
       "      <td>10.060414</td>\n",
       "      <td>0.000000</td>\n",
       "    </tr>\n",
       "    <tr>\n",
       "      <th>...</th>\n",
       "      <td>...</td>\n",
       "      <td>...</td>\n",
       "      <td>...</td>\n",
       "      <td>...</td>\n",
       "      <td>...</td>\n",
       "      <td>...</td>\n",
       "      <td>...</td>\n",
       "      <td>...</td>\n",
       "      <td>...</td>\n",
       "      <td>...</td>\n",
       "      <td>...</td>\n",
       "      <td>...</td>\n",
       "      <td>...</td>\n",
       "      <td>...</td>\n",
       "      <td>...</td>\n",
       "      <td>...</td>\n",
       "      <td>...</td>\n",
       "      <td>...</td>\n",
       "    </tr>\n",
       "    <tr>\n",
       "      <th>926</th>\n",
       "      <td>44301396</td>\n",
       "      <td>57086910</td>\n",
       "      <td>6318012910458</td>\n",
       "      <td>Target.remarketing</td>\n",
       "      <td>{'age_max': 65, 'age_min': 18, 'geo_locations'...</td>\n",
       "      <td>Audience.broad</td>\n",
       "      <td>[]</td>\n",
       "      <td>Gender.both</td>\n",
       "      <td>[AgeGroup.young, AgeGroup.middle, AgeGroup.old]</td>\n",
       "      <td>6318012909858</td>\n",
       "      <td>821.03</td>\n",
       "      <td>63646.0</td>\n",
       "      <td>629.0</td>\n",
       "      <td>32.0</td>\n",
       "      <td>2591.75</td>\n",
       "      <td>2023-05-01</td>\n",
       "      <td>604.678019</td>\n",
       "      <td>1908.790489</td>\n",
       "    </tr>\n",
       "    <tr>\n",
       "      <th>927</th>\n",
       "      <td>44301396</td>\n",
       "      <td>57086910</td>\n",
       "      <td>6318012910458</td>\n",
       "      <td>Target.remarketing</td>\n",
       "      <td>{'age_max': 65, 'age_min': 18, 'geo_locations'...</td>\n",
       "      <td>Audience.broad</td>\n",
       "      <td>[]</td>\n",
       "      <td>Gender.both</td>\n",
       "      <td>[AgeGroup.young, AgeGroup.middle, AgeGroup.old]</td>\n",
       "      <td>6318012909858</td>\n",
       "      <td>0.00</td>\n",
       "      <td>0.0</td>\n",
       "      <td>0.0</td>\n",
       "      <td>0.0</td>\n",
       "      <td>0.00</td>\n",
       "      <td>2023-06-01</td>\n",
       "      <td>0.000000</td>\n",
       "      <td>0.000000</td>\n",
       "    </tr>\n",
       "    <tr>\n",
       "      <th>933</th>\n",
       "      <td>44301396</td>\n",
       "      <td>57086910</td>\n",
       "      <td>6336914364458</td>\n",
       "      <td>Target.remarketing</td>\n",
       "      <td>{'age_max': 65, 'age_min': 18, 'geo_locations'...</td>\n",
       "      <td>Audience.broad</td>\n",
       "      <td>[]</td>\n",
       "      <td>Gender.both</td>\n",
       "      <td>[AgeGroup.young, AgeGroup.middle, AgeGroup.old]</td>\n",
       "      <td>6336914364258</td>\n",
       "      <td>193.37</td>\n",
       "      <td>24488.0</td>\n",
       "      <td>357.0</td>\n",
       "      <td>18.0</td>\n",
       "      <td>1742.20</td>\n",
       "      <td>2023-06-01</td>\n",
       "      <td>142.414514</td>\n",
       "      <td>1283.107858</td>\n",
       "    </tr>\n",
       "    <tr>\n",
       "      <th>934</th>\n",
       "      <td>44301396</td>\n",
       "      <td>57086910</td>\n",
       "      <td>6336914364458</td>\n",
       "      <td>Target.remarketing</td>\n",
       "      <td>{'age_max': 65, 'age_min': 18, 'geo_locations'...</td>\n",
       "      <td>Audience.broad</td>\n",
       "      <td>[]</td>\n",
       "      <td>Gender.both</td>\n",
       "      <td>[AgeGroup.young, AgeGroup.middle, AgeGroup.old]</td>\n",
       "      <td>6336914364258</td>\n",
       "      <td>631.08</td>\n",
       "      <td>78041.0</td>\n",
       "      <td>927.0</td>\n",
       "      <td>152.0</td>\n",
       "      <td>16838.98</td>\n",
       "      <td>2023-07-01</td>\n",
       "      <td>464.782291</td>\n",
       "      <td>12401.691858</td>\n",
       "    </tr>\n",
       "    <tr>\n",
       "      <th>946</th>\n",
       "      <td>44301396</td>\n",
       "      <td>57086910</td>\n",
       "      <td>6359766079658</td>\n",
       "      <td>Target.remarketing</td>\n",
       "      <td>{'age_max': 65, 'age_min': 18, 'geo_locations'...</td>\n",
       "      <td>Audience.broad</td>\n",
       "      <td>[]</td>\n",
       "      <td>Gender.both</td>\n",
       "      <td>[AgeGroup.young, AgeGroup.middle, AgeGroup.old]</td>\n",
       "      <td>6359766079458</td>\n",
       "      <td>1261.14</td>\n",
       "      <td>139652.0</td>\n",
       "      <td>3556.0</td>\n",
       "      <td>299.0</td>\n",
       "      <td>25223.22</td>\n",
       "      <td>2023-07-01</td>\n",
       "      <td>928.813365</td>\n",
       "      <td>18576.576616</td>\n",
       "    </tr>\n",
       "  </tbody>\n",
       "</table>\n",
       "<p>138 rows × 18 columns</p>\n",
       "</div>"
      ],
      "text/plain": [
       "      shop_id account_id       adset_id              target  \\\n",
       "0    44301396   57086910  6265489292658  Target.remarketing   \n",
       "1    44301396   57086910  6265489292658  Target.remarketing   \n",
       "2    44301396   57086910  6265489292658  Target.remarketing   \n",
       "3    44301396   57086910  6265489292658  Target.remarketing   \n",
       "119  44301396   57086910  6284094837258  Target.remarketing   \n",
       "..        ...        ...            ...                 ...   \n",
       "926  44301396   57086910  6318012910458  Target.remarketing   \n",
       "927  44301396   57086910  6318012910458  Target.remarketing   \n",
       "933  44301396   57086910  6336914364458  Target.remarketing   \n",
       "934  44301396   57086910  6336914364458  Target.remarketing   \n",
       "946  44301396   57086910  6359766079658  Target.remarketing   \n",
       "\n",
       "                                             targeting        audience  \\\n",
       "0    {'age_max': 65, 'age_min': 18, 'geo_locations'...  Audience.broad   \n",
       "1    {'age_max': 65, 'age_min': 18, 'geo_locations'...  Audience.broad   \n",
       "2    {'age_max': 65, 'age_min': 18, 'geo_locations'...  Audience.broad   \n",
       "3    {'age_max': 65, 'age_min': 18, 'geo_locations'...  Audience.broad   \n",
       "119  {'age_max': 65, 'age_min': 18, 'geo_locations'...  Audience.broad   \n",
       "..                                                 ...             ...   \n",
       "926  {'age_max': 65, 'age_min': 18, 'geo_locations'...  Audience.broad   \n",
       "927  {'age_max': 65, 'age_min': 18, 'geo_locations'...  Audience.broad   \n",
       "933  {'age_max': 65, 'age_min': 18, 'geo_locations'...  Audience.broad   \n",
       "934  {'age_max': 65, 'age_min': 18, 'geo_locations'...  Audience.broad   \n",
       "946  {'age_max': 65, 'age_min': 18, 'geo_locations'...  Audience.broad   \n",
       "\n",
       "    interests       gender                                       age_groups  \\\n",
       "0          []  Gender.both  [AgeGroup.young, AgeGroup.middle, AgeGroup.old]   \n",
       "1          []  Gender.both  [AgeGroup.young, AgeGroup.middle, AgeGroup.old]   \n",
       "2          []  Gender.both  [AgeGroup.young, AgeGroup.middle, AgeGroup.old]   \n",
       "3          []  Gender.both  [AgeGroup.young, AgeGroup.middle, AgeGroup.old]   \n",
       "119        []  Gender.both  [AgeGroup.young, AgeGroup.middle, AgeGroup.old]   \n",
       "..        ...          ...                                              ...   \n",
       "926        []  Gender.both  [AgeGroup.young, AgeGroup.middle, AgeGroup.old]   \n",
       "927        []  Gender.both  [AgeGroup.young, AgeGroup.middle, AgeGroup.old]   \n",
       "933        []  Gender.both  [AgeGroup.young, AgeGroup.middle, AgeGroup.old]   \n",
       "934        []  Gender.both  [AgeGroup.young, AgeGroup.middle, AgeGroup.old]   \n",
       "946        []  Gender.both  [AgeGroup.young, AgeGroup.middle, AgeGroup.old]   \n",
       "\n",
       "             ad_id    spend      impr  clicks  purch  purch_value year_month  \\\n",
       "0    6270216041258   968.33   72098.0   737.0   57.0      5251.74 2022-08-01   \n",
       "1    6270216041258  1385.18   81919.0   957.0   43.0      5125.13 2022-09-01   \n",
       "2    6270216041258  1839.94  108259.0  1276.0  143.0     22359.86 2022-10-01   \n",
       "3    6270216041258  1913.82   72621.0   708.0   80.0     11620.13 2022-11-01   \n",
       "119  6284094837458    13.66     676.0    73.0    0.0         0.00 2022-09-01   \n",
       "..             ...      ...       ...     ...    ...          ...        ...   \n",
       "926  6318012909858   821.03   63646.0   629.0   32.0      2591.75 2023-05-01   \n",
       "927  6318012909858     0.00       0.0     0.0    0.0         0.00 2023-06-01   \n",
       "933  6336914364258   193.37   24488.0   357.0   18.0      1742.20 2023-06-01   \n",
       "934  6336914364258   631.08   78041.0   927.0  152.0     16838.98 2023-07-01   \n",
       "946  6359766079458  1261.14  139652.0  3556.0  299.0     25223.22 2023-07-01   \n",
       "\n",
       "       spend_USD  purch_value_USD  \n",
       "0     713.162571      3867.838860  \n",
       "1    1020.167227      3774.592225  \n",
       "2    1355.092109     16467.748861  \n",
       "3    1409.503777      8558.076060  \n",
       "119    10.060414         0.000000  \n",
       "..           ...              ...  \n",
       "926   604.678019      1908.790489  \n",
       "927     0.000000         0.000000  \n",
       "933   142.414514      1283.107858  \n",
       "934   464.782291     12401.691858  \n",
       "946   928.813365     18576.576616  \n",
       "\n",
       "[138 rows x 18 columns]"
      ]
     },
     "execution_count": 24,
     "metadata": {},
     "output_type": "execute_result"
    }
   ],
   "source": [
    "df = df[df.target == Target.remarketing]\n",
    "df"
   ]
  },
  {
   "cell_type": "code",
   "execution_count": 25,
   "metadata": {},
   "outputs": [
    {
     "data": {
      "text/plain": [
       "count    138.0\n",
       "mean      18.0\n",
       "std        0.0\n",
       "min       18.0\n",
       "25%       18.0\n",
       "50%       18.0\n",
       "75%       18.0\n",
       "max       18.0\n",
       "Name: targeting, dtype: float64"
      ]
     },
     "execution_count": 25,
     "metadata": {},
     "output_type": "execute_result"
    }
   ],
   "source": [
    "df.targeting.apply(lambda x: x.get('age_min')).describe()"
   ]
  },
  {
   "cell_type": "code",
   "execution_count": 18,
   "metadata": {},
   "outputs": [
    {
     "data": {
      "text/plain": [
       "0      [AgeGroup.young, AgeGroup.middle, AgeGroup.old]\n",
       "1      [AgeGroup.young, AgeGroup.middle, AgeGroup.old]\n",
       "2      [AgeGroup.young, AgeGroup.middle, AgeGroup.old]\n",
       "3      [AgeGroup.young, AgeGroup.middle, AgeGroup.old]\n",
       "4      [AgeGroup.young, AgeGroup.middle, AgeGroup.old]\n",
       "                            ...                       \n",
       "943    [AgeGroup.young, AgeGroup.middle, AgeGroup.old]\n",
       "944    [AgeGroup.young, AgeGroup.middle, AgeGroup.old]\n",
       "945    [AgeGroup.young, AgeGroup.middle, AgeGroup.old]\n",
       "946    [AgeGroup.young, AgeGroup.middle, AgeGroup.old]\n",
       "947    [AgeGroup.young, AgeGroup.middle, AgeGroup.old]\n",
       "Name: age_groups, Length: 948, dtype: object"
      ]
     },
     "execution_count": 18,
     "metadata": {},
     "output_type": "execute_result"
    }
   ],
   "source": [
    "df.age_groups"
   ]
  },
  {
   "cell_type": "code",
   "execution_count": 28,
   "metadata": {},
   "outputs": [
    {
     "data": {
      "text/html": [
       "<div>\n",
       "<style scoped>\n",
       "    .dataframe tbody tr th:only-of-type {\n",
       "        vertical-align: middle;\n",
       "    }\n",
       "\n",
       "    .dataframe tbody tr th {\n",
       "        vertical-align: top;\n",
       "    }\n",
       "\n",
       "    .dataframe thead th {\n",
       "        text-align: right;\n",
       "    }\n",
       "</style>\n",
       "<table border=\"1\" class=\"dataframe\">\n",
       "  <thead>\n",
       "    <tr style=\"text-align: right;\">\n",
       "      <th></th>\n",
       "      <th>a</th>\n",
       "      <th>b</th>\n",
       "    </tr>\n",
       "  </thead>\n",
       "  <tbody>\n",
       "    <tr>\n",
       "      <th>0</th>\n",
       "      <td>0</td>\n",
       "      <td>[]</td>\n",
       "    </tr>\n",
       "    <tr>\n",
       "      <th>1</th>\n",
       "      <td>2</td>\n",
       "      <td>[1, 2]</td>\n",
       "    </tr>\n",
       "  </tbody>\n",
       "</table>\n",
       "</div>"
      ],
      "text/plain": [
       "   a       b\n",
       "0  0      []\n",
       "1  2  [1, 2]"
      ]
     },
     "execution_count": 28,
     "metadata": {},
     "output_type": "execute_result"
    }
   ],
   "source": [
    "df = pd.DataFrame([[0, []], [2, [1, 2]]], columns=['a', 'b'])\n",
    "df"
   ]
  },
  {
   "cell_type": "code",
   "execution_count": 29,
   "metadata": {},
   "outputs": [
    {
     "data": {
      "text/html": [
       "<div>\n",
       "<style scoped>\n",
       "    .dataframe tbody tr th:only-of-type {\n",
       "        vertical-align: middle;\n",
       "    }\n",
       "\n",
       "    .dataframe tbody tr th {\n",
       "        vertical-align: top;\n",
       "    }\n",
       "\n",
       "    .dataframe thead th {\n",
       "        text-align: right;\n",
       "    }\n",
       "</style>\n",
       "<table border=\"1\" class=\"dataframe\">\n",
       "  <thead>\n",
       "    <tr style=\"text-align: right;\">\n",
       "      <th></th>\n",
       "      <th>a</th>\n",
       "      <th>b</th>\n",
       "    </tr>\n",
       "  </thead>\n",
       "  <tbody>\n",
       "    <tr>\n",
       "      <th>1</th>\n",
       "      <td>2</td>\n",
       "      <td>1</td>\n",
       "    </tr>\n",
       "    <tr>\n",
       "      <th>1</th>\n",
       "      <td>2</td>\n",
       "      <td>2</td>\n",
       "    </tr>\n",
       "  </tbody>\n",
       "</table>\n",
       "</div>"
      ],
      "text/plain": [
       "   a  b\n",
       "1  2  1\n",
       "1  2  2"
      ]
     },
     "execution_count": 29,
     "metadata": {},
     "output_type": "execute_result"
    }
   ],
   "source": [
    "df.explode('b').dropna(axis=0, subset='b')"
   ]
  },
  {
   "cell_type": "code",
   "execution_count": 74,
   "metadata": {},
   "outputs": [],
   "source": [
    "data = db.query(FacebookAdset.targeting).filter(func.random() < 0.01).limit(10000).all()\n",
    "data = [row.targeting for row in data]"
   ]
  },
  {
   "cell_type": "code",
   "execution_count": 65,
   "metadata": {},
   "outputs": [
    {
     "name": "stdout",
     "output_type": "stream",
     "text": [
      "18\n",
      "36\n"
     ]
    }
   ],
   "source": [
    "i = np.random.randint(0, len(data)-1)\n",
    "row = data[i]\n",
    "print(row.get('age_min', None))\n",
    "print(row.get('age_max', None))"
   ]
  },
  {
   "cell_type": "code",
   "execution_count": 75,
   "metadata": {},
   "outputs": [],
   "source": [
    "df = pd.DataFrame([row for row in data if type(row) == dict])[['age_min', 'age_max']]"
   ]
  },
  {
   "cell_type": "code",
   "execution_count": 77,
   "metadata": {},
   "outputs": [],
   "source": [
    "df['mid'] = df.apply(lambda row: (row.age_max+row.age_min)/2, axis=1)"
   ]
  },
  {
   "cell_type": "code",
   "execution_count": 79,
   "metadata": {},
   "outputs": [
    {
     "data": {
      "text/plain": [
       "count    6769.000000\n",
       "mean       21.003398\n",
       "std         6.160229\n",
       "min        13.000000\n",
       "25%        18.000000\n",
       "50%        18.000000\n",
       "75%        23.000000\n",
       "max        65.000000\n",
       "Name: age_min, dtype: float64"
      ]
     },
     "execution_count": 79,
     "metadata": {},
     "output_type": "execute_result"
    }
   ],
   "source": [
    "df.age_min.describe()"
   ]
  },
  {
   "cell_type": "code",
   "execution_count": 2,
   "metadata": {},
   "outputs": [],
   "source": [
    "i1 = MyInterval(1, 2.5, right_border=Border.open)\n",
    "i2 = MyInterval(2, 3)\n",
    "i = i1 & i2"
   ]
  },
  {
   "cell_type": "code",
   "execution_count": 3,
   "metadata": {},
   "outputs": [
    {
     "data": {
      "text/plain": [
       "'[2, 2.5>'"
      ]
     },
     "execution_count": 3,
     "metadata": {},
     "output_type": "execute_result"
    }
   ],
   "source": [
    "str(i)"
   ]
  },
  {
   "cell_type": "code",
   "execution_count": 18,
   "metadata": {},
   "outputs": [
    {
     "data": {
      "text/plain": [
       "<Border.closed: 'closed'>"
      ]
     },
     "execution_count": 18,
     "metadata": {},
     "output_type": "execute_result"
    }
   ],
   "source": [
    "i.left_border"
   ]
  },
  {
   "cell_type": "code",
   "execution_count": 9,
   "metadata": {},
   "outputs": [],
   "source": [
    "class AgeGroup(str, Enum):\n",
    "    young = \"young\"\n",
    "    middle = \"middle\"\n",
    "    old = \"old\"\n",
    "\n",
    "agegroup_interval_dict= {\n",
    "    AgeGroup.young: MyInterval(18, 30),\n",
    "    AgeGroup.middle: MyInterval(30, 50),\n",
    "    AgeGroup.old: MyInterval(50, 100)\n",
    "}\n",
    "\n",
    "def get_agegroup(targeting: dict) -> list[AgeGroup]:\n",
    "    age_min = targeting.get('age_min', 0)\n",
    "    age_max = targeting.get('age_max', 100)\n",
    "    age_interval = MyInterval(age_min, age_max)\n",
    "    age_groups = []\n",
    "    for agegroup, agegroup_interval in agegroup_interval_dict.items():\n",
    "        if age_interval.mid in agegroup_interval or (age_interval & agegroup_interval).length / agegroup_interval.length > 0.3:\n",
    "            age_groups.append(agegroup)\n",
    "    return age_groups"
   ]
  },
  {
   "cell_type": "code",
   "execution_count": 16,
   "metadata": {},
   "outputs": [],
   "source": [
    "def get_agegroup(targeting: dict):\n",
    "    age_min = targeting.get('age_min', 0)\n",
    "    age_max = targeting.get('age_max', 100)\n",
    "    age_interval = MyInterval(age_min, age_max)\n",
    "    age_groups = []\n",
    "    for agegroup, agegroup_interval in agegroup_interval_dict.items():\n",
    "        if age_interval.mid in agegroup_interval or (age_interval & agegroup_interval).length / agegroup_interval.length > 0.3:\n",
    "            age_groups.append(agegroup)\n",
    "    return age_groups\n",
    "        "
   ]
  },
  {
   "cell_type": "code",
   "execution_count": 17,
   "metadata": {},
   "outputs": [
    {
     "data": {
      "text/plain": [
       "[<AgeGroup.young: 'young'>, <AgeGroup.middle: 'middle'>, <AgeGroup.old: 'old'>]"
      ]
     },
     "execution_count": 17,
     "metadata": {},
     "output_type": "execute_result"
    }
   ],
   "source": [
    "targeting = {'age_min': 18, 'age_max': 120}\n",
    "get_agegroup(targeting)"
   ]
  },
  {
   "cell_type": "code",
   "execution_count": 14,
   "metadata": {},
   "outputs": [
    {
     "data": {
      "text/plain": [
       "interval([1.0, 2.0], [3.0, 4.0])"
      ]
     },
     "execution_count": 14,
     "metadata": {},
     "output_type": "execute_result"
    }
   ],
   "source": [
    "interval([1, 2], [3, 4])"
   ]
  },
  {
   "cell_type": "code",
   "execution_count": 3,
   "metadata": {},
   "outputs": [
    {
     "data": {
      "text/plain": [
       "float"
      ]
     },
     "execution_count": 3,
     "metadata": {},
     "output_type": "execute_result"
    }
   ],
   "source": [
    "type(np.nan)"
   ]
  },
  {
   "cell_type": "code",
   "execution_count": 30,
   "metadata": {},
   "outputs": [
    {
     "data": {
      "text/plain": [
       "nan"
      ]
     },
     "execution_count": 30,
     "metadata": {},
     "output_type": "execute_result"
    }
   ],
   "source": [
    "3 - np.nan"
   ]
  },
  {
   "cell_type": "code",
   "execution_count": 28,
   "metadata": {},
   "outputs": [
    {
     "data": {
      "text/plain": [
       "4320"
      ]
     },
     "execution_count": 28,
     "metadata": {},
     "output_type": "execute_result"
    }
   ],
   "source": [
    "test_shop_phrases = ('anci', 'tatjana', 'nikola', 'test')\n",
    "filters = [Shop.name.like('%'+ phrase + '%') for phrase in test_shop_phrases]\n",
    "ah = db.query(Shop).filter(not_(or_(*filters))).all()\n",
    "len(ah)"
   ]
  },
  {
   "cell_type": "code",
   "execution_count": 2,
   "metadata": {},
   "outputs": [
    {
     "data": {
      "text/plain": [
       "['cta',\n",
       " 'user_addressing',\n",
       " 'percentage',\n",
       " 'free_shipping',\n",
       " 'emoji',\n",
       " 'hashtag',\n",
       " 'starts_with_question',\n",
       " 'price',\n",
       " 'urgency',\n",
       " 'fact_words',\n",
       " 'link',\n",
       " 'discount',\n",
       " 'weasel_words']"
      ]
     },
     "execution_count": 2,
     "metadata": {},
     "output_type": "execute_result"
    }
   ],
   "source": [
    "BOOLEAN_TEXT_FEATURES"
   ]
  },
  {
   "cell_type": "code",
   "execution_count": 7,
   "metadata": {},
   "outputs": [],
   "source": [
    "df_old = ping_creative(db=db, shop_id=16038, start_date=start_date, end_date=end_date)"
   ]
  },
  {
   "cell_type": "code",
   "execution_count": 8,
   "metadata": {},
   "outputs": [],
   "source": [
    "df_new = ping_creative2(db=db, shop_id=16038, start_date=start_date, end_date=end_date)"
   ]
  }
 ],
 "metadata": {
  "kernelspec": {
   "display_name": ".venv",
   "language": "python",
   "name": "python3"
  },
  "language_info": {
   "codemirror_mode": {
    "name": "ipython",
    "version": 3
   },
   "file_extension": ".py",
   "mimetype": "text/x-python",
   "name": "python",
   "nbconvert_exporter": "python",
   "pygments_lexer": "ipython3",
   "version": "3.10.4"
  },
  "orig_nbformat": 4
 },
 "nbformat": 4,
 "nbformat_minor": 2
}
