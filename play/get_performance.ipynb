{
 "cells": [
  {
   "cell_type": "code",
   "execution_count": 1,
   "metadata": {},
   "outputs": [
    {
     "name": "stderr",
     "output_type": "stream",
     "text": [
      "\u001b[32m2023-08-12 07:42:59.825\u001b[0m | \u001b[34m\u001b[1mDEBUG   \u001b[0m | \u001b[36msrc.database.session\u001b[0m:\u001b[36m<module>\u001b[0m:\u001b[36m17\u001b[0m - \u001b[34m\u001b[1mbase: prod.cw6tznt1p9hq.us-east-1.rds.amazonaws.com\u001b[0m\n",
      "[nltk_data] Downloading package vader_lexicon to /root/nltk_data...\n",
      "[nltk_data]   Package vader_lexicon is already up-to-date!\n",
      "[nltk_data] Downloading package stopwords to /root/nltk_data...\n",
      "[nltk_data]   Package stopwords is already up-to-date!\n"
     ]
    }
   ],
   "source": [
    "import sys\n",
    "sys.path.append('..')\n",
    "\n",
    "from datetime import datetime, timedelta, date\n",
    "from dateutil.relativedelta import relativedelta\n",
    "from enum import Enum\n",
    "\n",
    "from src.database.session import SessionLocal\n",
    "from src.utils import *\n",
    "from src.crud.utils import get_performance\n",
    "from src.models import *\n",
    "from src import crud\n",
    "\n",
    "\n",
    "db = SessionLocal()\n",
    "end_date_plus_one = date(year=2023, month=8, day=1)\n",
    "end_date = end_date_plus_one - timedelta(days=1)\n",
    "start_date = end_date_plus_one - relativedelta(months=12)\n",
    "shop_id = 25963515"
   ]
  },
  {
   "cell_type": "code",
   "execution_count": 2,
   "metadata": {},
   "outputs": [],
   "source": [
    "df = crud.ga_daily_performance.get_performance(\n",
    "    db=db,\n",
    "    shop_id=shop_id,\n",
    "    start_date=start_date,\n",
    "    end_date=end_date,\n",
    ")"
   ]
  },
  {
   "cell_type": "code",
   "execution_count": 5,
   "metadata": {},
   "outputs": [
    {
     "data": {
      "text/plain": [
       "0            SHOPPING\n",
       "1     PERFORMANCE_MAX\n",
       "2     PERFORMANCE_MAX\n",
       "3     PERFORMANCE_MAX\n",
       "4     PERFORMANCE_MAX\n",
       "5     PERFORMANCE_MAX\n",
       "6     PERFORMANCE_MAX\n",
       "7     PERFORMANCE_MAX\n",
       "8     PERFORMANCE_MAX\n",
       "9     PERFORMANCE_MAX\n",
       "10    PERFORMANCE_MAX\n",
       "11    PERFORMANCE_MAX\n",
       "Name: type, dtype: object"
      ]
     },
     "execution_count": 5,
     "metadata": {},
     "output_type": "execute_result"
    }
   ],
   "source": [
    "df['type']"
   ]
  },
  {
   "cell_type": "code",
   "execution_count": 4,
   "metadata": {},
   "outputs": [
    {
     "data": {
      "text/html": [
       "<div>\n",
       "<style scoped>\n",
       "    .dataframe tbody tr th:only-of-type {\n",
       "        vertical-align: middle;\n",
       "    }\n",
       "\n",
       "    .dataframe tbody tr th {\n",
       "        vertical-align: top;\n",
       "    }\n",
       "\n",
       "    .dataframe thead th {\n",
       "        text-align: right;\n",
       "    }\n",
       "</style>\n",
       "<table border=\"1\" class=\"dataframe\">\n",
       "  <thead>\n",
       "    <tr style=\"text-align: right;\">\n",
       "      <th></th>\n",
       "      <th>spend</th>\n",
       "      <th>spend_USD</th>\n",
       "    </tr>\n",
       "  </thead>\n",
       "  <tbody>\n",
       "    <tr>\n",
       "      <th>0</th>\n",
       "      <td>10186.000000</td>\n",
       "      <td>70.497210</td>\n",
       "    </tr>\n",
       "    <tr>\n",
       "      <th>1</th>\n",
       "      <td>97156.026987</td>\n",
       "      <td>672.415950</td>\n",
       "    </tr>\n",
       "    <tr>\n",
       "      <th>2</th>\n",
       "      <td>304702.395828</td>\n",
       "      <td>2108.842418</td>\n",
       "    </tr>\n",
       "    <tr>\n",
       "      <th>3</th>\n",
       "      <td>8184.203371</td>\n",
       "      <td>56.642795</td>\n",
       "    </tr>\n",
       "    <tr>\n",
       "      <th>4</th>\n",
       "      <td>303620.708097</td>\n",
       "      <td>2101.356067</td>\n",
       "    </tr>\n",
       "    <tr>\n",
       "      <th>5</th>\n",
       "      <td>90538.698419</td>\n",
       "      <td>626.617481</td>\n",
       "    </tr>\n",
       "    <tr>\n",
       "      <th>6</th>\n",
       "      <td>97204.270671</td>\n",
       "      <td>672.749844</td>\n",
       "    </tr>\n",
       "    <tr>\n",
       "      <th>7</th>\n",
       "      <td>303669.313971</td>\n",
       "      <td>2101.692468</td>\n",
       "    </tr>\n",
       "    <tr>\n",
       "      <th>8</th>\n",
       "      <td>60864.364441</td>\n",
       "      <td>421.241694</td>\n",
       "    </tr>\n",
       "    <tr>\n",
       "      <th>9</th>\n",
       "      <td>302854.993672</td>\n",
       "      <td>2096.056565</td>\n",
       "    </tr>\n",
       "    <tr>\n",
       "      <th>10</th>\n",
       "      <td>180895.354500</td>\n",
       "      <td>1251.975048</td>\n",
       "    </tr>\n",
       "    <tr>\n",
       "      <th>11</th>\n",
       "      <td>24240.180522</td>\n",
       "      <td>167.766062</td>\n",
       "    </tr>\n",
       "  </tbody>\n",
       "</table>\n",
       "</div>"
      ],
      "text/plain": [
       "            spend    spend_USD\n",
       "0    10186.000000    70.497210\n",
       "1    97156.026987   672.415950\n",
       "2   304702.395828  2108.842418\n",
       "3     8184.203371    56.642795\n",
       "4   303620.708097  2101.356067\n",
       "5    90538.698419   626.617481\n",
       "6    97204.270671   672.749844\n",
       "7   303669.313971  2101.692468\n",
       "8    60864.364441   421.241694\n",
       "9   302854.993672  2096.056565\n",
       "10  180895.354500  1251.975048\n",
       "11   24240.180522   167.766062"
      ]
     },
     "execution_count": 4,
     "metadata": {},
     "output_type": "execute_result"
    }
   ],
   "source": [
    "df[['spend', 'spend_USD']]"
   ]
  },
  {
   "cell_type": "code",
   "execution_count": 3,
   "metadata": {},
   "outputs": [
    {
     "data": {
      "text/plain": [
       "0      1875.75\n",
       "1      5870.98\n",
       "2      6698.21\n",
       "3      9765.78\n",
       "4       231.19\n",
       "        ...   \n",
       "283      53.01\n",
       "284      55.74\n",
       "285      55.80\n",
       "286      54.28\n",
       "287     122.12\n",
       "Name: spend_USD, Length: 288, dtype: float64"
      ]
     },
     "execution_count": 3,
     "metadata": {},
     "output_type": "execute_result"
    }
   ],
   "source": [
    "df['spend_USD']"
   ]
  },
  {
   "cell_type": "code",
   "execution_count": null,
   "metadata": {},
   "outputs": [],
   "source": [
    "ccr_subquery = (\n",
    "            db.query(CurrencyExchangeRate.code, CurrencyExchangeRate.rate_from_usd)\n",
    "            .order_by(CurrencyExchangeRate.code, CurrencyExchangeRate.date.desc())\n",
    "            .distinct(CurrencyExchangeRate.code)\n",
    "        ).subquery()"
   ]
  },
  {
   "cell_type": "code",
   "execution_count": 14,
   "metadata": {},
   "outputs": [],
   "source": [
    "conversion_rates_subquery = (\n",
    "    db.query(CurrencyExchangeRate.code, CurrencyExchangeRate.rate_from_usd)\n",
    "    .order_by(CurrencyExchangeRate.code, CurrencyExchangeRate.date.desc())\n",
    "    .distinct(CurrencyExchangeRate.code)\n",
    ").subquery()\n",
    "\n",
    "query = (\n",
    "    db.query(FacebookAdAccount.facebook_id, FacebookAdAccount.currency, conversion_rates_subquery.c.rate_from_usd)\n",
    "    .join(conversion_rates_subquery, conversion_rates_subquery.c.code == FacebookAdAccount.currency)\n",
    "    .filter(FacebookAdAccount.shop_id == shop_id)\n",
    ")\n",
    "\n",
    "conversion_dict = {row.facebook_id: row.rate_from_usd for row in query.all()}"
   ]
  },
  {
   "cell_type": "code",
   "execution_count": 20,
   "metadata": {},
   "outputs": [],
   "source": [
    "money_columns = ['spend', 'purch_value']\n",
    "for column in money_columns:\n",
    "    df[f'{column}_USD'] = df.apply(lambda df_: df_[column] * conversion_dict[df_['account_id']], axis=1)"
   ]
  },
  {
   "cell_type": "code",
   "execution_count": 17,
   "metadata": {},
   "outputs": [],
   "source": [
    "conversion_dict = {row.facebook_id: row.rate_from_usd for row in ccr_query.all()}"
   ]
  },
  {
   "cell_type": "code",
   "execution_count": 7,
   "metadata": {},
   "outputs": [],
   "source": [
    "df_old = ping_creative(db=db, shop_id=16038, start_date=start_date, end_date=end_date)"
   ]
  },
  {
   "cell_type": "code",
   "execution_count": 8,
   "metadata": {},
   "outputs": [],
   "source": [
    "df_new = ping_creative2(db=db, shop_id=16038, start_date=start_date, end_date=end_date)"
   ]
  }
 ],
 "metadata": {
  "kernelspec": {
   "display_name": ".venv",
   "language": "python",
   "name": "python3"
  },
  "language_info": {
   "codemirror_mode": {
    "name": "ipython",
    "version": 3
   },
   "file_extension": ".py",
   "mimetype": "text/x-python",
   "name": "python",
   "nbconvert_exporter": "python",
   "pygments_lexer": "ipython3",
   "version": "3.10.12"
  },
  "orig_nbformat": 4
 },
 "nbformat": 4,
 "nbformat_minor": 2
}
