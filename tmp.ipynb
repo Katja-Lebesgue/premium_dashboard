{
 "cells": [
  {
   "cell_type": "code",
   "execution_count": 1,
   "metadata": {},
   "outputs": [
    {
     "name": "stdout",
     "output_type": "stream",
     "text": [
      "base I am using: lebesgue-dev.cgviinyjedbs.eu-central-1.rds.amazonaws.com\n"
     ]
    }
   ],
   "source": [
    "from src.pingers import ping_shops, ping_creative_and_performance, ping_creative\n",
    "from src.database.session import db"
   ]
  },
  {
   "cell_type": "code",
   "execution_count": 2,
   "metadata": {},
   "outputs": [
    {
     "ename": "TypeError",
     "evalue": "CRUDShopifyOrder.query_aov() got multiple values for argument 'db'",
     "output_type": "error",
     "traceback": [
      "\u001b[0;31m---------------------------------------------------------------------------\u001b[0m",
      "\u001b[0;31mTypeError\u001b[0m                                 Traceback (most recent call last)",
      "\u001b[1;32m/Users/sanjinjuricfot/developer/premium_dashboard/tmp.ipynb Cell 2\u001b[0m in \u001b[0;36m<cell line: 1>\u001b[0;34m()\u001b[0m\n\u001b[0;32m----> <a href='vscode-notebook-cell:/Users/sanjinjuricfot/developer/premium_dashboard/tmp.ipynb#W5sZmlsZQ%3D%3D?line=0'>1</a>\u001b[0m df \u001b[39m=\u001b[39m ping_creative(db\u001b[39m=\u001b[39;49mdb, shop_id\u001b[39m=\u001b[39;49m\u001b[39m16038\u001b[39;49m)\n",
      "File \u001b[0;32m~/developer/premium_dashboard/src/pingers/ping_creative.py:35\u001b[0m, in \u001b[0;36mping_creative\u001b[0;34m(db, shop_id, ad_id, start_date, end_date, get_aov, get_industry)\u001b[0m\n\u001b[1;32m     26\u001b[0m query \u001b[39m=\u001b[39m crud_ad_creative_features\u001b[39m.\u001b[39mquery_creative(\n\u001b[1;32m     27\u001b[0m     db\u001b[39m=\u001b[39mdb,\n\u001b[1;32m     28\u001b[0m     shop_id\u001b[39m=\u001b[39mshop_id,\n\u001b[0;32m   (...)\u001b[0m\n\u001b[1;32m     31\u001b[0m     end_date\u001b[39m=\u001b[39mend_date,\n\u001b[1;32m     32\u001b[0m )\n\u001b[1;32m     34\u001b[0m \u001b[39mif\u001b[39;00m get_aov:\n\u001b[0;32m---> 35\u001b[0m     aov_query \u001b[39m=\u001b[39m crud_shopify_order\u001b[39m.\u001b[39;49mquery_aov(\n\u001b[1;32m     36\u001b[0m         db\u001b[39m=\u001b[39;49mdb, shop_id\u001b[39m=\u001b[39;49mshop_id, start_date\u001b[39m=\u001b[39;49mstart_date, end_date\u001b[39m=\u001b[39;49mend_date\n\u001b[1;32m     37\u001b[0m     )\u001b[39m.\u001b[39msubquery()\n\u001b[1;32m     39\u001b[0m     query \u001b[39m=\u001b[39m query\u001b[39m.\u001b[39mjoin(aov_query, AdCreativeFeatures\u001b[39m.\u001b[39mshop_id \u001b[39m==\u001b[39m aov_query\u001b[39m.\u001b[39mc\u001b[39m.\u001b[39mshop_id)\u001b[39m.\u001b[39madd_columns(aov_query\u001b[39m.\u001b[39mc\u001b[39m.\u001b[39maov)\n\u001b[1;32m     41\u001b[0m df \u001b[39m=\u001b[39m pd\u001b[39m.\u001b[39mread_sql(query\u001b[39m.\u001b[39mstatement, db\u001b[39m.\u001b[39mbind)\n",
      "\u001b[0;31mTypeError\u001b[0m: CRUDShopifyOrder.query_aov() got multiple values for argument 'db'"
     ]
    }
   ],
   "source": [
    "df = ping_creative(db=db, shop_id=16038)"
   ]
  },
  {
   "cell_type": "code",
   "execution_count": 6,
   "metadata": {},
   "outputs": [
    {
     "data": {
      "text/html": [
       "<div>\n",
       "<style scoped>\n",
       "    .dataframe tbody tr th:only-of-type {\n",
       "        vertical-align: middle;\n",
       "    }\n",
       "\n",
       "    .dataframe tbody tr th {\n",
       "        vertical-align: top;\n",
       "    }\n",
       "\n",
       "    .dataframe thead th {\n",
       "        text-align: right;\n",
       "    }\n",
       "</style>\n",
       "<table border=\"1\" class=\"dataframe\">\n",
       "  <thead>\n",
       "    <tr style=\"text-align: right;\">\n",
       "      <th></th>\n",
       "      <th>shop_id</th>\n",
       "      <th>name</th>\n",
       "    </tr>\n",
       "  </thead>\n",
       "  <tbody>\n",
       "    <tr>\n",
       "      <th>0</th>\n",
       "      <td>36833384</td>\n",
       "      <td>larmanos.myshopify.com</td>\n",
       "    </tr>\n",
       "    <tr>\n",
       "      <th>1</th>\n",
       "      <td>46864466</td>\n",
       "      <td>smart-home-robots.myshopify.com</td>\n",
       "    </tr>\n",
       "    <tr>\n",
       "      <th>2</th>\n",
       "      <td>43739609</td>\n",
       "      <td>ultra-pro-international.myshopify.com</td>\n",
       "    </tr>\n",
       "    <tr>\n",
       "      <th>3</th>\n",
       "      <td>50592831</td>\n",
       "      <td>yourpetsclosetco.myshopify.com</td>\n",
       "    </tr>\n",
       "    <tr>\n",
       "      <th>4</th>\n",
       "      <td>36370064</td>\n",
       "      <td>macchiaco.myshopify.com</td>\n",
       "    </tr>\n",
       "    <tr>\n",
       "      <th>...</th>\n",
       "      <td>...</td>\n",
       "      <td>...</td>\n",
       "    </tr>\n",
       "    <tr>\n",
       "      <th>1035</th>\n",
       "      <td>12480682</td>\n",
       "      <td>terra-cottage.myshopify.com</td>\n",
       "    </tr>\n",
       "    <tr>\n",
       "      <th>1036</th>\n",
       "      <td>28299708</td>\n",
       "      <td>duty-box.myshopify.com</td>\n",
       "    </tr>\n",
       "    <tr>\n",
       "      <th>1037</th>\n",
       "      <td>40914710</td>\n",
       "      <td>melyssamonroy.com</td>\n",
       "    </tr>\n",
       "    <tr>\n",
       "      <th>1038</th>\n",
       "      <td>18600257</td>\n",
       "      <td>toni-blubblub-store.myshopify.com</td>\n",
       "    </tr>\n",
       "    <tr>\n",
       "      <th>1039</th>\n",
       "      <td>42787782</td>\n",
       "      <td>tim-and-ted.myshopify.com</td>\n",
       "    </tr>\n",
       "  </tbody>\n",
       "</table>\n",
       "<p>1040 rows × 2 columns</p>\n",
       "</div>"
      ],
      "text/plain": [
       "       shop_id                                   name\n",
       "0     36833384                 larmanos.myshopify.com\n",
       "1     46864466        smart-home-robots.myshopify.com\n",
       "2     43739609  ultra-pro-international.myshopify.com\n",
       "3     50592831         yourpetsclosetco.myshopify.com\n",
       "4     36370064                macchiaco.myshopify.com\n",
       "...        ...                                    ...\n",
       "1035  12480682            terra-cottage.myshopify.com\n",
       "1036  28299708                 duty-box.myshopify.com\n",
       "1037  40914710                      melyssamonroy.com\n",
       "1038  18600257      toni-blubblub-store.myshopify.com\n",
       "1039  42787782              tim-and-ted.myshopify.com\n",
       "\n",
       "[1040 rows x 2 columns]"
      ]
     },
     "execution_count": 6,
     "metadata": {},
     "output_type": "execute_result"
    }
   ],
   "source": [
    "df"
   ]
  },
  {
   "cell_type": "code",
   "execution_count": 2,
   "metadata": {},
   "outputs": [],
   "source": [
    "query = session.query(FacebookAd.ad_id)"
   ]
  },
  {
   "cell_type": "code",
   "execution_count": 3,
   "metadata": {},
   "outputs": [
    {
     "data": {
      "text/plain": [
       "('23848754996430295',)"
      ]
     },
     "execution_count": 3,
     "metadata": {},
     "output_type": "execute_result"
    }
   ],
   "source": [
    "query[0]"
   ]
  },
  {
   "cell_type": "code",
   "execution_count": 4,
   "metadata": {},
   "outputs": [
    {
     "data": {
      "text/plain": [
       "sqlalchemy.orm.query.Query"
      ]
     },
     "execution_count": 4,
     "metadata": {},
     "output_type": "execute_result"
    }
   ],
   "source": [
    "type(query)"
   ]
  },
  {
   "cell_type": "code",
   "execution_count": null,
   "metadata": {},
   "outputs": [],
   "source": []
  }
 ],
 "metadata": {
  "kernelspec": {
   "display_name": "venv",
   "language": "python",
   "name": "python3"
  },
  "language_info": {
   "codemirror_mode": {
    "name": "ipython",
    "version": 3
   },
   "file_extension": ".py",
   "mimetype": "text/x-python",
   "name": "python",
   "nbconvert_exporter": "python",
   "pygments_lexer": "ipython3",
   "version": "3.10.4"
  },
  "orig_nbformat": 4,
  "vscode": {
   "interpreter": {
    "hash": "8d947fb20adcdb46724b6de978200dc344d5e62962619fc08c1959a1c208320c"
   }
  }
 },
 "nbformat": 4,
 "nbformat_minor": 2
}
