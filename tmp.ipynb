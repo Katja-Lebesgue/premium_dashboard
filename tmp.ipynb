{
 "cells": [
  {
   "cell_type": "code",
   "execution_count": 1,
   "metadata": {},
   "outputs": [
    {
     "name": "stderr",
     "output_type": "stream",
     "text": [
      "2023-02-09 17:35:19.299 | DEBUG    | src.database.session:<module>:19 - base: prod.cw6tznt1p9hq.us-east-1.rds.amazonaws.com\n"
     ]
    },
    {
     "name": "stdout",
     "output_type": "stream",
     "text": [
      "base I am using: prod.cw6tznt1p9hq.us-east-1.rds.amazonaws.com\n"
     ]
    }
   ],
   "source": [
    "import pandas as pd\n",
    "import numpy as np\n",
    "\n",
    "from src.pingers import ping_ads_insights_all_platforms, ping_shops\n",
    "from src.database.session import db\n",
    "from src.s3 import read_csv_from_s3\n",
    "from src.models import *\n",
    "from src.schemas import *\n",
    "from src.crud import ga_daily_performance, crud_fb_daily_performance"
   ]
  },
  {
   "cell_type": "code",
   "execution_count": 5,
   "metadata": {},
   "outputs": [
    {
     "ename": "TypeError",
     "evalue": "'username' is an invalid keyword argument for StreamlitUser",
     "output_type": "error",
     "traceback": [
      "\u001b[0;31m---------------------------------------------------------------------------\u001b[0m",
      "\u001b[0;31mTypeError\u001b[0m                                 Traceback (most recent call last)",
      "Cell \u001b[0;32mIn[5], line 1\u001b[0m\n\u001b[0;32m----> 1\u001b[0m row \u001b[39m=\u001b[39m StreamlitUser(username\u001b[39m=\u001b[39;49m\u001b[39m'\u001b[39;49m\u001b[39mlebeg\u001b[39;49m\u001b[39m'\u001b[39;49m, hashed_password\u001b[39m=\u001b[39;49m\u001b[39m'\u001b[39;49m\u001b[39mlebeg123.\u001b[39;49m\u001b[39m'\u001b[39;49m, is_superuser\u001b[39m=\u001b[39;49m\u001b[39mTrue\u001b[39;49;00m)\n\u001b[1;32m      2\u001b[0m db\u001b[39m.\u001b[39madd(row)\n",
      "File \u001b[0;32m<string>:4\u001b[0m, in \u001b[0;36m__init__\u001b[0;34m(self, **kwargs)\u001b[0m\n",
      "File \u001b[0;32m~/developer/premium_dashboard/venv/lib/python3.10/site-packages/sqlalchemy/orm/state.py:479\u001b[0m, in \u001b[0;36mInstanceState._initialize_instance\u001b[0;34m(*mixed, **kwargs)\u001b[0m\n\u001b[1;32m    477\u001b[0m     \u001b[39mreturn\u001b[39;00m manager\u001b[39m.\u001b[39moriginal_init(\u001b[39m*\u001b[39mmixed[\u001b[39m1\u001b[39m:], \u001b[39m*\u001b[39m\u001b[39m*\u001b[39mkwargs)\n\u001b[1;32m    478\u001b[0m \u001b[39mexcept\u001b[39;00m:\n\u001b[0;32m--> 479\u001b[0m     \u001b[39mwith\u001b[39;00m util\u001b[39m.\u001b[39msafe_reraise():\n\u001b[1;32m    480\u001b[0m         manager\u001b[39m.\u001b[39mdispatch\u001b[39m.\u001b[39minit_failure(\u001b[39mself\u001b[39m, args, kwargs)\n",
      "File \u001b[0;32m~/developer/premium_dashboard/venv/lib/python3.10/site-packages/sqlalchemy/util/langhelpers.py:70\u001b[0m, in \u001b[0;36msafe_reraise.__exit__\u001b[0;34m(self, type_, value, traceback)\u001b[0m\n\u001b[1;32m     68\u001b[0m     \u001b[39mself\u001b[39m\u001b[39m.\u001b[39m_exc_info \u001b[39m=\u001b[39m \u001b[39mNone\u001b[39;00m  \u001b[39m# remove potential circular references\u001b[39;00m\n\u001b[1;32m     69\u001b[0m     \u001b[39mif\u001b[39;00m \u001b[39mnot\u001b[39;00m \u001b[39mself\u001b[39m\u001b[39m.\u001b[39mwarn_only:\n\u001b[0;32m---> 70\u001b[0m         compat\u001b[39m.\u001b[39;49mraise_(\n\u001b[1;32m     71\u001b[0m             exc_value,\n\u001b[1;32m     72\u001b[0m             with_traceback\u001b[39m=\u001b[39;49mexc_tb,\n\u001b[1;32m     73\u001b[0m         )\n\u001b[1;32m     74\u001b[0m \u001b[39melse\u001b[39;00m:\n\u001b[1;32m     75\u001b[0m     \u001b[39mif\u001b[39;00m \u001b[39mnot\u001b[39;00m compat\u001b[39m.\u001b[39mpy3k \u001b[39mand\u001b[39;00m \u001b[39mself\u001b[39m\u001b[39m.\u001b[39m_exc_info \u001b[39mand\u001b[39;00m \u001b[39mself\u001b[39m\u001b[39m.\u001b[39m_exc_info[\u001b[39m1\u001b[39m]:\n\u001b[1;32m     76\u001b[0m         \u001b[39m# emulate Py3K's behavior of telling us when an exception\u001b[39;00m\n\u001b[1;32m     77\u001b[0m         \u001b[39m# occurs in an exception handler.\u001b[39;00m\n",
      "File \u001b[0;32m~/developer/premium_dashboard/venv/lib/python3.10/site-packages/sqlalchemy/util/compat.py:207\u001b[0m, in \u001b[0;36mraise_\u001b[0;34m(***failed resolving arguments***)\u001b[0m\n\u001b[1;32m    204\u001b[0m     exception\u001b[39m.\u001b[39m__cause__ \u001b[39m=\u001b[39m replace_context\n\u001b[1;32m    206\u001b[0m \u001b[39mtry\u001b[39;00m:\n\u001b[0;32m--> 207\u001b[0m     \u001b[39mraise\u001b[39;00m exception\n\u001b[1;32m    208\u001b[0m \u001b[39mfinally\u001b[39;00m:\n\u001b[1;32m    209\u001b[0m     \u001b[39m# credit to\u001b[39;00m\n\u001b[1;32m    210\u001b[0m     \u001b[39m# https://cosmicpercolator.com/2016/01/13/exception-leaks-in-python-2-and-3/\u001b[39;00m\n\u001b[1;32m    211\u001b[0m     \u001b[39m# as the __traceback__ object creates a cycle\u001b[39;00m\n\u001b[1;32m    212\u001b[0m     \u001b[39mdel\u001b[39;00m exception, replace_context, from_, with_traceback\n",
      "File \u001b[0;32m~/developer/premium_dashboard/venv/lib/python3.10/site-packages/sqlalchemy/orm/state.py:477\u001b[0m, in \u001b[0;36mInstanceState._initialize_instance\u001b[0;34m(*mixed, **kwargs)\u001b[0m\n\u001b[1;32m    474\u001b[0m manager\u001b[39m.\u001b[39mdispatch\u001b[39m.\u001b[39minit(\u001b[39mself\u001b[39m, args, kwargs)\n\u001b[1;32m    476\u001b[0m \u001b[39mtry\u001b[39;00m:\n\u001b[0;32m--> 477\u001b[0m     \u001b[39mreturn\u001b[39;00m manager\u001b[39m.\u001b[39;49moriginal_init(\u001b[39m*\u001b[39;49mmixed[\u001b[39m1\u001b[39;49m:], \u001b[39m*\u001b[39;49m\u001b[39m*\u001b[39;49mkwargs)\n\u001b[1;32m    478\u001b[0m \u001b[39mexcept\u001b[39;00m:\n\u001b[1;32m    479\u001b[0m     \u001b[39mwith\u001b[39;00m util\u001b[39m.\u001b[39msafe_reraise():\n",
      "File \u001b[0;32m~/developer/premium_dashboard/venv/lib/python3.10/site-packages/sqlalchemy/orm/decl_base.py:1154\u001b[0m, in \u001b[0;36m_declarative_constructor\u001b[0;34m(self, **kwargs)\u001b[0m\n\u001b[1;32m   1152\u001b[0m \u001b[39mfor\u001b[39;00m k \u001b[39min\u001b[39;00m kwargs:\n\u001b[1;32m   1153\u001b[0m     \u001b[39mif\u001b[39;00m \u001b[39mnot\u001b[39;00m \u001b[39mhasattr\u001b[39m(cls_, k):\n\u001b[0;32m-> 1154\u001b[0m         \u001b[39mraise\u001b[39;00m \u001b[39mTypeError\u001b[39;00m(\n\u001b[1;32m   1155\u001b[0m             \u001b[39m\"\u001b[39m\u001b[39m%r\u001b[39;00m\u001b[39m is an invalid keyword argument for \u001b[39m\u001b[39m%s\u001b[39;00m\u001b[39m\"\u001b[39m \u001b[39m%\u001b[39m (k, cls_\u001b[39m.\u001b[39m\u001b[39m__name__\u001b[39m)\n\u001b[1;32m   1156\u001b[0m         )\n\u001b[1;32m   1157\u001b[0m     \u001b[39msetattr\u001b[39m(\u001b[39mself\u001b[39m, k, kwargs[k])\n",
      "\u001b[0;31mTypeError\u001b[0m: 'username' is an invalid keyword argument for StreamlitUser"
     ]
    }
   ],
   "source": [
    "row = StreamlitUser(username='lebeg', hashed_password='lebeg123.', is_superuser=True)\n",
    "db.add(row)"
   ]
  },
  {
   "cell_type": "code",
   "execution_count": 33,
   "metadata": {},
   "outputs": [
    {
     "data": {
      "text/plain": [
       "'SELECT facebook_daily_performance.shop_id AS facebook_daily_performance_shop_id, facebook_adset.target AS facebook_adset_target, sum(facebook_daily_performance.spend / anon_1.rate_from_usd) AS spend \\nFROM facebook_daily_performance JOIN facebook_adset ON facebook_daily_performance.shop_id = facebook_adset.shop_id AND facebook_daily_performance.account_id = facebook_adset.account_id AND facebook_daily_performance.adset_id = facebook_adset.adset_id JOIN facebook_ad_account ON facebook_daily_performance.account_id = facebook_ad_account.facebook_id AND facebook_daily_performance.shop_id = facebook_ad_account.shop_id JOIN (SELECT DISTINCT ON (currency_exchange_rate.code) currency_exchange_rate.code AS code, currency_exchange_rate.rate_from_usd AS rate_from_usd \\nFROM currency_exchange_rate ORDER BY currency_exchange_rate.code, currency_exchange_rate.date DESC) AS anon_1 ON facebook_ad_account.currency = anon_1.code \\nWHERE facebook_daily_performance.shop_id IN (__[POSTCOMPILE_shop_id_1]) AND facebook_daily_performance.date_start >= %(date_start_1)s AND facebook_daily_performance.date_start <= %(date_start_2)s GROUP BY facebook_daily_performance.shop_id, facebook_adset.target'"
      ]
     },
     "execution_count": 33,
     "metadata": {},
     "output_type": "execute_result"
    }
   ],
   "source": [
    "query = crud_fb_daily_performance.query_budget_split_by_target(db=db, shop_id=[16038, 2], start_date='2022-01-01')\n",
    "str(query)"
   ]
  },
  {
   "cell_type": "code",
   "execution_count": 34,
   "metadata": {},
   "outputs": [
    {
     "data": {
      "text/html": [
       "<div>\n",
       "<style scoped>\n",
       "    .dataframe tbody tr th:only-of-type {\n",
       "        vertical-align: middle;\n",
       "    }\n",
       "\n",
       "    .dataframe tbody tr th {\n",
       "        vertical-align: top;\n",
       "    }\n",
       "\n",
       "    .dataframe thead th {\n",
       "        text-align: right;\n",
       "    }\n",
       "</style>\n",
       "<table border=\"1\" class=\"dataframe\">\n",
       "  <thead>\n",
       "    <tr style=\"text-align: right;\">\n",
       "      <th></th>\n",
       "      <th>shop_id</th>\n",
       "      <th>target</th>\n",
       "      <th>spend</th>\n",
       "    </tr>\n",
       "  </thead>\n",
       "  <tbody>\n",
       "    <tr>\n",
       "      <th>0</th>\n",
       "      <td>2</td>\n",
       "      <td>Target.acquisition</td>\n",
       "      <td>5159.64</td>\n",
       "    </tr>\n",
       "    <tr>\n",
       "      <th>1</th>\n",
       "      <td>2</td>\n",
       "      <td>Target.remarketing</td>\n",
       "      <td>221.28</td>\n",
       "    </tr>\n",
       "    <tr>\n",
       "      <th>2</th>\n",
       "      <td>16038</td>\n",
       "      <td>Target.acquisition</td>\n",
       "      <td>1690709.21</td>\n",
       "    </tr>\n",
       "    <tr>\n",
       "      <th>3</th>\n",
       "      <td>16038</td>\n",
       "      <td>Target.remarketing</td>\n",
       "      <td>167237.34</td>\n",
       "    </tr>\n",
       "  </tbody>\n",
       "</table>\n",
       "</div>"
      ],
      "text/plain": [
       "   shop_id              target       spend\n",
       "0        2  Target.acquisition     5159.64\n",
       "1        2  Target.remarketing      221.28\n",
       "2    16038  Target.acquisition  1690709.21\n",
       "3    16038  Target.remarketing   167237.34"
      ]
     },
     "execution_count": 34,
     "metadata": {},
     "output_type": "execute_result"
    }
   ],
   "source": [
    "df = pd.read_sql(query.statement, db.bind)\n",
    "df"
   ]
  },
  {
   "cell_type": "code",
   "execution_count": 2,
   "metadata": {},
   "outputs": [
    {
     "name": "stderr",
     "output_type": "stream",
     "text": [
      "2023-02-09 14:46:01.495 | DEBUG    | src.pingers.ping_shops:ping_shops:23 - Here I am!\n"
     ]
    },
    {
     "name": "stdout",
     "output_type": "stream",
     "text": [
      "ping_shops: 0:00:19.410317\n"
     ]
    }
   ],
   "source": [
    "shops = ping_shops(db=db)"
   ]
  },
  {
   "cell_type": "code",
   "execution_count": 5,
   "metadata": {},
   "outputs": [],
   "source": [
    "shop_id_query = db.query(FacebookDailyPerformance.shop_id).filter(FacebookDailyPerformance.date_start >= '2022-01-01').distinct()\n",
    "shop_ids = pd.read_sql(shop_id_query.statement, db.bind)"
   ]
  },
  {
   "cell_type": "code",
   "execution_count": 6,
   "metadata": {},
   "outputs": [
    {
     "name": "stdout",
     "output_type": "stream",
     "text": [
      "[2, 96, 15873, 16038]\n",
      "SELECT facebook_daily_performance.shop_id AS facebook_daily_performance_shop_id, facebook_adset.target AS facebook_adset_target, sum(facebook_daily_performance.spend / anon_1.rate_from_usd) AS spend \n",
      "FROM facebook_daily_performance JOIN facebook_adset ON facebook_daily_performance.shop_id = facebook_adset.shop_id AND facebook_daily_performance.account_id = facebook_adset.account_id AND facebook_daily_performance.adset_id = facebook_adset.adset_id JOIN facebook_ad_account ON facebook_daily_performance.account_id = facebook_ad_account.facebook_id AND facebook_daily_performance.shop_id = facebook_ad_account.shop_id JOIN (SELECT DISTINCT ON (currency_exchange_rate.code) currency_exchange_rate.code AS code, currency_exchange_rate.rate_from_usd AS rate_from_usd \n",
      "FROM currency_exchange_rate ORDER BY currency_exchange_rate.code, currency_exchange_rate.date DESC) AS anon_1 ON facebook_ad_account.currency = anon_1.code \n",
      "WHERE facebook_daily_performance.shop_id IN (__[POSTCOMPILE_shop_id_1]) AND facebook_daily_performance.date_start >= %(date_start_1)s AND facebook_daily_performance.date_start <= %(date_start_2)s GROUP BY facebook_daily_performance.shop_id, facebook_adset.target\n",
      "[91826, 96200, 130144, 159350]\n",
      "SELECT facebook_daily_performance.shop_id AS facebook_daily_performance_shop_id, facebook_adset.target AS facebook_adset_target, sum(facebook_daily_performance.spend / anon_1.rate_from_usd) AS spend \n",
      "FROM facebook_daily_performance JOIN facebook_adset ON facebook_daily_performance.shop_id = facebook_adset.shop_id AND facebook_daily_performance.account_id = facebook_adset.account_id AND facebook_daily_performance.adset_id = facebook_adset.adset_id JOIN facebook_ad_account ON facebook_daily_performance.account_id = facebook_ad_account.facebook_id AND facebook_daily_performance.shop_id = facebook_ad_account.shop_id JOIN (SELECT DISTINCT ON (currency_exchange_rate.code) currency_exchange_rate.code AS code, currency_exchange_rate.rate_from_usd AS rate_from_usd \n",
      "FROM currency_exchange_rate ORDER BY currency_exchange_rate.code, currency_exchange_rate.date DESC) AS anon_1 ON facebook_ad_account.currency = anon_1.code \n",
      "WHERE facebook_daily_performance.shop_id IN (__[POSTCOMPILE_shop_id_1]) AND facebook_daily_performance.date_start >= %(date_start_1)s AND facebook_daily_performance.date_start <= %(date_start_2)s GROUP BY facebook_daily_performance.shop_id, facebook_adset.target\n",
      "[199383, 231517, 268714]\n",
      "SELECT facebook_daily_performance.shop_id AS facebook_daily_performance_shop_id, facebook_adset.target AS facebook_adset_target, sum(facebook_daily_performance.spend / anon_1.rate_from_usd) AS spend \n",
      "FROM facebook_daily_performance JOIN facebook_adset ON facebook_daily_performance.shop_id = facebook_adset.shop_id AND facebook_daily_performance.account_id = facebook_adset.account_id AND facebook_daily_performance.adset_id = facebook_adset.adset_id JOIN facebook_ad_account ON facebook_daily_performance.account_id = facebook_ad_account.facebook_id AND facebook_daily_performance.shop_id = facebook_ad_account.shop_id JOIN (SELECT DISTINCT ON (currency_exchange_rate.code) currency_exchange_rate.code AS code, currency_exchange_rate.rate_from_usd AS rate_from_usd \n",
      "FROM currency_exchange_rate ORDER BY currency_exchange_rate.code, currency_exchange_rate.date DESC) AS anon_1 ON facebook_ad_account.currency = anon_1.code \n",
      "WHERE facebook_daily_performance.shop_id IN (__[POSTCOMPILE_shop_id_1]) AND facebook_daily_performance.date_start >= %(date_start_1)s AND facebook_daily_performance.date_start <= %(date_start_2)s GROUP BY facebook_daily_performance.shop_id, facebook_adset.target\n"
     ]
    }
   ],
   "source": [
    "shop_ids = shop_ids['shop_id'].tolist()\n",
    "chunck_size = 3\n",
    "for i, shop_ids_chunck in enumerate(np.array_split(shop_ids, len(shop_ids) // chunck_size)):\n",
    "    print(shop_ids_chunck.tolist())\n",
    "    query = crud_fb_daily_performance.query_budget_split_by_target(db=db, shop_id=shop_ids_chunck.tolist(), start_date='2022-01-01')\n",
    "    print(query)\n",
    "    new_df = pd.read_sql(query.statement, db.bind)\n",
    "    if i == 0:\n",
    "        df = new_df\n",
    "    else:\n",
    "        df = pd.concat([df, new_df], axis=0)\n",
    "    if i == 2:\n",
    "        break"
   ]
  },
  {
   "cell_type": "code",
   "execution_count": 26,
   "metadata": {},
   "outputs": [
    {
     "data": {
      "text/plain": [
       "[array([36833384, 46864466, 43739609, 50592831, 36370064, 53002252,\n",
       "        39579188, 31971959, 43985342, 45844908, 38489951, 20347698,\n",
       "        68534913, 12153503, 33391601, 36143108, 12109463, 43242730,\n",
       "        41490637, 13597214, 48425409, 31064070, 15332300, 13781927,\n",
       "        43352241,   256652,  1370565,  2114125, 17807133, 51022062,\n",
       "        31839270, 38580607, 37140876, 44270769,  1407292, 41224141,\n",
       "        50604700, 49063542, 45008008, 76522436, 50254205, 31904124,\n",
       "        21313648, 13131861, 41174878, 50783576, 17045701, 40954863,\n",
       "           15887, 40330230, 22926764,  9596262, 45038286,  8573833,\n",
       "        44512322, 38092292, 45836491, 39270994, 17506226, 56579596,\n",
       "        38833446, 74399413, 41363055, 38962439, 47140968,  8112778,\n",
       "        44086229, 45045056, 46360217, 38894179, 18675218, 30704322,\n",
       "        46317801, 41273036, 43954850, 12140410, 45764574,  9231199,\n",
       "        25963515, 31623603, 40281047,    16006, 39329571, 27227973,\n",
       "         9893977, 49074615, 41020843, 58264127, 28794880, 48076710,\n",
       "        36965121, 11937448, 29851960,  9316625, 22502944, 37737448,\n",
       "        51183517, 39396612, 42232873, 11883461,  3397559, 12102448,\n",
       "        20211437, 57064140, 45055664, 21002829, 39831581, 50589346,\n",
       "        51027099, 28729955, 32618209,  8856607,  2135501, 33256305,\n",
       "        50957841, 51064739, 15433380, 10194147, 45030209, 22712938,\n",
       "        47836929, 22068518, 46332528,        2, 37995958,  2245214,\n",
       "        37180627,  2402084, 52112723,  2387181, 24984690, 35619378,\n",
       "        18686172, 45852603, 43919366, 32795319,  2409934, 18886758,\n",
       "        31547008,  9152411,  8687421, 26337866, 36735235, 16002430,\n",
       "         8042751, 70081753, 45344942,   335856, 37235396, 33363962,\n",
       "        40831949, 18193343, 10560344,  4676271, 43811935, 21884490,\n",
       "        42144858, 44301396, 38264058, 39706239, 34396588, 46062968,\n",
       "        42978840, 43382790,   213889,  2876149, 17426875, 34637563,\n",
       "        28688407, 49690643, 43888734,   135749,  9407140, 41020993,\n",
       "        38058321, 50733743, 34103894, 15951920, 33084416, 12289672,\n",
       "        23355918,  7629029, 22703614, 13512604, 22481415, 37189733,\n",
       "        11859392, 19650347, 34807887, 48862557, 13785664, 10260559,\n",
       "        50518990, 49943466, 18974696, 26532903, 50971751, 37395195,\n",
       "        13933585,  2252626, 19289898, 10197218, 50677676, 38071429,\n",
       "        19425638,  9180676, 58702090, 10608767, 38890678, 10510755]),\n",
       " array([20000651, 37383222, 20500879, 51203216,  2173471, 42148898,\n",
       "        37693860, 46159049, 31270681,  2445081, 45493717, 37057908,\n",
       "        45331016, 58074047, 50952769, 42535592, 50822364, 23522803,\n",
       "        39713389, 51097765, 48116677, 46348400,  2402571, 46142705,\n",
       "         8564570, 73040987, 45286951, 51020556, 38860150, 23977708,\n",
       "        50697002,  2501908, 45797364, 47188120, 44470041, 51177332,\n",
       "        41436366, 42240975, 20692853, 52207244, 37949081, 35457894,\n",
       "        36997565,  1390746, 51211265,  9912363, 51124844, 42419894,\n",
       "        12737677, 19806629, 12808510, 20231443, 19395665, 39520333,\n",
       "         8588771,  9139458, 50420657, 37733502, 51204887, 43412239,\n",
       "        56562556, 68537813,  8774527, 30081589, 35112128, 44017797,\n",
       "         7772466, 37569418, 26493761, 44266378, 11859172, 41998519,\n",
       "        42202587, 39372308, 45091227, 33335814, 12989612, 19942728,\n",
       "        44469100,  2167353, 46019492, 52192918, 37787121, 26204440,\n",
       "         2401299, 48984691, 29975139, 48517177, 40691910, 24126055,\n",
       "        51124864, 43889778, 50909264, 48982112, 44274172,  9518726,\n",
       "        50692333, 46167900, 41279979, 55720683, 49689871, 32825495,\n",
       "        33089105, 50963326, 42148868, 37211363, 37688694, 76824978,\n",
       "        44997549,  9100580, 37111565,  3207402, 39645416, 58603544,\n",
       "        37988577, 41079363, 50866917, 55659255, 38192316, 19420498,\n",
       "        58814935, 12787254, 22660537, 38559673, 38948335,  9927170,\n",
       "        17104706, 74321328,  8471839, 20134299, 38218390, 10580576,\n",
       "        44295998, 38369393, 19717003, 39928633, 38389887, 37860594,\n",
       "         1359754, 37999950, 41331882, 40868730, 38218398,  2227071,\n",
       "        45071665, 37720544, 24268796, 39145015, 38103817, 40699519,\n",
       "        33212206, 10261118, 34198648,    16038, 56613887, 40702399,\n",
       "         8622518, 18484643, 44020787,  8715692, 37058360,   199383,\n",
       "        34366561,  8511237, 19691547,  2124801, 21575323, 44126490,\n",
       "              96, 41335335, 38868374, 36678910, 33092193,  2472778,\n",
       "        38136627, 37480505, 28966990,   182202, 50974586, 47445704,\n",
       "        22924796, 52538077, 37128351, 35100920, 73805322, 28859605,\n",
       "        23481652, 23224328, 51210714, 41395662, 22900073, 49065830,\n",
       "        13830063, 41334766,  8546677, 52968419,  1338947, 43298814,\n",
       "        42239458, 46868927, 36679793, 51838703, 39244278, 56951609,\n",
       "        12195110, 10276285, 50693481, 50445563,  2058949, 40844422]),\n",
       " array([ 9906141, 39100537, 38054497, 37719620, 49561823, 32984825,\n",
       "        43417642,  9662886, 42237203,  1417720,  8655489, 42233102,\n",
       "        15666148,   130144, 46150790, 25851397, 40961852, 46831982,\n",
       "        45276136, 46813456, 51021274, 52094238, 19083465,  2662104,\n",
       "        39652921, 35697277, 42564905, 47443959, 41973277, 12464272,\n",
       "        52041939,  3202783,  2577155, 43990010, 39679905, 10188458,\n",
       "        42565615, 26389028, 36814660,  8914919, 43946410, 51831457,\n",
       "        45348903, 50106585,  8951576, 45447508, 39106511, 23041145,\n",
       "         2391983, 31722805, 23799523, 50497431, 44542158, 38483209,\n",
       "         1918239, 38950722, 36705510, 19503931, 12166677, 51200711,\n",
       "        57037850, 38299502, 43410517, 10543255, 43372751, 56825533,\n",
       "        43952231, 24083693, 38290960, 46255395, 39655595, 42760756,\n",
       "        18166172, 47162080, 50592374, 12674576, 73652427,  1355358,\n",
       "        37594925, 50742348, 45491526, 24240627,  2034908, 50602673,\n",
       "        37888749, 36353321,  3192660, 51133084, 40929757, 10565377,\n",
       "        49022445, 29521951,  1434806,    15977, 42872536, 39528957,\n",
       "        51177166,  1321582, 40795699, 50631689, 40671461, 50721745,\n",
       "        10221230, 34681909, 37221588, 36989335, 57733345, 40900835,\n",
       "         2389204, 39222988, 40963916, 50976291, 47463448, 46828385,\n",
       "         8686816, 12752324,  7986318, 31859716, 45256821, 45484301,\n",
       "        31609546, 13855472, 21073603,  2459137, 19049959, 12263797,\n",
       "        37393195, 44510063, 36183854, 55575375, 12238483,  9738029,\n",
       "        43886594, 29633032, 33166527, 37782334, 34864955, 49073144,\n",
       "        56809326, 24751819, 73430611, 29797051, 24692020, 44144500,\n",
       "        48131293, 38893464, 12786762, 50924659, 44112778, 31420164,\n",
       "        12760428, 41395146, 10893054, 40698116, 39801981, 22917705,\n",
       "        37829185, 37981998, 15332885, 44486337, 50640319,    96200,\n",
       "        48897702, 32946289, 35756063, 73206125, 19675374, 51904487,\n",
       "        51029960, 40703816, 37218720, 11776266, 10261879, 20953639,\n",
       "        10006768, 38687494, 38067303,  9375419, 10079705,  8609788,\n",
       "        31587104,  9530730, 24640760, 38620545, 45262536, 45285024,\n",
       "        40857611, 50505820, 37737864,  2423816,  9400589, 44183745,\n",
       "        10034235, 15348287, 43247895, 31665505, 47421521, 36799610,\n",
       "        44004018, 40959070, 46132509,  9750361, 48433981, 45159394,\n",
       "        45030541, 50709443, 42177872, 34072236, 44105203]),\n",
       " array([22119365, 28473545, 46101091, 79546058, 38215210, 47150656,\n",
       "         9258259, 44484284,  1428146,  9815828, 29842229, 49724659,\n",
       "         2655205, 39666069, 46175731, 41447372,  3235658,  9994918,\n",
       "           15892,  2873481, 37913142, 38047162, 39180572, 26106385,\n",
       "        55841646, 36911037, 38849112, 11490515, 51147115, 73837038,\n",
       "         8442051, 54875709, 12176957, 51132894, 49634876, 46801580,\n",
       "         2030833, 55808894, 38358750, 37987374, 39544416, 42197268,\n",
       "        37716430, 16737433,  8335514, 50993097,   268714, 50498995,\n",
       "        50517862, 42549862, 48318387, 18305677, 38102371, 34924378,\n",
       "        45021091, 36319763, 45379739, 19080834, 38023140, 44207949,\n",
       "        16621201, 45119813, 36659648, 19741878, 12451478, 40312708,\n",
       "        38894108, 46826053, 45858912, 33554559, 50392847, 38175156,\n",
       "        34668356, 12345766,  9264996, 35679057, 44470659, 29080200,\n",
       "         2702425, 43435015, 43808339, 10199056, 35510778, 38891160,\n",
       "        31584044, 45842958, 31548005, 31297794, 38893730, 44470021,\n",
       "        37977568,  9578088, 45446054, 42125537, 44276562, 46859416,\n",
       "        31728156, 38876948, 23654015, 45514705, 42222035,  2174240,\n",
       "        39771107,  9723286, 18628283, 42238174, 12348254,    91826,\n",
       "        42265913, 45037106, 38104007, 14018822, 70793243, 49143414,\n",
       "        19686580,  8901852,  1333476, 26660035,  2073755,  9762267,\n",
       "        35134105, 23088085, 48492066, 40336212, 39306968,  8454771,\n",
       "        38315748, 21740924, 41209572, 25907517, 45308493, 49631079,\n",
       "        50694845,  8884065, 51912008, 10080134, 38901784, 68313418,\n",
       "        48116543, 45299964, 39681978, 44266541, 46290291, 38894262,\n",
       "        27547729,   159350, 10227064, 52143605, 10007640, 37177422,\n",
       "        37396505, 20281988, 40928450, 48460630, 29413487, 37658733,\n",
       "        37998005, 38483499, 24891898, 57041110, 41151246, 50944062,\n",
       "        37113082, 51133332, 34310261, 38295917, 42232170, 52748083,\n",
       "        34810574,  1259996, 37661773,  1215058, 31929671, 44538290,\n",
       "        36781360, 79993181, 16200158, 48400911,   231517, 44087101,\n",
       "        50940375, 42198824, 43886677, 43996884, 50723988, 28799482,\n",
       "         8966477, 37692660, 20980695, 33280300, 52096179, 20614216,\n",
       "         6732613, 51124636, 10248339, 39770280, 49111322, 31717449,\n",
       "        41171814, 38308723, 40312516,  9786061, 36946507, 13885685,\n",
       "        37130885, 50168507, 41019561, 34248783, 43954864]),\n",
       " array([45057901, 71301472, 49571146,  1912299, 18110497, 21711700,\n",
       "         2470154, 32812002, 10353162, 10943493, 40339951, 10054981,\n",
       "        38894308,  2739174, 70666462,  2266360, 47426758, 36378088,\n",
       "        41870118, 19505868, 37142873, 36978378, 52734591, 31522526,\n",
       "        35522045, 38356081, 40951757, 50059550, 51198641, 34714720,\n",
       "        38559204, 14486167, 35498466,    15873, 50522047, 35718182,\n",
       "        42766359,  1419100, 31342479, 51018031, 41060245, 10273006,\n",
       "        37156912, 46147156, 54606407, 36672597, 15193630, 32905723,\n",
       "        37808070, 22343860, 41857988, 32984627, 44190127, 34237718,\n",
       "        44132909, 31527465, 38955025, 58080305, 37245552, 38402811,\n",
       "         9527262, 45864486, 39650076, 18043792, 22694828, 45059945,\n",
       "        39936893, 21774004, 12560835, 39814436, 36848460,  8951762,\n",
       "        39346644, 39203912, 32903308, 31286041, 28932952, 39848713,\n",
       "        50735710, 38823077, 58847443, 31818379, 48023348, 29932371,\n",
       "        43375757, 45356313,  1267261,  9004343, 40164348, 52265787,\n",
       "        46321569,  9573425, 39260076, 38145342, 40896545, 51824258,\n",
       "        16429085, 14123457, 37145533, 17448274, 51147161, 57067425,\n",
       "        51164259, 10074314, 42553441, 46164620, 45046838,  2555010,\n",
       "        37108949,  2112768, 53001219, 52775763, 22148194, 39674804,\n",
       "        33511268, 42333117, 17411381, 40921787, 38348391, 29163338,\n",
       "        37842294,  2410663, 19957071, 48277394,  3112098,  2294414,\n",
       "        50524723, 36233823, 37259196, 47932389, 23662937, 39316672,\n",
       "         8556595,  9583694, 46191628, 44113291, 37135321,  8703879,\n",
       "        40724412, 19387101, 45066856, 45039051, 51112944,  7677164,\n",
       "        58273096,  2518637, 37254609, 44091923, 40992771, 44994829,\n",
       "        48148228, 63273289, 12226687, 43962827, 46064172, 50602819,\n",
       "        39221969, 36293314, 20329307,  3233591, 44151529, 63459535,\n",
       "        20402319, 44479250, 50455589, 23647289, 26269495, 37392165,\n",
       "        37082831, 37156182,  2974781, 41445449, 79497608, 45867058,\n",
       "          134490, 28720295, 41075753, 33166821, 45194119, 39309100,\n",
       "         8792296,  2295945, 37673090, 39253929, 38819134, 14447833,\n",
       "        41498372, 34350445, 30929283,  2214814, 46827171, 38385236,\n",
       "        57986953, 81528324, 34685987, 50962794, 52011773, 49086843,\n",
       "        42661289, 25254472, 31396894, 12833525, 41000377, 37213843,\n",
       "        12480682, 28299708, 40914710, 18600257, 42787782])]"
      ]
     },
     "execution_count": 26,
     "metadata": {},
     "output_type": "execute_result"
    }
   ],
   "source": []
  },
  {
   "cell_type": "code",
   "execution_count": 11,
   "metadata": {},
   "outputs": [],
   "source": [
    "def f(df):\n",
    "    print(df)\n",
    "    df.spend = df.spend / df.spend.sum()\n",
    "    return df"
   ]
  },
  {
   "cell_type": "code",
   "execution_count": 12,
   "metadata": {},
   "outputs": [
    {
     "name": "stdout",
     "output_type": "stream",
     "text": [
      "0    Target.acquisition\n",
      "1    Target.remarketing\n",
      "Name: target, dtype: object\n"
     ]
    },
    {
     "ename": "AttributeError",
     "evalue": "'Series' object has no attribute 'spend'",
     "output_type": "error",
     "traceback": [
      "\u001b[0;31m---------------------------------------------------------------------------\u001b[0m",
      "\u001b[0;31mAttributeError\u001b[0m                            Traceback (most recent call last)",
      "\u001b[1;32m/Users/sanjinjuricfot/developer/premium_dashboard/tmp.ipynb Cell 5\u001b[0m in \u001b[0;36m<cell line: 1>\u001b[0;34m()\u001b[0m\n\u001b[0;32m----> <a href='vscode-notebook-cell:/Users/sanjinjuricfot/developer/premium_dashboard/tmp.ipynb#X51sZmlsZQ%3D%3D?line=0'>1</a>\u001b[0m df\u001b[39m.\u001b[39;49mgroupby(\u001b[39m'\u001b[39;49m\u001b[39mshop_id\u001b[39;49m\u001b[39m'\u001b[39;49m)\u001b[39m.\u001b[39;49mtransform(f)\n",
      "File \u001b[0;32m~/developer/premium_dashboard/venv/lib/python3.10/site-packages/pandas/core/groupby/generic.py:1184\u001b[0m, in \u001b[0;36mDataFrameGroupBy.transform\u001b[0;34m(self, func, engine, engine_kwargs, *args, **kwargs)\u001b[0m\n\u001b[1;32m   1181\u001b[0m \u001b[39m@Substitution\u001b[39m(klass\u001b[39m=\u001b[39m\u001b[39m\"\u001b[39m\u001b[39mDataFrame\u001b[39m\u001b[39m\"\u001b[39m)\n\u001b[1;32m   1182\u001b[0m \u001b[39m@Appender\u001b[39m(_transform_template)\n\u001b[1;32m   1183\u001b[0m \u001b[39mdef\u001b[39;00m \u001b[39mtransform\u001b[39m(\u001b[39mself\u001b[39m, func, \u001b[39m*\u001b[39margs, engine\u001b[39m=\u001b[39m\u001b[39mNone\u001b[39;00m, engine_kwargs\u001b[39m=\u001b[39m\u001b[39mNone\u001b[39;00m, \u001b[39m*\u001b[39m\u001b[39m*\u001b[39mkwargs):\n\u001b[0;32m-> 1184\u001b[0m     \u001b[39mreturn\u001b[39;00m \u001b[39mself\u001b[39;49m\u001b[39m.\u001b[39;49m_transform(\n\u001b[1;32m   1185\u001b[0m         func, \u001b[39m*\u001b[39;49margs, engine\u001b[39m=\u001b[39;49mengine, engine_kwargs\u001b[39m=\u001b[39;49mengine_kwargs, \u001b[39m*\u001b[39;49m\u001b[39m*\u001b[39;49mkwargs\n\u001b[1;32m   1186\u001b[0m     )\n",
      "File \u001b[0;32m~/developer/premium_dashboard/venv/lib/python3.10/site-packages/pandas/core/groupby/groupby.py:1633\u001b[0m, in \u001b[0;36mGroupBy._transform\u001b[0;34m(self, func, engine, engine_kwargs, *args, **kwargs)\u001b[0m\n\u001b[1;32m   1630\u001b[0m func \u001b[39m=\u001b[39m com\u001b[39m.\u001b[39mget_cython_func(func) \u001b[39mor\u001b[39;00m func\n\u001b[1;32m   1632\u001b[0m \u001b[39mif\u001b[39;00m \u001b[39mnot\u001b[39;00m \u001b[39misinstance\u001b[39m(func, \u001b[39mstr\u001b[39m):\n\u001b[0;32m-> 1633\u001b[0m     \u001b[39mreturn\u001b[39;00m \u001b[39mself\u001b[39;49m\u001b[39m.\u001b[39;49m_transform_general(func, \u001b[39m*\u001b[39;49margs, \u001b[39m*\u001b[39;49m\u001b[39m*\u001b[39;49mkwargs)\n\u001b[1;32m   1635\u001b[0m \u001b[39melif\u001b[39;00m func \u001b[39mnot\u001b[39;00m \u001b[39min\u001b[39;00m base\u001b[39m.\u001b[39mtransform_kernel_allowlist:\n\u001b[1;32m   1636\u001b[0m     msg \u001b[39m=\u001b[39m \u001b[39mf\u001b[39m\u001b[39m\"\u001b[39m\u001b[39m'\u001b[39m\u001b[39m{\u001b[39;00mfunc\u001b[39m}\u001b[39;00m\u001b[39m'\u001b[39m\u001b[39m is not a valid function name for transform(name)\u001b[39m\u001b[39m\"\u001b[39m\n",
      "File \u001b[0;32m~/developer/premium_dashboard/venv/lib/python3.10/site-packages/pandas/core/groupby/generic.py:1156\u001b[0m, in \u001b[0;36mDataFrameGroupBy._transform_general\u001b[0;34m(self, func, *args, **kwargs)\u001b[0m\n\u001b[1;32m   1154\u001b[0m \u001b[39mobject\u001b[39m\u001b[39m.\u001b[39m\u001b[39m__setattr__\u001b[39m(group, \u001b[39m\"\u001b[39m\u001b[39mname\u001b[39m\u001b[39m\"\u001b[39m, name)\n\u001b[1;32m   1155\u001b[0m \u001b[39mtry\u001b[39;00m:\n\u001b[0;32m-> 1156\u001b[0m     path, res \u001b[39m=\u001b[39m \u001b[39mself\u001b[39;49m\u001b[39m.\u001b[39;49m_choose_path(fast_path, slow_path, group)\n\u001b[1;32m   1157\u001b[0m \u001b[39mexcept\u001b[39;00m \u001b[39mTypeError\u001b[39;00m:\n\u001b[1;32m   1158\u001b[0m     \u001b[39mreturn\u001b[39;00m \u001b[39mself\u001b[39m\u001b[39m.\u001b[39m_transform_item_by_item(obj, fast_path)\n",
      "File \u001b[0;32m~/developer/premium_dashboard/venv/lib/python3.10/site-packages/pandas/core/groupby/generic.py:1208\u001b[0m, in \u001b[0;36mDataFrameGroupBy._choose_path\u001b[0;34m(self, fast_path, slow_path, group)\u001b[0m\n\u001b[1;32m   1206\u001b[0m \u001b[39mdef\u001b[39;00m \u001b[39m_choose_path\u001b[39m(\u001b[39mself\u001b[39m, fast_path: Callable, slow_path: Callable, group: DataFrame):\n\u001b[1;32m   1207\u001b[0m     path \u001b[39m=\u001b[39m slow_path\n\u001b[0;32m-> 1208\u001b[0m     res \u001b[39m=\u001b[39m slow_path(group)\n\u001b[1;32m   1210\u001b[0m     \u001b[39m# if we make it here, test if we can use the fast path\u001b[39;00m\n\u001b[1;32m   1211\u001b[0m     \u001b[39mtry\u001b[39;00m:\n",
      "File \u001b[0;32m~/developer/premium_dashboard/venv/lib/python3.10/site-packages/pandas/core/groupby/generic.py:1201\u001b[0m, in \u001b[0;36mDataFrameGroupBy._define_paths.<locals>.<lambda>\u001b[0;34m(group)\u001b[0m\n\u001b[1;32m   1199\u001b[0m \u001b[39melse\u001b[39;00m:\n\u001b[1;32m   1200\u001b[0m     fast_path \u001b[39m=\u001b[39m \u001b[39mlambda\u001b[39;00m group: func(group, \u001b[39m*\u001b[39margs, \u001b[39m*\u001b[39m\u001b[39m*\u001b[39mkwargs)\n\u001b[0;32m-> 1201\u001b[0m     slow_path \u001b[39m=\u001b[39m \u001b[39mlambda\u001b[39;00m group: group\u001b[39m.\u001b[39;49mapply(\n\u001b[1;32m   1202\u001b[0m         \u001b[39mlambda\u001b[39;49;00m x: func(x, \u001b[39m*\u001b[39;49margs, \u001b[39m*\u001b[39;49m\u001b[39m*\u001b[39;49mkwargs), axis\u001b[39m=\u001b[39;49m\u001b[39mself\u001b[39;49m\u001b[39m.\u001b[39;49maxis\n\u001b[1;32m   1203\u001b[0m     )\n\u001b[1;32m   1204\u001b[0m \u001b[39mreturn\u001b[39;00m fast_path, slow_path\n",
      "File \u001b[0;32m~/developer/premium_dashboard/venv/lib/python3.10/site-packages/pandas/core/frame.py:8839\u001b[0m, in \u001b[0;36mDataFrame.apply\u001b[0;34m(self, func, axis, raw, result_type, args, **kwargs)\u001b[0m\n\u001b[1;32m   8828\u001b[0m \u001b[39mfrom\u001b[39;00m \u001b[39mpandas\u001b[39;00m\u001b[39m.\u001b[39;00m\u001b[39mcore\u001b[39;00m\u001b[39m.\u001b[39;00m\u001b[39mapply\u001b[39;00m \u001b[39mimport\u001b[39;00m frame_apply\n\u001b[1;32m   8830\u001b[0m op \u001b[39m=\u001b[39m frame_apply(\n\u001b[1;32m   8831\u001b[0m     \u001b[39mself\u001b[39m,\n\u001b[1;32m   8832\u001b[0m     func\u001b[39m=\u001b[39mfunc,\n\u001b[0;32m   (...)\u001b[0m\n\u001b[1;32m   8837\u001b[0m     kwargs\u001b[39m=\u001b[39mkwargs,\n\u001b[1;32m   8838\u001b[0m )\n\u001b[0;32m-> 8839\u001b[0m \u001b[39mreturn\u001b[39;00m op\u001b[39m.\u001b[39;49mapply()\u001b[39m.\u001b[39m__finalize__(\u001b[39mself\u001b[39m, method\u001b[39m=\u001b[39m\u001b[39m\"\u001b[39m\u001b[39mapply\u001b[39m\u001b[39m\"\u001b[39m)\n",
      "File \u001b[0;32m~/developer/premium_dashboard/venv/lib/python3.10/site-packages/pandas/core/apply.py:727\u001b[0m, in \u001b[0;36mFrameApply.apply\u001b[0;34m(self)\u001b[0m\n\u001b[1;32m    724\u001b[0m \u001b[39melif\u001b[39;00m \u001b[39mself\u001b[39m\u001b[39m.\u001b[39mraw:\n\u001b[1;32m    725\u001b[0m     \u001b[39mreturn\u001b[39;00m \u001b[39mself\u001b[39m\u001b[39m.\u001b[39mapply_raw()\n\u001b[0;32m--> 727\u001b[0m \u001b[39mreturn\u001b[39;00m \u001b[39mself\u001b[39;49m\u001b[39m.\u001b[39;49mapply_standard()\n",
      "File \u001b[0;32m~/developer/premium_dashboard/venv/lib/python3.10/site-packages/pandas/core/apply.py:851\u001b[0m, in \u001b[0;36mFrameApply.apply_standard\u001b[0;34m(self)\u001b[0m\n\u001b[1;32m    850\u001b[0m \u001b[39mdef\u001b[39;00m \u001b[39mapply_standard\u001b[39m(\u001b[39mself\u001b[39m):\n\u001b[0;32m--> 851\u001b[0m     results, res_index \u001b[39m=\u001b[39m \u001b[39mself\u001b[39;49m\u001b[39m.\u001b[39;49mapply_series_generator()\n\u001b[1;32m    853\u001b[0m     \u001b[39m# wrap results\u001b[39;00m\n\u001b[1;32m    854\u001b[0m     \u001b[39mreturn\u001b[39;00m \u001b[39mself\u001b[39m\u001b[39m.\u001b[39mwrap_results(results, res_index)\n",
      "File \u001b[0;32m~/developer/premium_dashboard/venv/lib/python3.10/site-packages/pandas/core/apply.py:867\u001b[0m, in \u001b[0;36mFrameApply.apply_series_generator\u001b[0;34m(self)\u001b[0m\n\u001b[1;32m    864\u001b[0m \u001b[39mwith\u001b[39;00m option_context(\u001b[39m\"\u001b[39m\u001b[39mmode.chained_assignment\u001b[39m\u001b[39m\"\u001b[39m, \u001b[39mNone\u001b[39;00m):\n\u001b[1;32m    865\u001b[0m     \u001b[39mfor\u001b[39;00m i, v \u001b[39min\u001b[39;00m \u001b[39menumerate\u001b[39m(series_gen):\n\u001b[1;32m    866\u001b[0m         \u001b[39m# ignore SettingWithCopy here in case the user mutates\u001b[39;00m\n\u001b[0;32m--> 867\u001b[0m         results[i] \u001b[39m=\u001b[39m \u001b[39mself\u001b[39;49m\u001b[39m.\u001b[39;49mf(v)\n\u001b[1;32m    868\u001b[0m         \u001b[39mif\u001b[39;00m \u001b[39misinstance\u001b[39m(results[i], ABCSeries):\n\u001b[1;32m    869\u001b[0m             \u001b[39m# If we have a view on v, we need to make a copy because\u001b[39;00m\n\u001b[1;32m    870\u001b[0m             \u001b[39m#  series_generator will swap out the underlying data\u001b[39;00m\n\u001b[1;32m    871\u001b[0m             results[i] \u001b[39m=\u001b[39m results[i]\u001b[39m.\u001b[39mcopy(deep\u001b[39m=\u001b[39m\u001b[39mFalse\u001b[39;00m)\n",
      "File \u001b[0;32m~/developer/premium_dashboard/venv/lib/python3.10/site-packages/pandas/core/groupby/generic.py:1202\u001b[0m, in \u001b[0;36mDataFrameGroupBy._define_paths.<locals>.<lambda>.<locals>.<lambda>\u001b[0;34m(x)\u001b[0m\n\u001b[1;32m   1199\u001b[0m \u001b[39melse\u001b[39;00m:\n\u001b[1;32m   1200\u001b[0m     fast_path \u001b[39m=\u001b[39m \u001b[39mlambda\u001b[39;00m group: func(group, \u001b[39m*\u001b[39margs, \u001b[39m*\u001b[39m\u001b[39m*\u001b[39mkwargs)\n\u001b[1;32m   1201\u001b[0m     slow_path \u001b[39m=\u001b[39m \u001b[39mlambda\u001b[39;00m group: group\u001b[39m.\u001b[39mapply(\n\u001b[0;32m-> 1202\u001b[0m         \u001b[39mlambda\u001b[39;00m x: func(x, \u001b[39m*\u001b[39;49margs, \u001b[39m*\u001b[39;49m\u001b[39m*\u001b[39;49mkwargs), axis\u001b[39m=\u001b[39m\u001b[39mself\u001b[39m\u001b[39m.\u001b[39maxis\n\u001b[1;32m   1203\u001b[0m     )\n\u001b[1;32m   1204\u001b[0m \u001b[39mreturn\u001b[39;00m fast_path, slow_path\n",
      "\u001b[1;32m/Users/sanjinjuricfot/developer/premium_dashboard/tmp.ipynb Cell 5\u001b[0m in \u001b[0;36mf\u001b[0;34m(df)\u001b[0m\n\u001b[1;32m      <a href='vscode-notebook-cell:/Users/sanjinjuricfot/developer/premium_dashboard/tmp.ipynb#X51sZmlsZQ%3D%3D?line=0'>1</a>\u001b[0m \u001b[39mdef\u001b[39;00m \u001b[39mf\u001b[39m(df):\n\u001b[1;32m      <a href='vscode-notebook-cell:/Users/sanjinjuricfot/developer/premium_dashboard/tmp.ipynb#X51sZmlsZQ%3D%3D?line=1'>2</a>\u001b[0m     \u001b[39mprint\u001b[39m(df)\n\u001b[0;32m----> <a href='vscode-notebook-cell:/Users/sanjinjuricfot/developer/premium_dashboard/tmp.ipynb#X51sZmlsZQ%3D%3D?line=2'>3</a>\u001b[0m     df\u001b[39m.\u001b[39mspend \u001b[39m=\u001b[39m df\u001b[39m.\u001b[39;49mspend \u001b[39m/\u001b[39m df\u001b[39m.\u001b[39mspend\u001b[39m.\u001b[39msum()\n\u001b[1;32m      <a href='vscode-notebook-cell:/Users/sanjinjuricfot/developer/premium_dashboard/tmp.ipynb#X51sZmlsZQ%3D%3D?line=3'>4</a>\u001b[0m     \u001b[39mreturn\u001b[39;00m df\n",
      "File \u001b[0;32m~/developer/premium_dashboard/venv/lib/python3.10/site-packages/pandas/core/generic.py:5575\u001b[0m, in \u001b[0;36mNDFrame.__getattr__\u001b[0;34m(self, name)\u001b[0m\n\u001b[1;32m   5568\u001b[0m \u001b[39mif\u001b[39;00m (\n\u001b[1;32m   5569\u001b[0m     name \u001b[39mnot\u001b[39;00m \u001b[39min\u001b[39;00m \u001b[39mself\u001b[39m\u001b[39m.\u001b[39m_internal_names_set\n\u001b[1;32m   5570\u001b[0m     \u001b[39mand\u001b[39;00m name \u001b[39mnot\u001b[39;00m \u001b[39min\u001b[39;00m \u001b[39mself\u001b[39m\u001b[39m.\u001b[39m_metadata\n\u001b[1;32m   5571\u001b[0m     \u001b[39mand\u001b[39;00m name \u001b[39mnot\u001b[39;00m \u001b[39min\u001b[39;00m \u001b[39mself\u001b[39m\u001b[39m.\u001b[39m_accessors\n\u001b[1;32m   5572\u001b[0m     \u001b[39mand\u001b[39;00m \u001b[39mself\u001b[39m\u001b[39m.\u001b[39m_info_axis\u001b[39m.\u001b[39m_can_hold_identifiers_and_holds_name(name)\n\u001b[1;32m   5573\u001b[0m ):\n\u001b[1;32m   5574\u001b[0m     \u001b[39mreturn\u001b[39;00m \u001b[39mself\u001b[39m[name]\n\u001b[0;32m-> 5575\u001b[0m \u001b[39mreturn\u001b[39;00m \u001b[39mobject\u001b[39;49m\u001b[39m.\u001b[39;49m\u001b[39m__getattribute__\u001b[39;49m(\u001b[39mself\u001b[39;49m, name)\n",
      "\u001b[0;31mAttributeError\u001b[0m: 'Series' object has no attribute 'spend'"
     ]
    }
   ],
   "source": [
    "df.groupby('shop_id').transform(f)"
   ]
  },
  {
   "cell_type": "code",
   "execution_count": null,
   "metadata": {},
   "outputs": [],
   "source": [
    "import pandas as pd\n",
    "# crm = pd.read_csv('data/industries.csv')\n",
    "df = pd.read_csv('data/ads_insights.csv')"
   ]
  },
  {
   "cell_type": "code",
   "execution_count": null,
   "metadata": {},
   "outputs": [],
   "source": [
    "q = 4\n",
    "pd.qcut(df.loc[df.facebook_spend.notna(), 'facebook_spend'], q=q, labels=list(range(q))).isna().sum()"
   ]
  },
  {
   "cell_type": "code",
   "execution_count": null,
   "metadata": {},
   "outputs": [],
   "source": [
    "df.industry.count()"
   ]
  },
  {
   "cell_type": "code",
   "execution_count": null,
   "metadata": {},
   "outputs": [],
   "source": [
    "import pandas as pd\n",
    "from enum import Enum\n",
    "from itertools import combinations\n",
    "from src.utils.enum import get_enum_values\n",
    "import numpy as np\n",
    "\n",
    "class EPlatform(str, Enum):\n",
    "    facebook = \"facebook\"\n",
    "    tiktok = \"tiktok\"\n",
    "    google = \"google\"\n",
    "\n",
    "df = pd.read_csv('data/ads_insights.csv')"
   ]
  },
  {
   "cell_type": "code",
   "execution_count": null,
   "metadata": {},
   "outputs": [],
   "source": [
    "\"-\".join(['a', 'b'])"
   ]
  },
  {
   "cell_type": "code",
   "execution_count": null,
   "metadata": {},
   "outputs": [],
   "source": [
    "set(combinations(, r=2))"
   ]
  },
  {
   "cell_type": "code",
   "execution_count": null,
   "metadata": {},
   "outputs": [],
   "source": [
    "def get_all_subsets(s: set | list):\n",
    "    n = len(s)\n",
    "    subsets = []\n",
    "    for i in range(n+1):\n",
    "        i_subsets = combinations(s, i)\n",
    "        subsets.extend(i_subsets)\n",
    "    return subsets"
   ]
  },
  {
   "cell_type": "code",
   "execution_count": null,
   "metadata": {},
   "outputs": [],
   "source": [
    "platforms = get_enum_values(EPlatform)\n",
    "platform_combinations = get_all_subsets(platforms)"
   ]
  },
  {
   "cell_type": "code",
   "execution_count": null,
   "metadata": {},
   "outputs": [],
   "source": [
    "table = pd.DataFrame(columns=['combination', 'shops', 'budget_split'])"
   ]
  },
  {
   "cell_type": "code",
   "execution_count": null,
   "metadata": {},
   "outputs": [],
   "source": [
    "def get_spend_ratio(s: pd.Series, platforms: list):\n",
    "    ratio = [s[f\"{platform}_spend\"] / s.full_spend for platform in platforms]\n",
    "    return ratio"
   ]
  },
  {
   "cell_type": "code",
   "execution_count": null,
   "metadata": {},
   "outputs": [],
   "source": [
    "def get_data_by_platform_combination(df: pd.DataFrame, combination: list):\n",
    "    filter = [True in range(len(df))]\n",
    "    for platform in platforms:\n",
    "        if platform in combination:\n",
    "            filter = filter & (df[f'{platform}_spend'].notna())\n",
    "        else:\n",
    "            filter = filter & (df[f'{platform}_spend'].isna())\n",
    "    filtered = df[filter].copy()\n",
    "    filtered['full_spend'] = filtered.apply(lambda df: sum([df[f\"{platform}_spend\"] for platform in combination]), axis=1)\n",
    "    platforms_without_the_last_one = combination[:len(combination)-1]\n",
    "    filtered['spend_ratio'] = filtered.apply(lambda df: get_spend_ratio(df, platforms=platforms_without_the_last_one), axis=1)\n",
    "    mean_ratio = np.mean(filtered['spend_ratio'].tolist(), axis=0)\n",
    "    print(mean_ratio)\n",
    "    result = {\"combination\": '_'.join(combination), \"shops\": len(filtered)/len(df), \"budget_split\": list(mean_ratio) + [1-mean_ratio.sum()]}\n",
    "    return result"
   ]
  },
  {
   "cell_type": "code",
   "execution_count": null,
   "metadata": {},
   "outputs": [],
   "source": [
    "for combination in platform_combinations:\n",
    "    if not len(combination):\n",
    "        continue\n",
    "    row = get_data_by_platform_combination(df=df, combination=combination)\n",
    "    table.loc[len(table), :] = row"
   ]
  },
  {
   "cell_type": "code",
   "execution_count": null,
   "metadata": {},
   "outputs": [],
   "source": [
    "table"
   ]
  },
  {
   "cell_type": "code",
   "execution_count": null,
   "metadata": {},
   "outputs": [],
   "source": [
    "result"
   ]
  },
  {
   "cell_type": "code",
   "execution_count": null,
   "metadata": {},
   "outputs": [],
   "source": [
    "filtered"
   ]
  },
  {
   "cell_type": "code",
   "execution_count": null,
   "metadata": {},
   "outputs": [],
   "source": [
    "filtered.spend_ratio"
   ]
  },
  {
   "cell_type": "code",
   "execution_count": null,
   "metadata": {},
   "outputs": [],
   "source": [
    "filtered"
   ]
  },
  {
   "cell_type": "code",
   "execution_count": null,
   "metadata": {},
   "outputs": [],
   "source": [
    "combination[:len(combination)-1]"
   ]
  },
  {
   "cell_type": "code",
   "execution_count": null,
   "metadata": {},
   "outputs": [],
   "source": [
    "len(df[(df.facebook_spend.notna()) & (df.google_spend.isna()) & (df.tiktok_spend.notna())])"
   ]
  },
  {
   "cell_type": "code",
   "execution_count": null,
   "metadata": {},
   "outputs": [],
   "source": [
    "df = ping_ads_insights_all_platforms(db=db, columns='spend')"
   ]
  },
  {
   "cell_type": "code",
   "execution_count": null,
   "metadata": {},
   "outputs": [],
   "source": [
    "only_shop = df.groupby('shop_id').sum().reset_index()"
   ]
  },
  {
   "cell_type": "code",
   "execution_count": null,
   "metadata": {},
   "outputs": [],
   "source": [
    "df"
   ]
  },
  {
   "cell_type": "code",
   "execution_count": null,
   "metadata": {},
   "outputs": [],
   "source": [
    "FacebookAd.ad_id.__mapper__"
   ]
  },
  {
   "cell_type": "code",
   "execution_count": null,
   "metadata": {},
   "outputs": [],
   "source": [
    "FacebookAd.__class__"
   ]
  },
  {
   "cell_type": "code",
   "execution_count": null,
   "metadata": {},
   "outputs": [],
   "source": [
    "df = ping_shops(db=db)"
   ]
  },
  {
   "cell_type": "code",
   "execution_count": null,
   "metadata": {},
   "outputs": [],
   "source": [
    "df.loc[df.shop_id == 16038, :]"
   ]
  },
  {
   "cell_type": "code",
   "execution_count": null,
   "metadata": {},
   "outputs": [],
   "source": [
    "df.ad_id"
   ]
  },
  {
   "cell_type": "code",
   "execution_count": null,
   "metadata": {},
   "outputs": [],
   "source": [
    "df.loc[df.ad_id == '10'].index[0]"
   ]
  },
  {
   "cell_type": "code",
   "execution_count": null,
   "metadata": {},
   "outputs": [],
   "source": [
    "query = session.query(FacebookAd.ad_id)"
   ]
  },
  {
   "cell_type": "code",
   "execution_count": null,
   "metadata": {},
   "outputs": [],
   "source": [
    "query[0]"
   ]
  },
  {
   "cell_type": "code",
   "execution_count": null,
   "metadata": {},
   "outputs": [],
   "source": [
    "type(query)"
   ]
  },
  {
   "cell_type": "code",
   "execution_count": null,
   "metadata": {},
   "outputs": [],
   "source": []
  }
 ],
 "metadata": {
  "kernelspec": {
   "display_name": "venv",
   "language": "python",
   "name": "python3"
  },
  "language_info": {
   "codemirror_mode": {
    "name": "ipython",
    "version": 3
   },
   "file_extension": ".py",
   "mimetype": "text/x-python",
   "name": "python",
   "nbconvert_exporter": "python",
   "pygments_lexer": "ipython3",
   "version": "3.10.4"
  },
  "orig_nbformat": 4,
  "vscode": {
   "interpreter": {
    "hash": "8d947fb20adcdb46724b6de978200dc344d5e62962619fc08c1959a1c208320c"
   }
  }
 },
 "nbformat": 4,
 "nbformat_minor": 2
}
