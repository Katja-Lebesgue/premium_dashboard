{
 "cells": [
  {
   "cell_type": "code",
   "execution_count": 1,
   "metadata": {},
   "outputs": [
    {
     "name": "stdout",
     "output_type": "stream",
     "text": [
      "base I am using: lebesgue-dev.cgviinyjedbs.eu-central-1.rds.amazonaws.com\n"
     ]
    }
   ],
   "source": [
    "from src.pingers import ping_shops, ping_creative_and_performance, ping_creative, ping_ads_insights\n",
    "from src.database.session import db\n",
    "from src.models import FacebookAdsInsights, TikTokAdsInsights"
   ]
  },
  {
   "cell_type": "code",
   "execution_count": 2,
   "metadata": {},
   "outputs": [
    {
     "name": "stderr",
     "output_type": "stream",
     "text": [
      "/Users/sanjinjuricfot/developer/premium_dashboard/venv/lib/python3.10/site-packages/pandas/io/sql.py:1402: SAWarning: SELECT statement has a cartesian product between FROM element(s) \"tik_tok_ads_insights\" and FROM element \"facebook_ads_insights\".  Apply join condition(s) between each element to resolve.\n",
      "  return self.connectable.execution_options().execute(*args, **kwargs)\n"
     ]
    }
   ],
   "source": [
    "df = ping_ads_insights(db=db, model=TikTokAdsInsights, columns=[TikTokAdsInsights.spend])"
   ]
  },
  {
   "cell_type": "code",
   "execution_count": 3,
   "metadata": {},
   "outputs": [
    {
     "data": {
      "text/html": [
       "<div>\n",
       "<style scoped>\n",
       "    .dataframe tbody tr th:only-of-type {\n",
       "        vertical-align: middle;\n",
       "    }\n",
       "\n",
       "    .dataframe tbody tr th {\n",
       "        vertical-align: top;\n",
       "    }\n",
       "\n",
       "    .dataframe thead th {\n",
       "        text-align: right;\n",
       "    }\n",
       "</style>\n",
       "<table border=\"1\" class=\"dataframe\">\n",
       "  <thead>\n",
       "    <tr style=\"text-align: right;\">\n",
       "      <th></th>\n",
       "      <th>shop_id</th>\n",
       "      <th>spend</th>\n",
       "      <th>year_month</th>\n",
       "    </tr>\n",
       "  </thead>\n",
       "  <tbody>\n",
       "    <tr>\n",
       "      <th>0</th>\n",
       "      <td>2</td>\n",
       "      <td>345.97</td>\n",
       "      <td>2022-01</td>\n",
       "    </tr>\n",
       "    <tr>\n",
       "      <th>1</th>\n",
       "      <td>2</td>\n",
       "      <td>401.77</td>\n",
       "      <td>2021-11</td>\n",
       "    </tr>\n",
       "    <tr>\n",
       "      <th>2</th>\n",
       "      <td>2</td>\n",
       "      <td>441.61</td>\n",
       "      <td>2022-03</td>\n",
       "    </tr>\n",
       "    <tr>\n",
       "      <th>3</th>\n",
       "      <td>2</td>\n",
       "      <td>547.01</td>\n",
       "      <td>2022-11</td>\n",
       "    </tr>\n",
       "    <tr>\n",
       "      <th>4</th>\n",
       "      <td>2</td>\n",
       "      <td>626.67</td>\n",
       "      <td>2022-06</td>\n",
       "    </tr>\n",
       "    <tr>\n",
       "      <th>...</th>\n",
       "      <td>...</td>\n",
       "      <td>...</td>\n",
       "      <td>...</td>\n",
       "    </tr>\n",
       "    <tr>\n",
       "      <th>18543</th>\n",
       "      <td>81528324</td>\n",
       "      <td>1573.79</td>\n",
       "      <td>2021-01</td>\n",
       "    </tr>\n",
       "    <tr>\n",
       "      <th>18544</th>\n",
       "      <td>81528324</td>\n",
       "      <td>1815.77</td>\n",
       "      <td>2021-03</td>\n",
       "    </tr>\n",
       "    <tr>\n",
       "      <th>18545</th>\n",
       "      <td>81528324</td>\n",
       "      <td>1828.60</td>\n",
       "      <td>2021-02</td>\n",
       "    </tr>\n",
       "    <tr>\n",
       "      <th>18546</th>\n",
       "      <td>81528324</td>\n",
       "      <td>2244.59</td>\n",
       "      <td>2020-12</td>\n",
       "    </tr>\n",
       "    <tr>\n",
       "      <th>18547</th>\n",
       "      <td>81528324</td>\n",
       "      <td>2302.13</td>\n",
       "      <td>2020-11</td>\n",
       "    </tr>\n",
       "  </tbody>\n",
       "</table>\n",
       "<p>18548 rows × 3 columns</p>\n",
       "</div>"
      ],
      "text/plain": [
       "        shop_id    spend year_month\n",
       "0             2   345.97    2022-01\n",
       "1             2   401.77    2021-11\n",
       "2             2   441.61    2022-03\n",
       "3             2   547.01    2022-11\n",
       "4             2   626.67    2022-06\n",
       "...         ...      ...        ...\n",
       "18543  81528324  1573.79    2021-01\n",
       "18544  81528324  1815.77    2021-03\n",
       "18545  81528324  1828.60    2021-02\n",
       "18546  81528324  2244.59    2020-12\n",
       "18547  81528324  2302.13    2020-11\n",
       "\n",
       "[18548 rows x 3 columns]"
      ]
     },
     "execution_count": 3,
     "metadata": {},
     "output_type": "execute_result"
    }
   ],
   "source": [
    "df"
   ]
  },
  {
   "cell_type": "code",
   "execution_count": 17,
   "metadata": {},
   "outputs": [
    {
     "ename": "AttributeError",
     "evalue": "Neither 'InstrumentedAttribute' object nor 'Comparator' object associated with FacebookAd.ad_id has an attribute '__mapper__'",
     "output_type": "error",
     "traceback": [
      "\u001b[0;31m---------------------------------------------------------------------------\u001b[0m",
      "\u001b[0;31mAttributeError\u001b[0m                            Traceback (most recent call last)",
      "File \u001b[0;32m~/developer/premium_dashboard/venv/lib/python3.10/site-packages/sqlalchemy/sql/elements.py:853\u001b[0m, in \u001b[0;36mColumnElement.__getattr__\u001b[0;34m(self, key)\u001b[0m\n\u001b[1;32m    852\u001b[0m \u001b[39mtry\u001b[39;00m:\n\u001b[0;32m--> 853\u001b[0m     \u001b[39mreturn\u001b[39;00m \u001b[39mgetattr\u001b[39;49m(\u001b[39mself\u001b[39;49m\u001b[39m.\u001b[39;49mcomparator, key)\n\u001b[1;32m    854\u001b[0m \u001b[39mexcept\u001b[39;00m \u001b[39mAttributeError\u001b[39;00m \u001b[39mas\u001b[39;00m err:\n",
      "\u001b[0;31mAttributeError\u001b[0m: 'Comparator' object has no attribute '__mapper__'",
      "\nThe above exception was the direct cause of the following exception:\n",
      "\u001b[0;31mAttributeError\u001b[0m                            Traceback (most recent call last)",
      "File \u001b[0;32m~/developer/premium_dashboard/venv/lib/python3.10/site-packages/sqlalchemy/orm/attributes.py:327\u001b[0m, in \u001b[0;36mQueryableAttribute.__getattr__\u001b[0;34m(self, key)\u001b[0m\n\u001b[1;32m    326\u001b[0m \u001b[39mtry\u001b[39;00m:\n\u001b[0;32m--> 327\u001b[0m     \u001b[39mreturn\u001b[39;00m \u001b[39mgetattr\u001b[39;49m(\u001b[39mself\u001b[39;49m\u001b[39m.\u001b[39;49mcomparator, key)\n\u001b[1;32m    328\u001b[0m \u001b[39mexcept\u001b[39;00m \u001b[39mAttributeError\u001b[39;00m \u001b[39mas\u001b[39;00m err:\n",
      "File \u001b[0;32m~/developer/premium_dashboard/venv/lib/python3.10/site-packages/sqlalchemy/util/langhelpers.py:1244\u001b[0m, in \u001b[0;36mMemoizedSlots.__getattr__\u001b[0;34m(self, key)\u001b[0m\n\u001b[1;32m   1243\u001b[0m \u001b[39melse\u001b[39;00m:\n\u001b[0;32m-> 1244\u001b[0m     \u001b[39mreturn\u001b[39;00m \u001b[39mself\u001b[39;49m\u001b[39m.\u001b[39;49m_fallback_getattr(key)\n",
      "File \u001b[0;32m~/developer/premium_dashboard/venv/lib/python3.10/site-packages/sqlalchemy/orm/properties.py:420\u001b[0m, in \u001b[0;36mColumnProperty.Comparator._fallback_getattr\u001b[0;34m(self, key)\u001b[0m\n\u001b[1;32m    416\u001b[0m \u001b[39m\"\"\"proxy attribute access down to the mapped column.\u001b[39;00m\n\u001b[1;32m    417\u001b[0m \n\u001b[1;32m    418\u001b[0m \u001b[39mthis allows user-defined comparison methods to be accessed.\u001b[39;00m\n\u001b[1;32m    419\u001b[0m \u001b[39m\"\"\"\u001b[39;00m\n\u001b[0;32m--> 420\u001b[0m \u001b[39mreturn\u001b[39;00m \u001b[39mgetattr\u001b[39;49m(\u001b[39mself\u001b[39;49m\u001b[39m.\u001b[39;49m__clause_element__(), key)\n",
      "File \u001b[0;32m~/developer/premium_dashboard/venv/lib/python3.10/site-packages/sqlalchemy/sql/elements.py:855\u001b[0m, in \u001b[0;36mColumnElement.__getattr__\u001b[0;34m(self, key)\u001b[0m\n\u001b[1;32m    854\u001b[0m \u001b[39mexcept\u001b[39;00m \u001b[39mAttributeError\u001b[39;00m \u001b[39mas\u001b[39;00m err:\n\u001b[0;32m--> 855\u001b[0m     util\u001b[39m.\u001b[39;49mraise_(\n\u001b[1;32m    856\u001b[0m         \u001b[39mAttributeError\u001b[39;49;00m(\n\u001b[1;32m    857\u001b[0m             \u001b[39m\"\u001b[39;49m\u001b[39mNeither \u001b[39;49m\u001b[39m%r\u001b[39;49;00m\u001b[39m object nor \u001b[39;49m\u001b[39m%r\u001b[39;49;00m\u001b[39m object has an attribute \u001b[39;49m\u001b[39m%r\u001b[39;49;00m\u001b[39m\"\u001b[39;49m\n\u001b[1;32m    858\u001b[0m             \u001b[39m%\u001b[39;49m (\n\u001b[1;32m    859\u001b[0m                 \u001b[39mtype\u001b[39;49m(\u001b[39mself\u001b[39;49m)\u001b[39m.\u001b[39;49m\u001b[39m__name__\u001b[39;49m,\n\u001b[1;32m    860\u001b[0m                 \u001b[39mtype\u001b[39;49m(\u001b[39mself\u001b[39;49m\u001b[39m.\u001b[39;49mcomparator)\u001b[39m.\u001b[39;49m\u001b[39m__name__\u001b[39;49m,\n\u001b[1;32m    861\u001b[0m                 key,\n\u001b[1;32m    862\u001b[0m             )\n\u001b[1;32m    863\u001b[0m         ),\n\u001b[1;32m    864\u001b[0m         replace_context\u001b[39m=\u001b[39;49merr,\n\u001b[1;32m    865\u001b[0m     )\n",
      "File \u001b[0;32m~/developer/premium_dashboard/venv/lib/python3.10/site-packages/sqlalchemy/util/compat.py:208\u001b[0m, in \u001b[0;36mraise_\u001b[0;34m(***failed resolving arguments***)\u001b[0m\n\u001b[1;32m    207\u001b[0m \u001b[39mtry\u001b[39;00m:\n\u001b[0;32m--> 208\u001b[0m     \u001b[39mraise\u001b[39;00m exception\n\u001b[1;32m    209\u001b[0m \u001b[39mfinally\u001b[39;00m:\n\u001b[1;32m    210\u001b[0m     \u001b[39m# credit to\u001b[39;00m\n\u001b[1;32m    211\u001b[0m     \u001b[39m# https://cosmicpercolator.com/2016/01/13/exception-leaks-in-python-2-and-3/\u001b[39;00m\n\u001b[1;32m    212\u001b[0m     \u001b[39m# as the __traceback__ object creates a cycle\u001b[39;00m\n",
      "\u001b[0;31mAttributeError\u001b[0m: Neither 'AnnotatedColumn' object nor 'Comparator' object has an attribute '__mapper__'",
      "\nThe above exception was the direct cause of the following exception:\n",
      "\u001b[0;31mAttributeError\u001b[0m                            Traceback (most recent call last)",
      "\u001b[1;32m/Users/sanjinjuricfot/developer/premium_dashboard/tmp.ipynb Cell 3\u001b[0m in \u001b[0;36m<cell line: 1>\u001b[0;34m()\u001b[0m\n\u001b[0;32m----> <a href='vscode-notebook-cell:/Users/sanjinjuricfot/developer/premium_dashboard/tmp.ipynb#X13sZmlsZQ%3D%3D?line=0'>1</a>\u001b[0m FacebookAd\u001b[39m.\u001b[39;49mad_id\u001b[39m.\u001b[39;49m__mapper__\n",
      "File \u001b[0;32m~/developer/premium_dashboard/venv/lib/python3.10/site-packages/sqlalchemy/orm/attributes.py:329\u001b[0m, in \u001b[0;36mQueryableAttribute.__getattr__\u001b[0;34m(self, key)\u001b[0m\n\u001b[1;32m    327\u001b[0m     \u001b[39mreturn\u001b[39;00m \u001b[39mgetattr\u001b[39m(\u001b[39mself\u001b[39m\u001b[39m.\u001b[39mcomparator, key)\n\u001b[1;32m    328\u001b[0m \u001b[39mexcept\u001b[39;00m \u001b[39mAttributeError\u001b[39;00m \u001b[39mas\u001b[39;00m err:\n\u001b[0;32m--> 329\u001b[0m     util\u001b[39m.\u001b[39;49mraise_(\n\u001b[1;32m    330\u001b[0m         \u001b[39mAttributeError\u001b[39;49;00m(\n\u001b[1;32m    331\u001b[0m             \u001b[39m\"\u001b[39;49m\u001b[39mNeither \u001b[39;49m\u001b[39m%r\u001b[39;49;00m\u001b[39m object nor \u001b[39;49m\u001b[39m%r\u001b[39;49;00m\u001b[39m object associated with \u001b[39;49m\u001b[39m%s\u001b[39;49;00m\u001b[39m \u001b[39;49m\u001b[39m\"\u001b[39;49m\n\u001b[1;32m    332\u001b[0m             \u001b[39m\"\u001b[39;49m\u001b[39mhas an attribute \u001b[39;49m\u001b[39m%r\u001b[39;49;00m\u001b[39m\"\u001b[39;49m\n\u001b[1;32m    333\u001b[0m             \u001b[39m%\u001b[39;49m (\n\u001b[1;32m    334\u001b[0m                 \u001b[39mtype\u001b[39;49m(\u001b[39mself\u001b[39;49m)\u001b[39m.\u001b[39;49m\u001b[39m__name__\u001b[39;49m,\n\u001b[1;32m    335\u001b[0m                 \u001b[39mtype\u001b[39;49m(\u001b[39mself\u001b[39;49m\u001b[39m.\u001b[39;49mcomparator)\u001b[39m.\u001b[39;49m\u001b[39m__name__\u001b[39;49m,\n\u001b[1;32m    336\u001b[0m                 \u001b[39mself\u001b[39;49m,\n\u001b[1;32m    337\u001b[0m                 key,\n\u001b[1;32m    338\u001b[0m             )\n\u001b[1;32m    339\u001b[0m         ),\n\u001b[1;32m    340\u001b[0m         replace_context\u001b[39m=\u001b[39;49merr,\n\u001b[1;32m    341\u001b[0m     )\n",
      "File \u001b[0;32m~/developer/premium_dashboard/venv/lib/python3.10/site-packages/sqlalchemy/util/compat.py:208\u001b[0m, in \u001b[0;36mraise_\u001b[0;34m(***failed resolving arguments***)\u001b[0m\n\u001b[1;32m    205\u001b[0m     exception\u001b[39m.\u001b[39m__cause__ \u001b[39m=\u001b[39m replace_context\n\u001b[1;32m    207\u001b[0m \u001b[39mtry\u001b[39;00m:\n\u001b[0;32m--> 208\u001b[0m     \u001b[39mraise\u001b[39;00m exception\n\u001b[1;32m    209\u001b[0m \u001b[39mfinally\u001b[39;00m:\n\u001b[1;32m    210\u001b[0m     \u001b[39m# credit to\u001b[39;00m\n\u001b[1;32m    211\u001b[0m     \u001b[39m# https://cosmicpercolator.com/2016/01/13/exception-leaks-in-python-2-and-3/\u001b[39;00m\n\u001b[1;32m    212\u001b[0m     \u001b[39m# as the __traceback__ object creates a cycle\u001b[39;00m\n\u001b[1;32m    213\u001b[0m     \u001b[39mdel\u001b[39;00m exception, replace_context, from_, with_traceback\n",
      "\u001b[0;31mAttributeError\u001b[0m: Neither 'InstrumentedAttribute' object nor 'Comparator' object associated with FacebookAd.ad_id has an attribute '__mapper__'"
     ]
    }
   ],
   "source": [
    "FacebookAd.ad_id.__mapper__"
   ]
  },
  {
   "cell_type": "code",
   "execution_count": 15,
   "metadata": {},
   "outputs": [
    {
     "data": {
      "text/plain": [
       "sqlalchemy.orm.decl_api.DeclarativeMeta"
      ]
     },
     "execution_count": 15,
     "metadata": {},
     "output_type": "execute_result"
    }
   ],
   "source": [
    "FacebookAd.__class__"
   ]
  },
  {
   "cell_type": "code",
   "execution_count": 3,
   "metadata": {},
   "outputs": [
    {
     "name": "stderr",
     "output_type": "stream",
     "text": [
      "2023-02-04 08:25:50.218 | DEBUG    | src.pingers.ping_shops:ping_shops:22 - Here I am!\n"
     ]
    },
    {
     "name": "stdout",
     "output_type": "stream",
     "text": [
      "ping_shops: 0:00:02.613746\n"
     ]
    }
   ],
   "source": [
    "df = ping_shops(db=db)"
   ]
  },
  {
   "cell_type": "code",
   "execution_count": 6,
   "metadata": {},
   "outputs": [
    {
     "data": {
      "text/html": [
       "<div>\n",
       "<style scoped>\n",
       "    .dataframe tbody tr th:only-of-type {\n",
       "        vertical-align: middle;\n",
       "    }\n",
       "\n",
       "    .dataframe tbody tr th {\n",
       "        vertical-align: top;\n",
       "    }\n",
       "\n",
       "    .dataframe thead th {\n",
       "        text-align: right;\n",
       "    }\n",
       "</style>\n",
       "<table border=\"1\" class=\"dataframe\">\n",
       "  <thead>\n",
       "    <tr style=\"text-align: right;\">\n",
       "      <th></th>\n",
       "      <th>shop_id</th>\n",
       "      <th>name</th>\n",
       "    </tr>\n",
       "  </thead>\n",
       "  <tbody>\n",
       "    <tr>\n",
       "      <th>359</th>\n",
       "      <td>16038</td>\n",
       "      <td>shopfw.myshopify.com</td>\n",
       "    </tr>\n",
       "  </tbody>\n",
       "</table>\n",
       "</div>"
      ],
      "text/plain": [
       "     shop_id                  name\n",
       "359    16038  shopfw.myshopify.com"
      ]
     },
     "execution_count": 6,
     "metadata": {},
     "output_type": "execute_result"
    }
   ],
   "source": [
    "df.loc[df.shop_id == 16038, :]"
   ]
  },
  {
   "cell_type": "code",
   "execution_count": 4,
   "metadata": {},
   "outputs": [
    {
     "data": {
      "text/plain": [
       "0                       1\n",
       "1                       1\n",
       "2                      10\n",
       "3       23842588968860342\n",
       "4       23842589378750342\n",
       "              ...        \n",
       "5228    23851164951750755\n",
       "5229    23851164978180755\n",
       "5230    23851249585430755\n",
       "5231    23851314362320755\n",
       "5232    23851314425550755\n",
       "Name: ad_id, Length: 5233, dtype: object"
      ]
     },
     "execution_count": 4,
     "metadata": {},
     "output_type": "execute_result"
    }
   ],
   "source": [
    "df.ad_id"
   ]
  },
  {
   "cell_type": "code",
   "execution_count": 8,
   "metadata": {},
   "outputs": [
    {
     "data": {
      "text/plain": [
       "2"
      ]
     },
     "execution_count": 8,
     "metadata": {},
     "output_type": "execute_result"
    }
   ],
   "source": [
    "df.loc[df.ad_id == '10'].index[0]"
   ]
  },
  {
   "cell_type": "code",
   "execution_count": 2,
   "metadata": {},
   "outputs": [],
   "source": [
    "query = session.query(FacebookAd.ad_id)"
   ]
  },
  {
   "cell_type": "code",
   "execution_count": 3,
   "metadata": {},
   "outputs": [
    {
     "data": {
      "text/plain": [
       "('23848754996430295',)"
      ]
     },
     "execution_count": 3,
     "metadata": {},
     "output_type": "execute_result"
    }
   ],
   "source": [
    "query[0]"
   ]
  },
  {
   "cell_type": "code",
   "execution_count": 4,
   "metadata": {},
   "outputs": [
    {
     "data": {
      "text/plain": [
       "sqlalchemy.orm.query.Query"
      ]
     },
     "execution_count": 4,
     "metadata": {},
     "output_type": "execute_result"
    }
   ],
   "source": [
    "type(query)"
   ]
  },
  {
   "cell_type": "code",
   "execution_count": null,
   "metadata": {},
   "outputs": [],
   "source": []
  }
 ],
 "metadata": {
  "kernelspec": {
   "display_name": "venv",
   "language": "python",
   "name": "python3"
  },
  "language_info": {
   "codemirror_mode": {
    "name": "ipython",
    "version": 3
   },
   "file_extension": ".py",
   "mimetype": "text/x-python",
   "name": "python",
   "nbconvert_exporter": "python",
   "pygments_lexer": "ipython3",
   "version": "3.10.4"
  },
  "orig_nbformat": 4,
  "vscode": {
   "interpreter": {
    "hash": "8d947fb20adcdb46724b6de978200dc344d5e62962619fc08c1959a1c208320c"
   }
  }
 },
 "nbformat": 4,
 "nbformat_minor": 2
}
